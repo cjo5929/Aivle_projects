{
 "cells": [
  {
   "cell_type": "markdown",
   "metadata": {
    "id": "qXUBfCONOdID"
   },
   "source": [
    "# Titanic 생존여부 분석 및 예측 모델"
   ]
  },
  {
   "cell_type": "markdown",
   "metadata": {
    "id": "DAR82IvULLEt"
   },
   "source": [
    "## 환경준비"
   ]
  },
  {
   "cell_type": "code",
   "execution_count": 1,
   "metadata": {
    "id": "bTVrr9iaLNsy"
   },
   "outputs": [],
   "source": [
    "import pandas as pd\n",
    "import numpy as np\n",
    "\n",
    "import matplotlib.pyplot as plt\n",
    "import seaborn as sns\n",
    "import scipy.stats as spst\n",
    "from statsmodels.graphics.mosaicplot import mosaic\n",
    "import statsmodels.api as sm"
   ]
  },
  {
   "cell_type": "markdown",
   "metadata": {
    "id": "5ZbpQQrXPdOm"
   },
   "source": [
    "# 1.범주형 Y"
   ]
  },
  {
   "cell_type": "markdown",
   "metadata": {
    "id": "h1wBK63N7OvI"
   },
   "source": [
    "## 1.1 타이타닉 탑승객 데이터 : 기본"
   ]
  },
  {
   "cell_type": "markdown",
   "metadata": {
    "id": "k7uydL4kJ4q9"
   },
   "source": [
    "![](https://images0.persgroep.net/rcs/0XaEsm6zKVcBbpINLInGGmU2F8w/diocontent/22495473/_crop/2/111/1997/1128/_fitwidth/763?appId=93a17a8fd81db0de025c8abd1cca1279&quality=0.8)"
   ]
  },
  {
   "cell_type": "markdown",
   "metadata": {
    "id": "TfbvPh-zgmT6"
   },
   "source": [
    "|\t변수\t|\t설명\t|\t값 설명\t|\n",
    "|\t----\t|\t----\t|\t----\t|\n",
    "|\tsurvived\t|\t생존여부\t|\t0 - 사망, 1- 생존\t|\n",
    "|\tPclass\t|\tTicket class\t|\t1 = 1st, 2 = 2nd, 3 = 3rd\t|\n",
    "|\tSex\t|\t성별\t|\t\t|\n",
    "|\tAge\t|\tAge in years\t|\t\t|\n",
    "|\tSibsp\t|\t# of siblings / spouses aboard the Titanic\t|\t\t|\n",
    "|\tParch\t|\t# of parents / children aboard the Titanic\t|\t\t|\n",
    "|\tTicket\t|\tTicket number\t|\t\t|\n",
    "|\tFare\t|\tPassenger fare\t|\t\t|\n",
    "|\tCabin\t|\tCabin number\t|\t\t|\n",
    "|\tEmbarked\t|\tPort of Embarkation\t|\tC = Cherbourg, Q = Queenstown, S = Southampton\t|\n"
   ]
  },
  {
   "cell_type": "code",
   "execution_count": 3,
   "metadata": {
    "id": "b9gUzLn2OdIE"
   },
   "outputs": [
    {
     "data": {
      "text/html": [
       "<div>\n",
       "<style scoped>\n",
       "    .dataframe tbody tr th:only-of-type {\n",
       "        vertical-align: middle;\n",
       "    }\n",
       "\n",
       "    .dataframe tbody tr th {\n",
       "        vertical-align: top;\n",
       "    }\n",
       "\n",
       "    .dataframe thead th {\n",
       "        text-align: right;\n",
       "    }\n",
       "</style>\n",
       "<table border=\"1\" class=\"dataframe\">\n",
       "  <thead>\n",
       "    <tr style=\"text-align: right;\">\n",
       "      <th></th>\n",
       "      <th>PassengerId</th>\n",
       "      <th>Survived</th>\n",
       "      <th>Pclass</th>\n",
       "      <th>Name</th>\n",
       "      <th>Sex</th>\n",
       "      <th>Age</th>\n",
       "      <th>SibSp</th>\n",
       "      <th>Parch</th>\n",
       "      <th>Ticket</th>\n",
       "      <th>Fare</th>\n",
       "      <th>Cabin</th>\n",
       "      <th>Embarked</th>\n",
       "    </tr>\n",
       "  </thead>\n",
       "  <tbody>\n",
       "    <tr>\n",
       "      <th>0</th>\n",
       "      <td>1</td>\n",
       "      <td>0</td>\n",
       "      <td>3</td>\n",
       "      <td>Braund, Mr. Owen Harris</td>\n",
       "      <td>male</td>\n",
       "      <td>22.0</td>\n",
       "      <td>1</td>\n",
       "      <td>0</td>\n",
       "      <td>A/5 21171</td>\n",
       "      <td>7.2500</td>\n",
       "      <td>NaN</td>\n",
       "      <td>S</td>\n",
       "    </tr>\n",
       "    <tr>\n",
       "      <th>1</th>\n",
       "      <td>2</td>\n",
       "      <td>1</td>\n",
       "      <td>1</td>\n",
       "      <td>Cumings, Mrs. John Bradley (Florence Briggs Th...</td>\n",
       "      <td>female</td>\n",
       "      <td>38.0</td>\n",
       "      <td>1</td>\n",
       "      <td>0</td>\n",
       "      <td>PC 17599</td>\n",
       "      <td>71.2833</td>\n",
       "      <td>C85</td>\n",
       "      <td>C</td>\n",
       "    </tr>\n",
       "    <tr>\n",
       "      <th>2</th>\n",
       "      <td>3</td>\n",
       "      <td>1</td>\n",
       "      <td>3</td>\n",
       "      <td>Heikkinen, Miss. Laina</td>\n",
       "      <td>female</td>\n",
       "      <td>26.0</td>\n",
       "      <td>0</td>\n",
       "      <td>0</td>\n",
       "      <td>STON/O2. 3101282</td>\n",
       "      <td>7.9250</td>\n",
       "      <td>NaN</td>\n",
       "      <td>S</td>\n",
       "    </tr>\n",
       "    <tr>\n",
       "      <th>3</th>\n",
       "      <td>4</td>\n",
       "      <td>1</td>\n",
       "      <td>1</td>\n",
       "      <td>Futrelle, Mrs. Jacques Heath (Lily May Peel)</td>\n",
       "      <td>female</td>\n",
       "      <td>35.0</td>\n",
       "      <td>1</td>\n",
       "      <td>0</td>\n",
       "      <td>113803</td>\n",
       "      <td>53.1000</td>\n",
       "      <td>C123</td>\n",
       "      <td>S</td>\n",
       "    </tr>\n",
       "    <tr>\n",
       "      <th>4</th>\n",
       "      <td>5</td>\n",
       "      <td>0</td>\n",
       "      <td>3</td>\n",
       "      <td>Allen, Mr. William Henry</td>\n",
       "      <td>male</td>\n",
       "      <td>35.0</td>\n",
       "      <td>0</td>\n",
       "      <td>0</td>\n",
       "      <td>373450</td>\n",
       "      <td>8.0500</td>\n",
       "      <td>NaN</td>\n",
       "      <td>S</td>\n",
       "    </tr>\n",
       "  </tbody>\n",
       "</table>\n",
       "</div>"
      ],
      "text/plain": [
       "   PassengerId  Survived  Pclass  \\\n",
       "0            1         0       3   \n",
       "1            2         1       1   \n",
       "2            3         1       3   \n",
       "3            4         1       1   \n",
       "4            5         0       3   \n",
       "\n",
       "                                                Name     Sex   Age  SibSp  \\\n",
       "0                            Braund, Mr. Owen Harris    male  22.0      1   \n",
       "1  Cumings, Mrs. John Bradley (Florence Briggs Th...  female  38.0      1   \n",
       "2                             Heikkinen, Miss. Laina  female  26.0      0   \n",
       "3       Futrelle, Mrs. Jacques Heath (Lily May Peel)  female  35.0      1   \n",
       "4                           Allen, Mr. William Henry    male  35.0      0   \n",
       "\n",
       "   Parch            Ticket     Fare Cabin Embarked  \n",
       "0      0         A/5 21171   7.2500   NaN        S  \n",
       "1      0          PC 17599  71.2833   C85        C  \n",
       "2      0  STON/O2. 3101282   7.9250   NaN        S  \n",
       "3      0            113803  53.1000  C123        S  \n",
       "4      0            373450   8.0500   NaN        S  "
      ]
     },
     "execution_count": 3,
     "metadata": {},
     "output_type": "execute_result"
    }
   ],
   "source": [
    "titanic = pd.read_csv('https://bit.ly/3FsgwkJ')\n",
    "titanic.head()"
   ]
  },
  {
   "cell_type": "code",
   "execution_count": 4,
   "metadata": {
    "id": "RIFcS91Fuc9l"
   },
   "outputs": [],
   "source": [
    "target = 'Survived'"
   ]
  },
  {
   "cell_type": "markdown",
   "metadata": {
    "id": "VFAJULPiVQ75"
   },
   "source": [
    "### (1) 숫자형 X --> 범주형 Y\n",
    "\n",
    "* 그래프 : histogram, densityplot\n",
    "* 수치화 : 로지스틱회귀  \n",
    "* 관계 평가"
   ]
  },
  {
   "cell_type": "markdown",
   "metadata": {
    "id": "kqX5E-ksv4Bl"
   },
   "source": [
    "#### ① Age --> Survived"
   ]
  },
  {
   "cell_type": "markdown",
   "metadata": {
    "id": "0yfB9aOqVrGD"
   },
   "source": [
    "1) 그래프 : histogram, densityplot"
   ]
  },
  {
   "cell_type": "code",
   "execution_count": 9,
   "metadata": {
    "id": "tYoULv3RVpNi"
   },
   "outputs": [
    {
     "data": {
      "image/png": "[encoded data removed]",
      "text/plain": [
       "<Figure size 432x288 with 1 Axes>"
      ]
     },
     "metadata": {
      "needs_background": "light"
     },
     "output_type": "display_data"
    },
    {
     "data": {
      "image/png": "[encoded data removed]",
      "text/plain": [
       "<Figure size 432x288 with 1 Axes>"
      ]
     },
     "metadata": {
      "needs_background": "light"
     },
     "output_type": "display_data"
    }
   ],
   "source": [
    "sns.histplot(x='Age',data=titanic,hue='Survived')\n",
    "plt.show()\n",
    "sns.kdeplot(x='Age',data=titanic,hue='Survived',common_norm=False)\n",
    "plt.show()"
   ]
  },
  {
   "cell_type": "code",
   "execution_count": 7,
   "metadata": {},
   "outputs": [
    {
     "data": {
      "image/png": "[encoded data removed]",
      "text/plain": [
       "<Figure size 432x288 with 1 Axes>"
      ]
     },
     "metadata": {
      "needs_background": "light"
     },
     "output_type": "display_data"
    },
    {
     "data": {
      "image/png": "[encoded data removed]",
      "text/plain": [
       "<Figure size 432x288 with 1 Axes>"
      ]
     },
     "metadata": {
      "needs_background": "light"
     },
     "output_type": "display_data"
    }
   ],
   "source": [
    "sns.kdeplot(x='Age', data = titanic, hue ='Survived'\n",
    "            , multiple = 'fill')\n",
    "plt.axhline(titanic['Survived'].mean(), color = 'r')\n",
    "plt.show()\n",
    "\n",
    "sns.histplot(x='Age', data = titanic, bins = 16\n",
    "            , hue ='Survived', multiple = 'fill')\n",
    "plt.axhline(titanic['Survived'].mean(), color = 'r')\n",
    "plt.show()"
   ]
  },
  {
   "cell_type": "markdown",
   "metadata": {
    "id": "IKurDXL3VuE9"
   },
   "source": [
    "2) 수치화 : 로지스틱회귀"
   ]
  },
  {
   "cell_type": "code",
   "execution_count": 73,
   "metadata": {},
   "outputs": [
    {
     "data": {
      "text/plain": [
       "0"
      ]
     },
     "execution_count": 73,
     "metadata": {},
     "output_type": "execute_result"
    }
   ],
   "source": [
    "temp = titanic['Age'].loc[titanic['Age'].notnull()]\n",
    "temp.isna().sum()"
   ]
  },
  {
   "cell_type": "code",
   "execution_count": 24,
   "metadata": {},
   "outputs": [
    {
     "ename": "KeyError",
     "evalue": "'Age'",
     "output_type": "error",
     "traceback": [
      "\u001b[1;31m---------------------------------------------------------------------------\u001b[0m",
      "\u001b[1;31mKeyError\u001b[0m                                  Traceback (most recent call last)",
      "File \u001b[1;32m~\\AppData\\Local\\Programs\\Python\\Python39\\lib\\site-packages\\pandas\\core\\indexes\\base.py:3621\u001b[0m, in \u001b[0;36mIndex.get_loc\u001b[1;34m(self, key, method, tolerance)\u001b[0m\n\u001b[0;32m   <a href='file:///~/AppData/Local/Programs/Python/Python39/lib/site-packages/pandas/core/indexes/base.py?line=3619'>3620</a>\u001b[0m \u001b[39mtry\u001b[39;00m:\n\u001b[1;32m-> <a href='file:///~/AppData/Local/Programs/Python/Python39/lib/site-packages/pandas/core/indexes/base.py?line=3620'>3621</a>\u001b[0m     \u001b[39mreturn\u001b[39;00m \u001b[39mself\u001b[39;49m\u001b[39m.\u001b[39;49m_engine\u001b[39m.\u001b[39;49mget_loc(casted_key)\n\u001b[0;32m   <a href='file:///~/AppData/Local/Programs/Python/Python39/lib/site-packages/pandas/core/indexes/base.py?line=3621'>3622</a>\u001b[0m \u001b[39mexcept\u001b[39;00m \u001b[39mKeyError\u001b[39;00m \u001b[39mas\u001b[39;00m err:\n",
      "File \u001b[1;32m~\\AppData\\Local\\Programs\\Python\\Python39\\lib\\site-packages\\pandas\\_libs\\index.pyx:136\u001b[0m, in \u001b[0;36mpandas._libs.index.IndexEngine.get_loc\u001b[1;34m()\u001b[0m\n",
      "File \u001b[1;32m~\\AppData\\Local\\Programs\\Python\\Python39\\lib\\site-packages\\pandas\\_libs\\index.pyx:144\u001b[0m, in \u001b[0;36mpandas._libs.index.IndexEngine.get_loc\u001b[1;34m()\u001b[0m\n",
      "File \u001b[1;32mpandas\\_libs\\index_class_helper.pxi:41\u001b[0m, in \u001b[0;36mpandas._libs.index.Int64Engine._check_type\u001b[1;34m()\u001b[0m\n",
      "\u001b[1;31mKeyError\u001b[0m: 'Age'",
      "\nThe above exception was the direct cause of the following exception:\n",
      "\u001b[1;31mKeyError\u001b[0m                                  Traceback (most recent call last)",
      "\u001b[1;32mc:\\Users\\User\\git\\CodingStudy\\데이터처리\\분석\\14과 이변량분석_종합실습.ipynb Cell 17'\u001b[0m in \u001b[0;36m<module>\u001b[1;34m\u001b[0m\n\u001b[1;32m----> <a href='vscode-notebook-cell:/c%3A/Users/User/git/CodingStudy/%EB%8D%B0%EC%9D%B4%ED%84%B0%EC%B2%98%EB%A6%AC/%EB%B6%84%EC%84%9D/14%EA%B3%BC%20%EC%9D%B4%EB%B3%80%EB%9F%89%EB%B6%84%EC%84%9D_%EC%A2%85%ED%95%A9%EC%8B%A4%EC%8A%B5.ipynb#ch0000238?line=0'>1</a>\u001b[0m model \u001b[39m=\u001b[39m sm\u001b[39m.\u001b[39mLogit(titanic[\u001b[39m'\u001b[39m\u001b[39mSurvived\u001b[39m\u001b[39m'\u001b[39m], temp[\u001b[39m'\u001b[39;49m\u001b[39mAge\u001b[39;49m\u001b[39m'\u001b[39;49m])\n\u001b[0;32m      <a href='vscode-notebook-cell:/c%3A/Users/User/git/CodingStudy/%EB%8D%B0%EC%9D%B4%ED%84%B0%EC%B2%98%EB%A6%AC/%EB%B6%84%EC%84%9D/14%EA%B3%BC%20%EC%9D%B4%EB%B3%80%EB%9F%89%EB%B6%84%EC%84%9D_%EC%A2%85%ED%95%A9%EC%8B%A4%EC%8A%B5.ipynb#ch0000238?line=1'>2</a>\u001b[0m result \u001b[39m=\u001b[39m model\u001b[39m.\u001b[39mfit()\n\u001b[0;32m      <a href='vscode-notebook-cell:/c%3A/Users/User/git/CodingStudy/%EB%8D%B0%EC%9D%B4%ED%84%B0%EC%B2%98%EB%A6%AC/%EB%B6%84%EC%84%9D/14%EA%B3%BC%20%EC%9D%B4%EB%B3%80%EB%9F%89%EB%B6%84%EC%84%9D_%EC%A2%85%ED%95%A9%EC%8B%A4%EC%8A%B5.ipynb#ch0000238?line=2'>3</a>\u001b[0m \u001b[39mprint\u001b[39m(result\u001b[39m.\u001b[39mpvalues)\n",
      "File \u001b[1;32m~\\AppData\\Local\\Programs\\Python\\Python39\\lib\\site-packages\\pandas\\core\\series.py:959\u001b[0m, in \u001b[0;36mSeries.__getitem__\u001b[1;34m(self, key)\u001b[0m\n\u001b[0;32m    <a href='file:///~/AppData/Local/Programs/Python/Python39/lib/site-packages/pandas/core/series.py?line=955'>956</a>\u001b[0m     \u001b[39mreturn\u001b[39;00m \u001b[39mself\u001b[39m\u001b[39m.\u001b[39m_values[key]\n\u001b[0;32m    <a href='file:///~/AppData/Local/Programs/Python/Python39/lib/site-packages/pandas/core/series.py?line=957'>958</a>\u001b[0m \u001b[39melif\u001b[39;00m key_is_scalar:\n\u001b[1;32m--> <a href='file:///~/AppData/Local/Programs/Python/Python39/lib/site-packages/pandas/core/series.py?line=958'>959</a>\u001b[0m     \u001b[39mreturn\u001b[39;00m \u001b[39mself\u001b[39;49m\u001b[39m.\u001b[39;49m_get_value(key)\n\u001b[0;32m    <a href='file:///~/AppData/Local/Programs/Python/Python39/lib/site-packages/pandas/core/series.py?line=960'>961</a>\u001b[0m \u001b[39mif\u001b[39;00m is_hashable(key):\n\u001b[0;32m    <a href='file:///~/AppData/Local/Programs/Python/Python39/lib/site-packages/pandas/core/series.py?line=961'>962</a>\u001b[0m     \u001b[39m# Otherwise index.get_value will raise InvalidIndexError\u001b[39;00m\n\u001b[0;32m    <a href='file:///~/AppData/Local/Programs/Python/Python39/lib/site-packages/pandas/core/series.py?line=962'>963</a>\u001b[0m     \u001b[39mtry\u001b[39;00m:\n\u001b[0;32m    <a href='file:///~/AppData/Local/Programs/Python/Python39/lib/site-packages/pandas/core/series.py?line=963'>964</a>\u001b[0m         \u001b[39m# For labels that don't resolve as scalars like tuples and frozensets\u001b[39;00m\n",
      "File \u001b[1;32m~\\AppData\\Local\\Programs\\Python\\Python39\\lib\\site-packages\\pandas\\core\\series.py:1070\u001b[0m, in \u001b[0;36mSeries._get_value\u001b[1;34m(self, label, takeable)\u001b[0m\n\u001b[0;32m   <a href='file:///~/AppData/Local/Programs/Python/Python39/lib/site-packages/pandas/core/series.py?line=1066'>1067</a>\u001b[0m     \u001b[39mreturn\u001b[39;00m \u001b[39mself\u001b[39m\u001b[39m.\u001b[39m_values[label]\n\u001b[0;32m   <a href='file:///~/AppData/Local/Programs/Python/Python39/lib/site-packages/pandas/core/series.py?line=1068'>1069</a>\u001b[0m \u001b[39m# Similar to Index.get_value, but we do not fall back to positional\u001b[39;00m\n\u001b[1;32m-> <a href='file:///~/AppData/Local/Programs/Python/Python39/lib/site-packages/pandas/core/series.py?line=1069'>1070</a>\u001b[0m loc \u001b[39m=\u001b[39m \u001b[39mself\u001b[39;49m\u001b[39m.\u001b[39;49mindex\u001b[39m.\u001b[39;49mget_loc(label)\n\u001b[0;32m   <a href='file:///~/AppData/Local/Programs/Python/Python39/lib/site-packages/pandas/core/series.py?line=1070'>1071</a>\u001b[0m \u001b[39mreturn\u001b[39;00m \u001b[39mself\u001b[39m\u001b[39m.\u001b[39mindex\u001b[39m.\u001b[39m_get_values_for_loc(\u001b[39mself\u001b[39m, loc, label)\n",
      "File \u001b[1;32m~\\AppData\\Local\\Programs\\Python\\Python39\\lib\\site-packages\\pandas\\core\\indexes\\base.py:3623\u001b[0m, in \u001b[0;36mIndex.get_loc\u001b[1;34m(self, key, method, tolerance)\u001b[0m\n\u001b[0;32m   <a href='file:///~/AppData/Local/Programs/Python/Python39/lib/site-packages/pandas/core/indexes/base.py?line=3620'>3621</a>\u001b[0m     \u001b[39mreturn\u001b[39;00m \u001b[39mself\u001b[39m\u001b[39m.\u001b[39m_engine\u001b[39m.\u001b[39mget_loc(casted_key)\n\u001b[0;32m   <a href='file:///~/AppData/Local/Programs/Python/Python39/lib/site-packages/pandas/core/indexes/base.py?line=3621'>3622</a>\u001b[0m \u001b[39mexcept\u001b[39;00m \u001b[39mKeyError\u001b[39;00m \u001b[39mas\u001b[39;00m err:\n\u001b[1;32m-> <a href='file:///~/AppData/Local/Programs/Python/Python39/lib/site-packages/pandas/core/indexes/base.py?line=3622'>3623</a>\u001b[0m     \u001b[39mraise\u001b[39;00m \u001b[39mKeyError\u001b[39;00m(key) \u001b[39mfrom\u001b[39;00m \u001b[39merr\u001b[39;00m\n\u001b[0;32m   <a href='file:///~/AppData/Local/Programs/Python/Python39/lib/site-packages/pandas/core/indexes/base.py?line=3623'>3624</a>\u001b[0m \u001b[39mexcept\u001b[39;00m \u001b[39mTypeError\u001b[39;00m:\n\u001b[0;32m   <a href='file:///~/AppData/Local/Programs/Python/Python39/lib/site-packages/pandas/core/indexes/base.py?line=3624'>3625</a>\u001b[0m     \u001b[39m# If we have a listlike key, _check_indexing_error will raise\u001b[39;00m\n\u001b[0;32m   <a href='file:///~/AppData/Local/Programs/Python/Python39/lib/site-packages/pandas/core/indexes/base.py?line=3625'>3626</a>\u001b[0m     \u001b[39m#  InvalidIndexError. Otherwise we fall through and re-raise\u001b[39;00m\n\u001b[0;32m   <a href='file:///~/AppData/Local/Programs/Python/Python39/lib/site-packages/pandas/core/indexes/base.py?line=3626'>3627</a>\u001b[0m     \u001b[39m#  the TypeError.\u001b[39;00m\n\u001b[0;32m   <a href='file:///~/AppData/Local/Programs/Python/Python39/lib/site-packages/pandas/core/indexes/base.py?line=3627'>3628</a>\u001b[0m     \u001b[39mself\u001b[39m\u001b[39m.\u001b[39m_check_indexing_error(key)\n",
      "\u001b[1;31mKeyError\u001b[0m: 'Age'"
     ]
    }
   ],
   "source": [
    "model = sm.Logit(titanic['Survived'], temp['Age'])\n",
    "result = model.fit()\n",
    "print(result.pvalues)"
   ]
  },
  {
   "cell_type": "markdown",
   "metadata": {
    "id": "3gqPQQKrVy7f"
   },
   "source": [
    "3) 관계 평가하기"
   ]
  },
  {
   "cell_type": "markdown",
   "metadata": {
    "id": "auja-A_wVy7f"
   },
   "source": [
    "> 20세 미만은 전체 비율 중 생존 비율이 더 높은 것으로 보아 어린 아이들 위주로 구조를 했다\n",
    "\n",
    "> 20세 부터는 생존하지 못 한 비율이 더 많은 것으로 보인다.\n",
    "\n",
    "> 45~60세 에서 생존비율이 평균을 넘고있는 것으로 보아 부모님일 가능성이 있다.\n",
    "\n",
    "> 노약자는 몸이 불편해 구조에 어려움이 있던 것으로 보인다.\n",
    "\n",
    "> 결론은 나이에 따라 생존은 차이가 있다.\n",
    "\n",
    "* 그래프상에서, \n",
    "    * 10대 이하의 탑승객이 전체 평균대비 생존율이 높고, 20~30대, 60대에서 생존율이 낮아 진다.\n",
    "    * 나이에 따라서 생존여부가 차이가 있어 보인다. (아주 커보이지는 않음)\n",
    "* 로지스틱회귀로 부터\n",
    "    * p 값은 0.05보다 작게 나옴.(그러나 완전 0에 수렴하는 것은 아님)\n",
    "\n",
    "* 결론 : 관계가 있다.(강한 관계는 아님)"
   ]
  },
  {
   "cell_type": "markdown",
   "metadata": {
    "id": "q5-sA6cHVy7f"
   },
   "source": [
    "4) 추가 분석할 내용 정리"
   ]
  },
  {
   "cell_type": "markdown",
   "metadata": {
    "id": "Nf5H5HcIVy7f"
   },
   "source": [
    "* 나이대를 적절하게 나눠서 비교해볼까?\n"
   ]
  },
  {
   "cell_type": "code",
   "execution_count": null,
   "metadata": {},
   "outputs": [],
   "source": []
  },
  {
   "cell_type": "markdown",
   "metadata": {
    "id": "9vSL-x3QV3I8"
   },
   "source": [
    "#### ② Fare --> Survived"
   ]
  },
  {
   "cell_type": "markdown",
   "metadata": {
    "id": "AtK2un0oV3I8"
   },
   "source": [
    "1) 그래프 : histogram, densityplot"
   ]
  },
  {
   "cell_type": "code",
   "execution_count": 37,
   "metadata": {
    "id": "nxKsHN6dxeo1"
   },
   "outputs": [
    {
     "data": {
      "image/png": "[encoded data removed]",
      "text/plain": [
       "<Figure size 432x288 with 1 Axes>"
      ]
     },
     "metadata": {
      "needs_background": "light"
     },
     "output_type": "display_data"
    },
    {
     "data": {
      "image/png": "[encoded data removed]",
      "text/plain": [
       "<Figure size 432x288 with 1 Axes>"
      ]
     },
     "metadata": {
      "needs_background": "light"
     },
     "output_type": "display_data"
    }
   ],
   "source": [
    "sns.histplot(x='Fare',data=titanic,hue=target, bins =20)\n",
    "plt.show()\n",
    "\n",
    "sns.kdeplot(x='Fare',data=titanic,hue=target,common_norm=False)\n",
    "plt.show()"
   ]
  },
  {
   "cell_type": "code",
   "execution_count": 75,
   "metadata": {
    "id": "8bsejbZexeo2"
   },
   "outputs": [
    {
     "data": {
      "image/png": "[encoded data removed]",
      "text/plain": [
       "<Figure size 432x288 with 1 Axes>"
      ]
     },
     "metadata": {
      "needs_background": "light"
     },
     "output_type": "display_data"
    },
    {
     "data": {
      "image/png": "[encoded data removed]",
      "text/plain": [
       "<Figure size 432x288 with 1 Axes>"
      ]
     },
     "metadata": {
      "needs_background": "light"
     },
     "output_type": "display_data"
    }
   ],
   "source": [
    "sns.kdeplot(x='Fare', data = titanic, hue =target\n",
    "            , multiple = 'fill')\n",
    "plt.axhline(titanic[target].mean(), color = 'r')\n",
    "plt.show()\n",
    "\n",
    "sns.histplot(x='Fare', data = titanic, bins = 50\n",
    "            # 전체구간이 0~512달러 이므로, 대략 한 구간이 10달러 정도 되도록 50으로 나눔\n",
    "            , hue =target, multiple = 'fill')\n",
    "plt.axhline(titanic[target].mean(), color = 'r')\n",
    "plt.show()"
   ]
  },
  {
   "cell_type": "markdown",
   "metadata": {
    "id": "lZryaa_gV3I9"
   },
   "source": [
    "2) 수치화 : 로지스틱회귀"
   ]
  },
  {
   "cell_type": "code",
   "execution_count": 34,
   "metadata": {
    "id": "wzV8FglJV3I9"
   },
   "outputs": [
    {
     "name": "stdout",
     "output_type": "stream",
     "text": [
      "Optimization terminated successfully.\n",
      "         Current function value: 0.689550\n",
      "         Iterations 4\n",
      "Fare    0.014925\n",
      "dtype: float64\n"
     ]
    }
   ],
   "source": [
    "model = sm.Logit(titanic[target], titanic['Fare'])\n",
    "result = model.fit()\n",
    "print(result.pvalues)"
   ]
  },
  {
   "cell_type": "markdown",
   "metadata": {
    "id": "hqBsG6RPV3I-"
   },
   "source": [
    "3) 관계 평가하기"
   ]
  },
  {
   "cell_type": "markdown",
   "metadata": {
    "id": "-u78N6-yV3I-"
   },
   "source": [
    "* 운임비용 150 전 까지는 운임비용이 높아질 수록 생존율이 높아지고 있음\n",
    "* 200~300에서 갑자기 생존율이 낮아지고 있음\n",
    "=> 이유가 뭘까?\n",
    "* 수치와 그래프를 통해 운임비용은 생존율에 큰 차이는 아니지만 있음!\n",
    "\n",
    "* 그래프상에서, \n",
    "    * 0~10달러 에 생존율이 전체평균 대비 굉장히 낮음. \n",
    "    * 10~30달러 에 생존율이 전체평균 대비 살짝 높다가 ==> 이유 확인 필요\n",
    "    * 30~50달러 에 다시 생존율이 낮아짐\n",
    "    * 50달러 이후부터는 대부분의 구간에서 생존율이 높음. ==> 이유 확인 필요.\n",
    "        * 운임 50달러의 기준/ 의미가 무엇일까?\n",
    "    * 그래프상으로는 나이보다, 운임이 더 관련이 높아 보임.\n",
    "* 로지스틱회귀로 부터\n",
    "    * p 값은 0.05보다 작게 나옴.(0.01)\n",
    "\n",
    "* 결론 : p 값이 0.05 와 차이가 크지 않다면 약한 관계로 볼 수 있으나, 로지스틱 회귀로 판정하는 것은 미봉책.\n",
    "그러므로, 그래프 관점에서, 중간 정도의 관계로 볼수 있다."
   ]
  },
  {
   "cell_type": "markdown",
   "metadata": {
    "id": "27HXgBXqV3I-"
   },
   "source": [
    "4) 추가 분석할 내용 정리"
   ]
  },
  {
   "cell_type": "markdown",
   "metadata": {
    "id": "r3rCI31BV3I-"
   },
   "source": [
    "* 300~500 전  운임비용 데이터는 없애고 분석할 필요가 있음\n",
    "* 역시 운임의 구간에 대한 분석과 함께 구간을 나눠서(범주로 변환하여) 생존여부와의 관계를 살펴볼 필요가 있다."
   ]
  },
  {
   "cell_type": "code",
   "execution_count": 5,
   "metadata": {},
   "outputs": [
    {
     "data": {
      "text/html": [
       "<div>\n",
       "<style scoped>\n",
       "    .dataframe tbody tr th:only-of-type {\n",
       "        vertical-align: middle;\n",
       "    }\n",
       "\n",
       "    .dataframe tbody tr th {\n",
       "        vertical-align: top;\n",
       "    }\n",
       "\n",
       "    .dataframe thead th {\n",
       "        text-align: right;\n",
       "    }\n",
       "</style>\n",
       "<table border=\"1\" class=\"dataframe\">\n",
       "  <thead>\n",
       "    <tr style=\"text-align: right;\">\n",
       "      <th></th>\n",
       "      <th>PassengerId</th>\n",
       "      <th>Survived</th>\n",
       "      <th>Pclass</th>\n",
       "      <th>Name</th>\n",
       "      <th>Sex</th>\n",
       "      <th>Age</th>\n",
       "      <th>SibSp</th>\n",
       "      <th>Parch</th>\n",
       "      <th>Ticket</th>\n",
       "      <th>Fare</th>\n",
       "      <th>Cabin</th>\n",
       "      <th>Embarked</th>\n",
       "      <th>Fare_Group</th>\n",
       "    </tr>\n",
       "  </thead>\n",
       "  <tbody>\n",
       "    <tr>\n",
       "      <th>0</th>\n",
       "      <td>1</td>\n",
       "      <td>0</td>\n",
       "      <td>3</td>\n",
       "      <td>Braund, Mr. Owen Harris</td>\n",
       "      <td>male</td>\n",
       "      <td>22.0</td>\n",
       "      <td>1</td>\n",
       "      <td>0</td>\n",
       "      <td>A/5 21171</td>\n",
       "      <td>7.2500</td>\n",
       "      <td>NaN</td>\n",
       "      <td>S</td>\n",
       "      <td>L2</td>\n",
       "    </tr>\n",
       "    <tr>\n",
       "      <th>1</th>\n",
       "      <td>2</td>\n",
       "      <td>1</td>\n",
       "      <td>1</td>\n",
       "      <td>Cumings, Mrs. John Bradley (Florence Briggs Th...</td>\n",
       "      <td>female</td>\n",
       "      <td>38.0</td>\n",
       "      <td>1</td>\n",
       "      <td>0</td>\n",
       "      <td>PC 17599</td>\n",
       "      <td>71.2833</td>\n",
       "      <td>C85</td>\n",
       "      <td>C</td>\n",
       "      <td>H</td>\n",
       "    </tr>\n",
       "    <tr>\n",
       "      <th>2</th>\n",
       "      <td>3</td>\n",
       "      <td>1</td>\n",
       "      <td>3</td>\n",
       "      <td>Heikkinen, Miss. Laina</td>\n",
       "      <td>female</td>\n",
       "      <td>26.0</td>\n",
       "      <td>0</td>\n",
       "      <td>0</td>\n",
       "      <td>STON/O2. 3101282</td>\n",
       "      <td>7.9250</td>\n",
       "      <td>NaN</td>\n",
       "      <td>S</td>\n",
       "      <td>L2</td>\n",
       "    </tr>\n",
       "    <tr>\n",
       "      <th>3</th>\n",
       "      <td>4</td>\n",
       "      <td>1</td>\n",
       "      <td>1</td>\n",
       "      <td>Futrelle, Mrs. Jacques Heath (Lily May Peel)</td>\n",
       "      <td>female</td>\n",
       "      <td>35.0</td>\n",
       "      <td>1</td>\n",
       "      <td>0</td>\n",
       "      <td>113803</td>\n",
       "      <td>53.1000</td>\n",
       "      <td>C123</td>\n",
       "      <td>S</td>\n",
       "      <td>H</td>\n",
       "    </tr>\n",
       "    <tr>\n",
       "      <th>4</th>\n",
       "      <td>5</td>\n",
       "      <td>0</td>\n",
       "      <td>3</td>\n",
       "      <td>Allen, Mr. William Henry</td>\n",
       "      <td>male</td>\n",
       "      <td>35.0</td>\n",
       "      <td>0</td>\n",
       "      <td>0</td>\n",
       "      <td>373450</td>\n",
       "      <td>8.0500</td>\n",
       "      <td>NaN</td>\n",
       "      <td>S</td>\n",
       "      <td>L2</td>\n",
       "    </tr>\n",
       "  </tbody>\n",
       "</table>\n",
       "</div>"
      ],
      "text/plain": [
       "   PassengerId  Survived  Pclass  \\\n",
       "0            1         0       3   \n",
       "1            2         1       1   \n",
       "2            3         1       3   \n",
       "3            4         1       1   \n",
       "4            5         0       3   \n",
       "\n",
       "                                                Name     Sex   Age  SibSp  \\\n",
       "0                            Braund, Mr. Owen Harris    male  22.0      1   \n",
       "1  Cumings, Mrs. John Bradley (Florence Briggs Th...  female  38.0      1   \n",
       "2                             Heikkinen, Miss. Laina  female  26.0      0   \n",
       "3       Futrelle, Mrs. Jacques Heath (Lily May Peel)  female  35.0      1   \n",
       "4                           Allen, Mr. William Henry    male  35.0      0   \n",
       "\n",
       "   Parch            Ticket     Fare Cabin Embarked Fare_Group  \n",
       "0      0         A/5 21171   7.2500   NaN        S         L2  \n",
       "1      0          PC 17599  71.2833   C85        C          H  \n",
       "2      0  STON/O2. 3101282   7.9250   NaN        S         L2  \n",
       "3      0            113803  53.1000  C123        S          H  \n",
       "4      0            373450   8.0500   NaN        S         L2  "
      ]
     },
     "execution_count": 5,
     "metadata": {},
     "output_type": "execute_result"
    }
   ],
   "source": [
    "bins = [0, 10, 30, 50, np.inf]\n",
    "labels = ['L2', 'L1', 'M', 'H' ]\n",
    "titanic['Fare_Group'] = pd.cut(titanic['Fare'], bins = bins , labels = labels\n",
    "                            , right = False)\n",
    "titanic.head()"
   ]
  },
  {
   "cell_type": "code",
   "execution_count": 7,
   "metadata": {},
   "outputs": [
    {
     "data": {
      "image/png": "[encoded data removed]",
      "text/plain": [
       "<Figure size 432x288 with 1 Axes>"
      ]
     },
     "metadata": {
      "needs_background": "light"
     },
     "output_type": "display_data"
    },
    {
     "name": "stdout",
     "output_type": "stream",
     "text": [
      "카이제곱통계량 109.28927980021261\n",
      "p-value 1.5605723946549092e-23\n"
     ]
    }
   ],
   "source": [
    "target_mean = titanic[target].mean()\n",
    "temp = pd.crosstab(titanic['Fare_Group'], titanic[target], normalize = 'index')\n",
    "temp.plot.bar(stacked=True)\n",
    "plt.axhline(1-target_mean, color = 'r')\n",
    "plt.show()\n",
    "\n",
    "table = pd.crosstab(titanic[target], titanic['Fare_Group'])\n",
    "result = spst.chi2_contingency(table)\n",
    "print('카이제곱통계량', result[0])\n",
    "print('p-value', result[1])"
   ]
  },
  {
   "cell_type": "markdown",
   "metadata": {
    "id": "mt5d0rUnWBQB"
   },
   "source": [
    "### (2) 범주형 X --> 범주형 Y\n",
    "\n",
    "* 교차표(pd.crosstab())\n",
    "* 시각화( Stacked Bar, Mosaic)\n",
    "* 가설검정(카이제곱검정)\n",
    "* 관계 평가"
   ]
  },
  {
   "cell_type": "markdown",
   "metadata": {
    "id": "ihzfKvbNWBQB"
   },
   "source": [
    "#### ① Sex --> Survived"
   ]
  },
  {
   "cell_type": "code",
   "execution_count": null,
   "metadata": {
    "id": "uhubgGxpzwN0"
   },
   "outputs": [],
   "source": []
  },
  {
   "cell_type": "markdown",
   "metadata": {
    "id": "jgI2ZFA6WBQB"
   },
   "source": [
    "1) 교차표(pd.crosstab())"
   ]
  },
  {
   "cell_type": "code",
   "execution_count": 40,
   "metadata": {
    "id": "ygCsomFvWBQB"
   },
   "outputs": [
    {
     "data": {
      "text/html": [
       "<div>\n",
       "<style scoped>\n",
       "    .dataframe tbody tr th:only-of-type {\n",
       "        vertical-align: middle;\n",
       "    }\n",
       "\n",
       "    .dataframe tbody tr th {\n",
       "        vertical-align: top;\n",
       "    }\n",
       "\n",
       "    .dataframe thead th {\n",
       "        text-align: right;\n",
       "    }\n",
       "</style>\n",
       "<table border=\"1\" class=\"dataframe\">\n",
       "  <thead>\n",
       "    <tr style=\"text-align: right;\">\n",
       "      <th>Sex</th>\n",
       "      <th>female</th>\n",
       "      <th>male</th>\n",
       "    </tr>\n",
       "    <tr>\n",
       "      <th>Survived</th>\n",
       "      <th></th>\n",
       "      <th></th>\n",
       "    </tr>\n",
       "  </thead>\n",
       "  <tbody>\n",
       "    <tr>\n",
       "      <th>0</th>\n",
       "      <td>0.147541</td>\n",
       "      <td>0.852459</td>\n",
       "    </tr>\n",
       "    <tr>\n",
       "      <th>1</th>\n",
       "      <td>0.681287</td>\n",
       "      <td>0.318713</td>\n",
       "    </tr>\n",
       "  </tbody>\n",
       "</table>\n",
       "</div>"
      ],
      "text/plain": [
       "Sex         female      male\n",
       "Survived                    \n",
       "0         0.147541  0.852459\n",
       "1         0.681287  0.318713"
      ]
     },
     "execution_count": 40,
     "metadata": {},
     "output_type": "execute_result"
    }
   ],
   "source": [
    "pd.crosstab(titanic['Survived'], titanic['Sex'])\n",
    "pd.crosstab(titanic['Survived'], titanic['Sex'], normalize = 'index')"
   ]
  },
  {
   "cell_type": "markdown",
   "metadata": {
    "id": "o6SnEmC6WBQB"
   },
   "source": [
    "2) 시각화( Stacked Bar, Mosaic)"
   ]
  },
  {
   "cell_type": "code",
   "execution_count": 42,
   "metadata": {
    "id": "h30dGcAFWBQB"
   },
   "outputs": [
    {
     "data": {
      "image/png": "[encoded data removed]",
      "text/plain": [
       "<Figure size 432x288 with 1 Axes>"
      ]
     },
     "metadata": {
      "needs_background": "light"
     },
     "output_type": "display_data"
    },
    {
     "data": {
      "image/png": "[encoded data removed]",
      "text/plain": [
       "<Figure size 432x288 with 3 Axes>"
      ]
     },
     "metadata": {
      "needs_background": "light"
     },
     "output_type": "display_data"
    }
   ],
   "source": [
    "temp = pd.crosstab(titanic['Survived'], titanic['Sex'], normalize = 'index')\n",
    "temp.plot.bar(stacked=True)\n",
    "plt.axhline(1-titanic['Survived'].mean(), color = 'r')\n",
    "plt.show()\n",
    "\n",
    "mosaic(titanic, [ 'Sex','Survived'])\n",
    "plt.axhline(1- titanic['Survived'].mean(), color = 'r')\n",
    "plt.show()"
   ]
  },
  {
   "cell_type": "markdown",
   "metadata": {
    "id": "2JqA4UsEWBQC"
   },
   "source": [
    "3) 가설검정(카이제곱검정)"
   ]
  },
  {
   "cell_type": "code",
   "execution_count": 47,
   "metadata": {
    "id": "xAWcx5TZWBQC"
   },
   "outputs": [
    {
     "name": "stdout",
     "output_type": "stream",
     "text": [
      "카이제곱통계량 260.71702016732104\n",
      "p-value 1.1973570627755645e-58\n",
      "자유도 1\n"
     ]
    }
   ],
   "source": [
    "# 먼저 집계\n",
    "table = pd.crosstab(titanic['Survived'], titanic['Sex'])\n",
    "# 카이제곱검정\n",
    "result = spst.chi2_contingency(table)\n",
    "print('카이제곱통계량', result[0])\n",
    "print('p-value', result[1])\n",
    "print('자유도', result[2])"
   ]
  },
  {
   "cell_type": "markdown",
   "metadata": {
    "id": "0S1zHGcDWBQC"
   },
   "source": [
    "4) 관계 평가하기"
   ]
  },
  {
   "cell_type": "markdown",
   "metadata": {
    "id": "7Wk9YNU3WBQC"
   },
   "source": [
    "* 먼저 카이제곱검정을 보면 자유도가 1 , 카이제곱통계량이 260, p-value가 0과 거의 수렴하기 때문에 성별에 따라 생존율은 큰차이를 보이고 있다.\n",
    "\n",
    "* 그래프를 통해 남자가 여자보다 더 많이 죽은 것으로 볼 수 있다.\n",
    "* 남자보다 여자 위주로 구조를 한 것으로 보이고 남자들은 구조를 도운게 아닐까 생각한다."
   ]
  },
  {
   "cell_type": "markdown",
   "metadata": {
    "id": "PPI5KmQXW8vS"
   },
   "source": [
    "5) 추가 분석하기"
   ]
  },
  {
   "cell_type": "markdown",
   "metadata": {
    "id": "U8IeV7zGW8vS"
   },
   "source": [
    "* 성별별 나이 분포"
   ]
  },
  {
   "cell_type": "markdown",
   "metadata": {
    "id": "OfFcllY1XBBG"
   },
   "source": [
    "#### ② Pclass --> Survived"
   ]
  },
  {
   "cell_type": "markdown",
   "metadata": {
    "id": "I8WMdI6Cz0c7"
   },
   "source": [
    "1) 교차표(pd.crosstab())"
   ]
  },
  {
   "cell_type": "code",
   "execution_count": 55,
   "metadata": {
    "id": "H4n6u5-mz0c8"
   },
   "outputs": [
    {
     "data": {
      "text/html": [
       "<div>\n",
       "<style scoped>\n",
       "    .dataframe tbody tr th:only-of-type {\n",
       "        vertical-align: middle;\n",
       "    }\n",
       "\n",
       "    .dataframe tbody tr th {\n",
       "        vertical-align: top;\n",
       "    }\n",
       "\n",
       "    .dataframe thead th {\n",
       "        text-align: right;\n",
       "    }\n",
       "</style>\n",
       "<table border=\"1\" class=\"dataframe\">\n",
       "  <thead>\n",
       "    <tr style=\"text-align: right;\">\n",
       "      <th>Survived</th>\n",
       "      <th>0</th>\n",
       "      <th>1</th>\n",
       "    </tr>\n",
       "    <tr>\n",
       "      <th>Pclass</th>\n",
       "      <th></th>\n",
       "      <th></th>\n",
       "    </tr>\n",
       "  </thead>\n",
       "  <tbody>\n",
       "    <tr>\n",
       "      <th>1</th>\n",
       "      <td>0.370370</td>\n",
       "      <td>0.629630</td>\n",
       "    </tr>\n",
       "    <tr>\n",
       "      <th>2</th>\n",
       "      <td>0.527174</td>\n",
       "      <td>0.472826</td>\n",
       "    </tr>\n",
       "    <tr>\n",
       "      <th>3</th>\n",
       "      <td>0.757637</td>\n",
       "      <td>0.242363</td>\n",
       "    </tr>\n",
       "  </tbody>\n",
       "</table>\n",
       "</div>"
      ],
      "text/plain": [
       "Survived         0         1\n",
       "Pclass                      \n",
       "1         0.370370  0.629630\n",
       "2         0.527174  0.472826\n",
       "3         0.757637  0.242363"
      ]
     },
     "execution_count": 55,
     "metadata": {},
     "output_type": "execute_result"
    }
   ],
   "source": [
    "temp = pd.crosstab( titanic['Pclass'],titanic['Survived'], normalize = 'index')\n",
    "temp"
   ]
  },
  {
   "cell_type": "markdown",
   "metadata": {
    "id": "0sHmYSxlz0c8"
   },
   "source": [
    "2) 시각화( Stacked Bar, Mosaic)"
   ]
  },
  {
   "cell_type": "code",
   "execution_count": 56,
   "metadata": {
    "id": "9b-fEdl3z0c8"
   },
   "outputs": [
    {
     "data": {
      "image/png": "[encoded data removed]",
      "text/plain": [
       "<Figure size 432x288 with 1 Axes>"
      ]
     },
     "metadata": {
      "needs_background": "light"
     },
     "output_type": "display_data"
    },
    {
     "data": {
      "image/png": "[encoded data removed]",
      "text/plain": [
       "<Figure size 432x288 with 3 Axes>"
      ]
     },
     "metadata": {
      "needs_background": "light"
     },
     "output_type": "display_data"
    }
   ],
   "source": [
    "temp.plot.bar(stacked=True)\n",
    "plt.axhline(1-titanic['Survived'].mean(), color = 'r')\n",
    "plt.show()\n",
    "\n",
    "mosaic(titanic, [ 'Pclass','Survived'])\n",
    "plt.axhline(1- titanic['Survived'].mean(), color = 'r')\n",
    "plt.show()"
   ]
  },
  {
   "cell_type": "markdown",
   "metadata": {
    "id": "NBMeIP16z0c9"
   },
   "source": [
    "3) 가설검정(카이제곱검정)"
   ]
  },
  {
   "cell_type": "code",
   "execution_count": 53,
   "metadata": {
    "id": "SbTccKy2z0c9"
   },
   "outputs": [
    {
     "name": "stdout",
     "output_type": "stream",
     "text": [
      "카이제곱통계량 102.88898875696056\n",
      "p-value 4.549251711298793e-23\n",
      "자유도 2\n"
     ]
    }
   ],
   "source": [
    "# 먼저 집계\n",
    "table = pd.crosstab(titanic['Survived'], titanic['Pclass'])\n",
    "# 카이제곱검정\n",
    "result = spst.chi2_contingency(table)\n",
    "print('카이제곱통계량', result[0])\n",
    "print('p-value', result[1])\n",
    "print('자유도', result[2])"
   ]
  },
  {
   "cell_type": "markdown",
   "metadata": {
    "id": "e5lAEPkkXBBH"
   },
   "source": [
    "4) 관계 평가하기"
   ]
  },
  {
   "cell_type": "markdown",
   "metadata": {
    "id": "4KfEEq4CXBBH"
   },
   "source": [
    "* 카이제곱통계량 : 102 , 자유도 : 2, p-value : 0과 거의 수렴 하기 때문에 자리별 생종율은 크게 차이가 있다.\n",
    "* 3등급 객실이 제일 많고 1등급 2등급 객실은 비슷한 인구로 분포되어 있다.\n",
    "* 대체로 3등급 객실 사람들의 생존율이 현저히 낮고 2등급 1등급 순으로 되어 있다.\n",
    "* 등급 별 순서 위주로 구조를 시작한게 아닐까?\n",
    "* 3등급 객실 사람들은 탈출을 제대로 못 함."
   ]
  },
  {
   "cell_type": "markdown",
   "metadata": {
    "id": "qjl96aV0XBBH"
   },
   "source": [
    "5) 추가 분석하기"
   ]
  },
  {
   "cell_type": "markdown",
   "metadata": {
    "id": "SSccuallXBBH"
   },
   "source": [
    "* 등급 별 운임비용\n",
    "* 객실등급과 성별의 조합으로 생존여부를 분석해보자.\n",
    "    * {1,2,3} * {m,f} = 단순 조합은 총 6가지 범주 {(1,m), (1,f), (2,m), (2,f), (3,m), (3,f)}\n",
    "    * 일단 6가지로 구분하고 나서, 통합시킬 대상을 선정하는 것 필요."
   ]
  },
  {
   "cell_type": "code",
   "execution_count": 8,
   "metadata": {},
   "outputs": [
    {
     "data": {
      "text/html": [
       "<div>\n",
       "<style scoped>\n",
       "    .dataframe tbody tr th:only-of-type {\n",
       "        vertical-align: middle;\n",
       "    }\n",
       "\n",
       "    .dataframe tbody tr th {\n",
       "        vertical-align: top;\n",
       "    }\n",
       "\n",
       "    .dataframe thead th {\n",
       "        text-align: right;\n",
       "    }\n",
       "</style>\n",
       "<table border=\"1\" class=\"dataframe\">\n",
       "  <thead>\n",
       "    <tr style=\"text-align: right;\">\n",
       "      <th></th>\n",
       "      <th>Pclass</th>\n",
       "      <th>Sex</th>\n",
       "      <th>Survived</th>\n",
       "    </tr>\n",
       "  </thead>\n",
       "  <tbody>\n",
       "    <tr>\n",
       "      <th>0</th>\n",
       "      <td>1</td>\n",
       "      <td>female</td>\n",
       "      <td>0.968085</td>\n",
       "    </tr>\n",
       "    <tr>\n",
       "      <th>1</th>\n",
       "      <td>1</td>\n",
       "      <td>male</td>\n",
       "      <td>0.368852</td>\n",
       "    </tr>\n",
       "    <tr>\n",
       "      <th>2</th>\n",
       "      <td>2</td>\n",
       "      <td>female</td>\n",
       "      <td>0.921053</td>\n",
       "    </tr>\n",
       "    <tr>\n",
       "      <th>3</th>\n",
       "      <td>2</td>\n",
       "      <td>male</td>\n",
       "      <td>0.157407</td>\n",
       "    </tr>\n",
       "    <tr>\n",
       "      <th>4</th>\n",
       "      <td>3</td>\n",
       "      <td>female</td>\n",
       "      <td>0.500000</td>\n",
       "    </tr>\n",
       "    <tr>\n",
       "      <th>5</th>\n",
       "      <td>3</td>\n",
       "      <td>male</td>\n",
       "      <td>0.135447</td>\n",
       "    </tr>\n",
       "  </tbody>\n",
       "</table>\n",
       "</div>"
      ],
      "text/plain": [
       "   Pclass     Sex  Survived\n",
       "0       1  female  0.968085\n",
       "1       1    male  0.368852\n",
       "2       2  female  0.921053\n",
       "3       2    male  0.157407\n",
       "4       3  female  0.500000\n",
       "5       3    male  0.135447"
      ]
     },
     "execution_count": 8,
     "metadata": {},
     "output_type": "execute_result"
    }
   ],
   "source": [
    "titanic.groupby(['Pclass','Sex'], as_index = False)['Survived'].mean()"
   ]
  },
  {
   "cell_type": "markdown",
   "metadata": {
    "id": "yVfh3ywJXGPO"
   },
   "source": [
    "#### ③ Embarked --> Survived"
   ]
  },
  {
   "cell_type": "markdown",
   "metadata": {
    "id": "LZDu-UtYz3Y-"
   },
   "source": [
    "1) 교차표(pd.crosstab())"
   ]
  },
  {
   "cell_type": "code",
   "execution_count": 57,
   "metadata": {
    "id": "WNa97uz6z3Y-"
   },
   "outputs": [
    {
     "data": {
      "text/html": [
       "<div>\n",
       "<style scoped>\n",
       "    .dataframe tbody tr th:only-of-type {\n",
       "        vertical-align: middle;\n",
       "    }\n",
       "\n",
       "    .dataframe tbody tr th {\n",
       "        vertical-align: top;\n",
       "    }\n",
       "\n",
       "    .dataframe thead th {\n",
       "        text-align: right;\n",
       "    }\n",
       "</style>\n",
       "<table border=\"1\" class=\"dataframe\">\n",
       "  <thead>\n",
       "    <tr style=\"text-align: right;\">\n",
       "      <th>Survived</th>\n",
       "      <th>0</th>\n",
       "      <th>1</th>\n",
       "    </tr>\n",
       "    <tr>\n",
       "      <th>Embarked</th>\n",
       "      <th></th>\n",
       "      <th></th>\n",
       "    </tr>\n",
       "  </thead>\n",
       "  <tbody>\n",
       "    <tr>\n",
       "      <th>C</th>\n",
       "      <td>0.446429</td>\n",
       "      <td>0.553571</td>\n",
       "    </tr>\n",
       "    <tr>\n",
       "      <th>Q</th>\n",
       "      <td>0.610390</td>\n",
       "      <td>0.389610</td>\n",
       "    </tr>\n",
       "    <tr>\n",
       "      <th>S</th>\n",
       "      <td>0.663043</td>\n",
       "      <td>0.336957</td>\n",
       "    </tr>\n",
       "  </tbody>\n",
       "</table>\n",
       "</div>"
      ],
      "text/plain": [
       "Survived         0         1\n",
       "Embarked                    \n",
       "C         0.446429  0.553571\n",
       "Q         0.610390  0.389610\n",
       "S         0.663043  0.336957"
      ]
     },
     "execution_count": 57,
     "metadata": {},
     "output_type": "execute_result"
    }
   ],
   "source": [
    "temp = pd.crosstab( titanic['Embarked'],titanic['Survived'], normalize = 'index')\n",
    "temp"
   ]
  },
  {
   "cell_type": "markdown",
   "metadata": {
    "id": "t5QkeY_pz3Y_"
   },
   "source": [
    "2) 시각화( Stacked Bar, Mosaic)"
   ]
  },
  {
   "cell_type": "code",
   "execution_count": 58,
   "metadata": {
    "id": "Kq1f47kXz3Y_"
   },
   "outputs": [
    {
     "data": {
      "image/png": "[encoded data removed]",
      "text/plain": [
       "<Figure size 432x288 with 1 Axes>"
      ]
     },
     "metadata": {
      "needs_background": "light"
     },
     "output_type": "display_data"
    },
    {
     "data": {
      "image/png": "[encoded data removed]",
      "text/plain": [
       "<Figure size 432x288 with 3 Axes>"
      ]
     },
     "metadata": {
      "needs_background": "light"
     },
     "output_type": "display_data"
    }
   ],
   "source": [
    "temp.plot.bar(stacked=True)\n",
    "plt.axhline(1-titanic['Survived'].mean(), color = 'r')\n",
    "plt.show()\n",
    "\n",
    "mosaic(titanic, [ 'Embarked','Survived'])\n",
    "plt.axhline(1- titanic['Survived'].mean(), color = 'r')\n",
    "plt.show()"
   ]
  },
  {
   "cell_type": "markdown",
   "metadata": {
    "id": "fSMqvDt-z3Y_"
   },
   "source": [
    "3) 가설검정(카이제곱검정)"
   ]
  },
  {
   "cell_type": "code",
   "execution_count": 59,
   "metadata": {
    "id": "XL9z25qtz3Y_"
   },
   "outputs": [
    {
     "name": "stdout",
     "output_type": "stream",
     "text": [
      "카이제곱통계량 26.48914983923762\n",
      "p-value 1.769922284120912e-06\n",
      "자유도 2\n"
     ]
    }
   ],
   "source": [
    "# 먼저 집계\n",
    "table = pd.crosstab(titanic['Survived'], titanic['Embarked'])\n",
    "# 카이제곱검정\n",
    "result = spst.chi2_contingency(table)\n",
    "print('카이제곱통계량', result[0])\n",
    "print('p-value', result[1])\n",
    "print('자유도', result[2])"
   ]
  },
  {
   "cell_type": "markdown",
   "metadata": {
    "id": "05vTm3YrXGPP"
   },
   "source": [
    "4) 관계 평가하기"
   ]
  },
  {
   "cell_type": "markdown",
   "metadata": {
    "id": "VcpiAQ0EXGPP"
   },
   "source": [
    "* 카이제곱통계량 : 26 , 자유도 : 2, p-value : 0과 거의 수렴 하기 때문에 탑승지역별 생종율은 차이가 있다.\n",
    "* s의 생존율이 제일 낮고 q > c 순서로 되어 있다.\n",
    "* s의 탑승객이 제일 많아서 대체적으로 생존율도 더 낮은 것 같다.\n",
    "* q의 탑승객의 생존율이 평균보다 높은 것으로 보아 부유한 지역이 아닐까 생각한다."
   ]
  },
  {
   "cell_type": "markdown",
   "metadata": {
    "id": "Goph2JJnXGPP"
   },
   "source": [
    "5) 추가 분석하기"
   ]
  },
  {
   "cell_type": "markdown",
   "metadata": {
    "id": "5AVRmmOPXGPP"
   },
   "source": [
    "* 탑승지역 별 운임비용\n",
    "* 탑승지역 별 성별 또는 나이분포\n",
    "* 승선지역과 객실등급과 관련이 있지 않을까..."
   ]
  },
  {
   "cell_type": "code",
   "execution_count": 10,
   "metadata": {},
   "outputs": [
    {
     "data": {
      "image/png": "[encoded data removed]",
      "text/plain": [
       "<Figure size 432x288 with 1 Axes>"
      ]
     },
     "metadata": {
      "needs_background": "light"
     },
     "output_type": "display_data"
    }
   ],
   "source": [
    "sns.barplot(x=\"Embarked\", y=\"Fare\", data=titanic)\n",
    "plt.show()"
   ]
  },
  {
   "cell_type": "code",
   "execution_count": 9,
   "metadata": {},
   "outputs": [
    {
     "data": {
      "text/html": [
       "<div>\n",
       "<style scoped>\n",
       "    .dataframe tbody tr th:only-of-type {\n",
       "        vertical-align: middle;\n",
       "    }\n",
       "\n",
       "    .dataframe tbody tr th {\n",
       "        vertical-align: top;\n",
       "    }\n",
       "\n",
       "    .dataframe thead th {\n",
       "        text-align: right;\n",
       "    }\n",
       "</style>\n",
       "<table border=\"1\" class=\"dataframe\">\n",
       "  <thead>\n",
       "    <tr style=\"text-align: right;\">\n",
       "      <th></th>\n",
       "      <th>Embarked</th>\n",
       "      <th>Pclass</th>\n",
       "      <th>Survived</th>\n",
       "    </tr>\n",
       "  </thead>\n",
       "  <tbody>\n",
       "    <tr>\n",
       "      <th>0</th>\n",
       "      <td>C</td>\n",
       "      <td>1</td>\n",
       "      <td>0.694118</td>\n",
       "    </tr>\n",
       "    <tr>\n",
       "      <th>1</th>\n",
       "      <td>C</td>\n",
       "      <td>2</td>\n",
       "      <td>0.529412</td>\n",
       "    </tr>\n",
       "    <tr>\n",
       "      <th>2</th>\n",
       "      <td>C</td>\n",
       "      <td>3</td>\n",
       "      <td>0.378788</td>\n",
       "    </tr>\n",
       "    <tr>\n",
       "      <th>3</th>\n",
       "      <td>Q</td>\n",
       "      <td>1</td>\n",
       "      <td>0.500000</td>\n",
       "    </tr>\n",
       "    <tr>\n",
       "      <th>4</th>\n",
       "      <td>Q</td>\n",
       "      <td>2</td>\n",
       "      <td>0.666667</td>\n",
       "    </tr>\n",
       "    <tr>\n",
       "      <th>5</th>\n",
       "      <td>Q</td>\n",
       "      <td>3</td>\n",
       "      <td>0.375000</td>\n",
       "    </tr>\n",
       "    <tr>\n",
       "      <th>6</th>\n",
       "      <td>S</td>\n",
       "      <td>1</td>\n",
       "      <td>0.582677</td>\n",
       "    </tr>\n",
       "    <tr>\n",
       "      <th>7</th>\n",
       "      <td>S</td>\n",
       "      <td>2</td>\n",
       "      <td>0.463415</td>\n",
       "    </tr>\n",
       "    <tr>\n",
       "      <th>8</th>\n",
       "      <td>S</td>\n",
       "      <td>3</td>\n",
       "      <td>0.189802</td>\n",
       "    </tr>\n",
       "  </tbody>\n",
       "</table>\n",
       "</div>"
      ],
      "text/plain": [
       "  Embarked  Pclass  Survived\n",
       "0        C       1  0.694118\n",
       "1        C       2  0.529412\n",
       "2        C       3  0.378788\n",
       "3        Q       1  0.500000\n",
       "4        Q       2  0.666667\n",
       "5        Q       3  0.375000\n",
       "6        S       1  0.582677\n",
       "7        S       2  0.463415\n",
       "8        S       3  0.189802"
      ]
     },
     "execution_count": 9,
     "metadata": {},
     "output_type": "execute_result"
    }
   ],
   "source": [
    "temp = titanic.groupby(['Embarked','Pclass'], as_index=False)['Survived'].mean()\n"
   ]
  },
  {
   "cell_type": "markdown",
   "metadata": {
    "id": "N44hmAUyXmz0"
   },
   "source": [
    "### (3) 관계 정리하기"
   ]
  },
  {
   "cell_type": "markdown",
   "metadata": {
    "id": "uthFRVaSXmz0"
   },
   "source": [
    "① 강한관계"
   ]
  },
  {
   "cell_type": "markdown",
   "metadata": {
    "id": "_vFHM4dZXmz1"
   },
   "source": [
    "* 성별에 따른 생존율\n",
    "* 객실등급에 따른 생존율"
   ]
  },
  {
   "cell_type": "markdown",
   "metadata": {
    "id": "SgkhCYSZXmz1"
   },
   "source": [
    "② 중간관계"
   ]
  },
  {
   "cell_type": "markdown",
   "metadata": {
    "id": "PnuBq_HmXmz1"
   },
   "source": [
    "* 탑승지역에 따른 생존율, 나이"
   ]
  },
  {
   "cell_type": "markdown",
   "metadata": {
    "id": "SYJ22vFmXmz1"
   },
   "source": [
    "③ 관계없음"
   ]
  },
  {
   "cell_type": "markdown",
   "metadata": {
    "id": "a2Y4OvxGXmz1"
   },
   "source": [
    "* 없음"
   ]
  },
  {
   "cell_type": "markdown",
   "metadata": {
    "id": "IajVX_S6MamH"
   },
   "source": [
    "4) 추가 분석할 내용 정리"
   ]
  },
  {
   "cell_type": "markdown",
   "metadata": {
    "id": "2VNyWfmAMamH"
   },
   "source": [
    "* 강변에 위치하려면 오래 전부터 생겨져 있던걸로 추정\n",
    "* => 집의 나이를 함께 봐야함"
   ]
  },
  {
   "cell_type": "markdown",
   "metadata": {
    "id": "y1J78TFSRrSA"
   },
   "source": [
    "<center><img src='https://raw.githubusercontent.com/Jangrae/img/master/ml_python.png' width=600/></center>"
   ]
  },
  {
   "cell_type": "markdown",
   "metadata": {
    "id": "elUlK1gCJHGh"
   },
   "source": [
    "# 모델링"
   ]
  },
  {
   "cell_type": "markdown",
   "metadata": {
    "id": "IciCQGJy5PO-"
   },
   "source": [
    "# 1.환경 준비\n",
    "\n",
    "- 기본 라이브러리와 대상 데이터를 가져와 이후 과정을 준비합니다."
   ]
  },
  {
   "cell_type": "code",
   "execution_count": 1,
   "metadata": {
    "id": "jB0l6oqDsG8B"
   },
   "outputs": [],
   "source": [
    "# 라이브러리 불러오기\n",
    "import numpy as np\n",
    "import pandas as pd\n",
    "import matplotlib.pyplot as plt\n",
    "import warnings\n",
    "\n",
    "warnings.filterwarnings(action='ignore')"
   ]
  },
  {
   "cell_type": "code",
   "execution_count": 2,
   "metadata": {
    "id": "PXqyu_0LsG8C"
   },
   "outputs": [],
   "source": [
    "# 데이터 불러오기\n",
    "path = 'https://raw.githubusercontent.com/jangrae/csv/master/titanic.csv'\n",
    "data = pd.read_csv(path)"
   ]
  },
  {
   "cell_type": "markdown",
   "metadata": {
    "id": "3nxAYZKtNnbh"
   },
   "source": [
    "# 2.데이터 이해\n",
    "\n",
    "- 분석할 데이터를 충분히 이해할 수 있도록 다양한 탐색 과정을 수행합니다."
   ]
  },
  {
   "cell_type": "code",
   "execution_count": 3,
   "metadata": {
    "colab": {
     "base_uri": "https://localhost:8080/",
     "height": 206
    },
    "executionInfo": {
     "elapsed": 18,
     "status": "ok",
     "timestamp": 1641476241432,
     "user": {
      "displayName": "Jangrae Lee",
      "photoUrl": "https://lh3.googleusercontent.com/a-/AOh14Gh1Pd8OuWJU2cv7uTt-fURrgvty7atx_Wtarmx0-A=s64",
      "userId": "08475661575434032088"
     },
     "user_tz": -540
    },
    "id": "Z1ahypi3irLz",
    "outputId": "7e9421d2-4a44-423b-b375-2c4dba5f88bb"
   },
   "outputs": [
    {
     "data": {
      "text/html": [
       "<div>\n",
       "<style scoped>\n",
       "    .dataframe tbody tr th:only-of-type {\n",
       "        vertical-align: middle;\n",
       "    }\n",
       "\n",
       "    .dataframe tbody tr th {\n",
       "        vertical-align: top;\n",
       "    }\n",
       "\n",
       "    .dataframe thead th {\n",
       "        text-align: right;\n",
       "    }\n",
       "</style>\n",
       "<table border=\"1\" class=\"dataframe\">\n",
       "  <thead>\n",
       "    <tr style=\"text-align: right;\">\n",
       "      <th></th>\n",
       "      <th>PassengerId</th>\n",
       "      <th>Survived</th>\n",
       "      <th>Pclass</th>\n",
       "      <th>Name</th>\n",
       "      <th>Sex</th>\n",
       "      <th>Age</th>\n",
       "      <th>SibSp</th>\n",
       "      <th>Parch</th>\n",
       "      <th>Ticket</th>\n",
       "      <th>Fare</th>\n",
       "      <th>Cabin</th>\n",
       "      <th>Embarked</th>\n",
       "    </tr>\n",
       "  </thead>\n",
       "  <tbody>\n",
       "    <tr>\n",
       "      <th>0</th>\n",
       "      <td>1</td>\n",
       "      <td>0</td>\n",
       "      <td>3</td>\n",
       "      <td>Braund, Mr. Owen Harris</td>\n",
       "      <td>male</td>\n",
       "      <td>22.0</td>\n",
       "      <td>1</td>\n",
       "      <td>0</td>\n",
       "      <td>A/5 21171</td>\n",
       "      <td>7.2500</td>\n",
       "      <td>NaN</td>\n",
       "      <td>S</td>\n",
       "    </tr>\n",
       "    <tr>\n",
       "      <th>1</th>\n",
       "      <td>2</td>\n",
       "      <td>1</td>\n",
       "      <td>1</td>\n",
       "      <td>Cumings, Mrs. John Bradley (Florence Briggs Th...</td>\n",
       "      <td>female</td>\n",
       "      <td>38.0</td>\n",
       "      <td>1</td>\n",
       "      <td>0</td>\n",
       "      <td>PC 17599</td>\n",
       "      <td>71.2833</td>\n",
       "      <td>C85</td>\n",
       "      <td>C</td>\n",
       "    </tr>\n",
       "    <tr>\n",
       "      <th>2</th>\n",
       "      <td>3</td>\n",
       "      <td>1</td>\n",
       "      <td>3</td>\n",
       "      <td>Heikkinen, Miss. Laina</td>\n",
       "      <td>female</td>\n",
       "      <td>26.0</td>\n",
       "      <td>0</td>\n",
       "      <td>0</td>\n",
       "      <td>STON/O2. 3101282</td>\n",
       "      <td>7.9250</td>\n",
       "      <td>NaN</td>\n",
       "      <td>S</td>\n",
       "    </tr>\n",
       "    <tr>\n",
       "      <th>3</th>\n",
       "      <td>4</td>\n",
       "      <td>1</td>\n",
       "      <td>1</td>\n",
       "      <td>Futrelle, Mrs. Jacques Heath (Lily May Peel)</td>\n",
       "      <td>female</td>\n",
       "      <td>35.0</td>\n",
       "      <td>1</td>\n",
       "      <td>0</td>\n",
       "      <td>113803</td>\n",
       "      <td>53.1000</td>\n",
       "      <td>C123</td>\n",
       "      <td>S</td>\n",
       "    </tr>\n",
       "    <tr>\n",
       "      <th>4</th>\n",
       "      <td>5</td>\n",
       "      <td>0</td>\n",
       "      <td>3</td>\n",
       "      <td>Allen, Mr. William Henry</td>\n",
       "      <td>male</td>\n",
       "      <td>35.0</td>\n",
       "      <td>0</td>\n",
       "      <td>0</td>\n",
       "      <td>373450</td>\n",
       "      <td>8.0500</td>\n",
       "      <td>NaN</td>\n",
       "      <td>S</td>\n",
       "    </tr>\n",
       "  </tbody>\n",
       "</table>\n",
       "</div>"
      ],
      "text/plain": [
       "   PassengerId  Survived  Pclass  \\\n",
       "0            1         0       3   \n",
       "1            2         1       1   \n",
       "2            3         1       3   \n",
       "3            4         1       1   \n",
       "4            5         0       3   \n",
       "\n",
       "                                                Name     Sex   Age  SibSp  \\\n",
       "0                            Braund, Mr. Owen Harris    male  22.0      1   \n",
       "1  Cumings, Mrs. John Bradley (Florence Briggs Th...  female  38.0      1   \n",
       "2                             Heikkinen, Miss. Laina  female  26.0      0   \n",
       "3       Futrelle, Mrs. Jacques Heath (Lily May Peel)  female  35.0      1   \n",
       "4                           Allen, Mr. William Henry    male  35.0      0   \n",
       "\n",
       "   Parch            Ticket     Fare Cabin Embarked  \n",
       "0      0         A/5 21171   7.2500   NaN        S  \n",
       "1      0          PC 17599  71.2833   C85        C  \n",
       "2      0  STON/O2. 3101282   7.9250   NaN        S  \n",
       "3      0            113803  53.1000  C123        S  \n",
       "4      0            373450   8.0500   NaN        S  "
      ]
     },
     "execution_count": 3,
     "metadata": {},
     "output_type": "execute_result"
    }
   ],
   "source": [
    "# 데이터 살펴보기\n",
    "data.head()"
   ]
  },
  {
   "cell_type": "code",
   "execution_count": 4,
   "metadata": {
    "colab": {
     "base_uri": "https://localhost:8080/",
     "height": 300
    },
    "executionInfo": {
     "elapsed": 15,
     "status": "ok",
     "timestamp": 1641476241433,
     "user": {
      "displayName": "Jangrae Lee",
      "photoUrl": "https://lh3.googleusercontent.com/a-/AOh14Gh1Pd8OuWJU2cv7uTt-fURrgvty7atx_Wtarmx0-A=s64",
      "userId": "08475661575434032088"
     },
     "user_tz": -540
    },
    "id": "HGHlgWSwtSYh",
    "outputId": "1cb222dd-3eab-4cc1-fd27-a457f67830b3"
   },
   "outputs": [
    {
     "data": {
      "text/html": [
       "<div>\n",
       "<style scoped>\n",
       "    .dataframe tbody tr th:only-of-type {\n",
       "        vertical-align: middle;\n",
       "    }\n",
       "\n",
       "    .dataframe tbody tr th {\n",
       "        vertical-align: top;\n",
       "    }\n",
       "\n",
       "    .dataframe thead th {\n",
       "        text-align: right;\n",
       "    }\n",
       "</style>\n",
       "<table border=\"1\" class=\"dataframe\">\n",
       "  <thead>\n",
       "    <tr style=\"text-align: right;\">\n",
       "      <th></th>\n",
       "      <th>PassengerId</th>\n",
       "      <th>Survived</th>\n",
       "      <th>Pclass</th>\n",
       "      <th>Age</th>\n",
       "      <th>SibSp</th>\n",
       "      <th>Parch</th>\n",
       "      <th>Fare</th>\n",
       "    </tr>\n",
       "  </thead>\n",
       "  <tbody>\n",
       "    <tr>\n",
       "      <th>count</th>\n",
       "      <td>891.000000</td>\n",
       "      <td>891.000000</td>\n",
       "      <td>891.000000</td>\n",
       "      <td>714.000000</td>\n",
       "      <td>891.000000</td>\n",
       "      <td>891.000000</td>\n",
       "      <td>891.000000</td>\n",
       "    </tr>\n",
       "    <tr>\n",
       "      <th>mean</th>\n",
       "      <td>446.000000</td>\n",
       "      <td>0.383838</td>\n",
       "      <td>2.308642</td>\n",
       "      <td>29.699118</td>\n",
       "      <td>0.523008</td>\n",
       "      <td>0.381594</td>\n",
       "      <td>32.204208</td>\n",
       "    </tr>\n",
       "    <tr>\n",
       "      <th>std</th>\n",
       "      <td>257.353842</td>\n",
       "      <td>0.486592</td>\n",
       "      <td>0.836071</td>\n",
       "      <td>14.526497</td>\n",
       "      <td>1.102743</td>\n",
       "      <td>0.806057</td>\n",
       "      <td>49.693429</td>\n",
       "    </tr>\n",
       "    <tr>\n",
       "      <th>min</th>\n",
       "      <td>1.000000</td>\n",
       "      <td>0.000000</td>\n",
       "      <td>1.000000</td>\n",
       "      <td>0.420000</td>\n",
       "      <td>0.000000</td>\n",
       "      <td>0.000000</td>\n",
       "      <td>0.000000</td>\n",
       "    </tr>\n",
       "    <tr>\n",
       "      <th>25%</th>\n",
       "      <td>223.500000</td>\n",
       "      <td>0.000000</td>\n",
       "      <td>2.000000</td>\n",
       "      <td>20.125000</td>\n",
       "      <td>0.000000</td>\n",
       "      <td>0.000000</td>\n",
       "      <td>7.910400</td>\n",
       "    </tr>\n",
       "    <tr>\n",
       "      <th>50%</th>\n",
       "      <td>446.000000</td>\n",
       "      <td>0.000000</td>\n",
       "      <td>3.000000</td>\n",
       "      <td>28.000000</td>\n",
       "      <td>0.000000</td>\n",
       "      <td>0.000000</td>\n",
       "      <td>14.454200</td>\n",
       "    </tr>\n",
       "    <tr>\n",
       "      <th>75%</th>\n",
       "      <td>668.500000</td>\n",
       "      <td>1.000000</td>\n",
       "      <td>3.000000</td>\n",
       "      <td>38.000000</td>\n",
       "      <td>1.000000</td>\n",
       "      <td>0.000000</td>\n",
       "      <td>31.000000</td>\n",
       "    </tr>\n",
       "    <tr>\n",
       "      <th>max</th>\n",
       "      <td>891.000000</td>\n",
       "      <td>1.000000</td>\n",
       "      <td>3.000000</td>\n",
       "      <td>80.000000</td>\n",
       "      <td>8.000000</td>\n",
       "      <td>6.000000</td>\n",
       "      <td>512.329200</td>\n",
       "    </tr>\n",
       "  </tbody>\n",
       "</table>\n",
       "</div>"
      ],
      "text/plain": [
       "       PassengerId    Survived      Pclass         Age       SibSp  \\\n",
       "count   891.000000  891.000000  891.000000  714.000000  891.000000   \n",
       "mean    446.000000    0.383838    2.308642   29.699118    0.523008   \n",
       "std     257.353842    0.486592    0.836071   14.526497    1.102743   \n",
       "min       1.000000    0.000000    1.000000    0.420000    0.000000   \n",
       "25%     223.500000    0.000000    2.000000   20.125000    0.000000   \n",
       "50%     446.000000    0.000000    3.000000   28.000000    0.000000   \n",
       "75%     668.500000    1.000000    3.000000   38.000000    1.000000   \n",
       "max     891.000000    1.000000    3.000000   80.000000    8.000000   \n",
       "\n",
       "            Parch        Fare  \n",
       "count  891.000000  891.000000  \n",
       "mean     0.381594   32.204208  \n",
       "std      0.806057   49.693429  \n",
       "min      0.000000    0.000000  \n",
       "25%      0.000000    7.910400  \n",
       "50%      0.000000   14.454200  \n",
       "75%      0.000000   31.000000  \n",
       "max      6.000000  512.329200  "
      ]
     },
     "execution_count": 4,
     "metadata": {},
     "output_type": "execute_result"
    }
   ],
   "source": [
    "# 기초통계정보 확인\n",
    "data.describe()"
   ]
  },
  {
   "cell_type": "markdown",
   "metadata": {
    "id": "2TC7p5vyTfet"
   },
   "source": [
    "# 3.데이터 준비\n",
    "\n",
    "- 전처리 과정을 통해 머신러닝 알고리즘에 사용할 수 있는 형태의 데이터를 준비합니다."
   ]
  },
  {
   "cell_type": "markdown",
   "metadata": {
    "id": "ZHAm-eoFse1_"
   },
   "source": [
    "**1) Title 변수 추가**"
   ]
  },
  {
   "cell_type": "code",
   "execution_count": 5,
   "metadata": {
    "id": "lgmZKwlsY54S"
   },
   "outputs": [],
   "source": [
    "# 호칭 추출\n",
    "data['Title'] = data['Name'].str.extract('([A-Za-z]+)\\.', expand=False)"
   ]
  },
  {
   "cell_type": "code",
   "execution_count": 6,
   "metadata": {
    "id": "3Lm6IKZgwUiQ"
   },
   "outputs": [],
   "source": [
    "# 대표 호칭 이외는 Others로 변경\n",
    "main_tit_list = ['Mr', 'Miss', 'Mrs']\n",
    "data.loc[data['Title'].isin(main_tit_list)==False, ['Title']] = 'Others'"
   ]
  },
  {
   "cell_type": "markdown",
   "metadata": {
    "id": "mIxcFuf0CoxF"
   },
   "source": [
    "**2) 결측치 처리**"
   ]
  },
  {
   "cell_type": "code",
   "execution_count": 7,
   "metadata": {
    "id": "TBr9jcvWPJmi"
   },
   "outputs": [],
   "source": [
    "# Age 중앙값으로 채우기\n",
    "data['Age'].fillna(data.groupby('Title')['Age'].transform('median'), inplace=True)"
   ]
  },
  {
   "cell_type": "code",
   "execution_count": 8,
   "metadata": {
    "id": "o4A84dEAPOwy"
   },
   "outputs": [],
   "source": [
    "# Embarked 최빈값으로 채우기\n",
    "data['Embarked'] = data['Embarked'].fillna('S')"
   ]
  },
  {
   "cell_type": "markdown",
   "metadata": {
    "id": "CJjbn2YUQug8"
   },
   "source": [
    "**3) AgeGroup 변수 추가**"
   ]
  },
  {
   "cell_type": "code",
   "execution_count": 9,
   "metadata": {
    "id": "YHv6AA2ah0_6"
   },
   "outputs": [],
   "source": [
    "# 변수 추가\n",
    "bins = [0, 16, 25, 35, 60, 100]\n",
    "data['AgeGroup'] = pd.cut(data['Age'], \n",
    "                          bins=bins, \n",
    "                          labels=['0_16', '17_25', '26_35', '36_60', '61_100'])"
   ]
  },
  {
   "cell_type": "markdown",
   "metadata": {
    "id": "TfOiIj7lCfiG"
   },
   "source": [
    "**4) 불필요한 변수 제거**"
   ]
  },
  {
   "cell_type": "code",
   "execution_count": 10,
   "metadata": {
    "id": "oLG_6OZVCfsc"
   },
   "outputs": [],
   "source": [
    "# 불필요한 열 제거\n",
    "drop_cols = ['PassengerId', 'Name', 'Age', 'Ticket', 'Cabin']\n",
    "data.drop(drop_cols, axis=1, inplace=True)"
   ]
  },
  {
   "cell_type": "markdown",
   "metadata": {
    "id": "FmptGbWLBHn5"
   },
   "source": [
    "**5) 가변수화**"
   ]
  },
  {
   "cell_type": "code",
   "execution_count": 11,
   "metadata": {
    "id": "CDnjJtWVfGyx"
   },
   "outputs": [],
   "source": [
    "# 가변수화\n",
    "dummy_vars = ['Title', 'AgeGroup', 'Pclass', 'Sex', 'Embarked']\n",
    "\n",
    "for v in dummy_vars:\n",
    "    dummies = pd.get_dummies(data[v], prefix=v, drop_first=True)\n",
    "    data = pd.concat([data, dummies], axis=1)\n",
    "    data.drop(v, axis=1, inplace=True)"
   ]
  },
  {
   "cell_type": "markdown",
   "metadata": {
    "id": "RG1UJL0osG8D"
   },
   "source": [
    "**6) x, y 분리**"
   ]
  },
  {
   "cell_type": "code",
   "execution_count": 12,
   "metadata": {
    "id": "EV8xNHnOsG8E"
   },
   "outputs": [],
   "source": [
    "# target 확인\n",
    "target = 'Survived'\n",
    "\n",
    "# 데이터 분리\n",
    "x = data.drop(target, axis=1)\n",
    "y = data[target] "
   ]
  },
  {
   "cell_type": "markdown",
   "metadata": {
    "id": "KSZeA5DEQ2n9"
   },
   "source": [
    "**7) 정규화**"
   ]
  },
  {
   "cell_type": "code",
   "execution_count": 13,
   "metadata": {
    "id": "Ue9UmNS0Q2n-"
   },
   "outputs": [],
   "source": [
    "# 정규화\n",
    "x = (x - x.min()) / (x.max() - x.min())"
   ]
  },
  {
   "cell_type": "markdown",
   "metadata": {
    "id": "6bEXi1xXsG8E"
   },
   "source": [
    "**8) 학습용, 평가용 데이터 분리**"
   ]
  },
  {
   "cell_type": "code",
   "execution_count": 14,
   "metadata": {
    "id": "xqBY-KATsG8F"
   },
   "outputs": [],
   "source": [
    "# 모듈 불러오기\n",
    "from sklearn.model_selection import train_test_split\n",
    "\n",
    "# 7:3으로 분리\n",
    "x_train, x_test, y_train, y_test = train_test_split(x, y, test_size=0.3, random_state=2022)"
   ]
  },
  {
   "cell_type": "markdown",
   "metadata": {
    "id": "BYr1vtpd8uw4"
   },
   "source": [
    "# 4.모델 검증\n",
    "\n",
    "- 여러 알고리즘으로 모델을 만들고 K-Fold CV로 성능을 검증합니다.\n",
    "- 하이퍼파라미터를 설정하지 않고 진행합니다.\n",
    "- 각 모델의 성능 정보를 수집해 마지막에 비교합니다."
   ]
  },
  {
   "cell_type": "markdown",
   "metadata": {
    "id": "9pqwajKFyK4F"
   },
   "source": [
    "## 4.1.KNN\n",
    "\n",
    "- KNN 알고리즘으로 모델링하고 K-Fold CV로 성능을 검증합니다."
   ]
  },
  {
   "cell_type": "code",
   "execution_count": 19,
   "metadata": {
    "id": "iH5qR_yCyK4G"
   },
   "outputs": [],
   "source": [
    "# 불러오기\n",
    "from sklearn.neighbors import KNeighborsClassifier\n",
    "from sklearn.model_selection import cross_val_score"
   ]
  },
  {
   "cell_type": "code",
   "execution_count": 20,
   "metadata": {
    "id": "TFoK2E6_yK4G"
   },
   "outputs": [],
   "source": [
    "# 선언하기\n",
    "model = KNeighborsClassifier()"
   ]
  },
  {
   "cell_type": "code",
   "execution_count": 21,
   "metadata": {
    "colab": {
     "base_uri": "https://localhost:8080/"
    },
    "executionInfo": {
     "elapsed": 33,
     "status": "ok",
     "timestamp": 1641476242325,
     "user": {
      "displayName": "Jangrae Lee",
      "photoUrl": "https://lh3.googleusercontent.com/a-/AOh14Gh1Pd8OuWJU2cv7uTt-fURrgvty7atx_Wtarmx0-A=s64",
      "userId": "08475661575434032088"
     },
     "user_tz": -540
    },
    "id": "ziotuce6yK4G",
    "outputId": "525fb298-8cb7-494d-b889-255937404f80"
   },
   "outputs": [],
   "source": [
    "# 성능검증\n",
    "cv_score = cross_val_score(model, x_train, y_train, cv= 10)"
   ]
  },
  {
   "cell_type": "code",
   "execution_count": 22,
   "metadata": {
    "id": "J-zashLGyK4H"
   },
   "outputs": [],
   "source": [
    "# 결과수집\n",
    "result ={}\n",
    "result['KNN'] = cv_score.mean()"
   ]
  },
  {
   "cell_type": "markdown",
   "metadata": {
    "id": "_2Dzy1phyWRM"
   },
   "source": [
    "## 4.2.Decision Tree\n",
    "\n",
    "- Decision Tree 알고리즘으로 모델링하고 K-Fold CV로 성능을 검증합니다.\n",
    "- 모델 선언시 random_state=2022을 지정합니다."
   ]
  },
  {
   "cell_type": "code",
   "execution_count": 23,
   "metadata": {
    "id": "NRR-lQ0VyWRM"
   },
   "outputs": [],
   "source": [
    "# 불러오기\n",
    "from sklearn.tree import DecisionTreeClassifier\n"
   ]
  },
  {
   "cell_type": "code",
   "execution_count": 24,
   "metadata": {
    "id": "kj56s_qMyWRM"
   },
   "outputs": [],
   "source": [
    "# 선언하기\n",
    "model = DecisionTreeClassifier(random_state=2022)"
   ]
  },
  {
   "cell_type": "code",
   "execution_count": 25,
   "metadata": {
    "colab": {
     "base_uri": "https://localhost:8080/"
    },
    "executionInfo": {
     "elapsed": 33,
     "status": "ok",
     "timestamp": 1641476242325,
     "user": {
      "displayName": "Jangrae Lee",
      "photoUrl": "https://lh3.googleusercontent.com/a-/AOh14Gh1Pd8OuWJU2cv7uTt-fURrgvty7atx_Wtarmx0-A=s64",
      "userId": "08475661575434032088"
     },
     "user_tz": -540
    },
    "id": "ziotuce6yK4G",
    "outputId": "525fb298-8cb7-494d-b889-255937404f80"
   },
   "outputs": [],
   "source": [
    "# 성능검증\n",
    "cv_score = cross_val_score(model, x_train, y_train, cv = 10)"
   ]
  },
  {
   "cell_type": "code",
   "execution_count": 26,
   "metadata": {
    "id": "J-zashLGyK4H"
   },
   "outputs": [],
   "source": [
    "# 결과수집\n",
    "result['DecisionTreeClassifier'] = cv_score.mean()"
   ]
  },
  {
   "cell_type": "markdown",
   "metadata": {
    "id": "_2Dzy1phyWRM"
   },
   "source": [
    "## 4.3.Logistic Regression\n",
    "\n",
    "- Logistic Regression 알고리즘으로 모델링하고 K-Fold CV로 성능을 검증합니다."
   ]
  },
  {
   "cell_type": "code",
   "execution_count": 27,
   "metadata": {
    "id": "NRR-lQ0VyWRM"
   },
   "outputs": [],
   "source": [
    "# 불러오기\n",
    "from sklearn.linear_model import LogisticRegression"
   ]
  },
  {
   "cell_type": "code",
   "execution_count": 28,
   "metadata": {
    "id": "kj56s_qMyWRM"
   },
   "outputs": [],
   "source": [
    "# 선언하기\n",
    "model = LogisticRegression()"
   ]
  },
  {
   "cell_type": "code",
   "execution_count": 29,
   "metadata": {
    "colab": {
     "base_uri": "https://localhost:8080/"
    },
    "executionInfo": {
     "elapsed": 33,
     "status": "ok",
     "timestamp": 1641476242325,
     "user": {
      "displayName": "Jangrae Lee",
      "photoUrl": "https://lh3.googleusercontent.com/a-/AOh14Gh1Pd8OuWJU2cv7uTt-fURrgvty7atx_Wtarmx0-A=s64",
      "userId": "08475661575434032088"
     },
     "user_tz": -540
    },
    "id": "ziotuce6yK4G",
    "outputId": "525fb298-8cb7-494d-b889-255937404f80"
   },
   "outputs": [],
   "source": [
    "# 성능검증\n",
    "cv_score = cross_val_score(model, x_train, y_train, cv = 10)"
   ]
  },
  {
   "cell_type": "code",
   "execution_count": 30,
   "metadata": {
    "id": "J-zashLGyK4H"
   },
   "outputs": [],
   "source": [
    "# 결과수집\n",
    "result['Logistic Regression'] = cv_score.mean()"
   ]
  },
  {
   "cell_type": "markdown",
   "metadata": {
    "id": "_2Dzy1phyWRM"
   },
   "source": [
    "## 4.4.SVM\n",
    "\n",
    "- SVM 알고리즘으로 모델링하고 K-Fold CV로 성능을 검증합니다.\n",
    "- 모델 선언시 random_state=2022을 지정합니다."
   ]
  },
  {
   "cell_type": "code",
   "execution_count": 31,
   "metadata": {
    "id": "NRR-lQ0VyWRM"
   },
   "outputs": [],
   "source": [
    "# 불러오기\n",
    "from sklearn.svm import SVC\n"
   ]
  },
  {
   "cell_type": "code",
   "execution_count": 32,
   "metadata": {
    "id": "kj56s_qMyWRM"
   },
   "outputs": [],
   "source": [
    "# 선언하기\n",
    "model = SVC(random_state=2022)"
   ]
  },
  {
   "cell_type": "code",
   "execution_count": 33,
   "metadata": {
    "colab": {
     "base_uri": "https://localhost:8080/"
    },
    "executionInfo": {
     "elapsed": 33,
     "status": "ok",
     "timestamp": 1641476242325,
     "user": {
      "displayName": "Jangrae Lee",
      "photoUrl": "https://lh3.googleusercontent.com/a-/AOh14Gh1Pd8OuWJU2cv7uTt-fURrgvty7atx_Wtarmx0-A=s64",
      "userId": "08475661575434032088"
     },
     "user_tz": -540
    },
    "id": "ziotuce6yK4G",
    "outputId": "525fb298-8cb7-494d-b889-255937404f80"
   },
   "outputs": [],
   "source": [
    "# 성능검증\n",
    "cv_score = cross_val_score(model, x_train, y_train, cv = 10)"
   ]
  },
  {
   "cell_type": "code",
   "execution_count": 34,
   "metadata": {
    "id": "J-zashLGyK4H"
   },
   "outputs": [],
   "source": [
    "# 결과수집\n",
    "result['SVM'] = cv_score.mean()"
   ]
  },
  {
   "cell_type": "markdown",
   "metadata": {
    "id": "b0crO5W_ygXk"
   },
   "source": [
    "## 4.5.Random Forest\n",
    "\n",
    "- Random Forest 알고리즘으로 모델링하고  K-Fold CV로 성능을 검증합니다.\n",
    "- 모델 선언시 random_state=2022을 지정합니다."
   ]
  },
  {
   "cell_type": "code",
   "execution_count": 35,
   "metadata": {
    "id": "rDIWKc6-ygXk"
   },
   "outputs": [],
   "source": [
    "# 불러오기\n",
    "from sklearn.ensemble import RandomForestClassifier"
   ]
  },
  {
   "cell_type": "code",
   "execution_count": 36,
   "metadata": {
    "id": "xZg_rN23ygXk"
   },
   "outputs": [],
   "source": [
    "# 선언하기\n",
    "model = RandomForestClassifier(random_state=2022)"
   ]
  },
  {
   "cell_type": "code",
   "execution_count": 37,
   "metadata": {
    "colab": {
     "base_uri": "https://localhost:8080/"
    },
    "executionInfo": {
     "elapsed": 33,
     "status": "ok",
     "timestamp": 1641476242325,
     "user": {
      "displayName": "Jangrae Lee",
      "photoUrl": "https://lh3.googleusercontent.com/a-/AOh14Gh1Pd8OuWJU2cv7uTt-fURrgvty7atx_Wtarmx0-A=s64",
      "userId": "08475661575434032088"
     },
     "user_tz": -540
    },
    "id": "ziotuce6yK4G",
    "outputId": "525fb298-8cb7-494d-b889-255937404f80"
   },
   "outputs": [],
   "source": [
    "# 성능검증\n",
    "cv_score = cross_val_score(model, x_train, y_train, cv = 10)"
   ]
  },
  {
   "cell_type": "code",
   "execution_count": 38,
   "metadata": {
    "id": "J-zashLGyK4H"
   },
   "outputs": [],
   "source": [
    "# 결과수집\n",
    "result['RandomForestClassifier'] = cv_score.mean()"
   ]
  },
  {
   "cell_type": "markdown",
   "metadata": {
    "id": "OfBvePtkys70"
   },
   "source": [
    "## 4.6.XGBoost\n",
    "\n",
    "- XGBoost 알고리즘으로 모델링하고  K-Fold CV로 성능을 검증합니다.\n",
    "- 모델 선언시 random_state=2022를 지정합니다."
   ]
  },
  {
   "cell_type": "code",
   "execution_count": 39,
   "metadata": {
    "id": "Hc8uvhfUys70"
   },
   "outputs": [],
   "source": [
    "# 불러오기\n",
    "from xgboost import XGBRFClassifier"
   ]
  },
  {
   "cell_type": "code",
   "execution_count": 42,
   "metadata": {
    "id": "7U0Z14E3ys70"
   },
   "outputs": [],
   "source": [
    "# 선언하기\n",
    "model = XGBRFClassifier(random_state=2022,eval_metric = 'mlogloss')"
   ]
  },
  {
   "cell_type": "code",
   "execution_count": 43,
   "metadata": {
    "colab": {
     "base_uri": "https://localhost:8080/"
    },
    "executionInfo": {
     "elapsed": 33,
     "status": "ok",
     "timestamp": 1641476242325,
     "user": {
      "displayName": "Jangrae Lee",
      "photoUrl": "https://lh3.googleusercontent.com/a-/AOh14Gh1Pd8OuWJU2cv7uTt-fURrgvty7atx_Wtarmx0-A=s64",
      "userId": "08475661575434032088"
     },
     "user_tz": -540
    },
    "id": "ziotuce6yK4G",
    "outputId": "525fb298-8cb7-494d-b889-255937404f80"
   },
   "outputs": [],
   "source": [
    "# 성능검증\n",
    "cv_score = cross_val_score(model, x_train, y_train, cv = 10)"
   ]
  },
  {
   "cell_type": "code",
   "execution_count": 44,
   "metadata": {
    "id": "J-zashLGyK4H"
   },
   "outputs": [],
   "source": [
    "# 결과수집\n",
    "result['XGBRFClassifier'] = cv_score.mean()"
   ]
  },
  {
   "cell_type": "markdown",
   "metadata": {},
   "source": [
    "# 5.결과 확인"
   ]
  },
  {
   "cell_type": "code",
   "execution_count": 45,
   "metadata": {},
   "outputs": [
    {
     "name": "stdout",
     "output_type": "stream",
     "text": [
      "========================================\n",
      "KNN 0.838\n",
      "DecisionTreeClassifier 0.78\n",
      "Logistic Regression 0.796\n",
      "SVM 0.824\n",
      "RandomForestClassifier 0.801\n",
      "XGBRFClassifier 0.835\n",
      "========================================\n"
     ]
    }
   ],
   "source": [
    "# 평가 결과 확인\n",
    "print('=' * 40)\n",
    "for m_name, score in result.items():\n",
    "    print(m_name, score.round(3))\n",
    "print('=' * 40)"
   ]
  },
  {
   "cell_type": "code",
   "execution_count": 46,
   "metadata": {},
   "outputs": [
    {
     "data": {
      "image/png": "[encoded data removed]",
      "text/plain": [
       "<Figure size 432x288 with 1 Axes>"
      ]
     },
     "metadata": {
      "needs_background": "light"
     },
     "output_type": "display_data"
    }
   ],
   "source": [
    "plt.barh( y = list(result) , width=result.values())\n",
    "plt.show()"
   ]
  },
  {
   "cell_type": "markdown",
   "metadata": {},
   "source": [
    "# 6.모델 최적화\n",
    "\n",
    "- SVM 모델을 GridSearchCV를 사용해 최적화합니다.\n",
    "- 파라미터 범위\n",
    "    - C: [0.001, 0.01, 0.1, 1, 10, 100, 1000]\n",
    "    - gamma: [0.001, 0.1, 1, 10]}\n",
    "- GridSearchCV 옵션\n",
    "    - cv=5"
   ]
  },
  {
   "cell_type": "code",
   "execution_count": 47,
   "metadata": {},
   "outputs": [],
   "source": [
    "# 1단계: 불러오기\n",
    "from sklearn.model_selection import GridSearchCV\n",
    "from sklearn.metrics import classification_report"
   ]
  },
  {
   "cell_type": "code",
   "execution_count": 64,
   "metadata": {},
   "outputs": [],
   "source": [
    "# 2단계: 선언하기\n",
    "model_svm = SVC(random_state=2022)\n",
    "\n",
    "param ={'C': np.logspace(-3,3,7),\n",
    "        'gamma' :np.logspace(-2,1,4)}\n",
    "\n",
    "model = GridSearchCV(model_svm,\n",
    "                    param,\n",
    "                    cv = 5,\n",
    "                    scoring='accuracy')\n",
    "\n"
   ]
  },
  {
   "cell_type": "code",
   "execution_count": 65,
   "metadata": {},
   "outputs": [
    {
     "data": {
      "text/plain": [
       "GridSearchCV(cv=5, estimator=SVC(random_state=2022),\n",
       "             param_grid={'C': array([1.e-03, 1.e-02, 1.e-01, 1.e+00, 1.e+01, 1.e+02, 1.e+03]),\n",
       "                         'gamma': array([ 0.01,  0.1 ,  1.  , 10.  ])},\n",
       "             scoring='accuracy')"
      ]
     },
     "execution_count": 65,
     "metadata": {},
     "output_type": "execute_result"
    }
   ],
   "source": [
    "# 3단계: 학습하기\n",
    "model.fit(x_train,y_train)"
   ]
  },
  {
   "cell_type": "code",
   "execution_count": 66,
   "metadata": {},
   "outputs": [
    {
     "name": "stdout",
     "output_type": "stream",
     "text": [
      "SVC(C=100.0, gamma=0.1, random_state=2022)\n",
      "0.8331354838709677\n"
     ]
    }
   ],
   "source": [
    "# 결과확인\n",
    "print(model.best_estimator_)\n",
    "print(model.best_score_)"
   ]
  },
  {
   "cell_type": "code",
   "execution_count": 67,
   "metadata": {},
   "outputs": [],
   "source": [
    "# 4단계: 예측하기\n",
    "y_pred = model.predict(x_test)"
   ]
  },
  {
   "cell_type": "code",
   "execution_count": 69,
   "metadata": {},
   "outputs": [
    {
     "name": "stdout",
     "output_type": "stream",
     "text": [
      "              precision    recall  f1-score   support\n",
      "\n",
      "           0       0.80      0.95      0.87       168\n",
      "           1       0.88      0.61      0.72       100\n",
      "\n",
      "    accuracy                           0.82       268\n",
      "   macro avg       0.84      0.78      0.80       268\n",
      "weighted avg       0.83      0.82      0.82       268\n",
      "\n"
     ]
    }
   ],
   "source": [
    "# 5단계: 평가하기\n",
    "print(classification_report(y_test,y_pred))"
   ]
  },
  {
   "cell_type": "code",
   "execution_count": null,
   "metadata": {},
   "outputs": [],
   "source": []
  },
  {
   "cell_type": "markdown",
   "id": "wo-iPN8Y1V5r",
   "metadata": {
    "id": "wo-iPN8Y1V5r"
   },
   "source": [
    "# ML Pipeline"
   ]
  },
  {
   "cell_type": "markdown",
   "id": "gvFaKcmP1cwc",
   "metadata": {
    "id": "gvFaKcmP1cwc"
   },
   "source": [
    "## 0.환경준비 "
   ]
  },
  {
   "cell_type": "markdown",
   "id": "zWYL7Ojt1i_I",
   "metadata": {
    "id": "zWYL7Ojt1i_I"
   },
   "source": [
    "### 1) 라이브러리 "
   ]
  },
  {
   "cell_type": "code",
   "execution_count": null,
   "id": "0d2934eb-098d-4480-8818-9147e3e8eb13",
   "metadata": {
    "id": "0d2934eb-098d-4480-8818-9147e3e8eb13"
   },
   "outputs": [],
   "source": [
    "import pandas as pd\n",
    "import numpy as np\n",
    "\n",
    "from sklearn.model_selection import train_test_split\n",
    "from sklearn.impute import SimpleImputer, KNNImputer\n",
    "from sklearn.preprocessing import MinMaxScaler\n",
    "\n",
    "from sklearn.svm import SVC\n",
    "from sklearn.metrics import classification_report"
   ]
  },
  {
   "cell_type": "markdown",
   "id": "kxg4SHQ91lMZ",
   "metadata": {
    "id": "kxg4SHQ91lMZ"
   },
   "source": [
    "### 2) 데이터 불러오기"
   ]
  },
  {
   "cell_type": "code",
   "execution_count": null,
   "id": "29715899-12f6-440a-81b0-a3bb48996b30",
   "metadata": {
    "id": "29715899-12f6-440a-81b0-a3bb48996b30"
   },
   "outputs": [],
   "source": [
    "use_cols = ['Survived', 'Pclass', 'Sex', 'Age', 'SibSp' ,'Parch', 'Fare', 'Embarked']\n",
    "data = pd.read_csv('data/titanic.csv', usecols = use_cols)\n",
    "data.head()"
   ]
  },
  {
   "cell_type": "markdown",
   "id": "ebk_wcdx1zkK",
   "metadata": {
    "id": "ebk_wcdx1zkK"
   },
   "source": [
    "## 2.데이터 전처리"
   ]
  },
  {
   "cell_type": "markdown",
   "id": "XDfKLZPE4dvx",
   "metadata": {
    "id": "XDfKLZPE4dvx"
   },
   "source": [
    "### 1) 불필요한 데이터 처리\n",
    "처음부터 꼭 필요한 칼럼만 지정하여 불러오는 것이 좋습니다."
   ]
  },
  {
   "cell_type": "markdown",
   "id": "3Fq2110K5jzZ",
   "metadata": {
    "id": "3Fq2110K5jzZ"
   },
   "source": [
    "### 2) 데이터 분할"
   ]
  },
  {
   "cell_type": "markdown",
   "id": "PtSEkpMXj7Gr",
   "metadata": {
    "id": "PtSEkpMXj7Gr"
   },
   "source": [
    "#### x, y 분할"
   ]
  },
  {
   "cell_type": "code",
   "execution_count": null,
   "id": "2bc62c05-b3ca-4e7f-a6b5-61d2efd4d309",
   "metadata": {
    "id": "2bc62c05-b3ca-4e7f-a6b5-61d2efd4d309",
    "tags": []
   },
   "outputs": [],
   "source": [
    "target = 'Survived'\n",
    "x0 = data.drop(target, axis = 1)\n",
    "y0 = data.loc[:, target]"
   ]
  },
  {
   "cell_type": "markdown",
   "id": "gx3dbA4B5rYs",
   "metadata": {
    "id": "gx3dbA4B5rYs"
   },
   "source": [
    "#### test 분할\n",
    "\n",
    "여기서는 조금만 떼어 냅시다."
   ]
  },
  {
   "cell_type": "code",
   "execution_count": null,
   "id": "3b9bbb95-fd1d-424a-9f38-ddfdafbd729b",
   "metadata": {
    "id": "3b9bbb95-fd1d-424a-9f38-ddfdafbd729b"
   },
   "outputs": [],
   "source": [
    "x, x_test, y, y_test = train_test_split(x0, y0, test_size = 5, random_state = 2022)"
   ]
  },
  {
   "cell_type": "code",
   "execution_count": null,
   "id": "559c2675-265d-4944-9a8d-cd080bd02474",
   "metadata": {
    "id": "559c2675-265d-4944-9a8d-cd080bd02474"
   },
   "outputs": [],
   "source": [
    "x_test"
   ]
  },
  {
   "cell_type": "markdown",
   "id": "SJ72dPUwbKO3",
   "metadata": {
    "id": "SJ72dPUwbKO3"
   },
   "source": [
    "#### train, val 분할"
   ]
  },
  {
   "cell_type": "code",
   "execution_count": null,
   "id": "5b45c3c2-bc9d-4c5e-87b0-fd182d76fefd",
   "metadata": {
    "id": "5b45c3c2-bc9d-4c5e-87b0-fd182d76fefd"
   },
   "outputs": [],
   "source": [
    "x_train, x_val, y_train, y_val = train_test_split(x, y, test_size = .3, random_state = 2022)"
   ]
  },
  {
   "cell_type": "markdown",
   "id": "WS3xPbXr7ALa",
   "metadata": {
    "id": "WS3xPbXr7ALa"
   },
   "source": [
    "### 3) Feature Engineering\n",
    "* family 변수를 추가하려고 합니다. 가족과 관련된 변수가 SibSp, Parch 입니다. 이 둘을 더하고 자기자신까지 포함시켜서 가족 수 변수를 만듭시다.\n",
    "* 그리고, SibSp, Parch 는 제거합니다."
   ]
  },
  {
   "cell_type": "code",
   "execution_count": null,
   "id": "kjH_JllN7Tyh",
   "metadata": {
    "id": "kjH_JllN7Tyh"
   },
   "outputs": [],
   "source": [
    "x_train['Family'] = x_train['SibSp'].astype('int') + x_train['Parch'].astype('int') + 1\n",
    "x_train.drop(['SibSp', 'Parch'], axis = 1, inplace = True)\n",
    "x_train.head()"
   ]
  },
  {
   "cell_type": "markdown",
   "id": "miMnMoZO9HOQ",
   "metadata": {
    "id": "miMnMoZO9HOQ"
   },
   "source": [
    "* 재사용을 위해서는 함수로 만드는 것이 좋습니다."
   ]
  },
  {
   "cell_type": "code",
   "execution_count": null,
   "id": "QT_Bc5_x9KkT",
   "metadata": {
    "id": "QT_Bc5_x9KkT"
   },
   "outputs": [],
   "source": [
    "def titanic_fe(df):\n",
    "    temp = df.copy()\n",
    "    # Family 변수 추가\n",
    "    temp['Family'] = temp['SibSp'] + temp['Parch'] + 1\n",
    "    temp.drop(['SibSp', 'Parch'], axis = 1, inplace = True)\n",
    "\n",
    "    # OOO 추가...\n",
    "    return temp"
   ]
  },
  {
   "cell_type": "markdown",
   "id": "eoAIgkWOkUov",
   "metadata": {
    "id": "eoAIgkWOkUov"
   },
   "source": [
    "#### validation set에 적용하기"
   ]
  },
  {
   "cell_type": "code",
   "execution_count": null,
   "id": "jQ5Ufb3f9GPM",
   "metadata": {
    "id": "jQ5Ufb3f9GPM"
   },
   "outputs": [],
   "source": [
    "x_val = titanic_fe(x_val)\n",
    "\n",
    "x_val.head()"
   ]
  },
  {
   "cell_type": "markdown",
   "id": "2FCZUkU28m_s",
   "metadata": {
    "id": "2FCZUkU28m_s"
   },
   "source": [
    "### 4) NaN 조치①"
   ]
  },
  {
   "cell_type": "markdown",
   "id": "eDPXTMOr8w96",
   "metadata": {
    "id": "eDPXTMOr8w96"
   },
   "source": [
    "* 먼저 x의 NaN을 조사해 봅시다."
   ]
  },
  {
   "cell_type": "code",
   "execution_count": null,
   "id": "yu38DJkw81YG",
   "metadata": {
    "id": "yu38DJkw81YG"
   },
   "outputs": [],
   "source": [
    "x_train.isna().sum()"
   ]
  },
  {
   "cell_type": "markdown",
   "id": "NAI7-HYK9kF4",
   "metadata": {
    "id": "NAI7-HYK9kF4"
   },
   "source": [
    "* 어떻게 조치 방법에 따라 처리 시점이 달라집니다.\n",
    "    * Embarked는 최빈값으로 **지금** 채우고\n",
    "    * Age는 KNNImputer로 **가변수화 후에** 채우겠습니다.\n",
    "\n",
    "* NaN 행 삭제를 결정한다면...\n",
    "    * 운영에서 NaN이 들어오면 그 역시 버리겠다는 의미 입니다. \n",
    "        * 그래도 괜찮다면...\n",
    "        * 그러나 괜찮은 상황은 별로 없을 겁니다."
   ]
  },
  {
   "cell_type": "markdown",
   "id": "JmMoOjhN-byp",
   "metadata": {
    "id": "JmMoOjhN-byp"
   },
   "source": [
    "#### SimpleImputer \n",
    "\n",
    "https://scikit-learn.org/stable/modules/generated/sklearn.impute.SimpleImputer.html"
   ]
  },
  {
   "cell_type": "code",
   "execution_count": null,
   "id": "h8X9ikWf-a85",
   "metadata": {
    "id": "h8X9ikWf-a85"
   },
   "outputs": [],
   "source": [
    "from sklearn.impute import SimpleImputer"
   ]
  },
  {
   "cell_type": "markdown",
   "id": "IIEBoPNXBYPK",
   "metadata": {
    "id": "IIEBoPNXBYPK"
   },
   "source": [
    "* 최빈값으로 채우기 : 보통 범주형(숫자는 이산형)을 채울 때 사용합니다.\n",
    "    * strategy = 'most_frequent'"
   ]
  },
  {
   "cell_type": "code",
   "execution_count": null,
   "id": "Q3NDWUVwBPii",
   "metadata": {
    "id": "Q3NDWUVwBPii"
   },
   "outputs": [],
   "source": [
    "# 대상을 리스트로 선언합시다. \n",
    "imputer1_list = ['Embarked']\n",
    "\n",
    "# 선언하고 fit_transform\n",
    "imputer1 = SimpleImputer(strategy = 'most_frequent')\n",
    "x_train[imputer1_list] = imputer1.fit_transform(x_train[imputer1_list])\n",
    "x_train.isna().sum()"
   ]
  },
  {
   "cell_type": "markdown",
   "id": "Eo7jUhhSkukR",
   "metadata": {
    "id": "Eo7jUhhSkukR"
   },
   "source": [
    "#### validation set에 적용하기"
   ]
  },
  {
   "cell_type": "code",
   "execution_count": null,
   "id": "BTyheb3kku6i",
   "metadata": {
    "id": "BTyheb3kku6i"
   },
   "outputs": [],
   "source": [
    "imputer1_list = ['Embarked']\n",
    "x_val[imputer1_list] = imputer1.fit_transform(x_val[imputer1_list])"
   ]
  },
  {
   "cell_type": "markdown",
   "id": "NJtEw33yEGHv",
   "metadata": {
    "id": "NJtEw33yEGHv"
   },
   "source": [
    "### 5) 가변수화"
   ]
  },
  {
   "cell_type": "code",
   "execution_count": null,
   "id": "FlJjfxAzNQ-Z",
   "metadata": {
    "id": "FlJjfxAzNQ-Z"
   },
   "outputs": [],
   "source": [
    "cat = {'Sex':[\"female\", \"male\"]\n",
    "       , 'Embarked':[\"C\", \"Q\", \"S\"]\n",
    "       ,'Pclass':[1,2,3]}\n",
    "\n",
    "for k, v in cat.items():\n",
    "    x_train[k] = pd.Categorical(x_train[k], categories=v, ordered=False)\n",
    "\n",
    "x.info()"
   ]
  },
  {
   "cell_type": "code",
   "execution_count": null,
   "id": "gXuRrHDMd-p8",
   "metadata": {
    "id": "gXuRrHDMd-p8"
   },
   "outputs": [],
   "source": [
    "x_train = pd.get_dummies(x_train, columns =cat.keys(), drop_first = 1)"
   ]
  },
  {
   "cell_type": "code",
   "execution_count": null,
   "id": "UNAVMCTbmW3b",
   "metadata": {
    "id": "UNAVMCTbmW3b"
   },
   "outputs": [],
   "source": [
    "x_train.head()"
   ]
  },
  {
   "cell_type": "markdown",
   "id": "245yN7iqlSs5",
   "metadata": {
    "id": "245yN7iqlSs5"
   },
   "source": [
    "#### validation set에 적용하기"
   ]
  },
  {
   "cell_type": "code",
   "execution_count": null,
   "id": "IquGZ7hdlWyP",
   "metadata": {
    "id": "IquGZ7hdlWyP"
   },
   "outputs": [],
   "source": [
    "# 함수로 생성\n",
    "\n",
    "cat = {'Sex':[\"female\", \"male\"]\n",
    "       , 'Embarked':[\"C\", \"Q\", \"S\"]\n",
    "       ,'Pclass':[1,2,3]}\n",
    "\n",
    "def titanic_dumm(df, cat):\n",
    "    temp = df.copy()\n",
    "    for k, v in cat.items():\n",
    "        temp[k] = pd.Categorical(temp[k], categories=v, ordered=False)\n",
    "    temp = pd.get_dummies(temp, columns =cat.keys(), drop_first = 1)\n",
    "    return temp\n",
    "x_val = titanic_dumm(x_val, cat)\n",
    "x_val.head()"
   ]
  },
  {
   "cell_type": "markdown",
   "id": "-2xRWYtL2iuU",
   "metadata": {
    "id": "-2xRWYtL2iuU"
   },
   "source": [
    "### 6) 스케일링\n"
   ]
  },
  {
   "cell_type": "code",
   "execution_count": null,
   "id": "9U1E7u4u2iuV",
   "metadata": {
    "id": "9U1E7u4u2iuV"
   },
   "outputs": [],
   "source": [
    "scaler = MinMaxScaler()\n",
    "x_train_s = scaler.fit_transform(x_train)"
   ]
  },
  {
   "cell_type": "markdown",
   "id": "qUN4Fve52iuV",
   "metadata": {
    "id": "qUN4Fve52iuV"
   },
   "source": [
    "#### validation set에 적용하기"
   ]
  },
  {
   "cell_type": "code",
   "execution_count": null,
   "id": "umMtJmiu2iuV",
   "metadata": {
    "id": "umMtJmiu2iuV"
   },
   "outputs": [],
   "source": [
    "# validation 적용\n",
    "x_val_s = scaler.transform(x_val)"
   ]
  },
  {
   "cell_type": "markdown",
   "id": "mORb7DAV2iuW",
   "metadata": {
    "id": "mORb7DAV2iuW"
   },
   "source": [
    "### 7) NaN 조치②"
   ]
  },
  {
   "cell_type": "markdown",
   "id": "EKkV0tOi2iuW",
   "metadata": {
    "id": "EKkV0tOi2iuW"
   },
   "source": [
    "#### KNNImputer\n",
    "https://scikit-learn.org/stable/modules/generated/sklearn.impute.KNNImputer.html"
   ]
  },
  {
   "cell_type": "code",
   "execution_count": null,
   "id": "heYA5lfU2iuW",
   "metadata": {
    "id": "heYA5lfU2iuW"
   },
   "outputs": [],
   "source": [
    "from sklearn.impute import KNNImputer"
   ]
  },
  {
   "cell_type": "code",
   "execution_count": null,
   "id": "IVRTPpc_0Y-Z",
   "metadata": {
    "id": "IVRTPpc_0Y-Z"
   },
   "outputs": [],
   "source": [
    "imputer2_list = list(x_train)\n",
    "imputer2_list"
   ]
  },
  {
   "cell_type": "code",
   "execution_count": null,
   "id": "kBVZY-P62iuW",
   "metadata": {
    "id": "kBVZY-P62iuW"
   },
   "outputs": [],
   "source": [
    "# 선언하고 fit_transform\n",
    "imputer2 = KNNImputer()\n",
    "x_train_s = imputer2.fit_transform(x_train_s)"
   ]
  },
  {
   "cell_type": "markdown",
   "id": "dP1ZgLZf2iuX",
   "metadata": {
    "id": "dP1ZgLZf2iuX"
   },
   "source": [
    "#### validation set에 적용하기"
   ]
  },
  {
   "cell_type": "code",
   "execution_count": null,
   "id": "94MwTYVG2iuX",
   "metadata": {
    "id": "94MwTYVG2iuX"
   },
   "outputs": [],
   "source": [
    "# validation 적용\n",
    "x_val_s = imputer2.transform(x_val_s)"
   ]
  },
  {
   "cell_type": "markdown",
   "id": "Ylj4JJqt2iuX",
   "metadata": {
    "id": "Ylj4JJqt2iuX"
   },
   "source": [
    "## 3.모델링\n",
    "\n",
    "여기에서는 성능 최적화가 주안점이 아니므로 기본값으로 모델링을 수행합니다."
   ]
  },
  {
   "cell_type": "code",
   "execution_count": null,
   "id": "jr4TCApS2iuX",
   "metadata": {
    "id": "jr4TCApS2iuX"
   },
   "outputs": [],
   "source": [
    "# SVM으로 모델링 수행\n",
    "model = SVC()\n",
    "model.fit(x_train_s, y_train)"
   ]
  },
  {
   "cell_type": "code",
   "execution_count": null,
   "id": "9Rxrhg_92iuX",
   "metadata": {
    "id": "9Rxrhg_92iuX"
   },
   "outputs": [],
   "source": [
    "# validation\n",
    "pred = model.predict(x_val_s)\n",
    "print(classification_report(y_val, pred))"
   ]
  },
  {
   "cell_type": "code",
   "execution_count": null,
   "id": "2vEYTdF12iuY",
   "metadata": {
    "id": "2vEYTdF12iuY"
   },
   "outputs": [],
   "source": [
    "# new data : x_test\n",
    "x_test.head()"
   ]
  },
  {
   "cell_type": "markdown",
   "id": "ruBY69362iuY",
   "metadata": {
    "id": "ruBY69362iuY"
   },
   "source": [
    "### 1) [validation에 적용하기] 코드들 가져오기"
   ]
  },
  {
   "cell_type": "markdown",
   "id": "vsDOdGa52iuY",
   "metadata": {
    "id": "vsDOdGa52iuY"
   },
   "source": [
    "* 함수, 변수 선언"
   ]
  },
  {
   "cell_type": "code",
   "execution_count": null,
   "id": "theLxC6W2iuY",
   "metadata": {
    "id": "theLxC6W2iuY"
   },
   "outputs": [],
   "source": [
    "def titanic_fe(df):\n",
    "    temp = df.copy()\n",
    "    # Family 변수 추가\n",
    "    temp['Family'] = temp['SibSp'] + temp['Parch'] + 1\n",
    "    temp.drop(['SibSp', 'Parch'], axis = 1, inplace = True)\n",
    "\n",
    "    # OOO 추가...\n",
    "    return temp\n",
    "\n",
    "def titanic_dumm(df, cat):\n",
    "    for k, v in cat.items():\n",
    "        df[k] = pd.Categorical(df[k], categories=v, ordered=False)\n",
    "    df = pd.get_dummies(df, columns =cat.keys(), drop_first = 1)\n",
    "    return df\n",
    "\n",
    "imputer1_list = ['Embarked']\n",
    "\n",
    "cat = {'Sex':[\"female\", \"male\"]\n",
    "       , 'Embarked':[\"C\", \"Q\", \"S\"]\n",
    "       ,'Pclass':[1,2,3]}"
   ]
  },
  {
   "cell_type": "markdown",
   "id": "PQTTcMs42iuY",
   "metadata": {
    "id": "PQTTcMs42iuY"
   },
   "source": [
    "* 전처리 실행"
   ]
  },
  {
   "cell_type": "code",
   "execution_count": null,
   "id": "BwoaTEfG2iuY",
   "metadata": {
    "id": "BwoaTEfG2iuY"
   },
   "outputs": [],
   "source": [
    "temp = x_test.copy()"
   ]
  },
  {
   "cell_type": "code",
   "execution_count": null,
   "id": "luN0T9I02iuY",
   "metadata": {
    "id": "luN0T9I02iuY"
   },
   "outputs": [],
   "source": [
    "# Feature Engineering\n",
    "temp = titanic_fe(temp)\n",
    "\n",
    "# NaN 조치① : SimpleImputer\n",
    "temp[imputer1_list] = imputer1.fit_transform(temp[imputer1_list])\n",
    "\n",
    "# 가변수화\n",
    "temp = titanic_dumm(temp, cat)\n",
    "\n",
    "# 스케일링\n",
    "temp = scaler.transform(temp)\n",
    "\n",
    "# NaN 조치② : KNNImputer\n",
    "temp = imputer2.transform(temp)\n",
    "\n",
    "temp"
   ]
  },
  {
   "cell_type": "markdown",
   "id": "Znaw76ZE2iuZ",
   "metadata": {
    "id": "Znaw76ZE2iuZ"
   },
   "source": [
    "### 2) Data Pipeline 함수 만들고 실행하기"
   ]
  },
  {
   "cell_type": "code",
   "execution_count": null,
   "id": "wYIca-Xz2iuZ",
   "metadata": {
    "id": "wYIca-Xz2iuZ"
   },
   "outputs": [],
   "source": [
    "def titanic_datapipeline(df, simpleimputer, simple_impute_list, dumm_list, scaler, knnimputer):\n",
    "\n",
    "    temp = df.copy()\n",
    "\n",
    "    # Feature Engineering\n",
    "    temp = titanic_fe(temp)\n",
    "\n",
    "    # NaN 조치① : SimpleImputer\n",
    "    temp[simple_impute_list] = simpleimputer.fit_transform(temp[simple_impute_list])\n",
    "\n",
    "    # 가변수화\n",
    "    temp = titanic_dumm(temp, dumm_list)\n",
    "\n",
    "    x_cols = list(temp)\n",
    "    # 스케일링\n",
    "    temp = scaler.transform(temp)\n",
    "\n",
    "    # NaN 조치② : KNNImputer\n",
    "    temp = knnimputer.transform(temp)\n",
    "\n",
    "    return pd.DataFrame(temp, columns = x_cols)\n"
   ]
  },
  {
   "cell_type": "markdown",
   "id": "CvRIe0yEoYAH",
   "metadata": {
    "id": "CvRIe0yEoYAH"
   },
   "source": [
    "## 5.파이썬 오브젝트 저장하기"
   ]
  },
  {
   "cell_type": "markdown",
   "id": "w2x9jPYDl2eD",
   "metadata": {
    "id": "w2x9jPYDl2eD"
   },
   "source": [
    "* 함수 생성하기"
   ]
  },
  {
   "cell_type": "code",
   "execution_count": null,
   "id": "xiq4c0bQl5fm",
   "metadata": {
    "id": "xiq4c0bQl5fm"
   },
   "outputs": [],
   "source": [
    "def titanic_fe(df):\n",
    "    temp = df.copy()\n",
    "    # Family 변수 추가\n",
    "    temp['Family'] = temp['SibSp'] + temp['Parch'] + 1\n",
    "    temp.drop(['SibSp', 'Parch'], axis = 1, inplace = True)\n",
    "\n",
    "    # OOO 추가...\n",
    "    return temp\n",
    "\n",
    "def titanic_dumm(df, cat):\n",
    "    for k, v in cat.items():\n",
    "        df[k] = pd.Categorical(df[k], categories=v, ordered=False)\n",
    "    df = pd.get_dummies(df, columns =cat.keys(), drop_first = 1)\n",
    "    return df\n",
    "\n",
    "def titanic_datapipeline(df, simpleimputer, simple_impute_list, dumm_list, , scaler, knnimputer):\n",
    "\n",
    "    temp = df.copy()\n",
    "\n",
    "    # Feature Engineering\n",
    "    temp = titanic_fe(temp)\n",
    "\n",
    "    # NaN 조치① : SimpleImputer\n",
    "    temp[simple_impute_list] = simpleimputer.fit_transform(temp[simple_impute_list])\n",
    "\n",
    "    # 가변수화\n",
    "    temp = titanic_dumm(temp, dumm_list)\n",
    "\n",
    "    x_cols = list(temp)\n",
    "\n",
    "    # 스케일링\n",
    "    temp = scaler.transform(temp)\n",
    "\n",
    "    # NaN 조치② : KNNImputer\n",
    "    temp = knnimputer.transform(temp)\n",
    "\n",
    "    return pd.DataFrame(temp, columns = x_cols)\n"
   ]
  },
  {
   "cell_type": "markdown",
   "id": "2pXrHi6lkuvP",
   "metadata": {
    "id": "2pXrHi6lkuvP"
   },
   "source": [
    "* 오브젝트들 불러오기"
   ]
  },
  {
   "cell_type": "code",
   "execution_count": null,
   "id": "c1Sh4L5_k7rW",
   "metadata": {
    "id": "c1Sh4L5_k7rW"
   },
   "outputs": [],
   "source": [
    "imputer1_list = joblib.load('imputer1_list.pkl')\n",
    "cat = joblib.load('cat.pkl')\n",
    "\n",
    "imputer1 = joblib.load('preprocess/imputer1.pkl')\n",
    "imputer2 = joblib.load('preprocess/imputer2.pkl')\n",
    "scaler = joblib.load('preprocess/scaler.pkl')\n",
    "model = joblib.load('model/model.pkl')"
   ]
  },
  {
   "cell_type": "code",
   "execution_count": null,
   "id": "2Q1xH3p5k0Ph",
   "metadata": {
    "id": "2Q1xH3p5k0Ph"
   },
   "outputs": [],
   "source": []
  },
  {
   "cell_type": "markdown",
   "id": "zfYDTnVVmB3b",
   "metadata": {
    "id": "zfYDTnVVmB3b"
   },
   "source": [
    "* 적용하기"
   ]
  },
  {
   "cell_type": "code",
   "execution_count": null,
   "id": "gEobfBor_1us",
   "metadata": {
    "id": "gEobfBor_1us"
   },
   "outputs": [],
   "source": [
    "# 적용\n",
    "input = titanic_datapipeline(x_test, imputer1, imputer1_list, cat, scaler, imputer2)"
   ]
  },
  {
   "cell_type": "code",
   "execution_count": null,
   "id": "CUKyHVqynFMq",
   "metadata": {
    "id": "CUKyHVqynFMq"
   },
   "outputs": [],
   "source": [
    "input"
   ]
  },
  {
   "cell_type": "code",
   "execution_count": null,
   "id": "xCLyPjMZ_2mG",
   "metadata": {
    "id": "xCLyPjMZ_2mG"
   },
   "outputs": [],
   "source": [
    "# 예측\n",
    "model.predict(input)"
   ]
  },
  {
   "cell_type": "markdown",
   "id": "aZD55y7EyEnw",
   "metadata": {
    "id": "aZD55y7EyEnw"
   },
   "source": [
    "* 모델_timestamp.pkl 형식으로 모델에 대한 버전관리를 해 봅시다."
   ]
  },
  {
   "cell_type": "markdown",
   "id": "F4qZ_Yleznc5",
   "metadata": {
    "id": "F4qZ_Yleznc5"
   },
   "source": [
    "* timestamp 만들기"
   ]
  },
  {
   "cell_type": "code",
   "execution_count": null,
   "id": "e6kniok5vcx8",
   "metadata": {
    "id": "e6kniok5vcx8"
   },
   "outputs": [],
   "source": [
    "import datetime\n",
    "\n",
    "now = datetime.datetime.now()\n",
    "timestamp = now.strftime(\"%Y%m%d_%H%M%S\")\n",
    "print(timestamp)"
   ]
  },
  {
   "cell_type": "markdown",
   "id": "tW9p4Gh1zsMh",
   "metadata": {
    "id": "tW9p4Gh1zsMh"
   },
   "source": [
    "* 모델 이름에 붙이기"
   ]
  },
  {
   "cell_type": "code",
   "execution_count": null,
   "id": "OSmLEGDYvcsI",
   "metadata": {
    "id": "OSmLEGDYvcsI"
   },
   "outputs": [],
   "source": [
    "now = datetime.datetime.now()\n",
    "timestamp = now.strftime(\"%Y%m%d_%H%M%S\")\n",
    "\n",
    "model_fname = 'model_' + timestamp + '.pkl'\n",
    "joblib.dump(model, model_fname)"
   ]
  },
  {
   "cell_type": "markdown",
   "id": "RIthx2IJztxF",
   "metadata": {
    "id": "RIthx2IJztxF"
   },
   "source": [
    "* 모델을 추가해 봅시다."
   ]
  },
  {
   "cell_type": "code",
   "execution_count": null,
   "id": "9UPLUbkqvco8",
   "metadata": {
    "id": "9UPLUbkqvco8"
   },
   "outputs": [],
   "source": [
    "x_train = titanic_datapipeline(x_train, imputer1, imputer1_list, cat, imputer2, scaler)\n",
    "\n",
    "model = SVC(C=0.1)\n",
    "model.fit(x_train, y_train)\n",
    "\n",
    "now = datetime.datetime.now()\n",
    "timestamp = now.strftime(\"%Y%m%d_%H%M%S\")\n",
    "\n",
    "model_fname = 'model_' + timestamp + '.pkl'\n",
    "joblib.dump(model, model_fname)"
   ]
  },
  {
   "cell_type": "code",
   "execution_count": null,
   "id": "Kh0bD3Jxvcl7",
   "metadata": {
    "id": "Kh0bD3Jxvcl7"
   },
   "outputs": [],
   "source": []
  },
  {
   "cell_type": "markdown",
   "id": "0fb8b4da-c92f-4328-9b49-deba08fa3d41",
   "metadata": {},
   "source": [
    "# 클라이언트 API호출"
   ]
  },
  {
   "cell_type": "code",
   "execution_count": 1,
   "id": "83afec4d-b384-432e-b7b8-1ab0e9637b67",
   "metadata": {},
   "outputs": [],
   "source": [
    "import pandas as pd\n",
    "import numpy as np\n",
    "import requests\n",
    "import json"
   ]
  },
  {
   "cell_type": "markdown",
   "id": "5e96a9d1-c8d8-4a03-803e-a841796a695e",
   "metadata": {},
   "source": [
    "### 1. 단일 값 호출"
   ]
  },
  {
   "cell_type": "code",
   "execution_count": 3,
   "id": "51d0176a-1a09-4cf3-8dc4-8fb1cc96ad4b",
   "metadata": {},
   "outputs": [
    {
     "data": {
      "text/plain": [
       "['Died']"
      ]
     },
     "execution_count": 3,
     "metadata": {},
     "output_type": "execute_result"
    }
   ],
   "source": [
    "import requests\n",
    "\n",
    "input = {'Pclass': 1,\n",
    " 'Sex': 'male',\n",
    " 'Age': 22.0,\n",
    " 'SibSp': 0,\n",
    " 'Parch': 0,\n",
    " 'Fare':  71.89,\n",
    " 'Embarked': 'Q'}\n",
    "response = requests.post('http://127.0.0.1:8080/predict/', data = input)\n",
    "result = response.json() # 결과를 json 형태로 받아와 저장하지만, python에서는 딕셔너리로 저장됨.\n",
    "result['pred']"
   ]
  },
  {
   "cell_type": "markdown",
   "id": "b0907dea-4134-4727-9aaa-dd93f07974b6",
   "metadata": {},
   "source": [
    "## 2. 여러 값 호출"
   ]
  },
  {
   "cell_type": "code",
   "execution_count": 4,
   "id": "dbe9a5c7-b90c-4839-9b86-b7d165a0bed2",
   "metadata": {
    "tags": []
   },
   "outputs": [
    {
     "data": {
      "text/plain": [
       "['Died', 'Survived']"
      ]
     },
     "execution_count": 4,
     "metadata": {},
     "output_type": "execute_result"
    }
   ],
   "source": [
    "input = {'Pclass': [1,2],\n",
    " 'Sex': ['male','female'],\n",
    " 'Age': [22.0, 34],\n",
    " 'SibSp': [0, 2],\n",
    " 'Parch': [0, 2],\n",
    " 'Fare':  [71.89, 31],\n",
    " 'Embarked': ['Q','S']}\n",
    "response = requests.post('http://127.0.0.1:8080/predict/', data = input)\n",
    "result = response.json() # 결과를 json 형태로 받아와 저장하지만, python에서는 딕셔너리로 저장됨.\n",
    "result['pred']"
   ]
  },
  {
   "cell_type": "markdown",
   "id": "2dce1777-4979-4173-a2b8-b607603aae61",
   "metadata": {
    "tags": []
   },
   "source": [
    "## 3. 데이터셋(배치)으로 전달하기"
   ]
  },
  {
   "cell_type": "markdown",
   "id": "00eb14a9-8932-4988-a479-69d9da4e1a06",
   "metadata": {},
   "source": [
    "* 데이터프레임으로 부터 정보 전달하기1"
   ]
  },
  {
   "cell_type": "code",
   "execution_count": 5,
   "id": "c4acbf9a-aa5f-4ebd-b114-23a6b5f7e1f2",
   "metadata": {
    "tags": []
   },
   "outputs": [],
   "source": [
    "use_cols = ['Survived', 'Pclass', 'Sex', 'Age', 'SibSp' ,'Parch', 'Fare', 'Embarked']\n",
    "data = pd.read_csv('data/new_data.csv', usecols = use_cols)\n",
    "target = 'Survived'\n",
    "x = data.drop(target, axis = 1)\n",
    "y = data.loc[:, target]"
   ]
  },
  {
   "cell_type": "code",
   "execution_count": 6,
   "id": "be226b2f-aca6-4aec-a743-84e212194312",
   "metadata": {},
   "outputs": [],
   "source": [
    "temp = x.sample(3)"
   ]
  },
  {
   "cell_type": "code",
   "execution_count": 7,
   "id": "f3a46aca-0659-4f20-9247-f173d20f660c",
   "metadata": {},
   "outputs": [
    {
     "data": {
      "text/plain": [
       "{'Pclass': {'15': 2, '7': 3, '2': 3},\n",
       " 'Sex': {'15': 'male', '7': 'male', '2': 'male'},\n",
       " 'Age': {'15': 27.0, '7': None, '2': 47.0},\n",
       " 'SibSp': {'15': 0, '7': 0, '2': 0},\n",
       " 'Parch': {'15': 0, '7': 0, '2': 0},\n",
       " 'Fare': {'15': 13.0, '7': 7.8958, '2': 9.0},\n",
       " 'Embarked': {'15': 'S', '7': 'S', '2': 'S'}}"
      ]
     },
     "execution_count": 7,
     "metadata": {},
     "output_type": "execute_result"
    }
   ],
   "source": [
    "input = temp.to_json(orient = 'columns')\n",
    "input = json.loads(input)\n",
    "input"
   ]
  },
  {
   "cell_type": "code",
   "execution_count": 8,
   "id": "4f3f0a45-0b6c-45ae-8723-1fdd69022dc6",
   "metadata": {},
   "outputs": [
    {
     "data": {
      "text/plain": [
       "{'Pclass': [2, 3, 3],\n",
       " 'Sex': ['male', 'male', 'male'],\n",
       " 'Age': [27.0, nan, 47.0],\n",
       " 'SibSp': [0, 0, 0],\n",
       " 'Parch': [0, 0, 0],\n",
       " 'Fare': [13.0, 7.8958, 9.0],\n",
       " 'Embarked': ['S', 'S', 'S']}"
      ]
     },
     "execution_count": 8,
     "metadata": {},
     "output_type": "execute_result"
    }
   ],
   "source": [
    "input = { key : list(temp[key]) for key in list(temp) }\n",
    "input"
   ]
  },
  {
   "cell_type": "code",
   "execution_count": 9,
   "id": "258049fc-03f2-4aa5-b13b-36aea86133f1",
   "metadata": {
    "tags": []
   },
   "outputs": [
    {
     "data": {
      "text/plain": [
       "['Died', 'Died', 'Died']"
      ]
     },
     "execution_count": 9,
     "metadata": {},
     "output_type": "execute_result"
    }
   ],
   "source": [
    "response = requests.post('http://127.0.0.1:8080/predict/', data = input)\n",
    "result = response.json() \n",
    "result['pred']"
   ]
  },
  {
   "cell_type": "markdown",
   "id": "e7e3d6b1-983a-49c0-9479-2ce3c103a48c",
   "metadata": {},
   "source": [
    "* 데이터프레임으로 부터 정보전달하고, 예측결과 합치기"
   ]
  },
  {
   "cell_type": "code",
   "execution_count": 10,
   "id": "37d65d7a-91ea-48e1-85b0-a95fafa27646",
   "metadata": {},
   "outputs": [],
   "source": [
    "# request\n",
    "input = { key : list(x[key]) for key in list(x) }\n",
    "response = requests.post('http://127.0.0.1:8080/predict/', data = input)\n",
    "result = response.json() "
   ]
  },
  {
   "cell_type": "code",
   "execution_count": 11,
   "id": "79245f2c-f2f0-4d16-b696-7df1bbab37d1",
   "metadata": {},
   "outputs": [
    {
     "data": {
      "text/html": [
       "<div>\n",
       "<style scoped>\n",
       "    .dataframe tbody tr th:only-of-type {\n",
       "        vertical-align: middle;\n",
       "    }\n",
       "\n",
       "    .dataframe tbody tr th {\n",
       "        vertical-align: top;\n",
       "    }\n",
       "\n",
       "    .dataframe thead th {\n",
       "        text-align: right;\n",
       "    }\n",
       "</style>\n",
       "<table border=\"1\" class=\"dataframe\">\n",
       "  <thead>\n",
       "    <tr style=\"text-align: right;\">\n",
       "      <th></th>\n",
       "      <th>Pclass</th>\n",
       "      <th>Sex</th>\n",
       "      <th>Age</th>\n",
       "      <th>SibSp</th>\n",
       "      <th>Parch</th>\n",
       "      <th>Fare</th>\n",
       "      <th>Embarked</th>\n",
       "      <th>y</th>\n",
       "      <th>y_pred</th>\n",
       "    </tr>\n",
       "  </thead>\n",
       "  <tbody>\n",
       "    <tr>\n",
       "      <th>0</th>\n",
       "      <td>1</td>\n",
       "      <td>female</td>\n",
       "      <td>47.0</td>\n",
       "      <td>1</td>\n",
       "      <td>1</td>\n",
       "      <td>52.5542</td>\n",
       "      <td>S</td>\n",
       "      <td>1</td>\n",
       "      <td>Survived</td>\n",
       "    </tr>\n",
       "    <tr>\n",
       "      <th>1</th>\n",
       "      <td>1</td>\n",
       "      <td>male</td>\n",
       "      <td>33.0</td>\n",
       "      <td>0</td>\n",
       "      <td>0</td>\n",
       "      <td>5.0000</td>\n",
       "      <td>S</td>\n",
       "      <td>0</td>\n",
       "      <td>Died</td>\n",
       "    </tr>\n",
       "    <tr>\n",
       "      <th>2</th>\n",
       "      <td>3</td>\n",
       "      <td>male</td>\n",
       "      <td>47.0</td>\n",
       "      <td>0</td>\n",
       "      <td>0</td>\n",
       "      <td>9.0000</td>\n",
       "      <td>S</td>\n",
       "      <td>0</td>\n",
       "      <td>Died</td>\n",
       "    </tr>\n",
       "    <tr>\n",
       "      <th>3</th>\n",
       "      <td>2</td>\n",
       "      <td>female</td>\n",
       "      <td>28.0</td>\n",
       "      <td>1</td>\n",
       "      <td>0</td>\n",
       "      <td>24.0000</td>\n",
       "      <td>C</td>\n",
       "      <td>1</td>\n",
       "      <td>Survived</td>\n",
       "    </tr>\n",
       "    <tr>\n",
       "      <th>4</th>\n",
       "      <td>3</td>\n",
       "      <td>female</td>\n",
       "      <td>15.0</td>\n",
       "      <td>0</td>\n",
       "      <td>0</td>\n",
       "      <td>7.2250</td>\n",
       "      <td>C</td>\n",
       "      <td>1</td>\n",
       "      <td>Survived</td>\n",
       "    </tr>\n",
       "    <tr>\n",
       "      <th>5</th>\n",
       "      <td>3</td>\n",
       "      <td>male</td>\n",
       "      <td>20.0</td>\n",
       "      <td>0</td>\n",
       "      <td>0</td>\n",
       "      <td>9.8458</td>\n",
       "      <td>S</td>\n",
       "      <td>0</td>\n",
       "      <td>Died</td>\n",
       "    </tr>\n",
       "    <tr>\n",
       "      <th>6</th>\n",
       "      <td>3</td>\n",
       "      <td>male</td>\n",
       "      <td>19.0</td>\n",
       "      <td>0</td>\n",
       "      <td>0</td>\n",
       "      <td>7.8958</td>\n",
       "      <td>S</td>\n",
       "      <td>0</td>\n",
       "      <td>Died</td>\n",
       "    </tr>\n",
       "    <tr>\n",
       "      <th>7</th>\n",
       "      <td>3</td>\n",
       "      <td>male</td>\n",
       "      <td>NaN</td>\n",
       "      <td>0</td>\n",
       "      <td>0</td>\n",
       "      <td>7.8958</td>\n",
       "      <td>S</td>\n",
       "      <td>0</td>\n",
       "      <td>Died</td>\n",
       "    </tr>\n",
       "    <tr>\n",
       "      <th>8</th>\n",
       "      <td>1</td>\n",
       "      <td>female</td>\n",
       "      <td>56.0</td>\n",
       "      <td>0</td>\n",
       "      <td>1</td>\n",
       "      <td>83.1583</td>\n",
       "      <td>C</td>\n",
       "      <td>1</td>\n",
       "      <td>Survived</td>\n",
       "    </tr>\n",
       "    <tr>\n",
       "      <th>9</th>\n",
       "      <td>2</td>\n",
       "      <td>female</td>\n",
       "      <td>25.0</td>\n",
       "      <td>0</td>\n",
       "      <td>1</td>\n",
       "      <td>26.0000</td>\n",
       "      <td>S</td>\n",
       "      <td>1</td>\n",
       "      <td>Survived</td>\n",
       "    </tr>\n",
       "    <tr>\n",
       "      <th>10</th>\n",
       "      <td>3</td>\n",
       "      <td>male</td>\n",
       "      <td>33.0</td>\n",
       "      <td>0</td>\n",
       "      <td>0</td>\n",
       "      <td>7.8958</td>\n",
       "      <td>S</td>\n",
       "      <td>0</td>\n",
       "      <td>Died</td>\n",
       "    </tr>\n",
       "    <tr>\n",
       "      <th>11</th>\n",
       "      <td>3</td>\n",
       "      <td>female</td>\n",
       "      <td>22.0</td>\n",
       "      <td>0</td>\n",
       "      <td>0</td>\n",
       "      <td>10.5167</td>\n",
       "      <td>S</td>\n",
       "      <td>0</td>\n",
       "      <td>Survived</td>\n",
       "    </tr>\n",
       "    <tr>\n",
       "      <th>12</th>\n",
       "      <td>2</td>\n",
       "      <td>male</td>\n",
       "      <td>28.0</td>\n",
       "      <td>0</td>\n",
       "      <td>0</td>\n",
       "      <td>10.5000</td>\n",
       "      <td>S</td>\n",
       "      <td>0</td>\n",
       "      <td>Died</td>\n",
       "    </tr>\n",
       "    <tr>\n",
       "      <th>13</th>\n",
       "      <td>3</td>\n",
       "      <td>male</td>\n",
       "      <td>25.0</td>\n",
       "      <td>0</td>\n",
       "      <td>0</td>\n",
       "      <td>7.0500</td>\n",
       "      <td>S</td>\n",
       "      <td>0</td>\n",
       "      <td>Died</td>\n",
       "    </tr>\n",
       "    <tr>\n",
       "      <th>14</th>\n",
       "      <td>3</td>\n",
       "      <td>female</td>\n",
       "      <td>39.0</td>\n",
       "      <td>0</td>\n",
       "      <td>5</td>\n",
       "      <td>29.1250</td>\n",
       "      <td>Q</td>\n",
       "      <td>0</td>\n",
       "      <td>Survived</td>\n",
       "    </tr>\n",
       "    <tr>\n",
       "      <th>15</th>\n",
       "      <td>2</td>\n",
       "      <td>male</td>\n",
       "      <td>27.0</td>\n",
       "      <td>0</td>\n",
       "      <td>0</td>\n",
       "      <td>13.0000</td>\n",
       "      <td>S</td>\n",
       "      <td>0</td>\n",
       "      <td>Died</td>\n",
       "    </tr>\n",
       "    <tr>\n",
       "      <th>16</th>\n",
       "      <td>1</td>\n",
       "      <td>female</td>\n",
       "      <td>19.0</td>\n",
       "      <td>0</td>\n",
       "      <td>0</td>\n",
       "      <td>30.0000</td>\n",
       "      <td>S</td>\n",
       "      <td>1</td>\n",
       "      <td>Survived</td>\n",
       "    </tr>\n",
       "    <tr>\n",
       "      <th>17</th>\n",
       "      <td>3</td>\n",
       "      <td>female</td>\n",
       "      <td>NaN</td>\n",
       "      <td>1</td>\n",
       "      <td>2</td>\n",
       "      <td>23.4500</td>\n",
       "      <td>S</td>\n",
       "      <td>0</td>\n",
       "      <td>Died</td>\n",
       "    </tr>\n",
       "    <tr>\n",
       "      <th>18</th>\n",
       "      <td>1</td>\n",
       "      <td>male</td>\n",
       "      <td>26.0</td>\n",
       "      <td>0</td>\n",
       "      <td>0</td>\n",
       "      <td>30.0000</td>\n",
       "      <td>C</td>\n",
       "      <td>1</td>\n",
       "      <td>Died</td>\n",
       "    </tr>\n",
       "    <tr>\n",
       "      <th>19</th>\n",
       "      <td>3</td>\n",
       "      <td>male</td>\n",
       "      <td>32.0</td>\n",
       "      <td>0</td>\n",
       "      <td>0</td>\n",
       "      <td>7.7500</td>\n",
       "      <td>Q</td>\n",
       "      <td>0</td>\n",
       "      <td>Died</td>\n",
       "    </tr>\n",
       "  </tbody>\n",
       "</table>\n",
       "</div>"
      ],
      "text/plain": [
       "    Pclass     Sex   Age  SibSp  Parch     Fare Embarked  y    y_pred\n",
       "0        1  female  47.0      1      1  52.5542        S  1  Survived\n",
       "1        1    male  33.0      0      0   5.0000        S  0      Died\n",
       "2        3    male  47.0      0      0   9.0000        S  0      Died\n",
       "3        2  female  28.0      1      0  24.0000        C  1  Survived\n",
       "4        3  female  15.0      0      0   7.2250        C  1  Survived\n",
       "5        3    male  20.0      0      0   9.8458        S  0      Died\n",
       "6        3    male  19.0      0      0   7.8958        S  0      Died\n",
       "7        3    male   NaN      0      0   7.8958        S  0      Died\n",
       "8        1  female  56.0      0      1  83.1583        C  1  Survived\n",
       "9        2  female  25.0      0      1  26.0000        S  1  Survived\n",
       "10       3    male  33.0      0      0   7.8958        S  0      Died\n",
       "11       3  female  22.0      0      0  10.5167        S  0  Survived\n",
       "12       2    male  28.0      0      0  10.5000        S  0      Died\n",
       "13       3    male  25.0      0      0   7.0500        S  0      Died\n",
       "14       3  female  39.0      0      5  29.1250        Q  0  Survived\n",
       "15       2    male  27.0      0      0  13.0000        S  0      Died\n",
       "16       1  female  19.0      0      0  30.0000        S  1  Survived\n",
       "17       3  female   NaN      1      2  23.4500        S  0      Died\n",
       "18       1    male  26.0      0      0  30.0000        C  1      Died\n",
       "19       3    male  32.0      0      0   7.7500        Q  0      Died"
      ]
     },
     "execution_count": 11,
     "metadata": {},
     "output_type": "execute_result"
    }
   ],
   "source": [
    "# 결과 합치기\n",
    "x['y'] = y\n",
    "x['y_pred'] = result['pred']\n",
    "x"
   ]
  },
  {
   "cell_type": "code",
   "execution_count": null,
   "id": "294a4bdd-6d69-4c96-a2e1-993e7e46524c",
   "metadata": {},
   "outputs": [],
   "source": []
  }
 ],
 "metadata": {
  "colab": {
   "collapsed_sections": [],
   "name": "14과 이변량분석_종합실습.ipynb",
   "provenance": [],
   "toc_visible": true
  },
  "kernelspec": {
   "display_name": "Python 3",
   "language": "python",
   "name": "python3"
  },
  "language_info": {
   "codemirror_mode": {
    "name": "ipython",
    "version": 3
   },
   "file_extension": ".py",
   "mimetype": "text/x-python",
   "name": "python",
   "nbconvert_exporter": "python",
   "pygments_lexer": "ipython3",
   "version": "3.8.8"
  }
 },
 "nbformat": 4,
 "nbformat_minor": 1
}
