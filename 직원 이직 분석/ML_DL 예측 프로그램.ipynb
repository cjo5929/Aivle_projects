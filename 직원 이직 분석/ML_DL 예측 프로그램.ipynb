{
 "cells": [
  {
   "cell_type": "markdown",
   "metadata": {
    "id": "mTt7qGUTCcFs"
   },
   "source": [
    "# 과제#2. 직원 이직 예측"
   ]
  },
  {
   "cell_type": "markdown",
   "metadata": {
    "id": "t42CZ_o2iHvT"
   },
   "source": [
    "* 회사 인사팀에서는 AIVLER 들에게 직원의 이직여부과 관련해서 분석을 요청하였습니다.\n",
    "* 최근 이직율이 증가하는 것에 대해 우려를 갖고 있기에, 이직여부에 영향을 주는 요인에 대해 분석하여, 이직할 것으로 보이는 직원들에 대해 회사를 떠나지 않도록 인사 프로그램을 준비하려고 합니다.\n",
    "* 어떤 직원이 이직할지 예측해 봅시다."
   ]
  },
  {
   "cell_type": "markdown",
   "metadata": {
    "id": "0wuYJKZHjA3d"
   },
   "source": [
    "![](https://adoptostaging.blob.core.windows.net/media/employee-attrition-reasons-9LIqMv.jpg)"
   ]
  },
  {
   "cell_type": "markdown",
   "metadata": {
    "id": "AHmt88Q5EVsj"
   },
   "source": [
    "## 0.환경설정"
   ]
  },
  {
   "cell_type": "markdown",
   "metadata": {
    "id": "KnzVh2LmkLDU"
   },
   "source": [
    "### 1) 라이브러리 로딩"
   ]
  },
  {
   "cell_type": "code",
   "execution_count": 71,
   "metadata": {
    "id": "3rsQerEaELwI"
   },
   "outputs": [],
   "source": [
    "# 기본 라이브러리 가져오기\n",
    "import pandas as pd\n",
    "import numpy as np\n",
    "\n",
    "import matplotlib.pyplot as plt\n",
    "import seaborn as sns\n",
    "\n",
    "from sklearn.model_selection import train_test_split\n",
    "import warnings\n",
    "warnings.filterwarnings('ignore')"
   ]
  },
  {
   "cell_type": "markdown",
   "metadata": {
    "id": "5Qh5KYWokO_N"
   },
   "source": [
    "### 2) 데이터 로딩"
   ]
  },
  {
   "cell_type": "code",
   "execution_count": 23,
   "metadata": {
    "id": "Bw5yZwT0MJKx"
   },
   "outputs": [
    {
     "data": {
      "text/html": [
       "<div>\n",
       "<style scoped>\n",
       "    .dataframe tbody tr th:only-of-type {\n",
       "        vertical-align: middle;\n",
       "    }\n",
       "\n",
       "    .dataframe tbody tr th {\n",
       "        vertical-align: top;\n",
       "    }\n",
       "\n",
       "    .dataframe thead th {\n",
       "        text-align: right;\n",
       "    }\n",
       "</style>\n",
       "<table border=\"1\" class=\"dataframe\">\n",
       "  <thead>\n",
       "    <tr style=\"text-align: right;\">\n",
       "      <th></th>\n",
       "      <th>Attrition</th>\n",
       "      <th>Age</th>\n",
       "      <th>BusinessTravel</th>\n",
       "      <th>Department</th>\n",
       "      <th>DistanceFromHome</th>\n",
       "      <th>Education</th>\n",
       "      <th>EducationField</th>\n",
       "      <th>EmployeeNumber</th>\n",
       "      <th>EnvironmentSatisfaction</th>\n",
       "      <th>Gender</th>\n",
       "      <th>...</th>\n",
       "      <th>OverTime</th>\n",
       "      <th>PercentSalaryHike</th>\n",
       "      <th>RelationshipSatisfaction</th>\n",
       "      <th>StockOptionLevel</th>\n",
       "      <th>TotalWorkingYears</th>\n",
       "      <th>TrainingTimesLastYear</th>\n",
       "      <th>WorkLifeBalance</th>\n",
       "      <th>YearsAtCompany</th>\n",
       "      <th>YearsInCurrentRole</th>\n",
       "      <th>YearsWithCurrManager</th>\n",
       "    </tr>\n",
       "  </thead>\n",
       "  <tbody>\n",
       "    <tr>\n",
       "      <th>0</th>\n",
       "      <td>0</td>\n",
       "      <td>33</td>\n",
       "      <td>Travel_Rarely</td>\n",
       "      <td>Research &amp; Development</td>\n",
       "      <td>7.0</td>\n",
       "      <td>3</td>\n",
       "      <td>Medical</td>\n",
       "      <td>817</td>\n",
       "      <td>3</td>\n",
       "      <td>Male</td>\n",
       "      <td>...</td>\n",
       "      <td>No</td>\n",
       "      <td>11</td>\n",
       "      <td>4</td>\n",
       "      <td>0</td>\n",
       "      <td>14</td>\n",
       "      <td>3</td>\n",
       "      <td>4</td>\n",
       "      <td>13</td>\n",
       "      <td>9</td>\n",
       "      <td>7</td>\n",
       "    </tr>\n",
       "    <tr>\n",
       "      <th>1</th>\n",
       "      <td>0</td>\n",
       "      <td>35</td>\n",
       "      <td>Travel_Frequently</td>\n",
       "      <td>Research &amp; Development</td>\n",
       "      <td>18.0</td>\n",
       "      <td>2</td>\n",
       "      <td>Life Sciences</td>\n",
       "      <td>1412</td>\n",
       "      <td>3</td>\n",
       "      <td>Male</td>\n",
       "      <td>...</td>\n",
       "      <td>No</td>\n",
       "      <td>11</td>\n",
       "      <td>3</td>\n",
       "      <td>0</td>\n",
       "      <td>10</td>\n",
       "      <td>2</td>\n",
       "      <td>3</td>\n",
       "      <td>2</td>\n",
       "      <td>2</td>\n",
       "      <td>2</td>\n",
       "    </tr>\n",
       "    <tr>\n",
       "      <th>2</th>\n",
       "      <td>0</td>\n",
       "      <td>42</td>\n",
       "      <td>Travel_Rarely</td>\n",
       "      <td>Research &amp; Development</td>\n",
       "      <td>6.0</td>\n",
       "      <td>3</td>\n",
       "      <td>Medical</td>\n",
       "      <td>1911</td>\n",
       "      <td>3</td>\n",
       "      <td>Male</td>\n",
       "      <td>...</td>\n",
       "      <td>No</td>\n",
       "      <td>13</td>\n",
       "      <td>2</td>\n",
       "      <td>1</td>\n",
       "      <td>18</td>\n",
       "      <td>3</td>\n",
       "      <td>4</td>\n",
       "      <td>13</td>\n",
       "      <td>7</td>\n",
       "      <td>7</td>\n",
       "    </tr>\n",
       "    <tr>\n",
       "      <th>3</th>\n",
       "      <td>0</td>\n",
       "      <td>46</td>\n",
       "      <td>Travel_Rarely</td>\n",
       "      <td>Sales</td>\n",
       "      <td>2.0</td>\n",
       "      <td>3</td>\n",
       "      <td>Marketing</td>\n",
       "      <td>1204</td>\n",
       "      <td>3</td>\n",
       "      <td>Female</td>\n",
       "      <td>...</td>\n",
       "      <td>No</td>\n",
       "      <td>23</td>\n",
       "      <td>1</td>\n",
       "      <td>0</td>\n",
       "      <td>28</td>\n",
       "      <td>2</td>\n",
       "      <td>3</td>\n",
       "      <td>26</td>\n",
       "      <td>15</td>\n",
       "      <td>9</td>\n",
       "    </tr>\n",
       "    <tr>\n",
       "      <th>4</th>\n",
       "      <td>0</td>\n",
       "      <td>39</td>\n",
       "      <td>Travel_Frequently</td>\n",
       "      <td>Sales</td>\n",
       "      <td>NaN</td>\n",
       "      <td>3</td>\n",
       "      <td>Life Sciences</td>\n",
       "      <td>1812</td>\n",
       "      <td>3</td>\n",
       "      <td>Male</td>\n",
       "      <td>...</td>\n",
       "      <td>No</td>\n",
       "      <td>18</td>\n",
       "      <td>4</td>\n",
       "      <td>1</td>\n",
       "      <td>7</td>\n",
       "      <td>6</td>\n",
       "      <td>3</td>\n",
       "      <td>2</td>\n",
       "      <td>1</td>\n",
       "      <td>2</td>\n",
       "    </tr>\n",
       "    <tr>\n",
       "      <th>5</th>\n",
       "      <td>1</td>\n",
       "      <td>22</td>\n",
       "      <td>Travel_Frequently</td>\n",
       "      <td>Research &amp; Development</td>\n",
       "      <td>4.0</td>\n",
       "      <td>1</td>\n",
       "      <td>Technical Degree</td>\n",
       "      <td>593</td>\n",
       "      <td>3</td>\n",
       "      <td>Male</td>\n",
       "      <td>...</td>\n",
       "      <td>No</td>\n",
       "      <td>16</td>\n",
       "      <td>3</td>\n",
       "      <td>0</td>\n",
       "      <td>4</td>\n",
       "      <td>3</td>\n",
       "      <td>3</td>\n",
       "      <td>2</td>\n",
       "      <td>2</td>\n",
       "      <td>2</td>\n",
       "    </tr>\n",
       "    <tr>\n",
       "      <th>6</th>\n",
       "      <td>0</td>\n",
       "      <td>24</td>\n",
       "      <td>Travel_Rarely</td>\n",
       "      <td>Research &amp; Development</td>\n",
       "      <td>21.0</td>\n",
       "      <td>2</td>\n",
       "      <td>Technical Degree</td>\n",
       "      <td>1551</td>\n",
       "      <td>3</td>\n",
       "      <td>Male</td>\n",
       "      <td>...</td>\n",
       "      <td>No</td>\n",
       "      <td>14</td>\n",
       "      <td>2</td>\n",
       "      <td>3</td>\n",
       "      <td>2</td>\n",
       "      <td>3</td>\n",
       "      <td>3</td>\n",
       "      <td>1</td>\n",
       "      <td>1</td>\n",
       "      <td>0</td>\n",
       "    </tr>\n",
       "    <tr>\n",
       "      <th>7</th>\n",
       "      <td>0</td>\n",
       "      <td>34</td>\n",
       "      <td>Travel_Rarely</td>\n",
       "      <td>Research &amp; Development</td>\n",
       "      <td>8.0</td>\n",
       "      <td>3</td>\n",
       "      <td>Medical</td>\n",
       "      <td>2068</td>\n",
       "      <td>2</td>\n",
       "      <td>Male</td>\n",
       "      <td>...</td>\n",
       "      <td>No</td>\n",
       "      <td>12</td>\n",
       "      <td>1</td>\n",
       "      <td>0</td>\n",
       "      <td>6</td>\n",
       "      <td>3</td>\n",
       "      <td>4</td>\n",
       "      <td>4</td>\n",
       "      <td>3</td>\n",
       "      <td>2</td>\n",
       "    </tr>\n",
       "    <tr>\n",
       "      <th>8</th>\n",
       "      <td>0</td>\n",
       "      <td>30</td>\n",
       "      <td>Travel_Rarely</td>\n",
       "      <td>Research &amp; Development</td>\n",
       "      <td>20.0</td>\n",
       "      <td>3</td>\n",
       "      <td>Other</td>\n",
       "      <td>1084</td>\n",
       "      <td>3</td>\n",
       "      <td>Male</td>\n",
       "      <td>...</td>\n",
       "      <td>No</td>\n",
       "      <td>15</td>\n",
       "      <td>3</td>\n",
       "      <td>1</td>\n",
       "      <td>7</td>\n",
       "      <td>1</td>\n",
       "      <td>2</td>\n",
       "      <td>6</td>\n",
       "      <td>2</td>\n",
       "      <td>2</td>\n",
       "    </tr>\n",
       "    <tr>\n",
       "      <th>9</th>\n",
       "      <td>0</td>\n",
       "      <td>26</td>\n",
       "      <td>Travel_Rarely</td>\n",
       "      <td>Research &amp; Development</td>\n",
       "      <td>6.0</td>\n",
       "      <td>3</td>\n",
       "      <td>Life Sciences</td>\n",
       "      <td>686</td>\n",
       "      <td>3</td>\n",
       "      <td>Female</td>\n",
       "      <td>...</td>\n",
       "      <td>Yes</td>\n",
       "      <td>13</td>\n",
       "      <td>3</td>\n",
       "      <td>1</td>\n",
       "      <td>3</td>\n",
       "      <td>2</td>\n",
       "      <td>3</td>\n",
       "      <td>3</td>\n",
       "      <td>2</td>\n",
       "      <td>2</td>\n",
       "    </tr>\n",
       "  </tbody>\n",
       "</table>\n",
       "<p>10 rows × 26 columns</p>\n",
       "</div>"
      ],
      "text/plain": [
       "   Attrition  Age     BusinessTravel              Department  \\\n",
       "0          0   33      Travel_Rarely  Research & Development   \n",
       "1          0   35  Travel_Frequently  Research & Development   \n",
       "2          0   42      Travel_Rarely  Research & Development   \n",
       "3          0   46      Travel_Rarely                   Sales   \n",
       "4          0   39  Travel_Frequently                   Sales   \n",
       "5          1   22  Travel_Frequently  Research & Development   \n",
       "6          0   24      Travel_Rarely  Research & Development   \n",
       "7          0   34      Travel_Rarely  Research & Development   \n",
       "8          0   30      Travel_Rarely  Research & Development   \n",
       "9          0   26      Travel_Rarely  Research & Development   \n",
       "\n",
       "   DistanceFromHome  Education    EducationField  EmployeeNumber  \\\n",
       "0               7.0          3           Medical             817   \n",
       "1              18.0          2     Life Sciences            1412   \n",
       "2               6.0          3           Medical            1911   \n",
       "3               2.0          3         Marketing            1204   \n",
       "4               NaN          3     Life Sciences            1812   \n",
       "5               4.0          1  Technical Degree             593   \n",
       "6              21.0          2  Technical Degree            1551   \n",
       "7               8.0          3           Medical            2068   \n",
       "8              20.0          3             Other            1084   \n",
       "9               6.0          3     Life Sciences             686   \n",
       "\n",
       "   EnvironmentSatisfaction  Gender  ...  OverTime PercentSalaryHike  \\\n",
       "0                        3    Male  ...        No                11   \n",
       "1                        3    Male  ...        No                11   \n",
       "2                        3    Male  ...        No                13   \n",
       "3                        3  Female  ...        No                23   \n",
       "4                        3    Male  ...        No                18   \n",
       "5                        3    Male  ...        No                16   \n",
       "6                        3    Male  ...        No                14   \n",
       "7                        2    Male  ...        No                12   \n",
       "8                        3    Male  ...        No                15   \n",
       "9                        3  Female  ...       Yes                13   \n",
       "\n",
       "   RelationshipSatisfaction StockOptionLevel  TotalWorkingYears  \\\n",
       "0                         4                0                 14   \n",
       "1                         3                0                 10   \n",
       "2                         2                1                 18   \n",
       "3                         1                0                 28   \n",
       "4                         4                1                  7   \n",
       "5                         3                0                  4   \n",
       "6                         2                3                  2   \n",
       "7                         1                0                  6   \n",
       "8                         3                1                  7   \n",
       "9                         3                1                  3   \n",
       "\n",
       "   TrainingTimesLastYear WorkLifeBalance  YearsAtCompany  YearsInCurrentRole  \\\n",
       "0                      3               4              13                   9   \n",
       "1                      2               3               2                   2   \n",
       "2                      3               4              13                   7   \n",
       "3                      2               3              26                  15   \n",
       "4                      6               3               2                   1   \n",
       "5                      3               3               2                   2   \n",
       "6                      3               3               1                   1   \n",
       "7                      3               4               4                   3   \n",
       "8                      1               2               6                   2   \n",
       "9                      2               3               3                   2   \n",
       "\n",
       "   YearsWithCurrManager  \n",
       "0                     7  \n",
       "1                     2  \n",
       "2                     7  \n",
       "3                     9  \n",
       "4                     2  \n",
       "5                     2  \n",
       "6                     0  \n",
       "7                     2  \n",
       "8                     2  \n",
       "9                     2  \n",
       "\n",
       "[10 rows x 26 columns]"
      ]
     },
     "execution_count": 23,
     "metadata": {},
     "output_type": "execute_result"
    }
   ],
   "source": [
    "# data data\n",
    "path = \"https://raw.githubusercontent.com/DA4BAM/dataset/master/Attrition_NA.CSV\"\n",
    "data = pd.read_csv(path)\n",
    "data['Attrition'] = np.where(data['Attrition']=='Yes', 1, 0)\n",
    "data.head(10)"
   ]
  },
  {
   "cell_type": "markdown",
   "metadata": {
    "id": "v50TP8BhMJKx"
   },
   "source": [
    "|\t변수 명\t|\t내용\t|\t구분\t|\n",
    "|\t----\t|\t----\t|\t----\t|\n",
    "|\t**Attrition**\t|\t이직여부, Yes = 1 , No = 0\t|\t**Target**\t|\n",
    "|\tAge\t|\t나이\t|\t숫자\t|\n",
    "|\tBusinessTravel\t|\t출장 빈도(범주)\t|\t\t|\n",
    "|\tDepartment\t|\t현 부서\t|\t\t|\n",
    "|\tDistanceFromHome\t|\t집-직장 거리(마일)\t|\t숫자\t|\n",
    "|\tEducation\t|\t교육수준(범주)\t|\t1 Below College, 2 College, 3 Bachelor, 4 Master, 5 Doctor\t|\n",
    "|\tEducationField\t|\t전공\t|\t\t|\n",
    "|\tEmployeeNumber\t|\t사번\t|\t\t|\n",
    "|\tEnvironmentSatisfaction\t|\t근무환경에 대한 만족도(범주)\t|\t1 Low, 2 Good, 3 Excellent, 4 Outstanding\t|\n",
    "|\tGender\t|\t성별\t|\t\t|\n",
    "|\tJobInvolvement\t|\t직무 적극성(참여도)\t|\t1 Low, 2 Medium, 3 High, 4 Very High\t|\n",
    "|\tJobRole\t|\t직무\t|\t\t|\n",
    "|\tJobSatisfaction\t|\t직무 만족도\t|\t1 Low, 2 Medium, 3 High, 4 Very High\t|\n",
    "|\tMaritalStatus\t|\t결혼상태\t|\t\t|\n",
    "|\tMonthlyIncome\t|\t월급\t|\t숫자\t|\n",
    "|\tNumCompaniesWorked\t|\t현재까지 근무한 회사 수\t|\t숫자\t|\n",
    "|\tOverTime\t|\t야근여부\t|\t범주\t|\n",
    "|\tPercentSalaryHike\t|\t전년대비 급여인상율(%)\t|\t숫자\t|\n",
    "|\tRelationshipSatisfaction\t|\t동료와의 관계 만족도\t|\t1 Low, 2 Medium, 3 High, 4 Very High\t|\n",
    "|\tStockOptionLevel\t|\t스톡옵션 수준 0~3\t|\t범주\t|\n",
    "|\tTotalWorkingYears\t|\t총 근무 연수\t|\t숫자\t|\n",
    "|\tTrainingTimesLastYear\t|\t전년 교육훈련 횟수\t|\t숫자\t|\n",
    "|\tWorkLifeBalance\t|\t워라밸. 일-삶 균형도\t|\t1 Bad, 2 Good, 3 Better, 4 Best\t|\n",
    "|\tYearsAtCompany\t|\t현직장 근무 연수\t|\t숫자\t|\n",
    "|\tYearsInCurrentRole\t|\t현직무 연수\t|\t숫자\t|\n",
    "|\tYearsWithCurrManager\t|\t현 팀장과 근무한 연수\t|\t숫자\t|\n"
   ]
  },
  {
   "cell_type": "markdown",
   "metadata": {
    "id": "bKimk8qVm8oC"
   },
   "source": [
    "----"
   ]
  },
  {
   "cell_type": "markdown",
   "metadata": {
    "id": "0bouXLxGkSSd"
   },
   "source": [
    "## 1.데이터 탐색"
   ]
  },
  {
   "cell_type": "markdown",
   "metadata": {
    "id": "PRXJWyibZTJN"
   },
   "source": [
    "## 2.데이터 전처리 "
   ]
  },
  {
   "cell_type": "code",
   "execution_count": 24,
   "metadata": {
    "id": "vtn0hI98urCt"
   },
   "outputs": [],
   "source": [
    "target = 'Attrition'"
   ]
  },
  {
   "cell_type": "markdown",
   "metadata": {
    "id": "OftPNXa1EPeV"
   },
   "source": [
    "### 2.1 데이터 정리"
   ]
  },
  {
   "cell_type": "markdown",
   "metadata": {
    "id": "mk_WSjzdnLLE"
   },
   "source": [
    "* feature와 , target으로 분할"
   ]
  },
  {
   "cell_type": "code",
   "execution_count": 25,
   "metadata": {
    "id": "hKx1tqpEEPeV"
   },
   "outputs": [],
   "source": [
    "x = data.drop(target, axis = 1)\n",
    "y = data.loc[:, target]"
   ]
  },
  {
   "cell_type": "markdown",
   "metadata": {
    "id": "a_EtSMDQnMQ5"
   },
   "source": [
    "* 불필요한 feature 제거\n",
    "    * 제거해야 할 feature를 선정하고 제거하시오. 제거 이유를 주석으로 기술합니다."
   ]
  },
  {
   "cell_type": "code",
   "execution_count": 26,
   "metadata": {
    "id": "86yIoNg7nNuu",
    "scrolled": false
   },
   "outputs": [
    {
     "data": {
      "image/png": "[encoded data removed]",
      "text/plain": [
       "<Figure size 1080x720 with 2 Axes>"
      ]
     },
     "metadata": {
      "needs_background": "light"
     },
     "output_type": "display_data"
    }
   ],
   "source": [
    "plt.figure(figsize=(15,10))\n",
    "sns.heatmap(data.corr(), annot=True, cmap ='Blues')\n",
    "plt.show()"
   ]
  },
  {
   "cell_type": "code",
   "execution_count": 27,
   "metadata": {},
   "outputs": [],
   "source": [
    "#feature 제거\n",
    "# EmployeeNumber : 사원번호로 이직율과는 관계가 없다.\n",
    "# Gender : eda 분석 결과 성별은 이직율에 관계가 없다.\n",
    "# TrainingTimesLastYear : 상관관계에서 낮은 수치를 보이고 있으므로 관계가 없는걸로 추정\n",
    "# PercentSalaryHike : eda 분석 결과 이직율에 관계가 없다.\n",
    "# Education : 상관관계에서 낮은 수치를 보이고 있으므로 관계가 없는걸로 추정\n",
    "# EducationField : 전공 또한 이직율과 관계가 있다고 보기 어려움\n",
    "\n",
    "drop_col = ['EmployeeNumber', 'Gender', 'TrainingTimesLastYear', 'PercentSalaryHike', 'Education']\n",
    "x = x.drop(columns= drop_col, axis = 1)"
   ]
  },
  {
   "cell_type": "code",
   "execution_count": 33,
   "metadata": {},
   "outputs": [],
   "source": [
    "x = x.drop(columns= ['EducationField'], axis = 1)"
   ]
  },
  {
   "cell_type": "markdown",
   "metadata": {
    "id": "ScpJ5uNrGjIw"
   },
   "source": [
    "### 2.2 NaN에 대한 조치\n",
    "* 데이터에 포함된 NaN에 대해서 조치 방법을 결정하고 적용합니다.\n",
    "* 조치방법을 결정한 이유를 주석으로 기술합니다."
   ]
  },
  {
   "cell_type": "code",
   "execution_count": 28,
   "metadata": {
    "id": "8epD0jT6vL51"
   },
   "outputs": [
    {
     "data": {
      "text/plain": [
       "Age                          0\n",
       "BusinessTravel               0\n",
       "Department                   0\n",
       "DistanceFromHome            54\n",
       "EducationField               0\n",
       "EnvironmentSatisfaction      0\n",
       "JobInvolvement               0\n",
       "JobRole                      0\n",
       "JobSatisfaction              0\n",
       "MaritalStatus                0\n",
       "MonthlyIncome                0\n",
       "NumCompaniesWorked          21\n",
       "OverTime                     0\n",
       "RelationshipSatisfaction     0\n",
       "StockOptionLevel             0\n",
       "TotalWorkingYears            0\n",
       "WorkLifeBalance              0\n",
       "YearsAtCompany               0\n",
       "YearsInCurrentRole           0\n",
       "YearsWithCurrManager         0\n",
       "dtype: int64"
      ]
     },
     "execution_count": 28,
     "metadata": {},
     "output_type": "execute_result"
    }
   ],
   "source": [
    "# DistanceFromHome , NumCompaniesWorked 에 결측치 확인\n",
    "x.isna().sum()"
   ]
  },
  {
   "cell_type": "code",
   "execution_count": 29,
   "metadata": {
    "id": "Oq-35S_DNyg6"
   },
   "outputs": [],
   "source": [
    "x[['NumCompaniesWorked']].describe()\n",
    "# NumCompaniesWorked는 결측치가 21개가 있다 => 이직한 적이 없는 것을 공란에 둔것으로 판단 \n",
    "# 그러므로 0으로 처리\n",
    "x['NumCompaniesWorked'].fillna(0 , inplace=True)"
   ]
  },
  {
   "cell_type": "code",
   "execution_count": 20,
   "metadata": {},
   "outputs": [],
   "source": [
    "# 거리는 가변수화 후 KNNImputer를 이용해서 처리"
   ]
  },
  {
   "cell_type": "code",
   "execution_count": 34,
   "metadata": {},
   "outputs": [
    {
     "data": {
      "text/plain": [
       "Age                          0\n",
       "BusinessTravel               0\n",
       "Department                   0\n",
       "DistanceFromHome            54\n",
       "EnvironmentSatisfaction      0\n",
       "JobInvolvement               0\n",
       "JobRole                      0\n",
       "JobSatisfaction              0\n",
       "MaritalStatus                0\n",
       "MonthlyIncome                0\n",
       "NumCompaniesWorked           0\n",
       "OverTime                     0\n",
       "RelationshipSatisfaction     0\n",
       "StockOptionLevel             0\n",
       "TotalWorkingYears            0\n",
       "WorkLifeBalance              0\n",
       "YearsAtCompany               0\n",
       "YearsInCurrentRole           0\n",
       "YearsWithCurrManager         0\n",
       "dtype: int64"
      ]
     },
     "execution_count": 34,
     "metadata": {},
     "output_type": "execute_result"
    }
   ],
   "source": [
    "x.isna().sum()"
   ]
  },
  {
   "cell_type": "markdown",
   "metadata": {
    "id": "HfqkeUD2GjI6"
   },
   "source": [
    "### 2.3 가변수화\n",
    "* 범주형 데이터이면서 값이 0,1 로 되어 있는 것이 아니라면, 가변수화를 수행해야 합니다.\n",
    "* 대상이 되는 변수에 대해서 가변수화를 수행해주세요."
   ]
  },
  {
   "cell_type": "code",
   "execution_count": 40,
   "metadata": {
    "id": "U_wLpFFTN01P"
   },
   "outputs": [
    {
     "data": {
      "text/html": [
       "<div>\n",
       "<style scoped>\n",
       "    .dataframe tbody tr th:only-of-type {\n",
       "        vertical-align: middle;\n",
       "    }\n",
       "\n",
       "    .dataframe tbody tr th {\n",
       "        vertical-align: top;\n",
       "    }\n",
       "\n",
       "    .dataframe thead th {\n",
       "        text-align: right;\n",
       "    }\n",
       "</style>\n",
       "<table border=\"1\" class=\"dataframe\">\n",
       "  <thead>\n",
       "    <tr style=\"text-align: right;\">\n",
       "      <th></th>\n",
       "      <th>Age</th>\n",
       "      <th>DistanceFromHome</th>\n",
       "      <th>MonthlyIncome</th>\n",
       "      <th>NumCompaniesWorked</th>\n",
       "      <th>TotalWorkingYears</th>\n",
       "      <th>YearsAtCompany</th>\n",
       "      <th>YearsInCurrentRole</th>\n",
       "      <th>YearsWithCurrManager</th>\n",
       "      <th>Department_Research &amp; Development</th>\n",
       "      <th>Department_Sales</th>\n",
       "      <th>...</th>\n",
       "      <th>OverTime_Yes</th>\n",
       "      <th>RelationshipSatisfaction_2</th>\n",
       "      <th>RelationshipSatisfaction_3</th>\n",
       "      <th>RelationshipSatisfaction_4</th>\n",
       "      <th>StockOptionLevel_1</th>\n",
       "      <th>StockOptionLevel_2</th>\n",
       "      <th>StockOptionLevel_3</th>\n",
       "      <th>WorkLifeBalance_2</th>\n",
       "      <th>WorkLifeBalance_3</th>\n",
       "      <th>WorkLifeBalance_4</th>\n",
       "    </tr>\n",
       "  </thead>\n",
       "  <tbody>\n",
       "    <tr>\n",
       "      <th>0</th>\n",
       "      <td>33</td>\n",
       "      <td>7.0</td>\n",
       "      <td>11691</td>\n",
       "      <td>0.0</td>\n",
       "      <td>14</td>\n",
       "      <td>13</td>\n",
       "      <td>9</td>\n",
       "      <td>7</td>\n",
       "      <td>1</td>\n",
       "      <td>0</td>\n",
       "      <td>...</td>\n",
       "      <td>0</td>\n",
       "      <td>0</td>\n",
       "      <td>0</td>\n",
       "      <td>1</td>\n",
       "      <td>0</td>\n",
       "      <td>0</td>\n",
       "      <td>0</td>\n",
       "      <td>0</td>\n",
       "      <td>0</td>\n",
       "      <td>1</td>\n",
       "    </tr>\n",
       "    <tr>\n",
       "      <th>1</th>\n",
       "      <td>35</td>\n",
       "      <td>18.0</td>\n",
       "      <td>9362</td>\n",
       "      <td>2.0</td>\n",
       "      <td>10</td>\n",
       "      <td>2</td>\n",
       "      <td>2</td>\n",
       "      <td>2</td>\n",
       "      <td>1</td>\n",
       "      <td>0</td>\n",
       "      <td>...</td>\n",
       "      <td>0</td>\n",
       "      <td>0</td>\n",
       "      <td>1</td>\n",
       "      <td>0</td>\n",
       "      <td>0</td>\n",
       "      <td>0</td>\n",
       "      <td>0</td>\n",
       "      <td>0</td>\n",
       "      <td>1</td>\n",
       "      <td>0</td>\n",
       "    </tr>\n",
       "    <tr>\n",
       "      <th>2</th>\n",
       "      <td>42</td>\n",
       "      <td>6.0</td>\n",
       "      <td>13348</td>\n",
       "      <td>9.0</td>\n",
       "      <td>18</td>\n",
       "      <td>13</td>\n",
       "      <td>7</td>\n",
       "      <td>7</td>\n",
       "      <td>1</td>\n",
       "      <td>0</td>\n",
       "      <td>...</td>\n",
       "      <td>0</td>\n",
       "      <td>1</td>\n",
       "      <td>0</td>\n",
       "      <td>0</td>\n",
       "      <td>1</td>\n",
       "      <td>0</td>\n",
       "      <td>0</td>\n",
       "      <td>0</td>\n",
       "      <td>0</td>\n",
       "      <td>1</td>\n",
       "    </tr>\n",
       "    <tr>\n",
       "      <th>3</th>\n",
       "      <td>46</td>\n",
       "      <td>2.0</td>\n",
       "      <td>17048</td>\n",
       "      <td>8.0</td>\n",
       "      <td>28</td>\n",
       "      <td>26</td>\n",
       "      <td>15</td>\n",
       "      <td>9</td>\n",
       "      <td>0</td>\n",
       "      <td>1</td>\n",
       "      <td>...</td>\n",
       "      <td>0</td>\n",
       "      <td>0</td>\n",
       "      <td>0</td>\n",
       "      <td>0</td>\n",
       "      <td>0</td>\n",
       "      <td>0</td>\n",
       "      <td>0</td>\n",
       "      <td>0</td>\n",
       "      <td>1</td>\n",
       "      <td>0</td>\n",
       "    </tr>\n",
       "    <tr>\n",
       "      <th>4</th>\n",
       "      <td>39</td>\n",
       "      <td>NaN</td>\n",
       "      <td>4127</td>\n",
       "      <td>2.0</td>\n",
       "      <td>7</td>\n",
       "      <td>2</td>\n",
       "      <td>1</td>\n",
       "      <td>2</td>\n",
       "      <td>0</td>\n",
       "      <td>1</td>\n",
       "      <td>...</td>\n",
       "      <td>0</td>\n",
       "      <td>0</td>\n",
       "      <td>0</td>\n",
       "      <td>1</td>\n",
       "      <td>1</td>\n",
       "      <td>0</td>\n",
       "      <td>0</td>\n",
       "      <td>0</td>\n",
       "      <td>1</td>\n",
       "      <td>0</td>\n",
       "    </tr>\n",
       "  </tbody>\n",
       "</table>\n",
       "<p>5 rows × 41 columns</p>\n",
       "</div>"
      ],
      "text/plain": [
       "   Age  DistanceFromHome  MonthlyIncome  NumCompaniesWorked  \\\n",
       "0   33               7.0          11691                 0.0   \n",
       "1   35              18.0           9362                 2.0   \n",
       "2   42               6.0          13348                 9.0   \n",
       "3   46               2.0          17048                 8.0   \n",
       "4   39               NaN           4127                 2.0   \n",
       "\n",
       "   TotalWorkingYears  YearsAtCompany  YearsInCurrentRole  \\\n",
       "0                 14              13                   9   \n",
       "1                 10               2                   2   \n",
       "2                 18              13                   7   \n",
       "3                 28              26                  15   \n",
       "4                  7               2                   1   \n",
       "\n",
       "   YearsWithCurrManager  Department_Research & Development  Department_Sales  \\\n",
       "0                     7                                  1                 0   \n",
       "1                     2                                  1                 0   \n",
       "2                     7                                  1                 0   \n",
       "3                     9                                  0                 1   \n",
       "4                     2                                  0                 1   \n",
       "\n",
       "   ...  OverTime_Yes  RelationshipSatisfaction_2  RelationshipSatisfaction_3  \\\n",
       "0  ...             0                           0                           0   \n",
       "1  ...             0                           0                           1   \n",
       "2  ...             0                           1                           0   \n",
       "3  ...             0                           0                           0   \n",
       "4  ...             0                           0                           0   \n",
       "\n",
       "   RelationshipSatisfaction_4  StockOptionLevel_1  StockOptionLevel_2  \\\n",
       "0                           1                   0                   0   \n",
       "1                           0                   0                   0   \n",
       "2                           0                   1                   0   \n",
       "3                           0                   0                   0   \n",
       "4                           1                   1                   0   \n",
       "\n",
       "   StockOptionLevel_3  WorkLifeBalance_2  WorkLifeBalance_3  WorkLifeBalance_4  \n",
       "0                   0                  0                  0                  1  \n",
       "1                   0                  0                  1                  0  \n",
       "2                   0                  0                  0                  1  \n",
       "3                   0                  0                  1                  0  \n",
       "4                   0                  0                  1                  0  \n",
       "\n",
       "[5 rows x 41 columns]"
      ]
     },
     "execution_count": 40,
     "metadata": {},
     "output_type": "execute_result"
    }
   ],
   "source": [
    "# 범주형 데이터 가변수화\n",
    "dum_cols = ['Department','BusinessTravel','EnvironmentSatisfaction','JobInvolvement',\n",
    "            'JobRole', 'JobSatisfaction', 'MaritalStatus', 'OverTime', 'RelationshipSatisfaction',\n",
    "           'StockOptionLevel', 'WorkLifeBalance']\n",
    "\n",
    "x = pd.get_dummies(x, columns = dum_cols ,drop_first = True)\n",
    "x.head()"
   ]
  },
  {
   "cell_type": "code",
   "execution_count": 39,
   "metadata": {
    "scrolled": true
   },
   "outputs": [
    {
     "data": {
      "text/plain": [
       "BusinessTravel   \n",
       "Travel_Rarely        892\n",
       "Travel_Frequently    230\n",
       "Non-Travel           128\n",
       "dtype: int64"
      ]
     },
     "execution_count": 39,
     "metadata": {},
     "output_type": "execute_result"
    }
   ],
   "source": [
    "x[['BusinessTravel']].value_counts()"
   ]
  },
  {
   "cell_type": "code",
   "execution_count": 41,
   "metadata": {
    "collapsed": true
   },
   "outputs": [
    {
     "data": {
      "text/plain": [
       "Age                                  0\n",
       "DistanceFromHome                     0\n",
       "MonthlyIncome                        0\n",
       "NumCompaniesWorked                   0\n",
       "TotalWorkingYears                    0\n",
       "YearsAtCompany                       0\n",
       "YearsInCurrentRole                   0\n",
       "YearsWithCurrManager                 0\n",
       "Department_Research & Development    0\n",
       "Department_Sales                     0\n",
       "BusinessTravel_Travel_Frequently     0\n",
       "BusinessTravel_Travel_Rarely         0\n",
       "EnvironmentSatisfaction_2            0\n",
       "EnvironmentSatisfaction_3            0\n",
       "EnvironmentSatisfaction_4            0\n",
       "JobInvolvement_2                     0\n",
       "JobInvolvement_3                     0\n",
       "JobInvolvement_4                     0\n",
       "JobRole_Human Resources              0\n",
       "JobRole_Laboratory Technician        0\n",
       "JobRole_Manager                      0\n",
       "JobRole_Manufacturing Director       0\n",
       "JobRole_Research Director            0\n",
       "JobRole_Research Scientist           0\n",
       "JobRole_Sales Executive              0\n",
       "JobRole_Sales Representative         0\n",
       "JobSatisfaction_2                    0\n",
       "JobSatisfaction_3                    0\n",
       "JobSatisfaction_4                    0\n",
       "MaritalStatus_Married                0\n",
       "MaritalStatus_Single                 0\n",
       "OverTime_Yes                         0\n",
       "RelationshipSatisfaction_2           0\n",
       "RelationshipSatisfaction_3           0\n",
       "RelationshipSatisfaction_4           0\n",
       "StockOptionLevel_1                   0\n",
       "StockOptionLevel_2                   0\n",
       "StockOptionLevel_3                   0\n",
       "WorkLifeBalance_2                    0\n",
       "WorkLifeBalance_3                    0\n",
       "WorkLifeBalance_4                    0\n",
       "dtype: int64"
      ]
     },
     "execution_count": 41,
     "metadata": {},
     "output_type": "execute_result"
    }
   ],
   "source": [
    "# DistanceFromHome nan조치\n",
    "\n",
    "from sklearn.impute import KNNImputer\n",
    "\n",
    "imputer = KNNImputer(n_neighbors=5)\n",
    "imputed = imputer.fit_transform(x)\n",
    "# 데이터프레임으로 다시 만듭시다.\n",
    "x = pd.DataFrame(imputed, columns=x.columns)\n",
    "x.isna().sum()"
   ]
  },
  {
   "cell_type": "markdown",
   "metadata": {
    "id": "eO9PZwR3GjI7"
   },
   "source": [
    "### 2.4 (옵션) 추가변수 도출\n",
    "* 기존 데이터셋의 변수를 이용하여 추가로 도출할 수 있는 변수가 있다면 수행합니다.\n",
    "* 추가변수에 대해서 주석으로 설명하시오."
   ]
  },
  {
   "cell_type": "code",
   "execution_count": 42,
   "metadata": {
    "id": "rsHIYqZwGjI8"
   },
   "outputs": [
    {
     "data": {
      "image/png": "[encoded data removed]",
      "text/plain": [
       "<Figure size 432x288 with 1 Axes>"
      ]
     },
     "metadata": {
      "needs_background": "light"
     },
     "output_type": "display_data"
    }
   ],
   "source": [
    "# 4를 기준으로 이직율이 높아지고 낮아지고 있다. => 근소하지만 feature을 좀 더 극대화 하기위해\n",
    "# densityplot\n",
    "sns.kdeplot(x='NumCompaniesWorked', data = data, hue = 'Attrition')\n",
    "plt.show()"
   ]
  },
  {
   "cell_type": "code",
   "execution_count": 43,
   "metadata": {},
   "outputs": [],
   "source": [
    "# 4를 기준으로 1과0으로 범주화 하기\n",
    "def MoovingPeople(data) :\n",
    "    if data['NumCompaniesWorked'] > 4:\n",
    "        return 1\n",
    "    else:\n",
    "        return 0\n",
    "x['MoovingPeople'] = x.apply(lambda data:MoovingPeople(data), axis = 1)"
   ]
  },
  {
   "cell_type": "code",
   "execution_count": 46,
   "metadata": {
    "scrolled": true
   },
   "outputs": [
    {
     "data": {
      "image/png": "[encoded data removed]",
      "text/plain": [
       "<Figure size 432x288 with 1 Axes>"
      ]
     },
     "metadata": {
      "needs_background": "light"
     },
     "output_type": "display_data"
    }
   ],
   "source": [
    "# 거리가 11마일 정도를 기준으로 급격하게 이직율이 변화고 있음\n",
    "# 0과1로 범주화\n",
    "# densityplot\n",
    "sns.kdeplot(x='DistanceFromHome', data = data, hue = 'Attrition')\n",
    "plt.show()"
   ]
  },
  {
   "cell_type": "code",
   "execution_count": 47,
   "metadata": {},
   "outputs": [],
   "source": [
    "# 0과1로 범주화\n",
    "def LongDis(data) : \n",
    "    if  data['DistanceFromHome'] > 11:\n",
    "        return 1\n",
    "    else : \n",
    "        return 0\n",
    "x['LongDis'] = data.apply(lambda data:LongDis(data) ,axis = 1)"
   ]
  },
  {
   "cell_type": "code",
   "execution_count": 48,
   "metadata": {},
   "outputs": [],
   "source": [
    "# 데이터 처리 후\n",
    "# 필요없는 컬럼 버리기\n",
    "col_drop = ['DistanceFromHome','NumCompaniesWorked']\n",
    "x = x.drop(columns= col_drop)"
   ]
  },
  {
   "cell_type": "code",
   "execution_count": 51,
   "metadata": {
    "scrolled": true
   },
   "outputs": [
    {
     "name": "stdout",
     "output_type": "stream",
     "text": [
      "<class 'pandas.core.frame.DataFrame'>\n",
      "RangeIndex: 1250 entries, 0 to 1249\n",
      "Data columns (total 41 columns):\n",
      " #   Column                             Non-Null Count  Dtype  \n",
      "---  ------                             --------------  -----  \n",
      " 0   Age                                1250 non-null   float64\n",
      " 1   MonthlyIncome                      1250 non-null   float64\n",
      " 2   TotalWorkingYears                  1250 non-null   float64\n",
      " 3   YearsAtCompany                     1250 non-null   float64\n",
      " 4   YearsInCurrentRole                 1250 non-null   float64\n",
      " 5   YearsWithCurrManager               1250 non-null   float64\n",
      " 6   Department_Research & Development  1250 non-null   float64\n",
      " 7   Department_Sales                   1250 non-null   float64\n",
      " 8   BusinessTravel_Travel_Frequently   1250 non-null   float64\n",
      " 9   BusinessTravel_Travel_Rarely       1250 non-null   float64\n",
      " 10  EnvironmentSatisfaction_2          1250 non-null   float64\n",
      " 11  EnvironmentSatisfaction_3          1250 non-null   float64\n",
      " 12  EnvironmentSatisfaction_4          1250 non-null   float64\n",
      " 13  JobInvolvement_2                   1250 non-null   float64\n",
      " 14  JobInvolvement_3                   1250 non-null   float64\n",
      " 15  JobInvolvement_4                   1250 non-null   float64\n",
      " 16  JobRole_Human Resources            1250 non-null   float64\n",
      " 17  JobRole_Laboratory Technician      1250 non-null   float64\n",
      " 18  JobRole_Manager                    1250 non-null   float64\n",
      " 19  JobRole_Manufacturing Director     1250 non-null   float64\n",
      " 20  JobRole_Research Director          1250 non-null   float64\n",
      " 21  JobRole_Research Scientist         1250 non-null   float64\n",
      " 22  JobRole_Sales Executive            1250 non-null   float64\n",
      " 23  JobRole_Sales Representative       1250 non-null   float64\n",
      " 24  JobSatisfaction_2                  1250 non-null   float64\n",
      " 25  JobSatisfaction_3                  1250 non-null   float64\n",
      " 26  JobSatisfaction_4                  1250 non-null   float64\n",
      " 27  MaritalStatus_Married              1250 non-null   float64\n",
      " 28  MaritalStatus_Single               1250 non-null   float64\n",
      " 29  OverTime_Yes                       1250 non-null   float64\n",
      " 30  RelationshipSatisfaction_2         1250 non-null   float64\n",
      " 31  RelationshipSatisfaction_3         1250 non-null   float64\n",
      " 32  RelationshipSatisfaction_4         1250 non-null   float64\n",
      " 33  StockOptionLevel_1                 1250 non-null   float64\n",
      " 34  StockOptionLevel_2                 1250 non-null   float64\n",
      " 35  StockOptionLevel_3                 1250 non-null   float64\n",
      " 36  WorkLifeBalance_2                  1250 non-null   float64\n",
      " 37  WorkLifeBalance_3                  1250 non-null   float64\n",
      " 38  WorkLifeBalance_4                  1250 non-null   float64\n",
      " 39  MoovingPeople_1                    1250 non-null   uint8  \n",
      " 40  LongDis_1                          1250 non-null   uint8  \n",
      "dtypes: float64(39), uint8(2)\n",
      "memory usage: 383.4 KB\n"
     ]
    }
   ],
   "source": [
    "x.info()"
   ]
  },
  {
   "cell_type": "code",
   "execution_count": 50,
   "metadata": {
    "scrolled": true
   },
   "outputs": [
    {
     "data": {
      "text/html": [
       "<div>\n",
       "<style scoped>\n",
       "    .dataframe tbody tr th:only-of-type {\n",
       "        vertical-align: middle;\n",
       "    }\n",
       "\n",
       "    .dataframe tbody tr th {\n",
       "        vertical-align: top;\n",
       "    }\n",
       "\n",
       "    .dataframe thead th {\n",
       "        text-align: right;\n",
       "    }\n",
       "</style>\n",
       "<table border=\"1\" class=\"dataframe\">\n",
       "  <thead>\n",
       "    <tr style=\"text-align: right;\">\n",
       "      <th></th>\n",
       "      <th>Age</th>\n",
       "      <th>MonthlyIncome</th>\n",
       "      <th>TotalWorkingYears</th>\n",
       "      <th>YearsAtCompany</th>\n",
       "      <th>YearsInCurrentRole</th>\n",
       "      <th>YearsWithCurrManager</th>\n",
       "      <th>Department_Research &amp; Development</th>\n",
       "      <th>Department_Sales</th>\n",
       "      <th>BusinessTravel_Travel_Frequently</th>\n",
       "      <th>BusinessTravel_Travel_Rarely</th>\n",
       "      <th>...</th>\n",
       "      <th>RelationshipSatisfaction_3</th>\n",
       "      <th>RelationshipSatisfaction_4</th>\n",
       "      <th>StockOptionLevel_1</th>\n",
       "      <th>StockOptionLevel_2</th>\n",
       "      <th>StockOptionLevel_3</th>\n",
       "      <th>WorkLifeBalance_2</th>\n",
       "      <th>WorkLifeBalance_3</th>\n",
       "      <th>WorkLifeBalance_4</th>\n",
       "      <th>MoovingPeople_1</th>\n",
       "      <th>LongDis_1</th>\n",
       "    </tr>\n",
       "  </thead>\n",
       "  <tbody>\n",
       "    <tr>\n",
       "      <th>0</th>\n",
       "      <td>33.0</td>\n",
       "      <td>11691.0</td>\n",
       "      <td>14.0</td>\n",
       "      <td>13.0</td>\n",
       "      <td>9.0</td>\n",
       "      <td>7.0</td>\n",
       "      <td>1.0</td>\n",
       "      <td>0.0</td>\n",
       "      <td>0.0</td>\n",
       "      <td>1.0</td>\n",
       "      <td>...</td>\n",
       "      <td>0.0</td>\n",
       "      <td>1.0</td>\n",
       "      <td>0.0</td>\n",
       "      <td>0.0</td>\n",
       "      <td>0.0</td>\n",
       "      <td>0.0</td>\n",
       "      <td>0.0</td>\n",
       "      <td>1.0</td>\n",
       "      <td>0</td>\n",
       "      <td>0</td>\n",
       "    </tr>\n",
       "    <tr>\n",
       "      <th>1</th>\n",
       "      <td>35.0</td>\n",
       "      <td>9362.0</td>\n",
       "      <td>10.0</td>\n",
       "      <td>2.0</td>\n",
       "      <td>2.0</td>\n",
       "      <td>2.0</td>\n",
       "      <td>1.0</td>\n",
       "      <td>0.0</td>\n",
       "      <td>1.0</td>\n",
       "      <td>0.0</td>\n",
       "      <td>...</td>\n",
       "      <td>1.0</td>\n",
       "      <td>0.0</td>\n",
       "      <td>0.0</td>\n",
       "      <td>0.0</td>\n",
       "      <td>0.0</td>\n",
       "      <td>0.0</td>\n",
       "      <td>1.0</td>\n",
       "      <td>0.0</td>\n",
       "      <td>0</td>\n",
       "      <td>1</td>\n",
       "    </tr>\n",
       "    <tr>\n",
       "      <th>2</th>\n",
       "      <td>42.0</td>\n",
       "      <td>13348.0</td>\n",
       "      <td>18.0</td>\n",
       "      <td>13.0</td>\n",
       "      <td>7.0</td>\n",
       "      <td>7.0</td>\n",
       "      <td>1.0</td>\n",
       "      <td>0.0</td>\n",
       "      <td>0.0</td>\n",
       "      <td>1.0</td>\n",
       "      <td>...</td>\n",
       "      <td>0.0</td>\n",
       "      <td>0.0</td>\n",
       "      <td>1.0</td>\n",
       "      <td>0.0</td>\n",
       "      <td>0.0</td>\n",
       "      <td>0.0</td>\n",
       "      <td>0.0</td>\n",
       "      <td>1.0</td>\n",
       "      <td>1</td>\n",
       "      <td>0</td>\n",
       "    </tr>\n",
       "    <tr>\n",
       "      <th>3</th>\n",
       "      <td>46.0</td>\n",
       "      <td>17048.0</td>\n",
       "      <td>28.0</td>\n",
       "      <td>26.0</td>\n",
       "      <td>15.0</td>\n",
       "      <td>9.0</td>\n",
       "      <td>0.0</td>\n",
       "      <td>1.0</td>\n",
       "      <td>0.0</td>\n",
       "      <td>1.0</td>\n",
       "      <td>...</td>\n",
       "      <td>0.0</td>\n",
       "      <td>0.0</td>\n",
       "      <td>0.0</td>\n",
       "      <td>0.0</td>\n",
       "      <td>0.0</td>\n",
       "      <td>0.0</td>\n",
       "      <td>1.0</td>\n",
       "      <td>0.0</td>\n",
       "      <td>1</td>\n",
       "      <td>0</td>\n",
       "    </tr>\n",
       "    <tr>\n",
       "      <th>4</th>\n",
       "      <td>39.0</td>\n",
       "      <td>4127.0</td>\n",
       "      <td>7.0</td>\n",
       "      <td>2.0</td>\n",
       "      <td>1.0</td>\n",
       "      <td>2.0</td>\n",
       "      <td>0.0</td>\n",
       "      <td>1.0</td>\n",
       "      <td>1.0</td>\n",
       "      <td>0.0</td>\n",
       "      <td>...</td>\n",
       "      <td>0.0</td>\n",
       "      <td>1.0</td>\n",
       "      <td>1.0</td>\n",
       "      <td>0.0</td>\n",
       "      <td>0.0</td>\n",
       "      <td>0.0</td>\n",
       "      <td>1.0</td>\n",
       "      <td>0.0</td>\n",
       "      <td>0</td>\n",
       "      <td>0</td>\n",
       "    </tr>\n",
       "  </tbody>\n",
       "</table>\n",
       "<p>5 rows × 41 columns</p>\n",
       "</div>"
      ],
      "text/plain": [
       "    Age  MonthlyIncome  TotalWorkingYears  YearsAtCompany  YearsInCurrentRole  \\\n",
       "0  33.0        11691.0               14.0            13.0                 9.0   \n",
       "1  35.0         9362.0               10.0             2.0                 2.0   \n",
       "2  42.0        13348.0               18.0            13.0                 7.0   \n",
       "3  46.0        17048.0               28.0            26.0                15.0   \n",
       "4  39.0         4127.0                7.0             2.0                 1.0   \n",
       "\n",
       "   YearsWithCurrManager  Department_Research & Development  Department_Sales  \\\n",
       "0                   7.0                                1.0               0.0   \n",
       "1                   2.0                                1.0               0.0   \n",
       "2                   7.0                                1.0               0.0   \n",
       "3                   9.0                                0.0               1.0   \n",
       "4                   2.0                                0.0               1.0   \n",
       "\n",
       "   BusinessTravel_Travel_Frequently  BusinessTravel_Travel_Rarely  ...  \\\n",
       "0                               0.0                           1.0  ...   \n",
       "1                               1.0                           0.0  ...   \n",
       "2                               0.0                           1.0  ...   \n",
       "3                               0.0                           1.0  ...   \n",
       "4                               1.0                           0.0  ...   \n",
       "\n",
       "   RelationshipSatisfaction_3  RelationshipSatisfaction_4  StockOptionLevel_1  \\\n",
       "0                         0.0                         1.0                 0.0   \n",
       "1                         1.0                         0.0                 0.0   \n",
       "2                         0.0                         0.0                 1.0   \n",
       "3                         0.0                         0.0                 0.0   \n",
       "4                         0.0                         1.0                 1.0   \n",
       "\n",
       "   StockOptionLevel_2  StockOptionLevel_3  WorkLifeBalance_2  \\\n",
       "0                 0.0                 0.0                0.0   \n",
       "1                 0.0                 0.0                0.0   \n",
       "2                 0.0                 0.0                0.0   \n",
       "3                 0.0                 0.0                0.0   \n",
       "4                 0.0                 0.0                0.0   \n",
       "\n",
       "   WorkLifeBalance_3  WorkLifeBalance_4  MoovingPeople_1  LongDis_1  \n",
       "0                0.0                1.0                0          0  \n",
       "1                1.0                0.0                0          1  \n",
       "2                0.0                1.0                1          0  \n",
       "3                1.0                0.0                1          0  \n",
       "4                1.0                0.0                0          0  \n",
       "\n",
       "[5 rows x 41 columns]"
      ]
     },
     "execution_count": 50,
     "metadata": {},
     "output_type": "execute_result"
    }
   ],
   "source": [
    "# 추가 된 컬럼 가변수화 진행\n",
    "dum_cols =['MoovingPeople', 'LongDis']\n",
    "x = pd.get_dummies(x, columns = dum_cols ,drop_first = True)\n",
    "x.head()"
   ]
  },
  {
   "cell_type": "markdown",
   "metadata": {
    "id": "-dgcE6vBZTJQ"
   },
   "source": [
    "### 2.5 데이터 분할\n",
    "\n",
    "* test 200건(test_size = 200), random_state = 2022\n",
    "* val 200건(test_size = 200), random_state = 2022\n",
    "* train 나머지."
   ]
  },
  {
   "cell_type": "code",
   "execution_count": 52,
   "metadata": {
    "id": "rrJdDjMiIa1d"
   },
   "outputs": [],
   "source": [
    "# 데이터 분할(train - test)\n",
    "from sklearn.model_selection import train_test_split\n",
    "\n",
    "x_train, x_test, y_train, y_test = train_test_split(x, y, test_size=200,random_state=2022)"
   ]
  },
  {
   "cell_type": "code",
   "execution_count": 53,
   "metadata": {
    "id": "cXsn5rf0JDVL"
   },
   "outputs": [],
   "source": [
    "# 데이터 분할(train - val)\n",
    "x_train, x_val, y_train, y_val = train_test_split(x_train, y_train, test_size=200, random_state=2022)"
   ]
  },
  {
   "cell_type": "markdown",
   "metadata": {
    "id": "2Lwk03PSZTJP"
   },
   "source": [
    "### 2.6 (옵션)스케일링 \n",
    "* 스케일링을 필요로 하는 알고리즘이 있습니다. \n",
    "* 필요하다고 판단될때 수행합니다."
   ]
  },
  {
   "cell_type": "code",
   "execution_count": 54,
   "metadata": {
    "id": "oAVSU7XucCvn"
   },
   "outputs": [],
   "source": [
    "x_train_sc = (x_train - x_train.min()) / (x_train.max() - x_train.min())\n",
    "x_test_sc = (x_test - x_train.min()) / (x_train.max() - x_train.min())\n",
    "x_val_sc = (x_val - x_train.min()) / (x_train.max() - x_train.min())"
   ]
  },
  {
   "cell_type": "code",
   "execution_count": 57,
   "metadata": {},
   "outputs": [
    {
     "data": {
      "text/plain": [
       "((850, 41), (200, 41), (850,), (200,))"
      ]
     },
     "execution_count": 57,
     "metadata": {},
     "output_type": "execute_result"
    }
   ],
   "source": [
    "x_train.shape, x_val.shape, y_train.shape, y_val.shape"
   ]
  },
  {
   "cell_type": "markdown",
   "metadata": {
    "id": "ZghJJ7yLEpDA"
   },
   "source": [
    "## 3.모델링1 : 머신러닝"
   ]
  },
  {
   "cell_type": "markdown",
   "metadata": {
    "id": "NFDAfi7-5Xhu"
   },
   "source": [
    "### 3.1 모델링을 위한 함수 불러오기\n",
    "\n",
    "* 꼭 필요한 함수만 불러옵니다. 무조건 다 불러오는 것은 지양해주세요."
   ]
  },
  {
   "cell_type": "code",
   "execution_count": 134,
   "metadata": {
    "id": "zlHHnr2-5cwD"
   },
   "outputs": [],
   "source": [
    "# 사용할 알고리즘\n",
    "from sklearn.linear_model import LogisticRegression # 스케일링 한 값 넣기\n",
    "from sklearn.tree import DecisionTreeClassifier\n",
    "from sklearn.neighbors import KNeighborsClassifier # 스케일링 한 값 넣기\n",
    "from sklearn.ensemble import RandomForestClassifier\n",
    "from xgboost import XGBClassifier\n",
    "from sklearn.svm import SVC # 스케일링 한 값 넣기\n",
    "\n",
    "# 성능 검증용\n",
    "from sklearn.model_selection import cross_val_score\n",
    "\n",
    "#모델 튜닝용\n",
    "from sklearn.model_selection import GridSearchCV, RandomizedSearchCV\n",
    "\n",
    "# 성능 평가용\n",
    "from sklearn.metrics import classification_report, accuracy_score, f1_score\n"
   ]
  },
  {
   "cell_type": "markdown",
   "metadata": {
    "id": "6K1mZKlXByLy"
   },
   "source": [
    "### 3.2 모델링\n",
    "* 최소 3개 이상의 알고리즘을 선정합니다.(알고리즘에는 최소 1개 이상의 앙상블 기법을 포함)\n",
    "    * 아래 주어진 목록 이외의 알고리즘을 선정해도 좋습니다.\n",
    "* 각 알고리즘별 튜닝을 수행하여 최적의 모델을 생성합니다.\n",
    "    * 튜닝 방식은 GridSearchCV, RandomizedSearchCV 혹은 for loop 로 직접\n",
    "    * 단, 선형회귀, 로지스틱 회귀의는 입력 변수(feature)를 조절하여 튜닝을 합니다.\n",
    "    * 튜닝 과정에 대해서 주석으로 기술합니다.\n",
    "* 모델링, 튜닝만 수행하는데 그치지 말고, 모델의 내용을 파악하기 위한 분석을 시도합니다. 코드 결과에 대한 분석 의견을 주석으로 기술합니다.\n",
    "    * 예 : 모델 시각화 및 내용 파악, 튜닝 결과 분석 및 시각화"
   ]
  },
  {
   "cell_type": "markdown",
   "metadata": {
    "id": "1j8zehMIIqpv"
   },
   "source": [
    "#### (1) Logistic Regression 모델링"
   ]
  },
  {
   "cell_type": "code",
   "execution_count": 61,
   "metadata": {
    "id": "Y9zuNT45N9ba"
   },
   "outputs": [],
   "source": [
    "# cross_val_score를 통해 선 비교\n",
    "# 선언하기\n",
    "model = LogisticRegression()\n",
    "# 성능검증\n",
    "cv_score = cross_val_score(model, x_train_sc, y_train, cv = 10)\n",
    "# 결과수집\n",
    "result_cv = {}\n",
    "result_cv['Logistic Regression'] = cv_score.mean()"
   ]
  },
  {
   "cell_type": "markdown",
   "metadata": {
    "id": "ZwstDzzpe5Rg"
   },
   "source": [
    "#### (2) Decision Tree 모델링"
   ]
  },
  {
   "cell_type": "code",
   "execution_count": 62,
   "metadata": {
    "id": "Cu17HFZ-N_sH"
   },
   "outputs": [],
   "source": [
    "# cross_val_score를 통해 선 비교\n",
    "# 선언하기\n",
    "model = DecisionTreeClassifier(random_state=2022)\n",
    "# 성능검증\n",
    "cv_score = cross_val_score(model ,x_train, y_train, cv = 10)\n",
    "# 결과수집\n",
    "result_cv['DecisionTreeClassifier'] = cv_score.mean()"
   ]
  },
  {
   "cell_type": "markdown",
   "metadata": {
    "id": "b7sweeGMWYO1"
   },
   "source": [
    "#### (3) KNN 모델링"
   ]
  },
  {
   "cell_type": "code",
   "execution_count": 63,
   "metadata": {
    "id": "K_ZcYkoxOBRu"
   },
   "outputs": [],
   "source": [
    "# cross_val_score를 통해 선 비교\n",
    "# 선언하기\n",
    "model = KNeighborsClassifier()\n",
    "# 성능검증\n",
    "cv_score = cross_val_score(model ,x_train_sc, y_train, cv = 10)\n",
    "# 결과수집\n",
    "result_cv['KNN'] = cv_score.mean()"
   ]
  },
  {
   "cell_type": "markdown",
   "metadata": {
    "id": "JB7CrBcM3j4g"
   },
   "source": [
    "#### (4) SVM 모델링"
   ]
  },
  {
   "cell_type": "code",
   "execution_count": 64,
   "metadata": {
    "id": "E9JfGcpqOCzS"
   },
   "outputs": [],
   "source": [
    "# cross_val_score를 통해 선 비교\n",
    "# 선언하기\n",
    "model = SVC(random_state=2022)\n",
    "# 성능검증\n",
    "cv_score = cross_val_score(model, x_train_sc, y_train, cv = 10)\n",
    "# 결과수집\n",
    "result_cv['SVC'] = cv_score.mean()"
   ]
  },
  {
   "cell_type": "markdown",
   "metadata": {
    "id": "FNAN5h5ZjxET"
   },
   "source": [
    "#### (5) Random Forest 모델링"
   ]
  },
  {
   "cell_type": "code",
   "execution_count": 65,
   "metadata": {
    "id": "W7b9ksZ_OEeZ"
   },
   "outputs": [],
   "source": [
    "# cross_val_score를 통해 선 비교\n",
    "# 선언하기\n",
    "model = RandomForestClassifier(random_state=2022)\n",
    "# 성능검증\n",
    "cv_score = cross_val_score(model, x_train, y_train, cv = 10)\n",
    "# 결과수집\n",
    "result_cv['RandomForestClassifier'] = cv_score.mean()"
   ]
  },
  {
   "cell_type": "markdown",
   "metadata": {
    "id": "EuRaZc7OkRJN"
   },
   "source": [
    "#### (6) XGB 모델링"
   ]
  },
  {
   "cell_type": "code",
   "execution_count": 72,
   "metadata": {
    "id": "-ABB1_GdOF9j",
    "scrolled": true
   },
   "outputs": [],
   "source": [
    "# cross_val_score를 통해 선 비교\n",
    "# 선언하기\n",
    "model = XGBClassifier(random_state=2022, eval_metric = 'mlogloss')\n",
    "# 성능검증\n",
    "cv_score = cross_val_score(model, x_train, y_train, cv = 10)\n",
    "# 결과수집\n",
    "result_cv['XGBClassifier'] = cv_score.mean()"
   ]
  },
  {
   "cell_type": "code",
   "execution_count": 73,
   "metadata": {
    "id": "WutnLut4OF5D",
    "scrolled": true
   },
   "outputs": [
    {
     "name": "stdout",
     "output_type": "stream",
     "text": [
      "========================================\n",
      "Logistic Regression 0.867\n",
      "DecisionTreeClassifier 0.788\n",
      "KNN 0.844\n",
      "SVC 0.852\n",
      "RandomForestClassifier 0.854\n",
      "XGBClassifier 0.855\n",
      "========================================\n"
     ]
    }
   ],
   "source": [
    "# cv 값 확인\n",
    "print('=' * 40)\n",
    "for m_name, score in result_cv.items():\n",
    "    print(m_name, score.round(3))\n",
    "print('=' * 40)"
   ]
  },
  {
   "cell_type": "code",
   "execution_count": 74,
   "metadata": {},
   "outputs": [
    {
     "data": {
      "image/png": "[encoded data removed]",
      "text/plain": [
       "<Figure size 432x288 with 1 Axes>"
      ]
     },
     "metadata": {
      "needs_background": "light"
     },
     "output_type": "display_data"
    }
   ],
   "source": [
    "# 시각화\n",
    "plt.bar(result_cv.keys(), result_cv.values())\n",
    "plt.xticks(rotation=45, ha='right')\n",
    "plt.show()"
   ]
  },
  {
   "cell_type": "code",
   "execution_count": null,
   "metadata": {
    "id": "JnuXLUkZOF1H"
   },
   "outputs": [],
   "source": [
    "# cv 값을 비교해 본 결과\n",
    "# => Logistic Regression, RandomForestClassifier, XGBClassifier, SVC 가 성능이 좋게 나옴\n",
    "# 이 중 Logistic Regression, XGBClassifier, SVC 를 모델 튜닝 및 학습으로 결정"
   ]
  },
  {
   "cell_type": "code",
   "execution_count": null,
   "metadata": {},
   "outputs": [],
   "source": []
  },
  {
   "cell_type": "markdown",
   "metadata": {},
   "source": [
    "### 3.3 선정된 모델 , 모델링"
   ]
  },
  {
   "cell_type": "markdown",
   "metadata": {},
   "source": [
    "#### (1) Logistic Regression 모델링"
   ]
  },
  {
   "cell_type": "code",
   "execution_count": 135,
   "metadata": {
    "scrolled": false
   },
   "outputs": [
    {
     "name": "stdout",
     "output_type": "stream",
     "text": [
      "              precision    recall  f1-score   support\n",
      "\n",
      "           0       0.91      0.98      0.95       176\n",
      "           1       0.70      0.29      0.41        24\n",
      "\n",
      "    accuracy                           0.90       200\n",
      "   macro avg       0.81      0.64      0.68       200\n",
      "weighted avg       0.89      0.90      0.88       200\n",
      "\n",
      "0.9\n",
      "0.4117647058823529\n"
     ]
    }
   ],
   "source": [
    "# Logistic Regression 학습\n",
    "\n",
    "# 선언하기\n",
    "model_lo = LogisticRegression()\n",
    "# 학습\n",
    "model_lo.fit(x_train_sc,y_train)\n",
    "# 예측\n",
    "y_pred = model_lo.predict(x_val_sc)\n",
    "\n",
    "# 5단계: 평가하기\n",
    "print(classification_report(y_val,y_pred))\n",
    "print(accuracy_score(y_val, y_pred))\n",
    "print(f1_score(y_val, y_pred))\n",
    "# result_ac 에 각 모델의 accuracy_score 값을 넣고 비교\n",
    "result_ac ={}\n",
    "result_ac['LogisticRegression'] = accuracy_score(y_val, y_pred)"
   ]
  },
  {
   "cell_type": "markdown",
   "metadata": {},
   "source": [
    "#### (2) SVC 모델링"
   ]
  },
  {
   "cell_type": "code",
   "execution_count": 145,
   "metadata": {},
   "outputs": [],
   "source": [
    "# SVC 학습\n",
    "model_svc = SVC()\n",
    "\n",
    "param ={'C': np.logspace(-3,3,7),\n",
    "        'gamma' :np.logspace(-2,1,4)}\n",
    "\n",
    "m_svm_gs = GridSearchCV(model_svc, param, cv = 5, scoring = 'accuracy')\n"
   ]
  },
  {
   "cell_type": "code",
   "execution_count": 146,
   "metadata": {},
   "outputs": [
    {
     "data": {
      "text/plain": [
       "GridSearchCV(cv=5, estimator=SVC(),\n",
       "             param_grid={'C': array([1.e-03, 1.e-02, 1.e-01, 1.e+00, 1.e+01, 1.e+02, 1.e+03]),\n",
       "                         'gamma': array([ 0.01,  0.1 ,  1.  , 10.  ])},\n",
       "             scoring='accuracy')"
      ]
     },
     "execution_count": 146,
     "metadata": {},
     "output_type": "execute_result"
    }
   ],
   "source": [
    "# 학습하기\n",
    "m_svm_gs.fit(x_train_sc,y_train)"
   ]
  },
  {
   "cell_type": "code",
   "execution_count": 147,
   "metadata": {},
   "outputs": [
    {
     "name": "stdout",
     "output_type": "stream",
     "text": [
      "SVC(C=100.0, gamma=0.01)\n",
      "0.8564705882352943\n"
     ]
    }
   ],
   "source": [
    "# 결과확인\n",
    "print(m_svm_gs.best_estimator_)\n",
    "print(m_svm_gs.best_score_)"
   ]
  },
  {
   "cell_type": "code",
   "execution_count": 148,
   "metadata": {
    "scrolled": false
   },
   "outputs": [
    {
     "name": "stdout",
     "output_type": "stream",
     "text": [
      "              precision    recall  f1-score   support\n",
      "\n",
      "           0       0.90      0.97      0.93       176\n",
      "           1       0.50      0.21      0.29        24\n",
      "\n",
      "    accuracy                           0.88       200\n",
      "   macro avg       0.70      0.59      0.61       200\n",
      "weighted avg       0.85      0.88      0.86       200\n",
      "\n",
      "0.88\n",
      "0.29411764705882354\n"
     ]
    }
   ],
   "source": [
    "# 4단계: 예측하기\n",
    "y_pred = m_svm_gs.predict(x_val_sc)\n",
    "# 5단계: 평가하기\n",
    "print(classification_report(y_val,y_pred))\n",
    "print(accuracy_score(y_val, y_pred))\n",
    "print(f1_score(y_val, y_pred))\n",
    "result_ac['SVC'] = accuracy_score(y_val, y_pred)"
   ]
  },
  {
   "cell_type": "markdown",
   "metadata": {},
   "source": [
    "#### (3) XGBClassifier 모델링"
   ]
  },
  {
   "cell_type": "code",
   "execution_count": 191,
   "metadata": {},
   "outputs": [],
   "source": [
    "# XGBClassifier 튜닝 및 학습\n",
    "\n",
    "# 선언하기\n",
    "model_xgbc = XGBClassifier(random_state = 2022,eval_metric = 'mlogloss' )\n",
    "\n",
    "param = {'max_depth':range(9,15),\n",
    "        'n_estimators': range(120,170,10),\n",
    "        'gamma': [0.01, 0.1, 0.5, 1,5]}\n",
    "\n",
    "model_xgb = GridSearchCV(model_xgbc,\n",
    "                    param,\n",
    "                    cv = 5,\n",
    "                    scoring='accuracy')"
   ]
  },
  {
   "cell_type": "code",
   "execution_count": 192,
   "metadata": {},
   "outputs": [
    {
     "data": {
      "text/plain": [
       "GridSearchCV(cv=5,\n",
       "             estimator=XGBClassifier(base_score=None, booster=None,\n",
       "                                     colsample_bylevel=None,\n",
       "                                     colsample_bynode=None,\n",
       "                                     colsample_bytree=None,\n",
       "                                     enable_categorical=False,\n",
       "                                     eval_metric='mlogloss', gamma=None,\n",
       "                                     gpu_id=None, importance_type=None,\n",
       "                                     interaction_constraints=None,\n",
       "                                     learning_rate=None, max_delta_step=None,\n",
       "                                     max_depth=None, min_child_weight=None,\n",
       "                                     missing=nan, monotone_constraints=None,\n",
       "                                     n_estimators=100, n_jobs=None,\n",
       "                                     num_parallel_tree=None, predictor=None,\n",
       "                                     random_state=2022, reg_alpha=None,\n",
       "                                     reg_lambda=None, scale_pos_weight=None,\n",
       "                                     subsample=None, tree_method=None,\n",
       "                                     validate_parameters=None, verbosity=None),\n",
       "             param_grid={'gamma': [0.01, 0.1, 0.5, 1, 5],\n",
       "                         'max_depth': range(9, 15),\n",
       "                         'n_estimators': range(120, 170, 10)},\n",
       "             scoring='accuracy')"
      ]
     },
     "execution_count": 192,
     "metadata": {},
     "output_type": "execute_result"
    }
   ],
   "source": [
    "# 학습하기\n",
    "model_xgb.fit(x_train,y_train)"
   ]
  },
  {
   "cell_type": "code",
   "execution_count": 193,
   "metadata": {},
   "outputs": [
    {
     "name": "stdout",
     "output_type": "stream",
     "text": [
      "XGBClassifier(base_score=0.5, booster='gbtree', colsample_bylevel=1,\n",
      "              colsample_bynode=1, colsample_bytree=1, enable_categorical=False,\n",
      "              eval_metric='mlogloss', gamma=0.01, gpu_id=-1,\n",
      "              importance_type=None, interaction_constraints='',\n",
      "              learning_rate=0.300000012, max_delta_step=0, max_depth=13,\n",
      "              min_child_weight=1, missing=nan, monotone_constraints='()',\n",
      "              n_estimators=120, n_jobs=8, num_parallel_tree=1, predictor='auto',\n",
      "              random_state=2022, reg_alpha=0, reg_lambda=1, scale_pos_weight=1,\n",
      "              subsample=1, tree_method='exact', validate_parameters=1,\n",
      "              verbosity=None)\n",
      "0.8623529411764708\n"
     ]
    }
   ],
   "source": [
    "# 결과확인\n",
    "print(model_xgb.best_estimator_)\n",
    "print(model_xgb.best_score_)"
   ]
  },
  {
   "cell_type": "code",
   "execution_count": 195,
   "metadata": {
    "scrolled": true
   },
   "outputs": [
    {
     "name": "stdout",
     "output_type": "stream",
     "text": [
      "              precision    recall  f1-score   support\n",
      "\n",
      "           0       0.92      0.98      0.95       176\n",
      "           1       0.75      0.38      0.50        24\n",
      "\n",
      "    accuracy                           0.91       200\n",
      "   macro avg       0.84      0.68      0.73       200\n",
      "weighted avg       0.90      0.91      0.90       200\n",
      "\n",
      "0.91\n",
      "0.5\n"
     ]
    }
   ],
   "source": [
    "# 4단계: 예측하기\n",
    "y_pred = model_xgb.predict(x_val)\n",
    "# 5단계: 평가하기\n",
    "print(classification_report(y_val,y_pred))\n",
    "print(accuracy_score(y_val, y_pred))\n",
    "print(f1_score(y_val, y_pred))\n",
    "result_ac['XGBClassifier'] = accuracy_score(y_val, y_pred)"
   ]
  },
  {
   "cell_type": "code",
   "execution_count": 144,
   "metadata": {
    "scrolled": false
   },
   "outputs": [
    {
     "data": {
      "image/png": "[encoded data removed]",
      "text/plain": [
       "<Figure size 1080x720 with 1 Axes>"
      ]
     },
     "metadata": {
      "needs_background": "light"
     },
     "output_type": "display_data"
    }
   ],
   "source": [
    "plt.figure(figsize=(15,10))\n",
    "plt.barh(y =list(x) , width = model_xgb.best_estimator_.feature_importances_)\n",
    "plt.show()"
   ]
  },
  {
   "cell_type": "code",
   "execution_count": null,
   "metadata": {},
   "outputs": [],
   "source": [
    "# 변수 중요도를 확인 했을 때 , overTime, MaritalStatus, JobRole 세 변수가 가장 중요한 것으로 보임"
   ]
  },
  {
   "cell_type": "markdown",
   "metadata": {
    "id": "IRsH_UjrXNiW"
   },
   "source": [
    "## 4.모델링2 : 딥러닝"
   ]
  },
  {
   "cell_type": "markdown",
   "metadata": {
    "id": "b9kRyQ6K6CIW"
   },
   "source": [
    "### 4.1 모델링을 위한 함수 불러오기"
   ]
  },
  {
   "cell_type": "code",
   "execution_count": 114,
   "metadata": {
    "id": "_BDNB7hM9_hz"
   },
   "outputs": [],
   "source": [
    "import tensorflow as tf\n",
    "from tensorflow import keras\n",
    "from keras.backend import clear_session\n",
    "from keras.layers import Dense, Input\n",
    "from tensorflow.keras.callbacks import EarlyStopping"
   ]
  },
  {
   "cell_type": "markdown",
   "metadata": {
    "id": "lL9BeX00MLgt"
   },
   "source": [
    "### 4.2 모델 설계\n",
    "* 다양한 구조의 모델 3개 이상을 설계하시오. (히든레이어, 노드 수 조절)"
   ]
  },
  {
   "cell_type": "code",
   "execution_count": 97,
   "metadata": {
    "scrolled": true
   },
   "outputs": [
    {
     "data": {
      "text/plain": [
       "((850, 41), (200, 41), (850,), (200,))"
      ]
     },
     "execution_count": 97,
     "metadata": {},
     "output_type": "execute_result"
    }
   ],
   "source": [
    "x_train.shape, x_val.shape, y_train.shape, y_val.shape"
   ]
  },
  {
   "cell_type": "markdown",
   "metadata": {
    "id": "yAaMF07mHz_q"
   },
   "source": [
    "* 모델1 "
   ]
  },
  {
   "cell_type": "code",
   "execution_count": 154,
   "metadata": {
    "id": "aA1Pm1oXMLgv"
   },
   "outputs": [],
   "source": [
    "# 히든레이어 없이 기본적인 DL모델링\n",
    "\n",
    "# 세션 초기화\n",
    "keras.backend.clear_session()\n",
    "\n",
    "#레이어 연결\n",
    "il = keras.layers.Input(shape=(41,))\n",
    "ol = keras.layers.Dense(1, activation='sigmoid')(il)\n",
    "\n",
    "# 모델 시작과 끝 지정\n",
    "model = keras.models.Model(il,ol)\n",
    "\n",
    "#컴파일\n",
    "model.compile(loss = 'binary_crossentropy', optimizer='adam', metrics='accuracy')"
   ]
  },
  {
   "cell_type": "code",
   "execution_count": 155,
   "metadata": {},
   "outputs": [],
   "source": [
    "# EarlyStopping 선언\n",
    "es = EarlyStopping(monitor='val_loss', min_delta=0, patience=10, verbose=1, restore_best_weights=True)"
   ]
  },
  {
   "cell_type": "code",
   "execution_count": 156,
   "metadata": {},
   "outputs": [
    {
     "name": "stdout",
     "output_type": "stream",
     "text": [
      "Epoch 1/1000\n",
      "22/22 [==============================] - 1s 10ms/step - loss: 0.6554 - accuracy: 0.6235 - val_loss: 0.6302 - val_accuracy: 0.6941\n",
      "Epoch 2/1000\n",
      "22/22 [==============================] - 0s 3ms/step - loss: 0.5984 - accuracy: 0.7147 - val_loss: 0.5820 - val_accuracy: 0.7765\n",
      "Epoch 3/1000\n",
      "22/22 [==============================] - 0s 3ms/step - loss: 0.5578 - accuracy: 0.7647 - val_loss: 0.5495 - val_accuracy: 0.7882\n",
      "Epoch 4/1000\n",
      "22/22 [==============================] - 0s 3ms/step - loss: 0.5294 - accuracy: 0.7912 - val_loss: 0.5238 - val_accuracy: 0.8000\n",
      "Epoch 5/1000\n",
      "22/22 [==============================] - 0s 3ms/step - loss: 0.5066 - accuracy: 0.8029 - val_loss: 0.5060 - val_accuracy: 0.8000\n",
      "Epoch 6/1000\n",
      "22/22 [==============================] - 0s 3ms/step - loss: 0.4915 - accuracy: 0.8176 - val_loss: 0.4927 - val_accuracy: 0.8235\n",
      "Epoch 7/1000\n",
      "22/22 [==============================] - 0s 3ms/step - loss: 0.4803 - accuracy: 0.8279 - val_loss: 0.4823 - val_accuracy: 0.8235\n",
      "Epoch 8/1000\n",
      "22/22 [==============================] - 0s 3ms/step - loss: 0.4715 - accuracy: 0.8279 - val_loss: 0.4748 - val_accuracy: 0.8235\n",
      "Epoch 9/1000\n",
      "22/22 [==============================] - 0s 4ms/step - loss: 0.4646 - accuracy: 0.8279 - val_loss: 0.4689 - val_accuracy: 0.8235\n",
      "Epoch 10/1000\n",
      "22/22 [==============================] - 0s 4ms/step - loss: 0.4597 - accuracy: 0.8279 - val_loss: 0.4636 - val_accuracy: 0.8235\n",
      "Epoch 11/1000\n",
      "22/22 [==============================] - 0s 3ms/step - loss: 0.4552 - accuracy: 0.8294 - val_loss: 0.4592 - val_accuracy: 0.8235\n",
      "Epoch 12/1000\n",
      "22/22 [==============================] - 0s 3ms/step - loss: 0.4517 - accuracy: 0.8294 - val_loss: 0.4551 - val_accuracy: 0.8235\n",
      "Epoch 13/1000\n",
      "22/22 [==============================] - 0s 3ms/step - loss: 0.4482 - accuracy: 0.8294 - val_loss: 0.4514 - val_accuracy: 0.8235\n",
      "Epoch 14/1000\n",
      "22/22 [==============================] - 0s 3ms/step - loss: 0.4453 - accuracy: 0.8294 - val_loss: 0.4479 - val_accuracy: 0.8235\n",
      "Epoch 15/1000\n",
      "22/22 [==============================] - 0s 3ms/step - loss: 0.4426 - accuracy: 0.8294 - val_loss: 0.4446 - val_accuracy: 0.8235\n",
      "Epoch 16/1000\n",
      "22/22 [==============================] - 0s 3ms/step - loss: 0.4400 - accuracy: 0.8294 - val_loss: 0.4415 - val_accuracy: 0.8235\n",
      "Epoch 17/1000\n",
      "22/22 [==============================] - 0s 3ms/step - loss: 0.4374 - accuracy: 0.8309 - val_loss: 0.4386 - val_accuracy: 0.8235\n",
      "Epoch 18/1000\n",
      "22/22 [==============================] - 0s 3ms/step - loss: 0.4352 - accuracy: 0.8309 - val_loss: 0.4356 - val_accuracy: 0.8235\n",
      "Epoch 19/1000\n",
      "22/22 [==============================] - 0s 4ms/step - loss: 0.4328 - accuracy: 0.8309 - val_loss: 0.4328 - val_accuracy: 0.8235\n",
      "Epoch 20/1000\n",
      "22/22 [==============================] - 0s 4ms/step - loss: 0.4305 - accuracy: 0.8309 - val_loss: 0.4298 - val_accuracy: 0.8235\n",
      "Epoch 21/1000\n",
      "22/22 [==============================] - 0s 4ms/step - loss: 0.4284 - accuracy: 0.8309 - val_loss: 0.4271 - val_accuracy: 0.8235\n",
      "Epoch 22/1000\n",
      "22/22 [==============================] - 0s 4ms/step - loss: 0.4265 - accuracy: 0.8324 - val_loss: 0.4243 - val_accuracy: 0.8235\n",
      "Epoch 23/1000\n",
      "22/22 [==============================] - 0s 4ms/step - loss: 0.4244 - accuracy: 0.8324 - val_loss: 0.4218 - val_accuracy: 0.8235\n",
      "Epoch 24/1000\n",
      "22/22 [==============================] - 0s 3ms/step - loss: 0.4226 - accuracy: 0.8324 - val_loss: 0.4189 - val_accuracy: 0.8235\n",
      "Epoch 25/1000\n",
      "22/22 [==============================] - 0s 4ms/step - loss: 0.4205 - accuracy: 0.8324 - val_loss: 0.4168 - val_accuracy: 0.8235\n",
      "Epoch 26/1000\n",
      "22/22 [==============================] - 0s 5ms/step - loss: 0.4187 - accuracy: 0.8324 - val_loss: 0.4144 - val_accuracy: 0.8235\n",
      "Epoch 27/1000\n",
      "22/22 [==============================] - 0s 3ms/step - loss: 0.4170 - accuracy: 0.8324 - val_loss: 0.4122 - val_accuracy: 0.8235\n",
      "Epoch 28/1000\n",
      "22/22 [==============================] - 0s 3ms/step - loss: 0.4152 - accuracy: 0.8324 - val_loss: 0.4099 - val_accuracy: 0.8235\n",
      "Epoch 29/1000\n",
      "22/22 [==============================] - 0s 3ms/step - loss: 0.4135 - accuracy: 0.8324 - val_loss: 0.4075 - val_accuracy: 0.8235\n",
      "Epoch 30/1000\n",
      "22/22 [==============================] - 0s 3ms/step - loss: 0.4117 - accuracy: 0.8324 - val_loss: 0.4055 - val_accuracy: 0.8235\n",
      "Epoch 31/1000\n",
      "22/22 [==============================] - 0s 3ms/step - loss: 0.4102 - accuracy: 0.8324 - val_loss: 0.4033 - val_accuracy: 0.8235\n",
      "Epoch 32/1000\n",
      "22/22 [==============================] - 0s 4ms/step - loss: 0.4085 - accuracy: 0.8309 - val_loss: 0.4012 - val_accuracy: 0.8235\n",
      "Epoch 33/1000\n",
      "22/22 [==============================] - 0s 4ms/step - loss: 0.4069 - accuracy: 0.8309 - val_loss: 0.3992 - val_accuracy: 0.8235\n",
      "Epoch 34/1000\n",
      "22/22 [==============================] - 0s 3ms/step - loss: 0.4055 - accuracy: 0.8309 - val_loss: 0.3972 - val_accuracy: 0.8294\n",
      "Epoch 35/1000\n",
      "22/22 [==============================] - 0s 3ms/step - loss: 0.4042 - accuracy: 0.8294 - val_loss: 0.3955 - val_accuracy: 0.8294\n",
      "Epoch 36/1000\n",
      "22/22 [==============================] - 0s 3ms/step - loss: 0.4026 - accuracy: 0.8294 - val_loss: 0.3936 - val_accuracy: 0.8294\n",
      "Epoch 37/1000\n",
      "22/22 [==============================] - 0s 3ms/step - loss: 0.4012 - accuracy: 0.8294 - val_loss: 0.3918 - val_accuracy: 0.8294\n",
      "Epoch 38/1000\n",
      "22/22 [==============================] - 0s 3ms/step - loss: 0.4000 - accuracy: 0.8294 - val_loss: 0.3898 - val_accuracy: 0.8294\n",
      "Epoch 39/1000\n",
      "22/22 [==============================] - 0s 3ms/step - loss: 0.3985 - accuracy: 0.8279 - val_loss: 0.3879 - val_accuracy: 0.8294\n",
      "Epoch 40/1000\n",
      "22/22 [==============================] - 0s 3ms/step - loss: 0.3973 - accuracy: 0.8279 - val_loss: 0.3865 - val_accuracy: 0.8294\n",
      "Epoch 41/1000\n",
      "22/22 [==============================] - 0s 3ms/step - loss: 0.3960 - accuracy: 0.8279 - val_loss: 0.3846 - val_accuracy: 0.8353\n",
      "Epoch 42/1000\n",
      "22/22 [==============================] - 0s 3ms/step - loss: 0.3948 - accuracy: 0.8279 - val_loss: 0.3829 - val_accuracy: 0.8353\n",
      "Epoch 43/1000\n",
      "22/22 [==============================] - 0s 3ms/step - loss: 0.3934 - accuracy: 0.8279 - val_loss: 0.3812 - val_accuracy: 0.8353\n",
      "Epoch 44/1000\n",
      "22/22 [==============================] - 0s 3ms/step - loss: 0.3924 - accuracy: 0.8279 - val_loss: 0.3798 - val_accuracy: 0.8353\n",
      "Epoch 45/1000\n",
      "22/22 [==============================] - 0s 4ms/step - loss: 0.3910 - accuracy: 0.8309 - val_loss: 0.3782 - val_accuracy: 0.8353\n",
      "Epoch 46/1000\n",
      "22/22 [==============================] - 0s 3ms/step - loss: 0.3899 - accuracy: 0.8324 - val_loss: 0.3766 - val_accuracy: 0.8353\n",
      "Epoch 47/1000\n",
      "22/22 [==============================] - 0s 3ms/step - loss: 0.3888 - accuracy: 0.8324 - val_loss: 0.3751 - val_accuracy: 0.8353\n",
      "Epoch 48/1000\n",
      "22/22 [==============================] - 0s 3ms/step - loss: 0.3877 - accuracy: 0.8338 - val_loss: 0.3740 - val_accuracy: 0.8353\n",
      "Epoch 49/1000\n",
      "22/22 [==============================] - 0s 3ms/step - loss: 0.3870 - accuracy: 0.8338 - val_loss: 0.3730 - val_accuracy: 0.8353\n",
      "Epoch 50/1000\n",
      "22/22 [==============================] - 0s 3ms/step - loss: 0.3858 - accuracy: 0.8353 - val_loss: 0.3713 - val_accuracy: 0.8353\n",
      "Epoch 51/1000\n",
      "22/22 [==============================] - 0s 3ms/step - loss: 0.3846 - accuracy: 0.8368 - val_loss: 0.3700 - val_accuracy: 0.8353\n",
      "Epoch 52/1000\n",
      "22/22 [==============================] - 0s 3ms/step - loss: 0.3836 - accuracy: 0.8368 - val_loss: 0.3687 - val_accuracy: 0.8353\n",
      "Epoch 53/1000\n",
      "22/22 [==============================] - 0s 3ms/step - loss: 0.3827 - accuracy: 0.8382 - val_loss: 0.3674 - val_accuracy: 0.8353\n",
      "Epoch 54/1000\n",
      "22/22 [==============================] - 0s 3ms/step - loss: 0.3818 - accuracy: 0.8382 - val_loss: 0.3663 - val_accuracy: 0.8353\n",
      "Epoch 55/1000\n",
      "22/22 [==============================] - 0s 3ms/step - loss: 0.3808 - accuracy: 0.8382 - val_loss: 0.3649 - val_accuracy: 0.8353\n",
      "Epoch 56/1000\n",
      "22/22 [==============================] - 0s 3ms/step - loss: 0.3798 - accuracy: 0.8412 - val_loss: 0.3638 - val_accuracy: 0.8353\n",
      "Epoch 57/1000\n",
      "22/22 [==============================] - 0s 3ms/step - loss: 0.3790 - accuracy: 0.8412 - val_loss: 0.3624 - val_accuracy: 0.8353\n",
      "Epoch 58/1000\n"
     ]
    },
    {
     "name": "stdout",
     "output_type": "stream",
     "text": [
      "22/22 [==============================] - 0s 3ms/step - loss: 0.3783 - accuracy: 0.8382 - val_loss: 0.3614 - val_accuracy: 0.8353\n",
      "Epoch 59/1000\n",
      "22/22 [==============================] - 0s 3ms/step - loss: 0.3772 - accuracy: 0.8412 - val_loss: 0.3606 - val_accuracy: 0.8353\n",
      "Epoch 60/1000\n",
      "22/22 [==============================] - 0s 3ms/step - loss: 0.3763 - accuracy: 0.8426 - val_loss: 0.3594 - val_accuracy: 0.8412\n",
      "Epoch 61/1000\n",
      "22/22 [==============================] - 0s 3ms/step - loss: 0.3754 - accuracy: 0.8426 - val_loss: 0.3583 - val_accuracy: 0.8412\n",
      "Epoch 62/1000\n",
      "22/22 [==============================] - 0s 3ms/step - loss: 0.3746 - accuracy: 0.8441 - val_loss: 0.3572 - val_accuracy: 0.8412\n",
      "Epoch 63/1000\n",
      "22/22 [==============================] - 0s 3ms/step - loss: 0.3738 - accuracy: 0.8441 - val_loss: 0.3562 - val_accuracy: 0.8412\n",
      "Epoch 64/1000\n",
      "22/22 [==============================] - 0s 3ms/step - loss: 0.3732 - accuracy: 0.8441 - val_loss: 0.3551 - val_accuracy: 0.8412\n",
      "Epoch 65/1000\n",
      "22/22 [==============================] - 0s 3ms/step - loss: 0.3723 - accuracy: 0.8441 - val_loss: 0.3538 - val_accuracy: 0.8412\n",
      "Epoch 66/1000\n",
      "22/22 [==============================] - 0s 3ms/step - loss: 0.3714 - accuracy: 0.8441 - val_loss: 0.3531 - val_accuracy: 0.8412\n",
      "Epoch 67/1000\n",
      "22/22 [==============================] - 0s 3ms/step - loss: 0.3707 - accuracy: 0.8441 - val_loss: 0.3523 - val_accuracy: 0.8471\n",
      "Epoch 68/1000\n",
      "22/22 [==============================] - 0s 3ms/step - loss: 0.3701 - accuracy: 0.8441 - val_loss: 0.3514 - val_accuracy: 0.8471\n",
      "Epoch 69/1000\n",
      "22/22 [==============================] - 0s 3ms/step - loss: 0.3693 - accuracy: 0.8441 - val_loss: 0.3502 - val_accuracy: 0.8471\n",
      "Epoch 70/1000\n",
      "22/22 [==============================] - 0s 3ms/step - loss: 0.3685 - accuracy: 0.8441 - val_loss: 0.3494 - val_accuracy: 0.8588\n",
      "Epoch 71/1000\n",
      "22/22 [==============================] - 0s 3ms/step - loss: 0.3679 - accuracy: 0.8441 - val_loss: 0.3485 - val_accuracy: 0.8588\n",
      "Epoch 72/1000\n",
      "22/22 [==============================] - 0s 3ms/step - loss: 0.3673 - accuracy: 0.8441 - val_loss: 0.3474 - val_accuracy: 0.8588\n",
      "Epoch 73/1000\n",
      "22/22 [==============================] - 0s 3ms/step - loss: 0.3669 - accuracy: 0.8456 - val_loss: 0.3466 - val_accuracy: 0.8588\n",
      "Epoch 74/1000\n",
      "22/22 [==============================] - 0s 3ms/step - loss: 0.3659 - accuracy: 0.8456 - val_loss: 0.3458 - val_accuracy: 0.8588\n",
      "Epoch 75/1000\n",
      "22/22 [==============================] - 0s 3ms/step - loss: 0.3655 - accuracy: 0.8456 - val_loss: 0.3450 - val_accuracy: 0.8588\n",
      "Epoch 76/1000\n",
      "22/22 [==============================] - 0s 3ms/step - loss: 0.3646 - accuracy: 0.8441 - val_loss: 0.3438 - val_accuracy: 0.8588\n",
      "Epoch 77/1000\n",
      "22/22 [==============================] - 0s 3ms/step - loss: 0.3640 - accuracy: 0.8441 - val_loss: 0.3431 - val_accuracy: 0.8588\n",
      "Epoch 78/1000\n",
      "22/22 [==============================] - 0s 3ms/step - loss: 0.3634 - accuracy: 0.8441 - val_loss: 0.3421 - val_accuracy: 0.8588\n",
      "Epoch 79/1000\n",
      "22/22 [==============================] - 0s 3ms/step - loss: 0.3629 - accuracy: 0.8441 - val_loss: 0.3413 - val_accuracy: 0.8588\n",
      "Epoch 80/1000\n",
      "22/22 [==============================] - 0s 3ms/step - loss: 0.3623 - accuracy: 0.8456 - val_loss: 0.3405 - val_accuracy: 0.8588\n",
      "Epoch 81/1000\n",
      "22/22 [==============================] - 0s 5ms/step - loss: 0.3619 - accuracy: 0.8456 - val_loss: 0.3396 - val_accuracy: 0.8588\n",
      "Epoch 82/1000\n",
      "22/22 [==============================] - 0s 4ms/step - loss: 0.3612 - accuracy: 0.8471 - val_loss: 0.3390 - val_accuracy: 0.8588\n",
      "Epoch 83/1000\n",
      "22/22 [==============================] - 0s 4ms/step - loss: 0.3606 - accuracy: 0.8471 - val_loss: 0.3382 - val_accuracy: 0.8588\n",
      "Epoch 84/1000\n",
      "22/22 [==============================] - 0s 3ms/step - loss: 0.3602 - accuracy: 0.8471 - val_loss: 0.3376 - val_accuracy: 0.8588\n",
      "Epoch 85/1000\n",
      "22/22 [==============================] - 0s 3ms/step - loss: 0.3597 - accuracy: 0.8471 - val_loss: 0.3372 - val_accuracy: 0.8588\n",
      "Epoch 86/1000\n",
      "22/22 [==============================] - 0s 3ms/step - loss: 0.3592 - accuracy: 0.8456 - val_loss: 0.3364 - val_accuracy: 0.8588\n",
      "Epoch 87/1000\n",
      "22/22 [==============================] - 0s 3ms/step - loss: 0.3588 - accuracy: 0.8456 - val_loss: 0.3358 - val_accuracy: 0.8588\n",
      "Epoch 88/1000\n",
      "22/22 [==============================] - 0s 3ms/step - loss: 0.3583 - accuracy: 0.8456 - val_loss: 0.3352 - val_accuracy: 0.8588\n",
      "Epoch 89/1000\n",
      "22/22 [==============================] - 0s 3ms/step - loss: 0.3577 - accuracy: 0.8456 - val_loss: 0.3345 - val_accuracy: 0.8588\n",
      "Epoch 90/1000\n",
      "22/22 [==============================] - 0s 3ms/step - loss: 0.3574 - accuracy: 0.8471 - val_loss: 0.3337 - val_accuracy: 0.8588\n",
      "Epoch 91/1000\n",
      "22/22 [==============================] - 0s 3ms/step - loss: 0.3568 - accuracy: 0.8471 - val_loss: 0.3330 - val_accuracy: 0.8588\n",
      "Epoch 92/1000\n",
      "22/22 [==============================] - 0s 3ms/step - loss: 0.3564 - accuracy: 0.8471 - val_loss: 0.3325 - val_accuracy: 0.8588\n",
      "Epoch 93/1000\n",
      "22/22 [==============================] - 0s 3ms/step - loss: 0.3559 - accuracy: 0.8500 - val_loss: 0.3320 - val_accuracy: 0.8588\n",
      "Epoch 94/1000\n",
      "22/22 [==============================] - 0s 3ms/step - loss: 0.3554 - accuracy: 0.8485 - val_loss: 0.3315 - val_accuracy: 0.8588\n",
      "Epoch 95/1000\n",
      "22/22 [==============================] - 0s 3ms/step - loss: 0.3550 - accuracy: 0.8485 - val_loss: 0.3308 - val_accuracy: 0.8588\n",
      "Epoch 96/1000\n",
      "22/22 [==============================] - 0s 3ms/step - loss: 0.3547 - accuracy: 0.8500 - val_loss: 0.3301 - val_accuracy: 0.8588\n",
      "Epoch 97/1000\n",
      "22/22 [==============================] - 0s 3ms/step - loss: 0.3542 - accuracy: 0.8515 - val_loss: 0.3296 - val_accuracy: 0.8588\n",
      "Epoch 98/1000\n",
      "22/22 [==============================] - 0s 3ms/step - loss: 0.3538 - accuracy: 0.8500 - val_loss: 0.3293 - val_accuracy: 0.8647\n",
      "Epoch 99/1000\n",
      "22/22 [==============================] - 0s 3ms/step - loss: 0.3534 - accuracy: 0.8500 - val_loss: 0.3291 - val_accuracy: 0.8647\n",
      "Epoch 100/1000\n",
      "22/22 [==============================] - 0s 3ms/step - loss: 0.3530 - accuracy: 0.8500 - val_loss: 0.3284 - val_accuracy: 0.8647\n",
      "Epoch 101/1000\n",
      "22/22 [==============================] - 0s 3ms/step - loss: 0.3526 - accuracy: 0.8500 - val_loss: 0.3278 - val_accuracy: 0.8647\n",
      "Epoch 102/1000\n",
      "22/22 [==============================] - 0s 3ms/step - loss: 0.3522 - accuracy: 0.8500 - val_loss: 0.3272 - val_accuracy: 0.8647\n",
      "Epoch 103/1000\n",
      "22/22 [==============================] - 0s 4ms/step - loss: 0.3518 - accuracy: 0.8500 - val_loss: 0.3267 - val_accuracy: 0.8647\n",
      "Epoch 104/1000\n",
      "22/22 [==============================] - 0s 4ms/step - loss: 0.3513 - accuracy: 0.8500 - val_loss: 0.3263 - val_accuracy: 0.8647\n",
      "Epoch 105/1000\n",
      "22/22 [==============================] - 0s 3ms/step - loss: 0.3510 - accuracy: 0.8500 - val_loss: 0.3260 - val_accuracy: 0.8647\n",
      "Epoch 106/1000\n",
      "22/22 [==============================] - 0s 3ms/step - loss: 0.3507 - accuracy: 0.8500 - val_loss: 0.3254 - val_accuracy: 0.8647\n",
      "Epoch 107/1000\n",
      "22/22 [==============================] - 0s 3ms/step - loss: 0.3504 - accuracy: 0.8515 - val_loss: 0.3249 - val_accuracy: 0.8647\n",
      "Epoch 108/1000\n",
      "22/22 [==============================] - 0s 3ms/step - loss: 0.3500 - accuracy: 0.8515 - val_loss: 0.3246 - val_accuracy: 0.8706\n",
      "Epoch 109/1000\n",
      "22/22 [==============================] - 0s 3ms/step - loss: 0.3497 - accuracy: 0.8559 - val_loss: 0.3242 - val_accuracy: 0.8706\n",
      "Epoch 110/1000\n",
      "22/22 [==============================] - 0s 3ms/step - loss: 0.3493 - accuracy: 0.8544 - val_loss: 0.3237 - val_accuracy: 0.8706\n",
      "Epoch 111/1000\n",
      "22/22 [==============================] - 0s 3ms/step - loss: 0.3490 - accuracy: 0.8544 - val_loss: 0.3231 - val_accuracy: 0.8706\n",
      "Epoch 112/1000\n",
      "22/22 [==============================] - 0s 3ms/step - loss: 0.3488 - accuracy: 0.8529 - val_loss: 0.3227 - val_accuracy: 0.8647\n",
      "Epoch 113/1000\n",
      "22/22 [==============================] - 0s 3ms/step - loss: 0.3484 - accuracy: 0.8544 - val_loss: 0.3225 - val_accuracy: 0.8706\n",
      "Epoch 114/1000\n",
      "22/22 [==============================] - 0s 3ms/step - loss: 0.3481 - accuracy: 0.8574 - val_loss: 0.3222 - val_accuracy: 0.8706\n",
      "Epoch 115/1000\n"
     ]
    },
    {
     "name": "stdout",
     "output_type": "stream",
     "text": [
      "22/22 [==============================] - 0s 3ms/step - loss: 0.3477 - accuracy: 0.8603 - val_loss: 0.3221 - val_accuracy: 0.8706\n",
      "Epoch 116/1000\n",
      "22/22 [==============================] - 0s 3ms/step - loss: 0.3477 - accuracy: 0.8618 - val_loss: 0.3218 - val_accuracy: 0.8706\n",
      "Epoch 117/1000\n",
      "22/22 [==============================] - 0s 3ms/step - loss: 0.3471 - accuracy: 0.8618 - val_loss: 0.3215 - val_accuracy: 0.8706\n",
      "Epoch 118/1000\n",
      "22/22 [==============================] - 0s 3ms/step - loss: 0.3468 - accuracy: 0.8618 - val_loss: 0.3209 - val_accuracy: 0.8706\n",
      "Epoch 119/1000\n",
      "22/22 [==============================] - 0s 3ms/step - loss: 0.3466 - accuracy: 0.8603 - val_loss: 0.3202 - val_accuracy: 0.8706\n",
      "Epoch 120/1000\n",
      "22/22 [==============================] - 0s 3ms/step - loss: 0.3461 - accuracy: 0.8618 - val_loss: 0.3200 - val_accuracy: 0.8706\n",
      "Epoch 121/1000\n",
      "22/22 [==============================] - 0s 3ms/step - loss: 0.3459 - accuracy: 0.8632 - val_loss: 0.3195 - val_accuracy: 0.8824\n",
      "Epoch 122/1000\n",
      "22/22 [==============================] - 0s 3ms/step - loss: 0.3455 - accuracy: 0.8647 - val_loss: 0.3191 - val_accuracy: 0.8824\n",
      "Epoch 123/1000\n",
      "22/22 [==============================] - 0s 3ms/step - loss: 0.3454 - accuracy: 0.8647 - val_loss: 0.3187 - val_accuracy: 0.8824\n",
      "Epoch 124/1000\n",
      "22/22 [==============================] - 0s 3ms/step - loss: 0.3451 - accuracy: 0.8662 - val_loss: 0.3185 - val_accuracy: 0.8824\n",
      "Epoch 125/1000\n",
      "22/22 [==============================] - 0s 3ms/step - loss: 0.3448 - accuracy: 0.8662 - val_loss: 0.3180 - val_accuracy: 0.8824\n",
      "Epoch 126/1000\n",
      "22/22 [==============================] - 0s 3ms/step - loss: 0.3445 - accuracy: 0.8662 - val_loss: 0.3177 - val_accuracy: 0.8824\n",
      "Epoch 127/1000\n",
      "22/22 [==============================] - 0s 3ms/step - loss: 0.3442 - accuracy: 0.8676 - val_loss: 0.3174 - val_accuracy: 0.8824\n",
      "Epoch 128/1000\n",
      "22/22 [==============================] - 0s 3ms/step - loss: 0.3443 - accuracy: 0.8662 - val_loss: 0.3170 - val_accuracy: 0.8824\n",
      "Epoch 129/1000\n",
      "22/22 [==============================] - 0s 3ms/step - loss: 0.3437 - accuracy: 0.8691 - val_loss: 0.3171 - val_accuracy: 0.8824\n",
      "Epoch 130/1000\n",
      "22/22 [==============================] - 0s 3ms/step - loss: 0.3435 - accuracy: 0.8662 - val_loss: 0.3167 - val_accuracy: 0.8824\n",
      "Epoch 131/1000\n",
      "22/22 [==============================] - 0s 3ms/step - loss: 0.3434 - accuracy: 0.8676 - val_loss: 0.3163 - val_accuracy: 0.8824\n",
      "Epoch 132/1000\n",
      "22/22 [==============================] - 0s 3ms/step - loss: 0.3431 - accuracy: 0.8676 - val_loss: 0.3160 - val_accuracy: 0.8824\n",
      "Epoch 133/1000\n",
      "22/22 [==============================] - 0s 3ms/step - loss: 0.3430 - accuracy: 0.8676 - val_loss: 0.3153 - val_accuracy: 0.8824\n",
      "Epoch 134/1000\n",
      "22/22 [==============================] - 0s 4ms/step - loss: 0.3425 - accuracy: 0.8676 - val_loss: 0.3149 - val_accuracy: 0.8824\n",
      "Epoch 135/1000\n",
      "22/22 [==============================] - 0s 3ms/step - loss: 0.3423 - accuracy: 0.8662 - val_loss: 0.3147 - val_accuracy: 0.8824\n",
      "Epoch 136/1000\n",
      "22/22 [==============================] - 0s 4ms/step - loss: 0.3421 - accuracy: 0.8676 - val_loss: 0.3143 - val_accuracy: 0.8824\n",
      "Epoch 137/1000\n",
      "22/22 [==============================] - 0s 4ms/step - loss: 0.3420 - accuracy: 0.8691 - val_loss: 0.3139 - val_accuracy: 0.8824\n",
      "Epoch 138/1000\n",
      "22/22 [==============================] - 0s 4ms/step - loss: 0.3418 - accuracy: 0.8676 - val_loss: 0.3138 - val_accuracy: 0.8824\n",
      "Epoch 139/1000\n",
      "22/22 [==============================] - 0s 3ms/step - loss: 0.3415 - accuracy: 0.8676 - val_loss: 0.3136 - val_accuracy: 0.8824\n",
      "Epoch 140/1000\n",
      "22/22 [==============================] - 0s 3ms/step - loss: 0.3413 - accuracy: 0.8676 - val_loss: 0.3133 - val_accuracy: 0.8824\n",
      "Epoch 141/1000\n",
      "22/22 [==============================] - 0s 3ms/step - loss: 0.3410 - accuracy: 0.8676 - val_loss: 0.3130 - val_accuracy: 0.8824\n",
      "Epoch 142/1000\n",
      "22/22 [==============================] - 0s 3ms/step - loss: 0.3409 - accuracy: 0.8676 - val_loss: 0.3128 - val_accuracy: 0.8824\n",
      "Epoch 143/1000\n",
      "22/22 [==============================] - 0s 4ms/step - loss: 0.3406 - accuracy: 0.8691 - val_loss: 0.3125 - val_accuracy: 0.8824\n",
      "Epoch 144/1000\n",
      "22/22 [==============================] - 0s 5ms/step - loss: 0.3404 - accuracy: 0.8691 - val_loss: 0.3121 - val_accuracy: 0.8824\n",
      "Epoch 145/1000\n",
      "22/22 [==============================] - 0s 3ms/step - loss: 0.3404 - accuracy: 0.8691 - val_loss: 0.3120 - val_accuracy: 0.8824\n",
      "Epoch 146/1000\n",
      "22/22 [==============================] - 0s 3ms/step - loss: 0.3401 - accuracy: 0.8691 - val_loss: 0.3115 - val_accuracy: 0.8882\n",
      "Epoch 147/1000\n",
      "22/22 [==============================] - 0s 3ms/step - loss: 0.3399 - accuracy: 0.8691 - val_loss: 0.3112 - val_accuracy: 0.8882\n",
      "Epoch 148/1000\n",
      "22/22 [==============================] - 0s 3ms/step - loss: 0.3398 - accuracy: 0.8691 - val_loss: 0.3112 - val_accuracy: 0.8882\n",
      "Epoch 149/1000\n",
      "22/22 [==============================] - 0s 3ms/step - loss: 0.3396 - accuracy: 0.8691 - val_loss: 0.3112 - val_accuracy: 0.8882\n",
      "Epoch 150/1000\n",
      "22/22 [==============================] - 0s 4ms/step - loss: 0.3394 - accuracy: 0.8706 - val_loss: 0.3108 - val_accuracy: 0.8882\n",
      "Epoch 151/1000\n",
      "22/22 [==============================] - 0s 3ms/step - loss: 0.3391 - accuracy: 0.8691 - val_loss: 0.3108 - val_accuracy: 0.8882\n",
      "Epoch 152/1000\n",
      "22/22 [==============================] - 0s 3ms/step - loss: 0.3389 - accuracy: 0.8691 - val_loss: 0.3105 - val_accuracy: 0.8882\n",
      "Epoch 153/1000\n",
      "22/22 [==============================] - 0s 3ms/step - loss: 0.3388 - accuracy: 0.8691 - val_loss: 0.3104 - val_accuracy: 0.8882\n",
      "Epoch 154/1000\n",
      "22/22 [==============================] - 0s 3ms/step - loss: 0.3386 - accuracy: 0.8691 - val_loss: 0.3101 - val_accuracy: 0.8882\n",
      "Epoch 155/1000\n",
      "22/22 [==============================] - 0s 3ms/step - loss: 0.3385 - accuracy: 0.8691 - val_loss: 0.3097 - val_accuracy: 0.8882\n",
      "Epoch 156/1000\n",
      "22/22 [==============================] - 0s 3ms/step - loss: 0.3382 - accuracy: 0.8706 - val_loss: 0.3096 - val_accuracy: 0.8882\n",
      "Epoch 157/1000\n",
      "22/22 [==============================] - 0s 3ms/step - loss: 0.3384 - accuracy: 0.8691 - val_loss: 0.3091 - val_accuracy: 0.8882\n",
      "Epoch 158/1000\n",
      "22/22 [==============================] - 0s 3ms/step - loss: 0.3379 - accuracy: 0.8691 - val_loss: 0.3090 - val_accuracy: 0.8882\n",
      "Epoch 159/1000\n",
      "22/22 [==============================] - 0s 3ms/step - loss: 0.3378 - accuracy: 0.8691 - val_loss: 0.3087 - val_accuracy: 0.8882\n",
      "Epoch 160/1000\n",
      "22/22 [==============================] - 0s 3ms/step - loss: 0.3376 - accuracy: 0.8691 - val_loss: 0.3087 - val_accuracy: 0.8882\n",
      "Epoch 161/1000\n",
      "22/22 [==============================] - 0s 4ms/step - loss: 0.3375 - accuracy: 0.8706 - val_loss: 0.3084 - val_accuracy: 0.8882\n",
      "Epoch 162/1000\n",
      "22/22 [==============================] - 0s 3ms/step - loss: 0.3373 - accuracy: 0.8706 - val_loss: 0.3082 - val_accuracy: 0.8882\n",
      "Epoch 163/1000\n",
      "22/22 [==============================] - 0s 3ms/step - loss: 0.3372 - accuracy: 0.8706 - val_loss: 0.3078 - val_accuracy: 0.8882\n",
      "Epoch 164/1000\n",
      "22/22 [==============================] - 0s 3ms/step - loss: 0.3370 - accuracy: 0.8691 - val_loss: 0.3076 - val_accuracy: 0.8882\n",
      "Epoch 165/1000\n",
      "22/22 [==============================] - 0s 3ms/step - loss: 0.3368 - accuracy: 0.8706 - val_loss: 0.3075 - val_accuracy: 0.8882\n",
      "Epoch 166/1000\n",
      "22/22 [==============================] - 0s 3ms/step - loss: 0.3366 - accuracy: 0.8706 - val_loss: 0.3073 - val_accuracy: 0.8882\n",
      "Epoch 167/1000\n",
      "22/22 [==============================] - 0s 3ms/step - loss: 0.3367 - accuracy: 0.8706 - val_loss: 0.3072 - val_accuracy: 0.8882\n",
      "Epoch 168/1000\n",
      "22/22 [==============================] - 0s 3ms/step - loss: 0.3364 - accuracy: 0.8691 - val_loss: 0.3067 - val_accuracy: 0.8882\n",
      "Epoch 169/1000\n",
      "22/22 [==============================] - 0s 3ms/step - loss: 0.3362 - accuracy: 0.8691 - val_loss: 0.3065 - val_accuracy: 0.8882\n",
      "Epoch 170/1000\n",
      "22/22 [==============================] - 0s 3ms/step - loss: 0.3361 - accuracy: 0.8691 - val_loss: 0.3066 - val_accuracy: 0.8882\n",
      "Epoch 171/1000\n",
      "22/22 [==============================] - 0s 3ms/step - loss: 0.3360 - accuracy: 0.8691 - val_loss: 0.3065 - val_accuracy: 0.8941\n"
     ]
    },
    {
     "name": "stdout",
     "output_type": "stream",
     "text": [
      "Epoch 172/1000\n",
      "22/22 [==============================] - 0s 3ms/step - loss: 0.3360 - accuracy: 0.8721 - val_loss: 0.3062 - val_accuracy: 0.8941\n",
      "Epoch 173/1000\n",
      "22/22 [==============================] - 0s 3ms/step - loss: 0.3356 - accuracy: 0.8676 - val_loss: 0.3063 - val_accuracy: 0.8941\n",
      "Epoch 174/1000\n",
      "22/22 [==============================] - 0s 3ms/step - loss: 0.3356 - accuracy: 0.8691 - val_loss: 0.3060 - val_accuracy: 0.8941\n",
      "Epoch 175/1000\n",
      "22/22 [==============================] - 0s 3ms/step - loss: 0.3355 - accuracy: 0.8691 - val_loss: 0.3056 - val_accuracy: 0.8882\n",
      "Epoch 176/1000\n",
      "22/22 [==============================] - 0s 3ms/step - loss: 0.3353 - accuracy: 0.8691 - val_loss: 0.3054 - val_accuracy: 0.8882\n",
      "Epoch 177/1000\n",
      "22/22 [==============================] - 0s 3ms/step - loss: 0.3352 - accuracy: 0.8706 - val_loss: 0.3055 - val_accuracy: 0.8941\n",
      "Epoch 178/1000\n",
      "22/22 [==============================] - 0s 3ms/step - loss: 0.3350 - accuracy: 0.8706 - val_loss: 0.3056 - val_accuracy: 0.8941\n",
      "Epoch 179/1000\n",
      "22/22 [==============================] - 0s 3ms/step - loss: 0.3350 - accuracy: 0.8691 - val_loss: 0.3052 - val_accuracy: 0.8941\n",
      "Epoch 180/1000\n",
      "22/22 [==============================] - 0s 3ms/step - loss: 0.3348 - accuracy: 0.8676 - val_loss: 0.3051 - val_accuracy: 0.8941\n",
      "Epoch 181/1000\n",
      "22/22 [==============================] - 0s 3ms/step - loss: 0.3346 - accuracy: 0.8706 - val_loss: 0.3047 - val_accuracy: 0.8882\n",
      "Epoch 182/1000\n",
      "22/22 [==============================] - 0s 3ms/step - loss: 0.3347 - accuracy: 0.8691 - val_loss: 0.3043 - val_accuracy: 0.8882\n",
      "Epoch 183/1000\n",
      "22/22 [==============================] - 0s 3ms/step - loss: 0.3344 - accuracy: 0.8691 - val_loss: 0.3043 - val_accuracy: 0.8882\n",
      "Epoch 184/1000\n",
      "22/22 [==============================] - 0s 3ms/step - loss: 0.3343 - accuracy: 0.8691 - val_loss: 0.3040 - val_accuracy: 0.8882\n",
      "Epoch 185/1000\n",
      "22/22 [==============================] - 0s 3ms/step - loss: 0.3342 - accuracy: 0.8676 - val_loss: 0.3039 - val_accuracy: 0.8882\n",
      "Epoch 186/1000\n",
      "22/22 [==============================] - 0s 3ms/step - loss: 0.3343 - accuracy: 0.8691 - val_loss: 0.3041 - val_accuracy: 0.8941\n",
      "Epoch 187/1000\n",
      "22/22 [==============================] - 0s 3ms/step - loss: 0.3339 - accuracy: 0.8691 - val_loss: 0.3037 - val_accuracy: 0.8941\n",
      "Epoch 188/1000\n",
      "22/22 [==============================] - 0s 3ms/step - loss: 0.3339 - accuracy: 0.8691 - val_loss: 0.3034 - val_accuracy: 0.8941\n",
      "Epoch 189/1000\n",
      "22/22 [==============================] - 0s 3ms/step - loss: 0.3337 - accuracy: 0.8691 - val_loss: 0.3035 - val_accuracy: 0.8941\n",
      "Epoch 190/1000\n",
      "22/22 [==============================] - 0s 3ms/step - loss: 0.3335 - accuracy: 0.8706 - val_loss: 0.3035 - val_accuracy: 0.8941\n",
      "Epoch 191/1000\n",
      "22/22 [==============================] - 0s 4ms/step - loss: 0.3336 - accuracy: 0.8691 - val_loss: 0.3035 - val_accuracy: 0.8941\n",
      "Epoch 192/1000\n",
      "22/22 [==============================] - 0s 3ms/step - loss: 0.3333 - accuracy: 0.8706 - val_loss: 0.3032 - val_accuracy: 0.8941\n",
      "Epoch 193/1000\n",
      "22/22 [==============================] - 0s 3ms/step - loss: 0.3332 - accuracy: 0.8676 - val_loss: 0.3027 - val_accuracy: 0.8941\n",
      "Epoch 194/1000\n",
      "22/22 [==============================] - 0s 3ms/step - loss: 0.3331 - accuracy: 0.8691 - val_loss: 0.3028 - val_accuracy: 0.8941\n",
      "Epoch 195/1000\n",
      "22/22 [==============================] - 0s 3ms/step - loss: 0.3330 - accuracy: 0.8691 - val_loss: 0.3027 - val_accuracy: 0.8941\n",
      "Epoch 196/1000\n",
      "22/22 [==============================] - 0s 3ms/step - loss: 0.3331 - accuracy: 0.8691 - val_loss: 0.3024 - val_accuracy: 0.8941\n",
      "Epoch 197/1000\n",
      "22/22 [==============================] - 0s 3ms/step - loss: 0.3329 - accuracy: 0.8706 - val_loss: 0.3026 - val_accuracy: 0.8941\n",
      "Epoch 198/1000\n",
      "22/22 [==============================] - 0s 3ms/step - loss: 0.3327 - accuracy: 0.8706 - val_loss: 0.3023 - val_accuracy: 0.8941\n",
      "Epoch 199/1000\n",
      "22/22 [==============================] - 0s 3ms/step - loss: 0.3327 - accuracy: 0.8706 - val_loss: 0.3023 - val_accuracy: 0.8941\n",
      "Epoch 200/1000\n",
      "22/22 [==============================] - 0s 3ms/step - loss: 0.3327 - accuracy: 0.8706 - val_loss: 0.3021 - val_accuracy: 0.8941\n",
      "Epoch 201/1000\n",
      "22/22 [==============================] - 0s 3ms/step - loss: 0.3326 - accuracy: 0.8691 - val_loss: 0.3021 - val_accuracy: 0.8941\n",
      "Epoch 202/1000\n",
      "22/22 [==============================] - 0s 3ms/step - loss: 0.3323 - accuracy: 0.8706 - val_loss: 0.3022 - val_accuracy: 0.8941\n",
      "Epoch 203/1000\n",
      "22/22 [==============================] - 0s 3ms/step - loss: 0.3322 - accuracy: 0.8706 - val_loss: 0.3023 - val_accuracy: 0.8941\n",
      "Epoch 204/1000\n",
      "22/22 [==============================] - 0s 3ms/step - loss: 0.3321 - accuracy: 0.8721 - val_loss: 0.3022 - val_accuracy: 0.8941\n",
      "Epoch 205/1000\n",
      "22/22 [==============================] - 0s 3ms/step - loss: 0.3320 - accuracy: 0.8691 - val_loss: 0.3022 - val_accuracy: 0.8941\n",
      "Epoch 206/1000\n",
      "22/22 [==============================] - 0s 3ms/step - loss: 0.3319 - accuracy: 0.8691 - val_loss: 0.3018 - val_accuracy: 0.8941\n",
      "Epoch 207/1000\n",
      "22/22 [==============================] - 0s 3ms/step - loss: 0.3321 - accuracy: 0.8721 - val_loss: 0.3014 - val_accuracy: 0.8941\n",
      "Epoch 208/1000\n",
      "22/22 [==============================] - 0s 4ms/step - loss: 0.3317 - accuracy: 0.8706 - val_loss: 0.3013 - val_accuracy: 0.8941\n",
      "Epoch 209/1000\n",
      "22/22 [==============================] - 0s 3ms/step - loss: 0.3316 - accuracy: 0.8706 - val_loss: 0.3014 - val_accuracy: 0.8941\n",
      "Epoch 210/1000\n",
      "22/22 [==============================] - 0s 3ms/step - loss: 0.3316 - accuracy: 0.8706 - val_loss: 0.3014 - val_accuracy: 0.8941\n",
      "Epoch 211/1000\n",
      "22/22 [==============================] - 0s 3ms/step - loss: 0.3315 - accuracy: 0.8706 - val_loss: 0.3012 - val_accuracy: 0.8941\n",
      "Epoch 212/1000\n",
      "22/22 [==============================] - 0s 3ms/step - loss: 0.3316 - accuracy: 0.8721 - val_loss: 0.3012 - val_accuracy: 0.8941\n",
      "Epoch 213/1000\n",
      "22/22 [==============================] - 0s 3ms/step - loss: 0.3312 - accuracy: 0.8721 - val_loss: 0.3010 - val_accuracy: 0.8941\n",
      "Epoch 214/1000\n",
      "22/22 [==============================] - 0s 3ms/step - loss: 0.3313 - accuracy: 0.8706 - val_loss: 0.3007 - val_accuracy: 0.8941\n",
      "Epoch 215/1000\n",
      "22/22 [==============================] - 0s 3ms/step - loss: 0.3314 - accuracy: 0.8691 - val_loss: 0.3006 - val_accuracy: 0.8941\n",
      "Epoch 216/1000\n",
      "22/22 [==============================] - 0s 3ms/step - loss: 0.3314 - accuracy: 0.8706 - val_loss: 0.3003 - val_accuracy: 0.8941\n",
      "Epoch 217/1000\n",
      "22/22 [==============================] - 0s 3ms/step - loss: 0.3309 - accuracy: 0.8706 - val_loss: 0.3002 - val_accuracy: 0.8941\n",
      "Epoch 218/1000\n",
      "22/22 [==============================] - 0s 3ms/step - loss: 0.3310 - accuracy: 0.8706 - val_loss: 0.3005 - val_accuracy: 0.8941\n",
      "Epoch 219/1000\n",
      "22/22 [==============================] - 0s 3ms/step - loss: 0.3309 - accuracy: 0.8706 - val_loss: 0.3003 - val_accuracy: 0.8941\n",
      "Epoch 220/1000\n",
      "22/22 [==============================] - 0s 3ms/step - loss: 0.3308 - accuracy: 0.8706 - val_loss: 0.3003 - val_accuracy: 0.8941\n",
      "Epoch 221/1000\n",
      "22/22 [==============================] - 0s 4ms/step - loss: 0.3306 - accuracy: 0.8721 - val_loss: 0.3002 - val_accuracy: 0.8941\n",
      "Epoch 222/1000\n",
      "22/22 [==============================] - 0s 5ms/step - loss: 0.3305 - accuracy: 0.8706 - val_loss: 0.3002 - val_accuracy: 0.8941\n",
      "Epoch 223/1000\n",
      "22/22 [==============================] - 0s 5ms/step - loss: 0.3304 - accuracy: 0.8706 - val_loss: 0.3001 - val_accuracy: 0.8941\n",
      "Epoch 224/1000\n",
      "22/22 [==============================] - 0s 4ms/step - loss: 0.3303 - accuracy: 0.8706 - val_loss: 0.3000 - val_accuracy: 0.8941\n",
      "Epoch 225/1000\n",
      "22/22 [==============================] - 0s 4ms/step - loss: 0.3302 - accuracy: 0.8706 - val_loss: 0.2998 - val_accuracy: 0.8941\n",
      "Epoch 226/1000\n",
      "22/22 [==============================] - 0s 4ms/step - loss: 0.3301 - accuracy: 0.8706 - val_loss: 0.2998 - val_accuracy: 0.8941\n",
      "Epoch 227/1000\n",
      "22/22 [==============================] - 0s 4ms/step - loss: 0.3302 - accuracy: 0.8706 - val_loss: 0.2998 - val_accuracy: 0.8941\n",
      "Epoch 228/1000\n",
      "22/22 [==============================] - 0s 4ms/step - loss: 0.3301 - accuracy: 0.8735 - val_loss: 0.2998 - val_accuracy: 0.9000\n"
     ]
    },
    {
     "name": "stdout",
     "output_type": "stream",
     "text": [
      "Epoch 229/1000\n",
      "22/22 [==============================] - 0s 3ms/step - loss: 0.3300 - accuracy: 0.8706 - val_loss: 0.2994 - val_accuracy: 0.8941\n",
      "Epoch 230/1000\n",
      "22/22 [==============================] - 0s 3ms/step - loss: 0.3299 - accuracy: 0.8721 - val_loss: 0.2997 - val_accuracy: 0.9000\n",
      "Epoch 231/1000\n",
      "22/22 [==============================] - 0s 3ms/step - loss: 0.3297 - accuracy: 0.8735 - val_loss: 0.2996 - val_accuracy: 0.9000\n",
      "Epoch 232/1000\n",
      "22/22 [==============================] - 0s 4ms/step - loss: 0.3298 - accuracy: 0.8735 - val_loss: 0.2994 - val_accuracy: 0.9000\n",
      "Epoch 233/1000\n",
      "22/22 [==============================] - 0s 4ms/step - loss: 0.3296 - accuracy: 0.8735 - val_loss: 0.2994 - val_accuracy: 0.9000\n",
      "Epoch 234/1000\n",
      "22/22 [==============================] - 0s 4ms/step - loss: 0.3297 - accuracy: 0.8721 - val_loss: 0.2993 - val_accuracy: 0.8941\n",
      "Epoch 235/1000\n",
      "22/22 [==============================] - 0s 3ms/step - loss: 0.3294 - accuracy: 0.8721 - val_loss: 0.2992 - val_accuracy: 0.8941\n",
      "Epoch 236/1000\n",
      "22/22 [==============================] - 0s 4ms/step - loss: 0.3294 - accuracy: 0.8735 - val_loss: 0.2990 - val_accuracy: 0.8941\n",
      "Epoch 237/1000\n",
      "22/22 [==============================] - 0s 4ms/step - loss: 0.3293 - accuracy: 0.8721 - val_loss: 0.2990 - val_accuracy: 0.9000\n",
      "Epoch 238/1000\n",
      "22/22 [==============================] - 0s 3ms/step - loss: 0.3293 - accuracy: 0.8735 - val_loss: 0.2988 - val_accuracy: 0.8941\n",
      "Epoch 239/1000\n",
      "22/22 [==============================] - 0s 3ms/step - loss: 0.3293 - accuracy: 0.8735 - val_loss: 0.2987 - val_accuracy: 0.9000\n",
      "Epoch 240/1000\n",
      "22/22 [==============================] - 0s 3ms/step - loss: 0.3290 - accuracy: 0.8735 - val_loss: 0.2985 - val_accuracy: 0.9000\n",
      "Epoch 241/1000\n",
      "22/22 [==============================] - 0s 3ms/step - loss: 0.3291 - accuracy: 0.8721 - val_loss: 0.2986 - val_accuracy: 0.8941\n",
      "Epoch 242/1000\n",
      "22/22 [==============================] - 0s 3ms/step - loss: 0.3290 - accuracy: 0.8735 - val_loss: 0.2987 - val_accuracy: 0.9000\n",
      "Epoch 243/1000\n",
      "22/22 [==============================] - 0s 4ms/step - loss: 0.3288 - accuracy: 0.8721 - val_loss: 0.2986 - val_accuracy: 0.8941\n",
      "Epoch 244/1000\n",
      "22/22 [==============================] - 0s 4ms/step - loss: 0.3288 - accuracy: 0.8735 - val_loss: 0.2983 - val_accuracy: 0.9000\n",
      "Epoch 245/1000\n",
      "22/22 [==============================] - 0s 3ms/step - loss: 0.3287 - accuracy: 0.8735 - val_loss: 0.2982 - val_accuracy: 0.9000\n",
      "Epoch 246/1000\n",
      "22/22 [==============================] - 0s 3ms/step - loss: 0.3286 - accuracy: 0.8735 - val_loss: 0.2983 - val_accuracy: 0.8941\n",
      "Epoch 247/1000\n",
      "22/22 [==============================] - 0s 3ms/step - loss: 0.3287 - accuracy: 0.8721 - val_loss: 0.2984 - val_accuracy: 0.9000\n",
      "Epoch 248/1000\n",
      "22/22 [==============================] - 0s 4ms/step - loss: 0.3285 - accuracy: 0.8735 - val_loss: 0.2981 - val_accuracy: 0.8941\n",
      "Epoch 249/1000\n",
      "22/22 [==============================] - 0s 3ms/step - loss: 0.3285 - accuracy: 0.8735 - val_loss: 0.2980 - val_accuracy: 0.9000\n",
      "Epoch 250/1000\n",
      "22/22 [==============================] - 0s 4ms/step - loss: 0.3283 - accuracy: 0.8735 - val_loss: 0.2979 - val_accuracy: 0.9000\n",
      "Epoch 251/1000\n",
      "22/22 [==============================] - 0s 3ms/step - loss: 0.3283 - accuracy: 0.8735 - val_loss: 0.2977 - val_accuracy: 0.8941\n",
      "Epoch 252/1000\n",
      "22/22 [==============================] - 0s 4ms/step - loss: 0.3282 - accuracy: 0.8721 - val_loss: 0.2978 - val_accuracy: 0.9000\n",
      "Epoch 253/1000\n",
      "22/22 [==============================] - 0s 3ms/step - loss: 0.3281 - accuracy: 0.8721 - val_loss: 0.2976 - val_accuracy: 0.9000\n",
      "Epoch 254/1000\n",
      "22/22 [==============================] - 0s 3ms/step - loss: 0.3280 - accuracy: 0.8721 - val_loss: 0.2976 - val_accuracy: 0.9000\n",
      "Epoch 255/1000\n",
      "22/22 [==============================] - 0s 3ms/step - loss: 0.3280 - accuracy: 0.8735 - val_loss: 0.2975 - val_accuracy: 0.9000\n",
      "Epoch 256/1000\n",
      "22/22 [==============================] - 0s 3ms/step - loss: 0.3279 - accuracy: 0.8735 - val_loss: 0.2974 - val_accuracy: 0.9000\n",
      "Epoch 257/1000\n",
      "22/22 [==============================] - 0s 3ms/step - loss: 0.3279 - accuracy: 0.8735 - val_loss: 0.2972 - val_accuracy: 0.9000\n",
      "Epoch 258/1000\n",
      "22/22 [==============================] - 0s 3ms/step - loss: 0.3280 - accuracy: 0.8691 - val_loss: 0.2977 - val_accuracy: 0.9000\n",
      "Epoch 259/1000\n",
      "22/22 [==============================] - 0s 3ms/step - loss: 0.3277 - accuracy: 0.8706 - val_loss: 0.2974 - val_accuracy: 0.9000\n",
      "Epoch 260/1000\n",
      "22/22 [==============================] - 0s 3ms/step - loss: 0.3277 - accuracy: 0.8691 - val_loss: 0.2974 - val_accuracy: 0.9000\n",
      "Epoch 261/1000\n",
      "22/22 [==============================] - 0s 3ms/step - loss: 0.3276 - accuracy: 0.8691 - val_loss: 0.2973 - val_accuracy: 0.9000\n",
      "Epoch 262/1000\n",
      "22/22 [==============================] - 0s 3ms/step - loss: 0.3276 - accuracy: 0.8706 - val_loss: 0.2972 - val_accuracy: 0.9000\n",
      "Epoch 263/1000\n",
      "22/22 [==============================] - 0s 3ms/step - loss: 0.3276 - accuracy: 0.8706 - val_loss: 0.2970 - val_accuracy: 0.9000\n",
      "Epoch 264/1000\n",
      "22/22 [==============================] - 0s 3ms/step - loss: 0.3274 - accuracy: 0.8706 - val_loss: 0.2969 - val_accuracy: 0.9000\n",
      "Epoch 265/1000\n",
      "22/22 [==============================] - 0s 3ms/step - loss: 0.3274 - accuracy: 0.8706 - val_loss: 0.2970 - val_accuracy: 0.9000\n",
      "Epoch 266/1000\n",
      "22/22 [==============================] - 0s 5ms/step - loss: 0.3273 - accuracy: 0.8706 - val_loss: 0.2971 - val_accuracy: 0.9000\n",
      "Epoch 267/1000\n",
      "22/22 [==============================] - 0s 5ms/step - loss: 0.3272 - accuracy: 0.8706 - val_loss: 0.2970 - val_accuracy: 0.9000\n",
      "Epoch 268/1000\n",
      "22/22 [==============================] - 0s 4ms/step - loss: 0.3273 - accuracy: 0.8721 - val_loss: 0.2970 - val_accuracy: 0.9000\n",
      "Epoch 269/1000\n",
      "22/22 [==============================] - 0s 3ms/step - loss: 0.3271 - accuracy: 0.8706 - val_loss: 0.2968 - val_accuracy: 0.9000\n",
      "Epoch 270/1000\n",
      "22/22 [==============================] - 0s 3ms/step - loss: 0.3272 - accuracy: 0.8735 - val_loss: 0.2967 - val_accuracy: 0.9000\n",
      "Epoch 271/1000\n",
      "22/22 [==============================] - 0s 3ms/step - loss: 0.3270 - accuracy: 0.8721 - val_loss: 0.2968 - val_accuracy: 0.9000\n",
      "Epoch 272/1000\n",
      "22/22 [==============================] - 0s 3ms/step - loss: 0.3270 - accuracy: 0.8721 - val_loss: 0.2966 - val_accuracy: 0.9000\n",
      "Epoch 273/1000\n",
      "22/22 [==============================] - 0s 3ms/step - loss: 0.3272 - accuracy: 0.8706 - val_loss: 0.2968 - val_accuracy: 0.9000\n",
      "Epoch 274/1000\n",
      "22/22 [==============================] - 0s 4ms/step - loss: 0.3269 - accuracy: 0.8706 - val_loss: 0.2965 - val_accuracy: 0.9000\n",
      "Epoch 275/1000\n",
      "22/22 [==============================] - 0s 4ms/step - loss: 0.3267 - accuracy: 0.8721 - val_loss: 0.2964 - val_accuracy: 0.9000\n",
      "Epoch 276/1000\n",
      "22/22 [==============================] - 0s 4ms/step - loss: 0.3267 - accuracy: 0.8735 - val_loss: 0.2964 - val_accuracy: 0.9000\n",
      "Epoch 277/1000\n",
      "22/22 [==============================] - 0s 4ms/step - loss: 0.3267 - accuracy: 0.8735 - val_loss: 0.2962 - val_accuracy: 0.9000\n",
      "Epoch 278/1000\n",
      "22/22 [==============================] - 0s 4ms/step - loss: 0.3266 - accuracy: 0.8706 - val_loss: 0.2963 - val_accuracy: 0.9000\n",
      "Epoch 279/1000\n",
      "22/22 [==============================] - 0s 4ms/step - loss: 0.3266 - accuracy: 0.8706 - val_loss: 0.2962 - val_accuracy: 0.9000\n",
      "Epoch 280/1000\n",
      "22/22 [==============================] - 0s 4ms/step - loss: 0.3266 - accuracy: 0.8735 - val_loss: 0.2962 - val_accuracy: 0.9000\n",
      "Epoch 281/1000\n",
      "22/22 [==============================] - 0s 3ms/step - loss: 0.3265 - accuracy: 0.8735 - val_loss: 0.2961 - val_accuracy: 0.9000\n",
      "Epoch 282/1000\n",
      "22/22 [==============================] - 0s 3ms/step - loss: 0.3265 - accuracy: 0.8721 - val_loss: 0.2961 - val_accuracy: 0.9000\n",
      "Epoch 283/1000\n",
      "22/22 [==============================] - 0s 3ms/step - loss: 0.3263 - accuracy: 0.8735 - val_loss: 0.2959 - val_accuracy: 0.9000\n",
      "Epoch 284/1000\n",
      "22/22 [==============================] - 0s 3ms/step - loss: 0.3263 - accuracy: 0.8735 - val_loss: 0.2960 - val_accuracy: 0.9000\n",
      "Epoch 285/1000\n",
      "22/22 [==============================] - 0s 3ms/step - loss: 0.3263 - accuracy: 0.8735 - val_loss: 0.2959 - val_accuracy: 0.9000\n"
     ]
    },
    {
     "name": "stdout",
     "output_type": "stream",
     "text": [
      "Epoch 286/1000\n",
      "22/22 [==============================] - 0s 4ms/step - loss: 0.3262 - accuracy: 0.8706 - val_loss: 0.2960 - val_accuracy: 0.9000\n",
      "Epoch 287/1000\n",
      "22/22 [==============================] - 0s 4ms/step - loss: 0.3263 - accuracy: 0.8721 - val_loss: 0.2959 - val_accuracy: 0.9000\n",
      "Epoch 288/1000\n",
      "22/22 [==============================] - 0s 3ms/step - loss: 0.3262 - accuracy: 0.8706 - val_loss: 0.2961 - val_accuracy: 0.9000\n",
      "Epoch 289/1000\n",
      "22/22 [==============================] - 0s 3ms/step - loss: 0.3260 - accuracy: 0.8706 - val_loss: 0.2959 - val_accuracy: 0.9000\n",
      "Epoch 290/1000\n",
      "22/22 [==============================] - 0s 3ms/step - loss: 0.3261 - accuracy: 0.8691 - val_loss: 0.2958 - val_accuracy: 0.9000\n",
      "Epoch 291/1000\n",
      "22/22 [==============================] - 0s 3ms/step - loss: 0.3260 - accuracy: 0.8706 - val_loss: 0.2956 - val_accuracy: 0.9000\n",
      "Epoch 292/1000\n",
      "22/22 [==============================] - 0s 3ms/step - loss: 0.3260 - accuracy: 0.8706 - val_loss: 0.2956 - val_accuracy: 0.9000\n",
      "Epoch 293/1000\n",
      "22/22 [==============================] - 0s 3ms/step - loss: 0.3259 - accuracy: 0.8706 - val_loss: 0.2954 - val_accuracy: 0.9000\n",
      "Epoch 294/1000\n",
      "22/22 [==============================] - 0s 3ms/step - loss: 0.3258 - accuracy: 0.8691 - val_loss: 0.2954 - val_accuracy: 0.9000\n",
      "Epoch 295/1000\n",
      "22/22 [==============================] - 0s 3ms/step - loss: 0.3257 - accuracy: 0.8706 - val_loss: 0.2954 - val_accuracy: 0.9000\n",
      "Epoch 296/1000\n",
      "22/22 [==============================] - 0s 3ms/step - loss: 0.3258 - accuracy: 0.8706 - val_loss: 0.2952 - val_accuracy: 0.9000\n",
      "Epoch 297/1000\n",
      "22/22 [==============================] - 0s 4ms/step - loss: 0.3256 - accuracy: 0.8706 - val_loss: 0.2950 - val_accuracy: 0.9000\n",
      "Epoch 298/1000\n",
      "22/22 [==============================] - 0s 3ms/step - loss: 0.3256 - accuracy: 0.8706 - val_loss: 0.2953 - val_accuracy: 0.9000\n",
      "Epoch 299/1000\n",
      "22/22 [==============================] - 0s 3ms/step - loss: 0.3256 - accuracy: 0.8706 - val_loss: 0.2951 - val_accuracy: 0.9000\n",
      "Epoch 300/1000\n",
      "22/22 [==============================] - 0s 3ms/step - loss: 0.3255 - accuracy: 0.8691 - val_loss: 0.2948 - val_accuracy: 0.9000\n",
      "Epoch 301/1000\n",
      "22/22 [==============================] - 0s 3ms/step - loss: 0.3255 - accuracy: 0.8691 - val_loss: 0.2952 - val_accuracy: 0.9000\n",
      "Epoch 302/1000\n",
      "22/22 [==============================] - 0s 3ms/step - loss: 0.3255 - accuracy: 0.8691 - val_loss: 0.2949 - val_accuracy: 0.9000\n",
      "Epoch 303/1000\n",
      "22/22 [==============================] - 0s 3ms/step - loss: 0.3256 - accuracy: 0.8706 - val_loss: 0.2952 - val_accuracy: 0.9000\n",
      "Epoch 304/1000\n",
      "22/22 [==============================] - 0s 3ms/step - loss: 0.3253 - accuracy: 0.8706 - val_loss: 0.2951 - val_accuracy: 0.9000\n",
      "Epoch 305/1000\n",
      "22/22 [==============================] - 0s 3ms/step - loss: 0.3253 - accuracy: 0.8706 - val_loss: 0.2947 - val_accuracy: 0.9000\n",
      "Epoch 306/1000\n",
      "22/22 [==============================] - 0s 3ms/step - loss: 0.3256 - accuracy: 0.8721 - val_loss: 0.2946 - val_accuracy: 0.9000\n",
      "Epoch 307/1000\n",
      "22/22 [==============================] - 0s 3ms/step - loss: 0.3254 - accuracy: 0.8706 - val_loss: 0.2946 - val_accuracy: 0.9000\n",
      "Epoch 308/1000\n",
      "22/22 [==============================] - 0s 3ms/step - loss: 0.3252 - accuracy: 0.8721 - val_loss: 0.2945 - val_accuracy: 0.9000\n",
      "Epoch 309/1000\n",
      "22/22 [==============================] - 0s 3ms/step - loss: 0.3252 - accuracy: 0.8691 - val_loss: 0.2945 - val_accuracy: 0.9000\n",
      "Epoch 310/1000\n",
      "22/22 [==============================] - 0s 3ms/step - loss: 0.3251 - accuracy: 0.8721 - val_loss: 0.2945 - val_accuracy: 0.9000\n",
      "Epoch 311/1000\n",
      "22/22 [==============================] - 0s 3ms/step - loss: 0.3250 - accuracy: 0.8721 - val_loss: 0.2946 - val_accuracy: 0.9000\n",
      "Epoch 312/1000\n",
      "22/22 [==============================] - 0s 3ms/step - loss: 0.3250 - accuracy: 0.8706 - val_loss: 0.2945 - val_accuracy: 0.9000\n",
      "Epoch 313/1000\n",
      "22/22 [==============================] - 0s 3ms/step - loss: 0.3250 - accuracy: 0.8691 - val_loss: 0.2945 - val_accuracy: 0.9000\n",
      "Epoch 314/1000\n",
      "22/22 [==============================] - 0s 3ms/step - loss: 0.3249 - accuracy: 0.8706 - val_loss: 0.2945 - val_accuracy: 0.9000\n",
      "Epoch 315/1000\n",
      "22/22 [==============================] - 0s 3ms/step - loss: 0.3249 - accuracy: 0.8706 - val_loss: 0.2943 - val_accuracy: 0.9000\n",
      "Epoch 316/1000\n",
      "22/22 [==============================] - 0s 3ms/step - loss: 0.3247 - accuracy: 0.8706 - val_loss: 0.2943 - val_accuracy: 0.9000\n",
      "Epoch 317/1000\n",
      "22/22 [==============================] - 0s 3ms/step - loss: 0.3247 - accuracy: 0.8706 - val_loss: 0.2944 - val_accuracy: 0.9000\n",
      "Epoch 318/1000\n",
      "22/22 [==============================] - 0s 3ms/step - loss: 0.3247 - accuracy: 0.8706 - val_loss: 0.2944 - val_accuracy: 0.9000\n",
      "Epoch 319/1000\n",
      "22/22 [==============================] - 0s 3ms/step - loss: 0.3247 - accuracy: 0.8706 - val_loss: 0.2945 - val_accuracy: 0.9000\n",
      "Epoch 320/1000\n",
      "22/22 [==============================] - 0s 3ms/step - loss: 0.3246 - accuracy: 0.8706 - val_loss: 0.2943 - val_accuracy: 0.9000\n",
      "Epoch 321/1000\n",
      "22/22 [==============================] - 0s 3ms/step - loss: 0.3248 - accuracy: 0.8721 - val_loss: 0.2944 - val_accuracy: 0.9000\n",
      "Epoch 322/1000\n",
      "22/22 [==============================] - 0s 3ms/step - loss: 0.3248 - accuracy: 0.8706 - val_loss: 0.2941 - val_accuracy: 0.9000\n",
      "Epoch 323/1000\n",
      "22/22 [==============================] - 0s 3ms/step - loss: 0.3244 - accuracy: 0.8706 - val_loss: 0.2941 - val_accuracy: 0.9000\n",
      "Epoch 324/1000\n",
      "22/22 [==============================] - 0s 5ms/step - loss: 0.3245 - accuracy: 0.8691 - val_loss: 0.2941 - val_accuracy: 0.9000\n",
      "Epoch 325/1000\n",
      "22/22 [==============================] - 0s 4ms/step - loss: 0.3244 - accuracy: 0.8706 - val_loss: 0.2939 - val_accuracy: 0.9000\n",
      "Epoch 326/1000\n",
      "22/22 [==============================] - 0s 3ms/step - loss: 0.3244 - accuracy: 0.8706 - val_loss: 0.2939 - val_accuracy: 0.9000\n",
      "Epoch 327/1000\n",
      "22/22 [==============================] - 0s 4ms/step - loss: 0.3243 - accuracy: 0.8721 - val_loss: 0.2938 - val_accuracy: 0.9000\n",
      "Epoch 328/1000\n",
      "22/22 [==============================] - 0s 4ms/step - loss: 0.3243 - accuracy: 0.8706 - val_loss: 0.2939 - val_accuracy: 0.9000\n",
      "Epoch 329/1000\n",
      "22/22 [==============================] - 0s 3ms/step - loss: 0.3243 - accuracy: 0.8706 - val_loss: 0.2939 - val_accuracy: 0.9000\n",
      "Epoch 330/1000\n",
      "22/22 [==============================] - 0s 3ms/step - loss: 0.3242 - accuracy: 0.8706 - val_loss: 0.2939 - val_accuracy: 0.9000\n",
      "Epoch 331/1000\n",
      "22/22 [==============================] - 0s 3ms/step - loss: 0.3242 - accuracy: 0.8721 - val_loss: 0.2940 - val_accuracy: 0.9000\n",
      "Epoch 332/1000\n",
      "22/22 [==============================] - 0s 3ms/step - loss: 0.3242 - accuracy: 0.8721 - val_loss: 0.2940 - val_accuracy: 0.9000\n",
      "Epoch 333/1000\n",
      "22/22 [==============================] - 0s 3ms/step - loss: 0.3241 - accuracy: 0.8721 - val_loss: 0.2940 - val_accuracy: 0.9000\n",
      "Epoch 334/1000\n",
      "22/22 [==============================] - 0s 3ms/step - loss: 0.3241 - accuracy: 0.8721 - val_loss: 0.2942 - val_accuracy: 0.9000\n",
      "Epoch 335/1000\n",
      "22/22 [==============================] - 0s 3ms/step - loss: 0.3240 - accuracy: 0.8691 - val_loss: 0.2940 - val_accuracy: 0.9000\n",
      "Epoch 336/1000\n",
      "22/22 [==============================] - 0s 3ms/step - loss: 0.3242 - accuracy: 0.8706 - val_loss: 0.2940 - val_accuracy: 0.9000\n",
      "Epoch 337/1000\n",
      "22/22 [==============================] - 0s 3ms/step - loss: 0.3242 - accuracy: 0.8706 - val_loss: 0.2937 - val_accuracy: 0.9000\n",
      "Epoch 338/1000\n",
      "22/22 [==============================] - 0s 3ms/step - loss: 0.3240 - accuracy: 0.8721 - val_loss: 0.2936 - val_accuracy: 0.9000\n",
      "Epoch 339/1000\n",
      "22/22 [==============================] - 0s 3ms/step - loss: 0.3239 - accuracy: 0.8721 - val_loss: 0.2936 - val_accuracy: 0.9000\n",
      "Epoch 340/1000\n",
      "22/22 [==============================] - 0s 4ms/step - loss: 0.3238 - accuracy: 0.8691 - val_loss: 0.2934 - val_accuracy: 0.9000\n",
      "Epoch 341/1000\n",
      "22/22 [==============================] - 0s 4ms/step - loss: 0.3239 - accuracy: 0.8676 - val_loss: 0.2937 - val_accuracy: 0.9000\n",
      "Epoch 342/1000\n",
      "22/22 [==============================] - 0s 4ms/step - loss: 0.3238 - accuracy: 0.8676 - val_loss: 0.2935 - val_accuracy: 0.9000\n"
     ]
    },
    {
     "name": "stdout",
     "output_type": "stream",
     "text": [
      "Epoch 343/1000\n",
      "22/22 [==============================] - 0s 3ms/step - loss: 0.3238 - accuracy: 0.8676 - val_loss: 0.2934 - val_accuracy: 0.9000\n",
      "Epoch 344/1000\n",
      "22/22 [==============================] - 0s 3ms/step - loss: 0.3237 - accuracy: 0.8676 - val_loss: 0.2933 - val_accuracy: 0.9000\n",
      "Epoch 345/1000\n",
      "22/22 [==============================] - 0s 3ms/step - loss: 0.3236 - accuracy: 0.8691 - val_loss: 0.2934 - val_accuracy: 0.9000\n",
      "Epoch 346/1000\n",
      "22/22 [==============================] - 0s 3ms/step - loss: 0.3235 - accuracy: 0.8691 - val_loss: 0.2935 - val_accuracy: 0.9000\n",
      "Epoch 347/1000\n",
      "22/22 [==============================] - 0s 3ms/step - loss: 0.3238 - accuracy: 0.8676 - val_loss: 0.2939 - val_accuracy: 0.9000\n",
      "Epoch 348/1000\n",
      "22/22 [==============================] - 0s 3ms/step - loss: 0.3236 - accuracy: 0.8706 - val_loss: 0.2939 - val_accuracy: 0.9000\n",
      "Epoch 349/1000\n",
      "22/22 [==============================] - 0s 3ms/step - loss: 0.3235 - accuracy: 0.8691 - val_loss: 0.2938 - val_accuracy: 0.9000\n",
      "Epoch 350/1000\n",
      "22/22 [==============================] - 0s 3ms/step - loss: 0.3236 - accuracy: 0.8676 - val_loss: 0.2938 - val_accuracy: 0.9000\n",
      "Epoch 351/1000\n",
      "22/22 [==============================] - 0s 3ms/step - loss: 0.3234 - accuracy: 0.8691 - val_loss: 0.2939 - val_accuracy: 0.9000\n",
      "Epoch 352/1000\n",
      "22/22 [==============================] - 0s 3ms/step - loss: 0.3234 - accuracy: 0.8706 - val_loss: 0.2939 - val_accuracy: 0.9000\n",
      "Epoch 353/1000\n",
      "22/22 [==============================] - 0s 3ms/step - loss: 0.3233 - accuracy: 0.8691 - val_loss: 0.2939 - val_accuracy: 0.9000\n",
      "Epoch 354/1000\n",
      " 1/22 [>.............................] - ETA: 0s - loss: 0.3045 - accuracy: 0.8750Restoring model weights from the end of the best epoch: 344.\n",
      "22/22 [==============================] - 0s 3ms/step - loss: 0.3233 - accuracy: 0.8691 - val_loss: 0.2940 - val_accuracy: 0.9000\n",
      "Epoch 354: early stopping\n"
     ]
    },
    {
     "data": {
      "text/plain": [
       "<keras.callbacks.History at 0x1b5ff9f1310>"
      ]
     },
     "execution_count": 156,
     "metadata": {},
     "output_type": "execute_result"
    }
   ],
   "source": [
    "# 모델 학습\n",
    "model.fit(x_train_sc, y_train, validation_split=0.2, verbose=1, epochs=1000, callbacks=[es])"
   ]
  },
  {
   "cell_type": "code",
   "execution_count": 169,
   "metadata": {},
   "outputs": [
    {
     "name": "stdout",
     "output_type": "stream",
     "text": [
      "              precision    recall  f1-score   support\n",
      "\n",
      "           0       0.91      0.98      0.94       176\n",
      "           1       0.67      0.25      0.36        24\n",
      "\n",
      "    accuracy                           0.90       200\n",
      "   macro avg       0.79      0.62      0.65       200\n",
      "weighted avg       0.88      0.90      0.87       200\n",
      "\n",
      "0.895\n"
     ]
    }
   ],
   "source": [
    "# 예측하기\n",
    "y_pred = model.predict(x_val_sc)\n",
    "preds_1d = y_pred.flatten() # 차원 펴주기\n",
    "pred_class = np.where(preds_1d > 0.5, 1 , 0) #0.5보다크면 2, 작으면 1\n",
    "# 평가하기\n",
    "print(classification_report(y_val,pred_class))\n",
    "print(accuracy_score(y_val, pred_class))\n",
    "result_ac['dl_basic'] = accuracy_score(y_val, pred_class)"
   ]
  },
  {
   "cell_type": "markdown",
   "metadata": {
    "id": "gU1_UtFlH3sY"
   },
   "source": [
    "* 모델2"
   ]
  },
  {
   "cell_type": "code",
   "execution_count": 158,
   "metadata": {
    "id": "bjcO9q9mH3sY"
   },
   "outputs": [],
   "source": [
    "# 히든 레이어 3개추가"
   ]
  },
  {
   "cell_type": "code",
   "execution_count": 159,
   "metadata": {},
   "outputs": [],
   "source": [
    "# 세션 초기화\n",
    "keras.backend.clear_session()\n",
    "\n",
    "#레이어 연결\n",
    "il =Input(shape=(41,))\n",
    "hl = Dense(256, activation = 'relu')(il)\n",
    "hl = Dense(64, activation = 'relu')(hl)\n",
    "hl = Dense(64, activation = 'relu')(hl)\n",
    "ol = Dense(1, activation='sigmoid')(hl)\n",
    "\n",
    "# 모델 시작과 끝 지정\n",
    "model_hl = keras.models.Model(il,ol)\n",
    "\n",
    "#컴파일\n",
    "model_hl.compile(loss = 'binary_crossentropy', optimizer='adam', metrics='accuracy')"
   ]
  },
  {
   "cell_type": "code",
   "execution_count": 160,
   "metadata": {
    "scrolled": false
   },
   "outputs": [
    {
     "name": "stdout",
     "output_type": "stream",
     "text": [
      "Epoch 1/1000\n",
      "22/22 [==============================] - 1s 11ms/step - loss: 0.5018 - accuracy: 0.8103 - val_loss: 0.4486 - val_accuracy: 0.8235\n",
      "Epoch 2/1000\n",
      "22/22 [==============================] - 0s 4ms/step - loss: 0.4196 - accuracy: 0.8309 - val_loss: 0.3963 - val_accuracy: 0.8235\n",
      "Epoch 3/1000\n",
      "22/22 [==============================] - 0s 4ms/step - loss: 0.3858 - accuracy: 0.8309 - val_loss: 0.3678 - val_accuracy: 0.8471\n",
      "Epoch 4/1000\n",
      "22/22 [==============================] - 0s 5ms/step - loss: 0.3589 - accuracy: 0.8559 - val_loss: 0.3207 - val_accuracy: 0.8765\n",
      "Epoch 5/1000\n",
      "22/22 [==============================] - 0s 4ms/step - loss: 0.3274 - accuracy: 0.8691 - val_loss: 0.2911 - val_accuracy: 0.8882\n",
      "Epoch 6/1000\n",
      "22/22 [==============================] - 0s 4ms/step - loss: 0.3123 - accuracy: 0.8765 - val_loss: 0.3010 - val_accuracy: 0.8882\n",
      "Epoch 7/1000\n",
      "22/22 [==============================] - 0s 5ms/step - loss: 0.2820 - accuracy: 0.8985 - val_loss: 0.2851 - val_accuracy: 0.9059\n",
      "Epoch 8/1000\n",
      "22/22 [==============================] - 0s 4ms/step - loss: 0.2538 - accuracy: 0.9176 - val_loss: 0.2772 - val_accuracy: 0.9000\n",
      "Epoch 9/1000\n",
      "22/22 [==============================] - 0s 4ms/step - loss: 0.2373 - accuracy: 0.9162 - val_loss: 0.2903 - val_accuracy: 0.8882\n",
      "Epoch 10/1000\n",
      "22/22 [==============================] - 0s 4ms/step - loss: 0.2059 - accuracy: 0.9368 - val_loss: 0.2851 - val_accuracy: 0.9000\n",
      "Epoch 11/1000\n",
      "22/22 [==============================] - 0s 5ms/step - loss: 0.1900 - accuracy: 0.9279 - val_loss: 0.3464 - val_accuracy: 0.8412\n",
      "Epoch 12/1000\n",
      "22/22 [==============================] - 0s 5ms/step - loss: 0.1827 - accuracy: 0.9397 - val_loss: 0.3079 - val_accuracy: 0.8941\n",
      "Epoch 13/1000\n",
      "22/22 [==============================] - 0s 5ms/step - loss: 0.1460 - accuracy: 0.9529 - val_loss: 0.3484 - val_accuracy: 0.8882\n",
      "Epoch 14/1000\n",
      "22/22 [==============================] - 0s 4ms/step - loss: 0.1131 - accuracy: 0.9647 - val_loss: 0.3566 - val_accuracy: 0.8941\n",
      "Epoch 15/1000\n",
      "22/22 [==============================] - 0s 4ms/step - loss: 0.0978 - accuracy: 0.9618 - val_loss: 0.3539 - val_accuracy: 0.8824\n",
      "Epoch 16/1000\n",
      "22/22 [==============================] - 0s 5ms/step - loss: 0.0695 - accuracy: 0.9868 - val_loss: 0.3838 - val_accuracy: 0.8882\n",
      "Epoch 17/1000\n",
      "22/22 [==============================] - 0s 5ms/step - loss: 0.0476 - accuracy: 0.9912 - val_loss: 0.3945 - val_accuracy: 0.8765\n",
      "Epoch 18/1000\n",
      "21/22 [===========================>..] - ETA: 0s - loss: 0.0352 - accuracy: 0.9955Restoring model weights from the end of the best epoch: 8.\n",
      "22/22 [==============================] - 0s 5ms/step - loss: 0.0351 - accuracy: 0.9956 - val_loss: 0.4712 - val_accuracy: 0.8765\n",
      "Epoch 18: early stopping\n"
     ]
    },
    {
     "data": {
      "text/plain": [
       "<keras.callbacks.History at 0x1b5800af940>"
      ]
     },
     "execution_count": 160,
     "metadata": {},
     "output_type": "execute_result"
    }
   ],
   "source": [
    "# 모델 학습\n",
    "model_hl.fit(x_train_sc, y_train, validation_split=0.2, verbose=1, epochs=1000, callbacks=[es])"
   ]
  },
  {
   "cell_type": "code",
   "execution_count": 161,
   "metadata": {},
   "outputs": [
    {
     "name": "stdout",
     "output_type": "stream",
     "text": [
      "              precision    recall  f1-score   support\n",
      "\n",
      "           0       0.91      0.98      0.94       176\n",
      "           1       0.60      0.25      0.35        24\n",
      "\n",
      "    accuracy                           0.89       200\n",
      "   macro avg       0.75      0.61      0.65       200\n",
      "weighted avg       0.87      0.89      0.87       200\n",
      "\n",
      "0.89\n"
     ]
    }
   ],
   "source": [
    "# 예측하기\n",
    "y_pred = model_hl.predict(x_val_sc)\n",
    "preds_1d = y_pred.flatten() # 차원 펴주기\n",
    "pred_class = np.where(preds_1d > 0.5, 1 , 0) #0.5보다크면 2, 작으면 1\n",
    "# 평가하기\n",
    "print(classification_report(y_val,pred_class))\n",
    "print(accuracy_score(y_val, pred_class))\n",
    "result_ac['dl_hl_3'] = accuracy_score(y_val, pred_class)"
   ]
  },
  {
   "cell_type": "markdown",
   "metadata": {
    "id": "iXOlv7oSKLlt"
   },
   "source": [
    "* 모델3"
   ]
  },
  {
   "cell_type": "code",
   "execution_count": 162,
   "metadata": {
    "id": "rlTLt04PKLlz"
   },
   "outputs": [],
   "source": [
    "# 히든레이어 6개추가"
   ]
  },
  {
   "cell_type": "code",
   "execution_count": 163,
   "metadata": {},
   "outputs": [],
   "source": [
    "# 세션 초기화\n",
    "keras.backend.clear_session()\n",
    "\n",
    "#레이어 연결\n",
    "il =Input(shape=(41,))\n",
    "hl = Dense(512, activation = 'relu')(il)\n",
    "hl = Dense(256, activation = 'relu')(hl)\n",
    "hl = Dense(256, activation = 'relu')(hl)\n",
    "hl = Dense(64, activation = 'relu')(hl)\n",
    "hl = Dense(64, activation = 'relu')(hl)\n",
    "hl = Dense(32, activation = 'relu')(hl)\n",
    "hl = Dense(32, activation = 'relu')(hl)\n",
    "ol = Dense(1, activation='sigmoid')(hl)\n",
    "\n",
    "# 모델 시작과 끝 지정\n",
    "model_hl_6 = keras.models.Model(il,ol)\n",
    "\n",
    "#컴파일\n",
    "model_hl_6.compile(loss = 'binary_crossentropy', optimizer='adam', metrics='accuracy')"
   ]
  },
  {
   "cell_type": "code",
   "execution_count": 164,
   "metadata": {
    "scrolled": true
   },
   "outputs": [
    {
     "name": "stdout",
     "output_type": "stream",
     "text": [
      "Epoch 1/1000\n",
      "22/22 [==============================] - 1s 15ms/step - loss: 0.4844 - accuracy: 0.8162 - val_loss: 0.4261 - val_accuracy: 0.8235\n",
      "Epoch 2/1000\n",
      "22/22 [==============================] - 0s 6ms/step - loss: 0.3982 - accuracy: 0.8309 - val_loss: 0.3539 - val_accuracy: 0.8235\n",
      "Epoch 3/1000\n",
      "22/22 [==============================] - 0s 6ms/step - loss: 0.3537 - accuracy: 0.8309 - val_loss: 0.3233 - val_accuracy: 0.8235\n",
      "Epoch 4/1000\n",
      "22/22 [==============================] - 0s 6ms/step - loss: 0.3177 - accuracy: 0.8603 - val_loss: 0.3096 - val_accuracy: 0.9000\n",
      "Epoch 5/1000\n",
      "22/22 [==============================] - 0s 6ms/step - loss: 0.2818 - accuracy: 0.8941 - val_loss: 0.3406 - val_accuracy: 0.8941\n",
      "Epoch 6/1000\n",
      "22/22 [==============================] - 0s 6ms/step - loss: 0.2416 - accuracy: 0.8985 - val_loss: 0.2942 - val_accuracy: 0.8824\n",
      "Epoch 7/1000\n",
      "22/22 [==============================] - 0s 6ms/step - loss: 0.2018 - accuracy: 0.9162 - val_loss: 0.3291 - val_accuracy: 0.8824\n",
      "Epoch 8/1000\n",
      "22/22 [==============================] - 0s 6ms/step - loss: 0.1542 - accuracy: 0.9338 - val_loss: 0.3452 - val_accuracy: 0.8824\n",
      "Epoch 9/1000\n",
      "22/22 [==============================] - 0s 6ms/step - loss: 0.0996 - accuracy: 0.9618 - val_loss: 0.4978 - val_accuracy: 0.8706\n",
      "Epoch 10/1000\n",
      "22/22 [==============================] - 0s 6ms/step - loss: 0.0782 - accuracy: 0.9647 - val_loss: 0.6045 - val_accuracy: 0.8647\n",
      "Epoch 11/1000\n",
      "22/22 [==============================] - 0s 6ms/step - loss: 0.0914 - accuracy: 0.9691 - val_loss: 0.4296 - val_accuracy: 0.8706\n",
      "Epoch 12/1000\n",
      "22/22 [==============================] - 0s 8ms/step - loss: 0.0983 - accuracy: 0.9662 - val_loss: 0.4711 - val_accuracy: 0.8941\n",
      "Epoch 13/1000\n",
      "22/22 [==============================] - 0s 9ms/step - loss: 0.0507 - accuracy: 0.9794 - val_loss: 0.4961 - val_accuracy: 0.9118\n",
      "Epoch 14/1000\n",
      "22/22 [==============================] - 0s 6ms/step - loss: 0.0284 - accuracy: 0.9941 - val_loss: 0.6773 - val_accuracy: 0.8588\n",
      "Epoch 15/1000\n",
      "22/22 [==============================] - 0s 7ms/step - loss: 0.0179 - accuracy: 0.9941 - val_loss: 0.7934 - val_accuracy: 0.8765\n",
      "Epoch 16/1000\n",
      "15/22 [===================>..........] - ETA: 0s - loss: 0.0074 - accuracy: 0.9979Restoring model weights from the end of the best epoch: 6.\n",
      "22/22 [==============================] - 0s 5ms/step - loss: 0.0198 - accuracy: 0.9941 - val_loss: 0.6684 - val_accuracy: 0.8647\n",
      "Epoch 16: early stopping\n"
     ]
    },
    {
     "data": {
      "text/plain": [
       "<keras.callbacks.History at 0x1b5ff4cc790>"
      ]
     },
     "execution_count": 164,
     "metadata": {},
     "output_type": "execute_result"
    }
   ],
   "source": [
    "# 모델 학습\n",
    "model_hl_6.fit(x_train_sc, y_train, validation_split=0.2, verbose=1, epochs=1000, callbacks=[es])"
   ]
  },
  {
   "cell_type": "code",
   "execution_count": 165,
   "metadata": {},
   "outputs": [
    {
     "name": "stdout",
     "output_type": "stream",
     "text": [
      "              precision    recall  f1-score   support\n",
      "\n",
      "           0       0.92      0.92      0.92       176\n",
      "           1       0.42      0.42      0.42        24\n",
      "\n",
      "    accuracy                           0.86       200\n",
      "   macro avg       0.67      0.67      0.67       200\n",
      "weighted avg       0.86      0.86      0.86       200\n",
      "\n",
      "0.86\n"
     ]
    }
   ],
   "source": [
    "# 예측하기\n",
    "y_pred = model_hl_6.predict(x_val_sc)\n",
    "preds_1d = y_pred.flatten() # 차원 펴주기\n",
    "pred_class = np.where(preds_1d > 0.5, 1 , 0) #0.5보다크면 2, 작으면 1\n",
    "# 평가하기\n",
    "print(classification_report(y_val,pred_class))\n",
    "print(accuracy_score(y_val, pred_class))\n",
    "result_ac['dl_hl_6'] = accuracy_score(y_val, pred_class)"
   ]
  },
  {
   "cell_type": "markdown",
   "metadata": {
    "id": "aCwoqa6hMLgx"
   },
   "source": [
    "### 4.3 학습 및 최적화\n",
    "* 다양한 학습조건으로 모델링 수행후 성능을 비교해 봅시다.\n"
   ]
  },
  {
   "cell_type": "code",
   "execution_count": 149,
   "metadata": {
    "id": "rxx4LUwBMLgy"
   },
   "outputs": [],
   "source": [
    "# test set으로 예측\n",
    "# Logistic Regression\n",
    "y_pred = model_lo.predict(x_test_sc)\n",
    "# test_ac 에 각 모델의 accuracy_score 값을 넣고 비교\n",
    "test_ac ={}\n",
    "test_ac['LogisticRegression'] = accuracy_score(y_test, y_pred)"
   ]
  },
  {
   "cell_type": "code",
   "execution_count": 150,
   "metadata": {},
   "outputs": [],
   "source": [
    "# svm\n",
    "y_pred = m_svm_gs.predict(x_test_sc)\n",
    "test_ac['SVC'] = accuracy_score(y_test, y_pred)"
   ]
  },
  {
   "cell_type": "code",
   "execution_count": 196,
   "metadata": {},
   "outputs": [],
   "source": [
    "# xgb \n",
    "y_pred = model_xgb.predict(x_test)\n",
    "test_ac['xgb'] = accuracy_score(y_test, y_pred)"
   ]
  },
  {
   "cell_type": "code",
   "execution_count": 172,
   "metadata": {},
   "outputs": [],
   "source": [
    "# basci_dl\n",
    "y_pred = model.predict(x_test_sc)\n",
    "preds_1d = y_pred.flatten() # 차원 펴주기\n",
    "pred_class = np.where(preds_1d > 0.5, 1 , 0) #0.5보다크면 2, 작으면 1\n",
    "test_ac['dl_basic'] = accuracy_score(y_test, pred_class)"
   ]
  },
  {
   "cell_type": "code",
   "execution_count": 173,
   "metadata": {},
   "outputs": [],
   "source": [
    "# dl_hl_3\n",
    "y_pred = model_hl.predict(x_test_sc)\n",
    "preds_1d = y_pred.flatten() # 차원 펴주기\n",
    "pred_class = np.where(preds_1d > 0.5, 1 , 0) #0.5보다크면 2, 작으면 1\n",
    "test_ac['dl_hl_3'] = accuracy_score(y_test, pred_class)"
   ]
  },
  {
   "cell_type": "code",
   "execution_count": 174,
   "metadata": {},
   "outputs": [],
   "source": [
    "# dl_hl_6\n",
    "y_pred = model_hl_6.predict(x_test_sc)\n",
    "preds_1d = y_pred.flatten() # 차원 펴주기\n",
    "pred_class = np.where(preds_1d > 0.5, 1 , 0) #0.5보다크면 2, 작으면 1\n",
    "test_ac['dl_hl_6'] = accuracy_score(y_test, pred_class)"
   ]
  },
  {
   "cell_type": "markdown",
   "metadata": {
    "id": "U4UL4ynYL6Ly"
   },
   "source": [
    "## 5.성능 비교\n",
    "* 알고리즘별 선정된 모델이 최소 6개 입니다. 이에 대해 성능을 평가합니다.\n",
    "* 평가를 위한 적절한 지표(metric)을 결정하고 비교합니다.\n",
    "    * 평가지표 선정 이유도 주석으로 기술하시오.\n",
    "* 최종 모델을 선정하게 된 근거를 주석으로 기술하시오."
   ]
  },
  {
   "cell_type": "markdown",
   "metadata": {
    "id": "lKA2UyB6HXfF"
   },
   "source": [
    "### 5.1 평가지표 결정\n",
    "\n",
    "* 어떤 지표로 성능을 비교할지 결정합니다.\n",
    "* 결정 이유를 기술합니다."
   ]
  },
  {
   "cell_type": "code",
   "execution_count": null,
   "metadata": {},
   "outputs": [],
   "source": [
    "# accuracy 지표로 결정 => True를 True라고 옳게 예측한 경우 ,False를 False라고 예측한 경우 \n",
    "# 두개의 경우 모두 중요하기 때문에 정확도를 지표로 결정\n",
    "# 가장 직관적인 모델의 성능을 나타낼 수 있는 평가 지표라고 생각합니다.\n",
    "#  classification_report로 봤을 때 다른 지표들은 너무 불규칙적임 그러므로 전체적인 지표인 accuracy"
   ]
  },
  {
   "cell_type": "markdown",
   "metadata": {
    "id": "-hOx7i2sHi1U"
   },
   "source": [
    "### 5.2 성능 비교"
   ]
  },
  {
   "cell_type": "code",
   "execution_count": 197,
   "metadata": {
    "id": "-Qo9AvO-OVkQ"
   },
   "outputs": [
    {
     "name": "stdout",
     "output_type": "stream",
     "text": [
      "========================================\n",
      "LogisticRegression 0.9\n",
      "SVC 0.88\n",
      "XGBClassifier 0.91\n",
      "dl_basic 0.895\n",
      "dl_hl_3 0.89\n",
      "dl_hl_6 0.86\n",
      "========================================\n"
     ]
    }
   ],
   "source": [
    "# 검증용 accuracy 값 확인 및 비교\n",
    "print('=' * 40)\n",
    "for m_name, score in result_ac.items():\n",
    "    print(m_name, score.round(3))\n",
    "print('=' * 40)"
   ]
  },
  {
   "cell_type": "code",
   "execution_count": 198,
   "metadata": {
    "scrolled": true
   },
   "outputs": [
    {
     "data": {
      "image/png": "[encoded data removed]",
      "text/plain": [
       "<Figure size 432x288 with 1 Axes>"
      ]
     },
     "metadata": {
      "needs_background": "light"
     },
     "output_type": "display_data"
    }
   ],
   "source": [
    "# 시각화\n",
    "plt.bar(result_ac.keys(), result_ac.values())\n",
    "plt.xticks(rotation=45, ha='right')\n",
    "plt.show()"
   ]
  },
  {
   "cell_type": "code",
   "execution_count": 199,
   "metadata": {},
   "outputs": [
    {
     "data": {
      "image/png": "[encoded data removed]",
      "text/plain": [
       "<Figure size 1080x720 with 1 Axes>"
      ]
     },
     "metadata": {
      "needs_background": "light"
     },
     "output_type": "display_data"
    }
   ],
   "source": [
    "plt.figure(figsize=(15,10))\n",
    "plt.barh(y =list(x) , width = model_xgb.best_estimator_.feature_importances_)\n",
    "plt.show()"
   ]
  },
  {
   "cell_type": "code",
   "execution_count": null,
   "metadata": {},
   "outputs": [],
   "source": [
    "# 테스트 accuracy 값 확인 및 비교"
   ]
  },
  {
   "cell_type": "code",
   "execution_count": 200,
   "metadata": {},
   "outputs": [
    {
     "name": "stdout",
     "output_type": "stream",
     "text": [
      "========================================\n",
      "LogisticRegression 0.89\n",
      "SVC 0.885\n",
      "xgb 0.89\n",
      "dl_basic 0.88\n",
      "dl_hl_3 0.88\n",
      "dl_hl_6 0.875\n",
      "========================================\n"
     ]
    }
   ],
   "source": [
    "print('=' * 40)\n",
    "for m_name, score in test_ac.items():\n",
    "    print(m_name, score.round(3))\n",
    "print('=' * 40)"
   ]
  },
  {
   "cell_type": "code",
   "execution_count": 201,
   "metadata": {},
   "outputs": [
    {
     "data": {
      "image/png": "[encoded data removed]",
      "text/plain": [
       "<Figure size 432x288 with 1 Axes>"
      ]
     },
     "metadata": {
      "needs_background": "light"
     },
     "output_type": "display_data"
    }
   ],
   "source": [
    "# 시각화\n",
    "plt.bar(test_ac.keys(), test_ac.values())\n",
    "plt.xticks(rotation=45, ha='right')\n",
    "plt.show()"
   ]
  },
  {
   "cell_type": "markdown",
   "metadata": {},
   "source": [
    "* 검증용 accuracy값 에서는 xgb가 0.91로 가장 성능이 좋게 나왔지만\n",
    "* 테스트 accuracy값 에서는 0.89로 성능이 줄었고 LogisticRegression과 비슷한 성능을 보이고 있다\n",
    "* 튜닝 할 때 과적합으로 인한 성능 저하로 생각된다.\n",
    "* 하지만 결론은 검증,테스트 두 테스트에서 성능이 가장 좋은 것으로 나왔기 때문에 최적의 모델이라고 생각한다."
   ]
  },
  {
   "cell_type": "code",
   "execution_count": null,
   "metadata": {},
   "outputs": [],
   "source": []
  }
 ],
 "metadata": {
  "colab": {
   "collapsed_sections": [],
   "name": "과제2. 직원 이직 분석.ipynb",
   "provenance": [],
   "toc_visible": true
  },
  "kernelspec": {
   "display_name": "Python 3",
   "language": "python",
   "name": "python3"
  },
  "language_info": {
   "codemirror_mode": {
    "name": "ipython",
    "version": 3
   },
   "file_extension": ".py",
   "mimetype": "text/x-python",
   "name": "python",
   "nbconvert_exporter": "python",
   "pygments_lexer": "ipython3",
   "version": "3.8.8"
  }
 },
 "nbformat": 4,
 "nbformat_minor": 4
}
