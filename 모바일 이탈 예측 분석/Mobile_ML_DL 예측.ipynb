{
 "cells": [
  {
   "cell_type": "markdown",
   "metadata": {
    "id": "mTt7qGUTCcFs"
   },
   "source": [
    "# 이동통신 고객 이탈 예측"
   ]
  },
  {
   "cell_type": "markdown",
   "metadata": {
    "id": "cdQaCT5I0IL_"
   },
   "source": [
    "* 여러분은 OO 통신화사 데이터분석가 입니다.\n",
    "* 00 통신회사의 올해 고객 목표는, **현재 고객수를 유지**하는 것입니다.\n",
    "* 더욱 치열해진 경쟁 상황에서 고객수를 유지하는 것은 굉장히 도전적인 목표 입니다.\n",
    "* 이를 위해 회사는 약정기간이 끝난 고객이 번호이동(이탈)해 가는 문제를 해결하고자 합니다.\n",
    "* 그래서 에이블러 여러분에게, 어떤 고객이 번호이동(이탈)해 가는지 예측 모델링을 의뢰하였습니다."
   ]
  },
  {
   "cell_type": "markdown",
   "metadata": {
    "id": "ExPzmVxJGvxq"
   },
   "source": [
    "![](https://d18lkz4dllo6v2.cloudfront.net/cumulus_uploads/entry/23964/mobile%20phones.png)"
   ]
  },
  {
   "cell_type": "markdown",
   "metadata": {
    "id": "AHmt88Q5EVsj"
   },
   "source": [
    "## 0.환경설정"
   ]
  },
  {
   "cell_type": "markdown",
   "metadata": {
    "id": "KnzVh2LmkLDU"
   },
   "source": [
    "### 1) 라이브러리 로딩"
   ]
  },
  {
   "cell_type": "code",
   "execution_count": 185,
   "metadata": {
    "id": "3tWsgb_wG3EU"
   },
   "outputs": [],
   "source": [
    "import pandas as pd\n",
    "import numpy as np\n",
    "import matplotlib.pyplot as plt\n",
    "import seaborn as sns\n",
    "\n",
    "from sklearn.model_selection import train_test_split\n",
    "import warnings\n",
    "warnings.filterwarnings('ignore')\n",
    "from scipy import stats as spst"
   ]
  },
  {
   "cell_type": "markdown",
   "metadata": {
    "id": "kcMdP5WtG3EV"
   },
   "source": [
    "### 2) 데이터 로딩"
   ]
  },
  {
   "cell_type": "code",
   "execution_count": 186,
   "metadata": {
    "id": "AC_65VsoG3EV"
   },
   "outputs": [
    {
     "data": {
      "text/html": [
       "<div>\n",
       "<style scoped>\n",
       "    .dataframe tbody tr th:only-of-type {\n",
       "        vertical-align: middle;\n",
       "    }\n",
       "\n",
       "    .dataframe tbody tr th {\n",
       "        vertical-align: top;\n",
       "    }\n",
       "\n",
       "    .dataframe thead th {\n",
       "        text-align: right;\n",
       "    }\n",
       "</style>\n",
       "<table border=\"1\" class=\"dataframe\">\n",
       "  <thead>\n",
       "    <tr style=\"text-align: right;\">\n",
       "      <th></th>\n",
       "      <th>id</th>\n",
       "      <th>COLLEGE</th>\n",
       "      <th>INCOME</th>\n",
       "      <th>OVERAGE</th>\n",
       "      <th>LEFTOVER</th>\n",
       "      <th>HOUSE</th>\n",
       "      <th>HANDSET_PRICE</th>\n",
       "      <th>OVER_15MINS_CALLS_PER_MONTH</th>\n",
       "      <th>AVERAGE_CALL_DURATION</th>\n",
       "      <th>REPORTED_SATISFACTION</th>\n",
       "      <th>REPORTED_USAGE_LEVEL</th>\n",
       "      <th>CONSIDERING_CHANGE_OF_PLAN</th>\n",
       "      <th>CHURN</th>\n",
       "    </tr>\n",
       "  </thead>\n",
       "  <tbody>\n",
       "    <tr>\n",
       "      <th>0</th>\n",
       "      <td>544</td>\n",
       "      <td>1</td>\n",
       "      <td>47711</td>\n",
       "      <td>183</td>\n",
       "      <td>17</td>\n",
       "      <td>730589.0</td>\n",
       "      <td>192</td>\n",
       "      <td>19</td>\n",
       "      <td>5</td>\n",
       "      <td>unsat</td>\n",
       "      <td>little</td>\n",
       "      <td>considering</td>\n",
       "      <td>0</td>\n",
       "    </tr>\n",
       "    <tr>\n",
       "      <th>1</th>\n",
       "      <td>689</td>\n",
       "      <td>0</td>\n",
       "      <td>74132</td>\n",
       "      <td>191</td>\n",
       "      <td>43</td>\n",
       "      <td>535092.0</td>\n",
       "      <td>349</td>\n",
       "      <td>15</td>\n",
       "      <td>2</td>\n",
       "      <td>unsat</td>\n",
       "      <td>very_little</td>\n",
       "      <td>no</td>\n",
       "      <td>1</td>\n",
       "    </tr>\n",
       "    <tr>\n",
       "      <th>2</th>\n",
       "      <td>3134</td>\n",
       "      <td>1</td>\n",
       "      <td>150419</td>\n",
       "      <td>0</td>\n",
       "      <td>14</td>\n",
       "      <td>204004.0</td>\n",
       "      <td>682</td>\n",
       "      <td>0</td>\n",
       "      <td>6</td>\n",
       "      <td>unsat</td>\n",
       "      <td>very_high</td>\n",
       "      <td>considering</td>\n",
       "      <td>0</td>\n",
       "    </tr>\n",
       "    <tr>\n",
       "      <th>3</th>\n",
       "      <td>12523</td>\n",
       "      <td>0</td>\n",
       "      <td>159567</td>\n",
       "      <td>0</td>\n",
       "      <td>58</td>\n",
       "      <td>281969.0</td>\n",
       "      <td>634</td>\n",
       "      <td>1</td>\n",
       "      <td>1</td>\n",
       "      <td>very_unsat</td>\n",
       "      <td>very_high</td>\n",
       "      <td>never_thought</td>\n",
       "      <td>0</td>\n",
       "    </tr>\n",
       "    <tr>\n",
       "      <th>4</th>\n",
       "      <td>2374</td>\n",
       "      <td>1</td>\n",
       "      <td>23392</td>\n",
       "      <td>0</td>\n",
       "      <td>0</td>\n",
       "      <td>216707.0</td>\n",
       "      <td>233</td>\n",
       "      <td>0</td>\n",
       "      <td>15</td>\n",
       "      <td>unsat</td>\n",
       "      <td>very_little</td>\n",
       "      <td>no</td>\n",
       "      <td>1</td>\n",
       "    </tr>\n",
       "  </tbody>\n",
       "</table>\n",
       "</div>"
      ],
      "text/plain": [
       "      id  COLLEGE  INCOME  OVERAGE  LEFTOVER     HOUSE  HANDSET_PRICE  \\\n",
       "0    544        1   47711      183        17  730589.0            192   \n",
       "1    689        0   74132      191        43  535092.0            349   \n",
       "2   3134        1  150419        0        14  204004.0            682   \n",
       "3  12523        0  159567        0        58  281969.0            634   \n",
       "4   2374        1   23392        0         0  216707.0            233   \n",
       "\n",
       "   OVER_15MINS_CALLS_PER_MONTH  AVERAGE_CALL_DURATION REPORTED_SATISFACTION  \\\n",
       "0                           19                      5                 unsat   \n",
       "1                           15                      2                 unsat   \n",
       "2                            0                      6                 unsat   \n",
       "3                            1                      1            very_unsat   \n",
       "4                            0                     15                 unsat   \n",
       "\n",
       "  REPORTED_USAGE_LEVEL CONSIDERING_CHANGE_OF_PLAN  CHURN  \n",
       "0               little                considering      0  \n",
       "1          very_little                         no      1  \n",
       "2            very_high                considering      0  \n",
       "3            very_high              never_thought      0  \n",
       "4          very_little                         no      1  "
      ]
     },
     "execution_count": 186,
     "metadata": {},
     "output_type": "execute_result"
    }
   ],
   "source": [
    "# mobile data\n",
    "data_path = \"https://raw.githubusercontent.com/DA4BAM/dataset/master/mobile_NA2.csv\"\n",
    "data = pd.read_csv(data_path)\n",
    "data.head()"
   ]
  },
  {
   "cell_type": "markdown",
   "metadata": {
    "id": "2VGIfdrXAvw_"
   },
   "source": [
    "|변수 명|내용|구분|\n",
    "|\t----\t|\t----\t|\t----\t|\n",
    "|\tCOLLEGE\t|\t대학졸업 여부(1,0) - 범주\t|\t\t|\n",
    "|\tINCOME\t|\t연 수입액(달러)\t|\t\t|\n",
    "|\tOVERAGE\t|\t월 초과사용 시간(분)\t|\t\t|\n",
    "|\tLEFTOVER\t|\t월 사용 잔여시간비율(%)\t|\t\t|\n",
    "|\tHOUSE\t|\t집 가격(달러)\t|\t\t|\n",
    "|\tHANDSET_PRICE\t|\t핸드폰 가격(달러)\t|\t\t|\n",
    "|\tOVER_15MINS_CALLS_PER_MONTH\t|\t 평균 장기통화(15분 이상) 횟수\t|\t\t|\n",
    "|\tAVERAGE_CALL_DURATION\t|\t평균 통화시간(분)\t|\t\t|\n",
    "|\tREPORTED_SATISFACTION\t|\t만족도 설문('very_unsat', 'unsat', 'avg', 'sat', 'very_sat' ) - 범주\t|\t\t|\n",
    "|\tREPORTED_USAGE_LEVEL\t|\t사용 수준 설문('very_little', 'little', 'avg', 'high', 'very_high') - 범주\t|\t\t|\n",
    "|\tCONSIDERING_CHANGE_OF_PLAN\t|\t변경 계획 설문('never_thought', 'no', 'perhaps', 'considering',   'actively_looking_into_it') - 범주\t|\t\t|\n",
    "|\t**CHURN**\t|\t이탈여부(1 : 이탈, 0 : 잔류)\t|\t**Target**\t|\n"
   ]
  },
  {
   "cell_type": "markdown",
   "metadata": {
    "id": "bKimk8qVm8oC"
   },
   "source": [
    "----"
   ]
  },
  {
   "cell_type": "markdown",
   "metadata": {
    "id": "0bouXLxGkSSd"
   },
   "source": [
    "## 1.데이터 탐색"
   ]
  },
  {
   "cell_type": "markdown",
   "metadata": {
    "id": "PRXJWyibZTJN"
   },
   "source": [
    "## 2.데이터 전처리 "
   ]
  },
  {
   "cell_type": "code",
   "execution_count": 187,
   "metadata": {
    "id": "vtn0hI98urCt"
   },
   "outputs": [],
   "source": [
    "target = 'CHURN'"
   ]
  },
  {
   "cell_type": "markdown",
   "metadata": {
    "id": "OftPNXa1EPeV"
   },
   "source": [
    "### 2.1 데이터 정리"
   ]
  },
  {
   "cell_type": "markdown",
   "metadata": {
    "id": "mk_WSjzdnLLE"
   },
   "source": [
    "* feature와 , target으로 분할"
   ]
  },
  {
   "cell_type": "code",
   "execution_count": 188,
   "metadata": {
    "id": "hKx1tqpEEPeV"
   },
   "outputs": [],
   "source": [
    "x = data.drop(target, axis = 1)\n",
    "y = data.loc[:, target]"
   ]
  },
  {
   "cell_type": "markdown",
   "metadata": {
    "id": "a_EtSMDQnMQ5"
   },
   "source": [
    "* 불필요한 feature 제거\n",
    "    * 제거해야 할 feature를 선정하고 제거하시오. 제거 이유를 주석으로 기술합니다."
   ]
  },
  {
   "cell_type": "code",
   "execution_count": 189,
   "metadata": {
    "id": "86yIoNg7nNuu",
    "scrolled": true
   },
   "outputs": [
    {
     "name": "stdout",
     "output_type": "stream",
     "text": [
      "<class 'pandas.core.frame.DataFrame'>\n",
      "RangeIndex: 18000 entries, 0 to 17999\n",
      "Data columns (total 12 columns):\n",
      " #   Column                       Non-Null Count  Dtype  \n",
      "---  ------                       --------------  -----  \n",
      " 0   id                           18000 non-null  int64  \n",
      " 1   COLLEGE                      18000 non-null  int64  \n",
      " 2   INCOME                       18000 non-null  int64  \n",
      " 3   OVERAGE                      18000 non-null  int64  \n",
      " 4   LEFTOVER                     18000 non-null  int64  \n",
      " 5   HOUSE                        17785 non-null  float64\n",
      " 6   HANDSET_PRICE                18000 non-null  int64  \n",
      " 7   OVER_15MINS_CALLS_PER_MONTH  18000 non-null  int64  \n",
      " 8   AVERAGE_CALL_DURATION        18000 non-null  int64  \n",
      " 9   REPORTED_SATISFACTION        17962 non-null  object \n",
      " 10  REPORTED_USAGE_LEVEL         18000 non-null  object \n",
      " 11  CONSIDERING_CHANGE_OF_PLAN   18000 non-null  object \n",
      "dtypes: float64(1), int64(8), object(3)\n",
      "memory usage: 1.6+ MB\n"
     ]
    }
   ],
   "source": [
    "# feature 데이터 확인 \n",
    "x.info()"
   ]
  },
  {
   "cell_type": "code",
   "execution_count": 190,
   "metadata": {},
   "outputs": [
    {
     "data": {
      "image/png": "[encoded data removed]",
      "text/plain": [
       "<Figure size 432x288 with 1 Axes>"
      ]
     },
     "metadata": {},
     "output_type": "display_data"
    }
   ],
   "source": [
    "# 이탈여부 분포도 확인\n",
    "cnt = y.value_counts()\n",
    "plt.pie(cnt.values, labels = cnt.index, autopct = '%.2f%%')\n",
    "plt.show()"
   ]
  },
  {
   "cell_type": "markdown",
   "metadata": {},
   "source": [
    "#### EDA 했던 결과\n",
    "* 강한 관계\n",
    "    * OVERAGE\n",
    "* 중간 관계\n",
    "    * LEFTOVER, HANDSET_PRICE\n",
    "* 관계 무\n",
    "    * REPORTED_SATISFACTION\n",
    "    * CONSIDERING_CHANGE_OF_PLAN"
   ]
  },
  {
   "cell_type": "code",
   "execution_count": 191,
   "metadata": {
    "scrolled": false
   },
   "outputs": [
    {
     "data": {
      "image/png": "[encoded data removed]",
      "text/plain": [
       "<Figure size 1080x720 with 2 Axes>"
      ]
     },
     "metadata": {
      "needs_background": "light"
     },
     "output_type": "display_data"
    }
   ],
   "source": [
    "# 상관관계 확인\n",
    "plt.figure(figsize=(15,10))\n",
    "sns.heatmap(data.corr(), annot=True, cmap ='Blues')\n",
    "plt.show()"
   ]
  },
  {
   "cell_type": "code",
   "execution_count": 192,
   "metadata": {
    "scrolled": true
   },
   "outputs": [
    {
     "name": "stdout",
     "output_type": "stream",
     "text": [
      "카이제곱통계량 0.8977447473626036\n",
      "p-value 0.9248841494818087\n",
      "자유도 4\n"
     ]
    }
   ],
   "source": [
    "# 먼저 집계\n",
    "table = pd.crosstab(data['REPORTED_USAGE_LEVEL'],data[target])\n",
    "# 카이제곱검정\n",
    "result = spst.chi2_contingency(table)\n",
    "print('카이제곱통계량', result[0])\n",
    "print('p-value', result[1])\n",
    "print('자유도', result[2])"
   ]
  },
  {
   "cell_type": "code",
   "execution_count": 193,
   "metadata": {},
   "outputs": [],
   "source": [
    "# EDA 와 상관관계를 봤을 때 설문 관련인 REPORTED_SATISFACTION, CONSIDERING_CHANGE_OF_PLAN 은 \n",
    "# target과 관계가 없음 => 설문조사 내용에 대한 신뢰성이 의심이 된다.\n",
    "# 카이제곱검정으로 확인 했을 때 REPORTED_USAGE_LEVEL은 target과 관계가 없음 => 이것도 설문조사\n",
    "# id는 고유한 이름으로써 이탈여부와 관련 짓기가 어렵고 상관관계 또한 매우 낮은 것을 볼 수 있다."
   ]
  },
  {
   "cell_type": "code",
   "execution_count": 194,
   "metadata": {},
   "outputs": [],
   "source": [
    "# 불필요한 컬럼 삭제\n",
    "drop_col = ['id','REPORTED_SATISFACTION', 'CONSIDERING_CHANGE_OF_PLAN', 'REPORTED_USAGE_LEVEL']\n",
    "x = x.drop(columns= drop_col, axis = 1)"
   ]
  },
  {
   "cell_type": "markdown",
   "metadata": {
    "id": "umpv1ug6ZTJO"
   },
   "source": [
    "### 2.2 NaN에 대한 조치\n",
    "* 데이터에 포함된 NaN에 대해서 조치 방법을 결정하고 적용합니다.\n",
    "* **조치방법을 결정한 이유**를 주석으로 기술합니다."
   ]
  },
  {
   "cell_type": "code",
   "execution_count": 195,
   "metadata": {
    "id": "sYVnI6HJOloF",
    "scrolled": true
   },
   "outputs": [
    {
     "data": {
      "text/plain": [
       "COLLEGE                          0\n",
       "INCOME                           0\n",
       "OVERAGE                          0\n",
       "LEFTOVER                         0\n",
       "HOUSE                          215\n",
       "HANDSET_PRICE                    0\n",
       "OVER_15MINS_CALLS_PER_MONTH      0\n",
       "AVERAGE_CALL_DURATION            0\n",
       "dtype: int64"
      ]
     },
     "execution_count": 195,
     "metadata": {},
     "output_type": "execute_result"
    }
   ],
   "source": [
    "x.isna().sum()"
   ]
  },
  {
   "cell_type": "code",
   "execution_count": 259,
   "metadata": {},
   "outputs": [
    {
     "data": {
      "text/html": [
       "<div>\n",
       "<style scoped>\n",
       "    .dataframe tbody tr th:only-of-type {\n",
       "        vertical-align: middle;\n",
       "    }\n",
       "\n",
       "    .dataframe tbody tr th {\n",
       "        vertical-align: top;\n",
       "    }\n",
       "\n",
       "    .dataframe thead th {\n",
       "        text-align: right;\n",
       "    }\n",
       "</style>\n",
       "<table border=\"1\" class=\"dataframe\">\n",
       "  <thead>\n",
       "    <tr style=\"text-align: right;\">\n",
       "      <th></th>\n",
       "      <th>HOUSE</th>\n",
       "    </tr>\n",
       "  </thead>\n",
       "  <tbody>\n",
       "    <tr>\n",
       "      <th>count</th>\n",
       "      <td>18000.000000</td>\n",
       "    </tr>\n",
       "    <tr>\n",
       "      <th>mean</th>\n",
       "      <td>489443.912167</td>\n",
       "    </tr>\n",
       "    <tr>\n",
       "      <th>std</th>\n",
       "      <td>252685.429238</td>\n",
       "    </tr>\n",
       "    <tr>\n",
       "      <th>min</th>\n",
       "      <td>150015.000000</td>\n",
       "    </tr>\n",
       "    <tr>\n",
       "      <th>25%</th>\n",
       "      <td>259092.500000</td>\n",
       "    </tr>\n",
       "    <tr>\n",
       "      <th>50%</th>\n",
       "      <td>446412.000000</td>\n",
       "    </tr>\n",
       "    <tr>\n",
       "      <th>75%</th>\n",
       "      <td>698473.500000</td>\n",
       "    </tr>\n",
       "    <tr>\n",
       "      <th>max</th>\n",
       "      <td>999970.000000</td>\n",
       "    </tr>\n",
       "  </tbody>\n",
       "</table>\n",
       "</div>"
      ],
      "text/plain": [
       "               HOUSE\n",
       "count   18000.000000\n",
       "mean   489443.912167\n",
       "std    252685.429238\n",
       "min    150015.000000\n",
       "25%    259092.500000\n",
       "50%    446412.000000\n",
       "75%    698473.500000\n",
       "max    999970.000000"
      ]
     },
     "execution_count": 259,
     "metadata": {},
     "output_type": "execute_result"
    }
   ],
   "source": [
    "x[['HOUSE']].describe()"
   ]
  },
  {
   "cell_type": "code",
   "execution_count": 196,
   "metadata": {
    "id": "WZWY8B5YOlkS"
   },
   "outputs": [],
   "source": [
    "# HOUSE의 결측값은 215개로 소수라고 생각한다. => 18000개의 데이터에서 215개의 결측치\n",
    "# 그러므로 최빈값으로 결측치를 처리를 하는 것이 가장 안전할 것으로 생각된다."
   ]
  },
  {
   "cell_type": "code",
   "execution_count": 197,
   "metadata": {
    "id": "Z3s8KPvBOlgd"
   },
   "outputs": [],
   "source": [
    "most = x['HOUSE'].value_counts().idxmax()\n",
    "x['HOUSE'].fillna(most, inplace=True)"
   ]
  },
  {
   "cell_type": "code",
   "execution_count": 198,
   "metadata": {},
   "outputs": [
    {
     "name": "stdout",
     "output_type": "stream",
     "text": [
      "<class 'pandas.core.frame.DataFrame'>\n",
      "RangeIndex: 18000 entries, 0 to 17999\n",
      "Data columns (total 8 columns):\n",
      " #   Column                       Non-Null Count  Dtype  \n",
      "---  ------                       --------------  -----  \n",
      " 0   COLLEGE                      18000 non-null  int64  \n",
      " 1   INCOME                       18000 non-null  int64  \n",
      " 2   OVERAGE                      18000 non-null  int64  \n",
      " 3   LEFTOVER                     18000 non-null  int64  \n",
      " 4   HOUSE                        18000 non-null  float64\n",
      " 5   HANDSET_PRICE                18000 non-null  int64  \n",
      " 6   OVER_15MINS_CALLS_PER_MONTH  18000 non-null  int64  \n",
      " 7   AVERAGE_CALL_DURATION        18000 non-null  int64  \n",
      "dtypes: float64(1), int64(7)\n",
      "memory usage: 1.1 MB\n"
     ]
    }
   ],
   "source": [
    "x.info()"
   ]
  },
  {
   "cell_type": "markdown",
   "metadata": {
    "id": "NC48TbT7FoYM"
   },
   "source": [
    "### 2.3 (옵션) 추가변수 도출\n",
    "* 기존 데이터셋의 변수를 이용하여 추가로 도출할 수 있는 변수가 있다면 수행합니다.\n",
    "* 추가변수 생성시, 이유에 대해서 **주석**으로 기술합니다."
   ]
  },
  {
   "cell_type": "code",
   "execution_count": 199,
   "metadata": {
    "id": "eEi54e5ZFnU1"
   },
   "outputs": [],
   "source": [
    "# 자산과 관련해서 이탈여부가 있을 것 이라고 생각해서\n",
    "# 자산과 관련된 연수입, 집값, 핸드폰 가격을 합한 새로운 컬럼을 생성"
   ]
  },
  {
   "cell_type": "code",
   "execution_count": 200,
   "metadata": {
    "id": "WDiZkMCkU1Bf"
   },
   "outputs": [],
   "source": [
    "x['HOUSE_INCOME_HAND'] = x.HOUSE + x.INCOME + x.HANDSET_PRICE"
   ]
  },
  {
   "cell_type": "markdown",
   "metadata": {
    "id": "zFJ23LikV8A_"
   },
   "source": [
    "### 2.4 가변수화\n",
    "* 범주형 데이터이면서 값이 0,1 로 되어 있는 것이 아니라면, 가변수화를 수행해야 합니다.\n",
    "* 대상이 되는 변수에 대해서 가변수화를 수행해주세요."
   ]
  },
  {
   "cell_type": "code",
   "execution_count": 201,
   "metadata": {
    "id": "1AAfzPjeOm8x"
   },
   "outputs": [],
   "source": [
    "# 가변수화 할 컬럼이 없음."
   ]
  },
  {
   "cell_type": "markdown",
   "metadata": {
    "id": "aODppuvooQzl"
   },
   "source": [
    "### 2.5 데이터 분할\n",
    "\n",
    "* test 3000건(test_size = 3000), random_state = 2022\n",
    "* val 3000건(test_size = 3000), random_state = 2022\n",
    "* train 나머지."
   ]
  },
  {
   "cell_type": "code",
   "execution_count": 202,
   "metadata": {
    "id": "SmHfm-Z8OoC3"
   },
   "outputs": [],
   "source": [
    "# 데이터 분할(train - test)\n",
    "from sklearn.model_selection import train_test_split\n",
    "\n",
    "x_train, x_test, y_train, y_test = train_test_split(x, y, test_size=3000,random_state=2022)"
   ]
  },
  {
   "cell_type": "code",
   "execution_count": 203,
   "metadata": {
    "id": "f-nWCy8QOn_P"
   },
   "outputs": [],
   "source": [
    "# 데이터 분할(train - val)\n",
    "x_train, x_val, y_train, y_val = train_test_split(x_train, y_train, test_size=3000, random_state=2022)"
   ]
  },
  {
   "cell_type": "markdown",
   "metadata": {
    "id": "2Lwk03PSZTJP"
   },
   "source": [
    "### 2.6 (옵션)스케일링 \n",
    "* 스케일링을 필요로 하는 알고리즘이 있습니다. \n",
    "* 필요하다고 판단될때 수행합니다."
   ]
  },
  {
   "cell_type": "code",
   "execution_count": 204,
   "metadata": {
    "id": "oAVSU7XucCvn"
   },
   "outputs": [],
   "source": [
    "x_train_sc = (x_train - x_train.min()) / (x_train.max() - x_train.min())\n",
    "x_test_sc = (x_test - x_train.min()) / (x_train.max() - x_train.min())\n",
    "x_val_sc = (x_val - x_train.min()) / (x_train.max() - x_train.min())"
   ]
  },
  {
   "cell_type": "code",
   "execution_count": 205,
   "metadata": {},
   "outputs": [
    {
     "data": {
      "text/plain": [
       "((12000, 9), (3000, 9), (12000,), (3000,))"
      ]
     },
     "execution_count": 205,
     "metadata": {},
     "output_type": "execute_result"
    }
   ],
   "source": [
    "x_train.shape, x_val.shape, y_train.shape, y_val.shape"
   ]
  },
  {
   "cell_type": "markdown",
   "metadata": {
    "id": "ZghJJ7yLEpDA"
   },
   "source": [
    "## 3.모델링1 : 머신러닝"
   ]
  },
  {
   "cell_type": "markdown",
   "metadata": {
    "id": "NFDAfi7-5Xhu"
   },
   "source": [
    "### 3.1 모델링을 위한 함수 불러오기\n",
    "\n",
    "* **꼭 필요한 라이브러리 혹은 함수**만 불러옵니다. 무조건 다 불러오는 것은 지양해주세요."
   ]
  },
  {
   "cell_type": "code",
   "execution_count": 206,
   "metadata": {
    "id": "zlHHnr2-5cwD"
   },
   "outputs": [],
   "source": [
    "# 사용할 알고리즘\n",
    "from sklearn.linear_model import LogisticRegression # 스케일링 한 값 넣기\n",
    "from sklearn.tree import DecisionTreeClassifier\n",
    "from sklearn.neighbors import KNeighborsClassifier # 스케일링 한 값 넣기\n",
    "from sklearn.ensemble import RandomForestClassifier\n",
    "from xgboost import XGBClassifier\n",
    "from sklearn.svm import SVC # 스케일링 한 값 넣기\n",
    "\n",
    "# 성능 검증용\n",
    "from sklearn.model_selection import cross_val_score\n",
    "\n",
    "#모델 튜닝용\n",
    "from sklearn.model_selection import RandomizedSearchCV\n",
    "\n",
    "# 성능 평가용\n",
    "from sklearn.metrics import classification_report, recall_score"
   ]
  },
  {
   "cell_type": "markdown",
   "metadata": {
    "id": "6K1mZKlXByLy"
   },
   "source": [
    "### 3.2 모델링\n",
    "* 최소 3개 이상의 알고리즘을 선정합니다.(알고리즘에는 최소 1개 이상의 앙상블 기법을 포함)\n",
    "    * 아래 주어진 목록 이외의 알고리즘을 선정해도 좋습니다.\n",
    "* 각 알고리즘별 튜닝을 수행하여 최적의 모델을 생성합니다.\n",
    "    * 튜닝 방식은 GridSearchCV, RandomizedSearchCV 혹은 for loop 로 직접\n",
    "    * 단, 선형회귀, 로지스틱 회귀의는 입력 변수(feature)를 조절하여 튜닝을 합니다.\n",
    "    * 튜닝 과정에 대해서 주석으로 기술합니다.\n",
    "* 모델링, 튜닝만 수행하는데 그치지 말고, 모델의 내용을 파악하기 위한 분석을 시도합니다. 코드 결과에 대한 분석 의견을 주석으로 기술합니다.\n",
    "    * 예 : 모델 시각화 및 내용 파악, 튜닝 결과 분석 및 시각화"
   ]
  },
  {
   "cell_type": "markdown",
   "metadata": {},
   "source": [
    "#### cross_val_score를 이용해서 간단하게 적합 모델 3개선정"
   ]
  },
  {
   "cell_type": "code",
   "execution_count": 207,
   "metadata": {},
   "outputs": [
    {
     "name": "stdout",
     "output_type": "stream",
     "text": [
      "========================================\n",
      "Logistic Regression 0.637\n",
      "DecisionTreeClassifier 0.613\n",
      "KNN 0.658\n",
      "SVC 0.688\n",
      "RandomForestClassifier 0.691\n",
      "XGBClassifier 0.68\n",
      "========================================\n"
     ]
    },
    {
     "data": {
      "image/png": "[encoded data removed]",
      "text/plain": [
       "<Figure size 432x288 with 1 Axes>"
      ]
     },
     "metadata": {
      "needs_background": "light"
     },
     "output_type": "display_data"
    }
   ],
   "source": [
    "# cross_val_score를 통해 선 비교 - LogisticRegression\n",
    "# 선언하기\n",
    "model_lo = LogisticRegression()\n",
    "# 성능검증\n",
    "cv_score = cross_val_score(model_lo, x_train_sc, y_train, cv = 10)\n",
    "# 결과수집\n",
    "result_cv = {}\n",
    "result_cv['Logistic Regression'] = cv_score.mean()\n",
    "\n",
    "# cross_val_score를 통해 선 비교 - DecisionTreeClassifier\n",
    "# 선언하기\n",
    "model_dt = DecisionTreeClassifier(random_state=2022)\n",
    "# 성능검증\n",
    "cv_score = cross_val_score(model_dt ,x_train, y_train, cv = 10)\n",
    "# 결과수집\n",
    "result_cv['DecisionTreeClassifier'] = cv_score.mean()\n",
    "\n",
    "# cross_val_score를 통해 선 비교 - KNeighborsClassifier\n",
    "# 선언하기\n",
    "model_knn = KNeighborsClassifier()\n",
    "# 성능검증\n",
    "cv_score = cross_val_score(model_knn ,x_train_sc, y_train, cv = 10)\n",
    "# 결과수집\n",
    "result_cv['KNN'] = cv_score.mean()\n",
    "\n",
    "# cross_val_score를 통해 선 비교 - SVC\n",
    "# 선언하기\n",
    "model_svc = SVC(random_state=2022)\n",
    "# 성능검증\n",
    "cv_score = cross_val_score(model_svc, x_train_sc, y_train, cv = 10)\n",
    "# 결과수집\n",
    "result_cv['SVC'] = cv_score.mean()\n",
    "\n",
    "# cross_val_score를 통해 선 비교 - RandomForestClassifier\n",
    "# 선언하기\n",
    "model_rf = RandomForestClassifier(random_state=2022)\n",
    "# 성능검증\n",
    "cv_score = cross_val_score(model_rf, x_train, y_train, cv = 10)\n",
    "# 결과수집\n",
    "result_cv['RandomForestClassifier'] = cv_score.mean()\n",
    "\n",
    "# cross_val_score를 통해 선 비교 - XGBClassifier\n",
    "# 선언하기\n",
    "model_xgb = XGBClassifier(random_state=2022, eval_metric = 'mlogloss')\n",
    "# 성능검증\n",
    "cv_score = cross_val_score(model_xgb, x_train, y_train, cv = 10)\n",
    "# 결과수집\n",
    "result_cv['XGBClassifier'] = cv_score.mean()\n",
    "\n",
    "# 결과 확인\n",
    "# cv 값 확인\n",
    "print('=' * 40)\n",
    "for m_name, score in result_cv.items():\n",
    "    print(m_name, score.round(3))\n",
    "print('=' * 40)\n",
    "\n",
    "# 시각화\n",
    "plt.bar(result_cv.keys(), result_cv.values())\n",
    "plt.xticks(rotation=45, ha='right')\n",
    "plt.show()"
   ]
  },
  {
   "cell_type": "code",
   "execution_count": 208,
   "metadata": {},
   "outputs": [],
   "source": [
    "# cv 값을 비교해 본 결과\n",
    "# => Logistic Regression, RandomForestClassifier, XGBClassifier, SVC 가 성능이 좋게 나옴\n",
    "# 이 중 RandomForestClassifier, XGBClassifier, SVC 를 모델 튜닝 및 학습으로 결정"
   ]
  },
  {
   "cell_type": "markdown",
   "metadata": {
    "id": "VBBpa7BjL6Lj"
   },
   "source": [
    "#### (1) 알고리즘1"
   ]
  },
  {
   "cell_type": "code",
   "execution_count": 209,
   "metadata": {},
   "outputs": [],
   "source": [
    "# classification_report 저장 => 검증용\n",
    "result_cr={}\n",
    "\n",
    "#classification_report 저장 => 테스트용\n",
    "result_test ={}\n",
    "\n",
    "# recall 값만 저장 => 평가지표 비교\n",
    "result_recall = {}\n"
   ]
  },
  {
   "cell_type": "code",
   "execution_count": 210,
   "metadata": {
    "id": "qvry7Ns-OtqH"
   },
   "outputs": [],
   "source": [
    "# RandomForestClassifier 튜닝 및 학습 => 시간 관계상 param을 적게줌\n",
    "# 선언하기 \n",
    "model_rf = RandomForestClassifier(random_state=2022)\n",
    "\n",
    "param = {'max_depth' : range(4,7),\n",
    "        'n_estimators' : range(260,265)}\n",
    "\n",
    "model_rf = RandomizedSearchCV(model_rf,\n",
    "                    param,\n",
    "                    cv = 5,\n",
    "                    scoring='accuracy',\n",
    "                    n_jobs=-1)"
   ]
  },
  {
   "cell_type": "code",
   "execution_count": 211,
   "metadata": {
    "id": "W3kInz1eOuL_"
   },
   "outputs": [
    {
     "data": {
      "text/plain": [
       "RandomizedSearchCV(cv=5, estimator=RandomForestClassifier(random_state=2022),\n",
       "                   n_jobs=-1,\n",
       "                   param_distributions={'max_depth': range(4, 7),\n",
       "                                        'n_estimators': range(260, 265)},\n",
       "                   scoring='accuracy')"
      ]
     },
     "execution_count": 211,
     "metadata": {},
     "output_type": "execute_result"
    }
   ],
   "source": [
    "# 학습하기\n",
    "model_rf.fit(x_train,y_train)"
   ]
  },
  {
   "cell_type": "code",
   "execution_count": 212,
   "metadata": {
    "id": "ix3jWeElOtmX"
   },
   "outputs": [
    {
     "name": "stdout",
     "output_type": "stream",
     "text": [
      "RandomForestClassifier(max_depth=6, n_estimators=263, random_state=2022)\n",
      "0.6992499999999999\n"
     ]
    }
   ],
   "source": [
    "# 결과확인\n",
    "print(model_rf.best_estimator_)\n",
    "print(model_rf.best_score_)"
   ]
  },
  {
   "cell_type": "code",
   "execution_count": 213,
   "metadata": {
    "id": "k2ZVWhqqOti_",
    "scrolled": true
   },
   "outputs": [
    {
     "name": "stdout",
     "output_type": "stream",
     "text": [
      "              precision    recall  f1-score   support\n",
      "\n",
      "           0       0.72      0.72      0.72      1520\n",
      "           1       0.71      0.71      0.71      1480\n",
      "\n",
      "    accuracy                           0.72      3000\n",
      "   macro avg       0.72      0.72      0.72      3000\n",
      "weighted avg       0.72      0.72      0.72      3000\n",
      "\n"
     ]
    }
   ],
   "source": [
    "# 예측하기 => 검증\n",
    "y_pred = model_rf.predict(x_val)\n",
    "# 평가하기\n",
    "print(classification_report(y_val,y_pred))\n",
    "result_cr['RandomForestClassifier'] = classification_report(y_val,y_pred)"
   ]
  },
  {
   "cell_type": "code",
   "execution_count": 214,
   "metadata": {},
   "outputs": [
    {
     "name": "stdout",
     "output_type": "stream",
     "text": [
      "              precision    recall  f1-score   support\n",
      "\n",
      "           0       0.70      0.69      0.69      1540\n",
      "           1       0.68      0.69      0.68      1460\n",
      "\n",
      "    accuracy                           0.69      3000\n",
      "   macro avg       0.69      0.69      0.69      3000\n",
      "weighted avg       0.69      0.69      0.69      3000\n",
      "\n"
     ]
    }
   ],
   "source": [
    "# 예측하기 => 테스트\n",
    "y_pred = model_rf.predict(x_test)\n",
    "# 평가하기\n",
    "print(classification_report(y_test,y_pred))\n",
    "\n",
    "result_test['RandomForestClassifier'] = classification_report(y_test,y_pred)\n",
    "result_recall['RandomForestClassifier'] = recall_score(y_test,y_pred)"
   ]
  },
  {
   "cell_type": "markdown",
   "metadata": {
    "id": "90r0cCjwOvYY"
   },
   "source": [
    "#### (2) 알고리즘2"
   ]
  },
  {
   "cell_type": "code",
   "execution_count": 215,
   "metadata": {
    "id": "JP5YptL7OvYY"
   },
   "outputs": [],
   "source": [
    "# XGBClassifier 튜닝 및 학습\n",
    "# 선언하기\n",
    "model_xgbc = XGBClassifier(random_state = 2022,eval_metric = 'mlogloss' )\n",
    "\n",
    "param = {'max_depth':range(4,7),\n",
    "        'n_estimators': range(150,155)}\n",
    "\n",
    "model_xgb = RandomizedSearchCV(model_xgbc,\n",
    "                    param,\n",
    "                    cv = 5,\n",
    "                    scoring='accuracy',\n",
    "                    n_jobs=-1)"
   ]
  },
  {
   "cell_type": "code",
   "execution_count": 216,
   "metadata": {
    "id": "xp9R7JAfOvYY"
   },
   "outputs": [
    {
     "data": {
      "text/plain": [
       "RandomizedSearchCV(cv=5,\n",
       "                   estimator=XGBClassifier(base_score=None, booster=None,\n",
       "                                           colsample_bylevel=None,\n",
       "                                           colsample_bynode=None,\n",
       "                                           colsample_bytree=None,\n",
       "                                           enable_categorical=False,\n",
       "                                           eval_metric='mlogloss', gamma=None,\n",
       "                                           gpu_id=None, importance_type=None,\n",
       "                                           interaction_constraints=None,\n",
       "                                           learning_rate=None,\n",
       "                                           max_delta_step=None, max_depth=None,\n",
       "                                           min_child_weight=None, missing=nan,\n",
       "                                           monotone_constraints=None,\n",
       "                                           n_estimators=100, n_jobs=None,\n",
       "                                           num_parallel_tree=None,\n",
       "                                           predictor=None, random_state=2022,\n",
       "                                           reg_alpha=None, reg_lambda=None,\n",
       "                                           scale_pos_weight=None,\n",
       "                                           subsample=None, tree_method=None,\n",
       "                                           validate_parameters=None,\n",
       "                                           verbosity=None),\n",
       "                   n_jobs=-1,\n",
       "                   param_distributions={'max_depth': range(4, 7),\n",
       "                                        'n_estimators': range(150, 155)},\n",
       "                   scoring='accuracy')"
      ]
     },
     "execution_count": 216,
     "metadata": {},
     "output_type": "execute_result"
    }
   ],
   "source": [
    "# 학습하기\n",
    "model_xgb.fit(x_train,y_train)"
   ]
  },
  {
   "cell_type": "code",
   "execution_count": 217,
   "metadata": {
    "id": "4kDkaFxcOvYY"
   },
   "outputs": [
    {
     "name": "stdout",
     "output_type": "stream",
     "text": [
      "{'n_estimators': 153, 'max_depth': 4}\n",
      "0.6940000000000001\n"
     ]
    }
   ],
   "source": [
    "# 결과확인\n",
    "print(model_xgb.best_params_)\n",
    "print(model_xgb.best_score_)"
   ]
  },
  {
   "cell_type": "code",
   "execution_count": 218,
   "metadata": {
    "id": "KEpaeDGXOvYZ",
    "scrolled": true
   },
   "outputs": [
    {
     "name": "stdout",
     "output_type": "stream",
     "text": [
      "              precision    recall  f1-score   support\n",
      "\n",
      "           0       0.72      0.68      0.70      1520\n",
      "           1       0.69      0.73      0.71      1480\n",
      "\n",
      "    accuracy                           0.71      3000\n",
      "   macro avg       0.71      0.71      0.71      3000\n",
      "weighted avg       0.71      0.71      0.71      3000\n",
      "\n"
     ]
    }
   ],
   "source": [
    "# 예측하기 => 검증\n",
    "y_pred = model_xgb.predict(x_val)\n",
    "# 평가하기\n",
    "print(classification_report(y_val,y_pred))\n",
    "result_cr['XGBClassifier'] = classification_report(y_val, y_pred)"
   ]
  },
  {
   "cell_type": "code",
   "execution_count": 219,
   "metadata": {
    "scrolled": false
   },
   "outputs": [
    {
     "data": {
      "image/png": "[encoded data removed]",
      "text/plain": [
       "<Figure size 1080x720 with 1 Axes>"
      ]
     },
     "metadata": {
      "needs_background": "light"
     },
     "output_type": "display_data"
    }
   ],
   "source": [
    "# 중요 변수 확인\n",
    "plt.figure(figsize=(15,10))\n",
    "plt.barh(y =list(x) , width = model_xgb.best_estimator_.feature_importances_)\n",
    "plt.show()"
   ]
  },
  {
   "cell_type": "code",
   "execution_count": 220,
   "metadata": {},
   "outputs": [
    {
     "name": "stdout",
     "output_type": "stream",
     "text": [
      "              precision    recall  f1-score   support\n",
      "\n",
      "           0       0.70      0.65      0.68      1540\n",
      "           1       0.66      0.71      0.68      1460\n",
      "\n",
      "    accuracy                           0.68      3000\n",
      "   macro avg       0.68      0.68      0.68      3000\n",
      "weighted avg       0.68      0.68      0.68      3000\n",
      "\n"
     ]
    }
   ],
   "source": [
    "# 예측하기 => 테스트\n",
    "y_pred = model_xgb.predict(x_test)\n",
    "# 평가하기\n",
    "print(classification_report(y_test,y_pred))\n",
    "result_test['XGBClassifier'] = classification_report(y_test,y_pred)\n",
    "\n",
    "# recall 값만 저장\n",
    "result_recall['XGBClassifier'] = recall_score(y_test,y_pred)"
   ]
  },
  {
   "cell_type": "markdown",
   "metadata": {
    "id": "79nC_1brOw_d"
   },
   "source": [
    "#### (3) 알고리즘3"
   ]
  },
  {
   "cell_type": "code",
   "execution_count": 221,
   "metadata": {
    "id": "OWrO87LaOw_d"
   },
   "outputs": [],
   "source": [
    "# SVC 튜닝 및 학습\n",
    "model_svc = SVC()\n",
    "\n",
    "param ={'C': np.logspace(-3,3,7),\n",
    "        'gamma' :np.logspace(-2,1,4)}\n",
    "\n",
    "m_svm_gs = RandomizedSearchCV(model_svc, param, cv = 5, scoring = 'accuracy', n_jobs=-1)"
   ]
  },
  {
   "cell_type": "code",
   "execution_count": 222,
   "metadata": {
    "id": "X2w9xuTxOw_e"
   },
   "outputs": [
    {
     "data": {
      "text/plain": [
       "RandomizedSearchCV(cv=5, estimator=SVC(), n_jobs=-1,\n",
       "                   param_distributions={'C': array([1.e-03, 1.e-02, 1.e-01, 1.e+00, 1.e+01, 1.e+02, 1.e+03]),\n",
       "                                        'gamma': array([ 0.01,  0.1 ,  1.  , 10.  ])},\n",
       "                   scoring='accuracy')"
      ]
     },
     "execution_count": 222,
     "metadata": {},
     "output_type": "execute_result"
    }
   ],
   "source": [
    "# 학습하기\n",
    "m_svm_gs.fit(x_train_sc,y_train)"
   ]
  },
  {
   "cell_type": "code",
   "execution_count": 223,
   "metadata": {
    "id": "Gu9S_e8HOw_e"
   },
   "outputs": [
    {
     "name": "stdout",
     "output_type": "stream",
     "text": [
      "SVC(gamma=1.0)\n",
      "0.6859999999999999\n"
     ]
    }
   ],
   "source": [
    "# 결과확인\n",
    "print(m_svm_gs.best_estimator_)\n",
    "print(m_svm_gs.best_score_)"
   ]
  },
  {
   "cell_type": "code",
   "execution_count": 224,
   "metadata": {
    "id": "A831KcfEOw_e",
    "scrolled": true
   },
   "outputs": [
    {
     "name": "stdout",
     "output_type": "stream",
     "text": [
      "              precision    recall  f1-score   support\n",
      "\n",
      "           0       0.69      0.73      0.71      1520\n",
      "           1       0.71      0.67      0.69      1480\n",
      "\n",
      "    accuracy                           0.70      3000\n",
      "   macro avg       0.70      0.70      0.70      3000\n",
      "weighted avg       0.70      0.70      0.70      3000\n",
      "\n"
     ]
    }
   ],
   "source": [
    "# 예측하기 => 검증\n",
    "y_pred = m_svm_gs.predict(x_val_sc)\n",
    "# 평가하기\n",
    "print(classification_report(y_val,y_pred))\n",
    "result_cr['SVC'] = classification_report(y_val, y_pred)"
   ]
  },
  {
   "cell_type": "code",
   "execution_count": 225,
   "metadata": {},
   "outputs": [
    {
     "name": "stdout",
     "output_type": "stream",
     "text": [
      "              precision    recall  f1-score   support\n",
      "\n",
      "           0       0.67      0.70      0.69      1540\n",
      "           1       0.67      0.64      0.66      1460\n",
      "\n",
      "    accuracy                           0.67      3000\n",
      "   macro avg       0.67      0.67      0.67      3000\n",
      "weighted avg       0.67      0.67      0.67      3000\n",
      "\n"
     ]
    }
   ],
   "source": [
    "# 예측하기 => 테스트\n",
    "y_pred = m_svm_gs.predict(x_test_sc)\n",
    "# 평가하기\n",
    "print(classification_report(y_test,y_pred))\n",
    "result_test['SVC'] = classification_report(y_test,y_pred)\n",
    "\n",
    "# recall 값만 저장\n",
    "result_recall['SVC'] = recall_score(y_test,y_pred)"
   ]
  },
  {
   "cell_type": "markdown",
   "metadata": {
    "id": "yIm4n8jAOytN"
   },
   "source": [
    "#### (4) 추가"
   ]
  },
  {
   "cell_type": "code",
   "execution_count": null,
   "metadata": {
    "id": "I08wZzKSOytN"
   },
   "outputs": [],
   "source": []
  },
  {
   "cell_type": "code",
   "execution_count": null,
   "metadata": {
    "id": "uwNjvnz6OytO"
   },
   "outputs": [],
   "source": []
  },
  {
   "cell_type": "code",
   "execution_count": null,
   "metadata": {
    "id": "5xoWtpIhOytO"
   },
   "outputs": [],
   "source": []
  },
  {
   "cell_type": "code",
   "execution_count": null,
   "metadata": {
    "id": "GS0fsPLsOytO"
   },
   "outputs": [],
   "source": []
  },
  {
   "cell_type": "markdown",
   "metadata": {
    "id": "95r7i5gXL6Lx"
   },
   "source": [
    "## 4.모델링2 : DL"
   ]
  },
  {
   "cell_type": "markdown",
   "metadata": {
    "id": "b9kRyQ6K6CIW"
   },
   "source": [
    "### 4.1 모델링을 위한 함수 불러오기"
   ]
  },
  {
   "cell_type": "code",
   "execution_count": 226,
   "metadata": {
    "id": "_BDNB7hM9_hz"
   },
   "outputs": [],
   "source": [
    "# 라이브러리 불러오기\n",
    "import tensorflow as tf\n",
    "from tensorflow import keras\n",
    "from tensorflow.keras.callbacks import EarlyStopping\n",
    "from tensorflow.keras.utils import plot_model"
   ]
  },
  {
   "cell_type": "code",
   "execution_count": 227,
   "metadata": {},
   "outputs": [],
   "source": [
    "# EarlyStopping 선언\n",
    "es = EarlyStopping(monitor='val_loss', min_delta=0, patience=50, verbose=1, restore_best_weights=True)"
   ]
  },
  {
   "cell_type": "code",
   "execution_count": 228,
   "metadata": {},
   "outputs": [],
   "source": [
    "# input , batch 사이즈 설정 \n",
    "input = x_train.shape[1]\n",
    "batch = 128"
   ]
  },
  {
   "cell_type": "markdown",
   "metadata": {
    "id": "lL9BeX00MLgt"
   },
   "source": [
    "### 4.2 모델링\n",
    "\n",
    "* 딥러닝 모델을 3개 이상 생성하시오\n",
    "    * 다양한 구조의 모델 3개 이상을 설계하시오. (히든레이어, 노드 수 조절)\n",
    "    * 각 모델은 구조가 달라야 합니다.\n",
    "    * 구조를 그렇게 구성한 이유를 주석으로 기술해 봅시다.\n",
    "* 각 모델마다 \n",
    "    * 구조를 summary 혹은 plot model로 확인\n",
    "    * 학습 후 history plot 그리고 적절하게 학습이 되었는지 확인    "
   ]
  },
  {
   "cell_type": "markdown",
   "metadata": {
    "id": "yAaMF07mHz_q"
   },
   "source": [
    "#### (1) 모델1"
   ]
  },
  {
   "cell_type": "code",
   "execution_count": 229,
   "metadata": {
    "id": "aA1Pm1oXMLgv"
   },
   "outputs": [
    {
     "name": "stdout",
     "output_type": "stream",
     "text": [
      "Model: \"model\"\n",
      "_________________________________________________________________\n",
      " Layer (type)                Output Shape              Param #   \n",
      "=================================================================\n",
      " input_1 (InputLayer)        [(None, 9)]               0         \n",
      "                                                                 \n",
      " dense (Dense)               (None, 1)                 10        \n",
      "                                                                 \n",
      "=================================================================\n",
      "Total params: 10\n",
      "Trainable params: 10\n",
      "Non-trainable params: 0\n",
      "_________________________________________________________________\n"
     ]
    }
   ],
   "source": [
    "# 히든레이어 없이 기본적인 DL모델링\n",
    "\n",
    "# 세션 초기화\n",
    "keras.backend.clear_session()\n",
    "\n",
    "#레이어 연결\n",
    "il = keras.layers.Input(shape=(input,))\n",
    "ol = keras.layers.Dense(1, activation='sigmoid')(il)\n",
    "\n",
    "# 모델 시작과 끝 지정\n",
    "model_dl_basic = keras.models.Model(il,ol)\n",
    "\n",
    "#컴파일\n",
    "model_dl_basic.compile(loss = 'binary_crossentropy', optimizer='adam', metrics='accuracy')\n",
    "\n",
    "#요약\n",
    "model_dl_basic.summary()\n"
   ]
  },
  {
   "cell_type": "code",
   "execution_count": 123,
   "metadata": {
    "scrolled": true
   },
   "outputs": [
    {
     "name": "stdout",
     "output_type": "stream",
     "text": [
      "Epoch 1/2000\n",
      "75/75 [==============================] - 1s 4ms/step - loss: 0.6992 - accuracy: 0.5115 - val_loss: 0.6871 - val_accuracy: 0.5379\n",
      "Epoch 2/2000\n",
      "75/75 [==============================] - 0s 2ms/step - loss: 0.6780 - accuracy: 0.5579 - val_loss: 0.6736 - val_accuracy: 0.5713\n",
      "Epoch 3/2000\n",
      "75/75 [==============================] - 0s 2ms/step - loss: 0.6694 - accuracy: 0.5917 - val_loss: 0.6676 - val_accuracy: 0.5971\n",
      "Epoch 4/2000\n",
      "75/75 [==============================] - 0s 2ms/step - loss: 0.6648 - accuracy: 0.6095 - val_loss: 0.6638 - val_accuracy: 0.6108\n",
      "Epoch 5/2000\n",
      "75/75 [==============================] - 0s 2ms/step - loss: 0.6612 - accuracy: 0.6160 - val_loss: 0.6607 - val_accuracy: 0.6204\n",
      "Epoch 6/2000\n",
      "75/75 [==============================] - 0s 3ms/step - loss: 0.6581 - accuracy: 0.6186 - val_loss: 0.6581 - val_accuracy: 0.6212\n",
      "Epoch 7/2000\n",
      "75/75 [==============================] - 0s 2ms/step - loss: 0.6553 - accuracy: 0.6206 - val_loss: 0.6559 - val_accuracy: 0.6208\n",
      "Epoch 8/2000\n",
      "75/75 [==============================] - 0s 2ms/step - loss: 0.6528 - accuracy: 0.6227 - val_loss: 0.6538 - val_accuracy: 0.6229\n",
      "Epoch 9/2000\n",
      "75/75 [==============================] - 0s 2ms/step - loss: 0.6505 - accuracy: 0.6232 - val_loss: 0.6521 - val_accuracy: 0.6237\n",
      "Epoch 10/2000\n",
      "75/75 [==============================] - 0s 3ms/step - loss: 0.6485 - accuracy: 0.6241 - val_loss: 0.6506 - val_accuracy: 0.6263\n",
      "Epoch 11/2000\n",
      "75/75 [==============================] - 0s 3ms/step - loss: 0.6467 - accuracy: 0.6255 - val_loss: 0.6493 - val_accuracy: 0.6275\n",
      "Epoch 12/2000\n",
      "75/75 [==============================] - 0s 3ms/step - loss: 0.6451 - accuracy: 0.6269 - val_loss: 0.6482 - val_accuracy: 0.6267\n",
      "Epoch 13/2000\n",
      "75/75 [==============================] - 0s 3ms/step - loss: 0.6437 - accuracy: 0.6252 - val_loss: 0.6473 - val_accuracy: 0.6246\n",
      "Epoch 14/2000\n",
      "75/75 [==============================] - 0s 3ms/step - loss: 0.6425 - accuracy: 0.6263 - val_loss: 0.6465 - val_accuracy: 0.6258\n",
      "Epoch 15/2000\n",
      "75/75 [==============================] - 0s 3ms/step - loss: 0.6413 - accuracy: 0.6272 - val_loss: 0.6459 - val_accuracy: 0.6237\n",
      "Epoch 16/2000\n",
      "75/75 [==============================] - 0s 3ms/step - loss: 0.6404 - accuracy: 0.6296 - val_loss: 0.6452 - val_accuracy: 0.6246\n",
      "Epoch 17/2000\n",
      "75/75 [==============================] - 0s 2ms/step - loss: 0.6395 - accuracy: 0.6293 - val_loss: 0.6447 - val_accuracy: 0.6267\n",
      "Epoch 18/2000\n",
      "75/75 [==============================] - 0s 2ms/step - loss: 0.6387 - accuracy: 0.6283 - val_loss: 0.6443 - val_accuracy: 0.6250\n",
      "Epoch 19/2000\n",
      "75/75 [==============================] - 0s 2ms/step - loss: 0.6380 - accuracy: 0.6289 - val_loss: 0.6441 - val_accuracy: 0.6221\n",
      "Epoch 20/2000\n",
      "75/75 [==============================] - 0s 2ms/step - loss: 0.6374 - accuracy: 0.6311 - val_loss: 0.6437 - val_accuracy: 0.6237\n",
      "Epoch 21/2000\n",
      "75/75 [==============================] - 0s 3ms/step - loss: 0.6369 - accuracy: 0.6297 - val_loss: 0.6435 - val_accuracy: 0.6217\n",
      "Epoch 22/2000\n",
      "75/75 [==============================] - 0s 3ms/step - loss: 0.6364 - accuracy: 0.6323 - val_loss: 0.6434 - val_accuracy: 0.6229\n",
      "Epoch 23/2000\n",
      "75/75 [==============================] - 0s 3ms/step - loss: 0.6361 - accuracy: 0.6340 - val_loss: 0.6432 - val_accuracy: 0.6242\n",
      "Epoch 24/2000\n",
      "75/75 [==============================] - 0s 3ms/step - loss: 0.6357 - accuracy: 0.6344 - val_loss: 0.6431 - val_accuracy: 0.6233\n",
      "Epoch 25/2000\n",
      "75/75 [==============================] - 0s 3ms/step - loss: 0.6353 - accuracy: 0.6344 - val_loss: 0.6430 - val_accuracy: 0.6225\n",
      "Epoch 26/2000\n",
      "75/75 [==============================] - 0s 3ms/step - loss: 0.6350 - accuracy: 0.6356 - val_loss: 0.6429 - val_accuracy: 0.6225\n",
      "Epoch 27/2000\n",
      "75/75 [==============================] - 0s 3ms/step - loss: 0.6348 - accuracy: 0.6359 - val_loss: 0.6428 - val_accuracy: 0.6242\n",
      "Epoch 28/2000\n",
      "75/75 [==============================] - 0s 2ms/step - loss: 0.6345 - accuracy: 0.6356 - val_loss: 0.6428 - val_accuracy: 0.6242\n",
      "Epoch 29/2000\n",
      "75/75 [==============================] - 0s 2ms/step - loss: 0.6343 - accuracy: 0.6367 - val_loss: 0.6427 - val_accuracy: 0.6246\n",
      "Epoch 30/2000\n",
      "75/75 [==============================] - 0s 2ms/step - loss: 0.6341 - accuracy: 0.6347 - val_loss: 0.6427 - val_accuracy: 0.6254\n",
      "Epoch 31/2000\n",
      "75/75 [==============================] - 0s 2ms/step - loss: 0.6339 - accuracy: 0.6379 - val_loss: 0.6427 - val_accuracy: 0.6237\n",
      "Epoch 32/2000\n",
      "75/75 [==============================] - 0s 2ms/step - loss: 0.6338 - accuracy: 0.6358 - val_loss: 0.6427 - val_accuracy: 0.6237\n",
      "Epoch 33/2000\n",
      "75/75 [==============================] - 0s 2ms/step - loss: 0.6336 - accuracy: 0.6358 - val_loss: 0.6426 - val_accuracy: 0.6242\n",
      "Epoch 34/2000\n",
      "75/75 [==============================] - 0s 2ms/step - loss: 0.6335 - accuracy: 0.6370 - val_loss: 0.6427 - val_accuracy: 0.6217\n",
      "Epoch 35/2000\n",
      "75/75 [==============================] - 0s 2ms/step - loss: 0.6334 - accuracy: 0.6366 - val_loss: 0.6426 - val_accuracy: 0.6221\n",
      "Epoch 36/2000\n",
      "75/75 [==============================] - 0s 2ms/step - loss: 0.6333 - accuracy: 0.6350 - val_loss: 0.6426 - val_accuracy: 0.6217\n",
      "Epoch 37/2000\n",
      "75/75 [==============================] - 0s 2ms/step - loss: 0.6333 - accuracy: 0.6360 - val_loss: 0.6426 - val_accuracy: 0.6221\n",
      "Epoch 38/2000\n",
      "75/75 [==============================] - 0s 2ms/step - loss: 0.6332 - accuracy: 0.6347 - val_loss: 0.6426 - val_accuracy: 0.6212\n",
      "Epoch 39/2000\n",
      "75/75 [==============================] - 0s 2ms/step - loss: 0.6331 - accuracy: 0.6385 - val_loss: 0.6426 - val_accuracy: 0.6204\n",
      "Epoch 40/2000\n",
      "75/75 [==============================] - 0s 2ms/step - loss: 0.6330 - accuracy: 0.6358 - val_loss: 0.6426 - val_accuracy: 0.6200\n",
      "Epoch 41/2000\n",
      "75/75 [==============================] - 0s 2ms/step - loss: 0.6329 - accuracy: 0.6358 - val_loss: 0.6426 - val_accuracy: 0.6208\n",
      "Epoch 42/2000\n",
      "75/75 [==============================] - 0s 2ms/step - loss: 0.6328 - accuracy: 0.6344 - val_loss: 0.6425 - val_accuracy: 0.6204\n",
      "Epoch 43/2000\n",
      "75/75 [==============================] - 0s 3ms/step - loss: 0.6328 - accuracy: 0.6367 - val_loss: 0.6425 - val_accuracy: 0.6200\n",
      "Epoch 44/2000\n",
      "75/75 [==============================] - 0s 2ms/step - loss: 0.6327 - accuracy: 0.6368 - val_loss: 0.6425 - val_accuracy: 0.6204\n",
      "Epoch 45/2000\n",
      "75/75 [==============================] - 0s 2ms/step - loss: 0.6326 - accuracy: 0.6368 - val_loss: 0.6425 - val_accuracy: 0.6200\n",
      "Epoch 46/2000\n",
      "75/75 [==============================] - 0s 2ms/step - loss: 0.6326 - accuracy: 0.6366 - val_loss: 0.6425 - val_accuracy: 0.6212\n",
      "Epoch 47/2000\n",
      "75/75 [==============================] - 0s 2ms/step - loss: 0.6325 - accuracy: 0.6369 - val_loss: 0.6424 - val_accuracy: 0.6208\n",
      "Epoch 48/2000\n",
      "75/75 [==============================] - 0s 2ms/step - loss: 0.6325 - accuracy: 0.6358 - val_loss: 0.6425 - val_accuracy: 0.6187\n",
      "Epoch 49/2000\n",
      "75/75 [==============================] - 0s 2ms/step - loss: 0.6325 - accuracy: 0.6377 - val_loss: 0.6425 - val_accuracy: 0.6192\n",
      "Epoch 50/2000\n",
      "75/75 [==============================] - 0s 2ms/step - loss: 0.6324 - accuracy: 0.6376 - val_loss: 0.6423 - val_accuracy: 0.6217\n",
      "Epoch 51/2000\n",
      "75/75 [==============================] - 0s 2ms/step - loss: 0.6324 - accuracy: 0.6373 - val_loss: 0.6424 - val_accuracy: 0.6208\n",
      "Epoch 52/2000\n",
      "75/75 [==============================] - 0s 2ms/step - loss: 0.6324 - accuracy: 0.6375 - val_loss: 0.6423 - val_accuracy: 0.6208\n",
      "Epoch 53/2000\n",
      "75/75 [==============================] - 0s 3ms/step - loss: 0.6323 - accuracy: 0.6388 - val_loss: 0.6424 - val_accuracy: 0.6192\n",
      "Epoch 54/2000\n",
      "75/75 [==============================] - 0s 3ms/step - loss: 0.6323 - accuracy: 0.6371 - val_loss: 0.6423 - val_accuracy: 0.6192\n",
      "Epoch 55/2000\n",
      "75/75 [==============================] - 0s 2ms/step - loss: 0.6322 - accuracy: 0.6397 - val_loss: 0.6424 - val_accuracy: 0.6200\n",
      "Epoch 56/2000\n",
      "75/75 [==============================] - 0s 3ms/step - loss: 0.6322 - accuracy: 0.6377 - val_loss: 0.6423 - val_accuracy: 0.6196\n",
      "Epoch 57/2000\n",
      "75/75 [==============================] - 0s 2ms/step - loss: 0.6321 - accuracy: 0.6393 - val_loss: 0.6422 - val_accuracy: 0.6183\n",
      "Epoch 58/2000\n",
      "75/75 [==============================] - 0s 2ms/step - loss: 0.6321 - accuracy: 0.6394 - val_loss: 0.6422 - val_accuracy: 0.6171\n",
      "Epoch 59/2000\n",
      "75/75 [==============================] - 0s 2ms/step - loss: 0.6321 - accuracy: 0.6374 - val_loss: 0.6423 - val_accuracy: 0.6187\n",
      "Epoch 60/2000\n",
      "75/75 [==============================] - 0s 2ms/step - loss: 0.6321 - accuracy: 0.6368 - val_loss: 0.6422 - val_accuracy: 0.6187\n",
      "Epoch 61/2000\n",
      "75/75 [==============================] - 0s 2ms/step - loss: 0.6321 - accuracy: 0.6395 - val_loss: 0.6421 - val_accuracy: 0.6200\n",
      "Epoch 62/2000\n",
      "75/75 [==============================] - 0s 2ms/step - loss: 0.6320 - accuracy: 0.6363 - val_loss: 0.6421 - val_accuracy: 0.6196\n",
      "Epoch 63/2000\n",
      "75/75 [==============================] - 0s 2ms/step - loss: 0.6320 - accuracy: 0.6404 - val_loss: 0.6421 - val_accuracy: 0.6196\n",
      "Epoch 64/2000\n",
      "75/75 [==============================] - 0s 2ms/step - loss: 0.6320 - accuracy: 0.6392 - val_loss: 0.6421 - val_accuracy: 0.6200\n",
      "Epoch 65/2000\n",
      "75/75 [==============================] - 0s 2ms/step - loss: 0.6319 - accuracy: 0.6380 - val_loss: 0.6421 - val_accuracy: 0.6196\n",
      "Epoch 66/2000\n",
      "75/75 [==============================] - 0s 2ms/step - loss: 0.6319 - accuracy: 0.6386 - val_loss: 0.6421 - val_accuracy: 0.6183\n",
      "Epoch 67/2000\n",
      "75/75 [==============================] - 0s 2ms/step - loss: 0.6319 - accuracy: 0.6393 - val_loss: 0.6421 - val_accuracy: 0.6196\n",
      "Epoch 68/2000\n",
      "75/75 [==============================] - 0s 2ms/step - loss: 0.6319 - accuracy: 0.6396 - val_loss: 0.6420 - val_accuracy: 0.6187\n",
      "Epoch 69/2000\n",
      "75/75 [==============================] - 0s 2ms/step - loss: 0.6318 - accuracy: 0.6379 - val_loss: 0.6420 - val_accuracy: 0.6192\n",
      "Epoch 70/2000\n",
      "75/75 [==============================] - 0s 2ms/step - loss: 0.6318 - accuracy: 0.6384 - val_loss: 0.6420 - val_accuracy: 0.6225\n",
      "Epoch 71/2000\n",
      "75/75 [==============================] - 0s 2ms/step - loss: 0.6318 - accuracy: 0.6388 - val_loss: 0.6420 - val_accuracy: 0.6212\n",
      "Epoch 72/2000\n",
      "75/75 [==============================] - 0s 2ms/step - loss: 0.6318 - accuracy: 0.6388 - val_loss: 0.6420 - val_accuracy: 0.6200\n",
      "Epoch 73/2000\n",
      "75/75 [==============================] - 0s 2ms/step - loss: 0.6318 - accuracy: 0.6390 - val_loss: 0.6420 - val_accuracy: 0.6208\n",
      "Epoch 74/2000\n",
      "75/75 [==============================] - 0s 2ms/step - loss: 0.6317 - accuracy: 0.6386 - val_loss: 0.6419 - val_accuracy: 0.6229\n",
      "Epoch 75/2000\n",
      "75/75 [==============================] - 0s 2ms/step - loss: 0.6317 - accuracy: 0.6386 - val_loss: 0.6419 - val_accuracy: 0.6212\n",
      "Epoch 76/2000\n",
      "75/75 [==============================] - 0s 2ms/step - loss: 0.6317 - accuracy: 0.6384 - val_loss: 0.6419 - val_accuracy: 0.6233\n",
      "Epoch 77/2000\n",
      "75/75 [==============================] - 0s 2ms/step - loss: 0.6317 - accuracy: 0.6386 - val_loss: 0.6419 - val_accuracy: 0.6242\n",
      "Epoch 78/2000\n",
      "75/75 [==============================] - 0s 2ms/step - loss: 0.6317 - accuracy: 0.6410 - val_loss: 0.6419 - val_accuracy: 0.6221\n",
      "Epoch 79/2000\n",
      "75/75 [==============================] - 0s 2ms/step - loss: 0.6317 - accuracy: 0.6396 - val_loss: 0.6418 - val_accuracy: 0.6237\n",
      "Epoch 80/2000\n",
      "75/75 [==============================] - 0s 2ms/step - loss: 0.6316 - accuracy: 0.6403 - val_loss: 0.6419 - val_accuracy: 0.6225\n",
      "Epoch 81/2000\n",
      "75/75 [==============================] - 0s 2ms/step - loss: 0.6317 - accuracy: 0.6390 - val_loss: 0.6419 - val_accuracy: 0.6212\n",
      "Epoch 82/2000\n",
      "75/75 [==============================] - 0s 2ms/step - loss: 0.6316 - accuracy: 0.6392 - val_loss: 0.6418 - val_accuracy: 0.6237\n",
      "Epoch 83/2000\n",
      "75/75 [==============================] - 0s 2ms/step - loss: 0.6316 - accuracy: 0.6403 - val_loss: 0.6418 - val_accuracy: 0.6225\n",
      "Epoch 84/2000\n",
      "75/75 [==============================] - 0s 2ms/step - loss: 0.6316 - accuracy: 0.6399 - val_loss: 0.6418 - val_accuracy: 0.6250\n",
      "Epoch 85/2000\n",
      "75/75 [==============================] - 0s 2ms/step - loss: 0.6316 - accuracy: 0.6402 - val_loss: 0.6418 - val_accuracy: 0.6242\n",
      "Epoch 86/2000\n",
      "75/75 [==============================] - 0s 2ms/step - loss: 0.6316 - accuracy: 0.6402 - val_loss: 0.6417 - val_accuracy: 0.6246\n",
      "Epoch 87/2000\n",
      "75/75 [==============================] - 0s 2ms/step - loss: 0.6316 - accuracy: 0.6397 - val_loss: 0.6418 - val_accuracy: 0.6229\n",
      "Epoch 88/2000\n",
      "75/75 [==============================] - 0s 2ms/step - loss: 0.6316 - accuracy: 0.6402 - val_loss: 0.6418 - val_accuracy: 0.6229\n",
      "Epoch 89/2000\n",
      "75/75 [==============================] - 0s 2ms/step - loss: 0.6315 - accuracy: 0.6399 - val_loss: 0.6417 - val_accuracy: 0.6233\n",
      "Epoch 90/2000\n",
      "75/75 [==============================] - 0s 2ms/step - loss: 0.6315 - accuracy: 0.6405 - val_loss: 0.6418 - val_accuracy: 0.6229\n",
      "Epoch 91/2000\n",
      "75/75 [==============================] - 0s 2ms/step - loss: 0.6315 - accuracy: 0.6406 - val_loss: 0.6417 - val_accuracy: 0.6221\n",
      "Epoch 92/2000\n",
      "75/75 [==============================] - 0s 2ms/step - loss: 0.6315 - accuracy: 0.6404 - val_loss: 0.6417 - val_accuracy: 0.6233\n",
      "Epoch 93/2000\n",
      "75/75 [==============================] - 0s 2ms/step - loss: 0.6315 - accuracy: 0.6396 - val_loss: 0.6417 - val_accuracy: 0.6212\n",
      "Epoch 94/2000\n",
      "75/75 [==============================] - 0s 2ms/step - loss: 0.6315 - accuracy: 0.6406 - val_loss: 0.6417 - val_accuracy: 0.6229\n",
      "Epoch 95/2000\n",
      "75/75 [==============================] - 0s 2ms/step - loss: 0.6315 - accuracy: 0.6400 - val_loss: 0.6417 - val_accuracy: 0.6237\n",
      "Epoch 96/2000\n",
      "75/75 [==============================] - 0s 2ms/step - loss: 0.6315 - accuracy: 0.6408 - val_loss: 0.6417 - val_accuracy: 0.6225\n",
      "Epoch 97/2000\n",
      "75/75 [==============================] - 0s 2ms/step - loss: 0.6315 - accuracy: 0.6395 - val_loss: 0.6417 - val_accuracy: 0.6225\n",
      "Epoch 98/2000\n",
      "75/75 [==============================] - 0s 2ms/step - loss: 0.6315 - accuracy: 0.6400 - val_loss: 0.6417 - val_accuracy: 0.6225\n",
      "Epoch 99/2000\n",
      "75/75 [==============================] - 0s 2ms/step - loss: 0.6314 - accuracy: 0.6411 - val_loss: 0.6416 - val_accuracy: 0.6217\n",
      "Epoch 100/2000\n",
      "75/75 [==============================] - 0s 2ms/step - loss: 0.6314 - accuracy: 0.6402 - val_loss: 0.6417 - val_accuracy: 0.6229\n",
      "Epoch 101/2000\n",
      "75/75 [==============================] - 0s 2ms/step - loss: 0.6315 - accuracy: 0.6401 - val_loss: 0.6416 - val_accuracy: 0.6221\n",
      "Epoch 102/2000\n",
      "75/75 [==============================] - 0s 2ms/step - loss: 0.6314 - accuracy: 0.6407 - val_loss: 0.6416 - val_accuracy: 0.6217\n",
      "Epoch 103/2000\n",
      "75/75 [==============================] - 0s 2ms/step - loss: 0.6315 - accuracy: 0.6400 - val_loss: 0.6416 - val_accuracy: 0.6217\n",
      "Epoch 104/2000\n",
      "75/75 [==============================] - 0s 2ms/step - loss: 0.6315 - accuracy: 0.6417 - val_loss: 0.6416 - val_accuracy: 0.6208\n",
      "Epoch 105/2000\n",
      "75/75 [==============================] - 0s 2ms/step - loss: 0.6315 - accuracy: 0.6400 - val_loss: 0.6416 - val_accuracy: 0.6212\n",
      "Epoch 106/2000\n",
      "75/75 [==============================] - 0s 2ms/step - loss: 0.6314 - accuracy: 0.6410 - val_loss: 0.6416 - val_accuracy: 0.6208\n",
      "Epoch 107/2000\n",
      "75/75 [==============================] - 0s 2ms/step - loss: 0.6315 - accuracy: 0.6403 - val_loss: 0.6416 - val_accuracy: 0.6221\n",
      "Epoch 108/2000\n",
      "75/75 [==============================] - 0s 2ms/step - loss: 0.6314 - accuracy: 0.6405 - val_loss: 0.6416 - val_accuracy: 0.6208\n",
      "Epoch 109/2000\n",
      "75/75 [==============================] - 0s 2ms/step - loss: 0.6314 - accuracy: 0.6408 - val_loss: 0.6416 - val_accuracy: 0.6208\n",
      "Epoch 110/2000\n",
      "75/75 [==============================] - 0s 3ms/step - loss: 0.6314 - accuracy: 0.6407 - val_loss: 0.6416 - val_accuracy: 0.6208\n",
      "Epoch 111/2000\n",
      "75/75 [==============================] - 0s 2ms/step - loss: 0.6314 - accuracy: 0.6411 - val_loss: 0.6416 - val_accuracy: 0.6204\n",
      "Epoch 112/2000\n",
      "75/75 [==============================] - 0s 2ms/step - loss: 0.6314 - accuracy: 0.6401 - val_loss: 0.6416 - val_accuracy: 0.6208\n",
      "Epoch 113/2000\n",
      "75/75 [==============================] - 0s 2ms/step - loss: 0.6315 - accuracy: 0.6395 - val_loss: 0.6416 - val_accuracy: 0.6208\n",
      "Epoch 114/2000\n",
      "75/75 [==============================] - 0s 2ms/step - loss: 0.6314 - accuracy: 0.6404 - val_loss: 0.6416 - val_accuracy: 0.6204\n",
      "Epoch 115/2000\n"
     ]
    },
    {
     "name": "stdout",
     "output_type": "stream",
     "text": [
      "75/75 [==============================] - 0s 2ms/step - loss: 0.6314 - accuracy: 0.6404 - val_loss: 0.6416 - val_accuracy: 0.6212\n",
      "Epoch 116/2000\n",
      "75/75 [==============================] - 0s 2ms/step - loss: 0.6314 - accuracy: 0.6409 - val_loss: 0.6416 - val_accuracy: 0.6225\n",
      "Epoch 117/2000\n",
      "75/75 [==============================] - 0s 2ms/step - loss: 0.6314 - accuracy: 0.6411 - val_loss: 0.6416 - val_accuracy: 0.6208\n",
      "Epoch 118/2000\n",
      "75/75 [==============================] - 0s 2ms/step - loss: 0.6314 - accuracy: 0.6402 - val_loss: 0.6415 - val_accuracy: 0.6212\n",
      "Epoch 119/2000\n",
      "75/75 [==============================] - 0s 2ms/step - loss: 0.6314 - accuracy: 0.6413 - val_loss: 0.6416 - val_accuracy: 0.6212\n",
      "Epoch 120/2000\n",
      "75/75 [==============================] - 0s 2ms/step - loss: 0.6314 - accuracy: 0.6407 - val_loss: 0.6416 - val_accuracy: 0.6212\n",
      "Epoch 121/2000\n",
      "75/75 [==============================] - 0s 2ms/step - loss: 0.6314 - accuracy: 0.6411 - val_loss: 0.6416 - val_accuracy: 0.6208\n",
      "Epoch 122/2000\n",
      "75/75 [==============================] - 0s 2ms/step - loss: 0.6314 - accuracy: 0.6403 - val_loss: 0.6415 - val_accuracy: 0.6221\n",
      "Epoch 123/2000\n",
      "75/75 [==============================] - 0s 2ms/step - loss: 0.6314 - accuracy: 0.6405 - val_loss: 0.6415 - val_accuracy: 0.6225\n",
      "Epoch 124/2000\n",
      "75/75 [==============================] - 0s 2ms/step - loss: 0.6314 - accuracy: 0.6409 - val_loss: 0.6415 - val_accuracy: 0.6217\n",
      "Epoch 125/2000\n",
      "75/75 [==============================] - 0s 2ms/step - loss: 0.6313 - accuracy: 0.6406 - val_loss: 0.6415 - val_accuracy: 0.6225\n",
      "Epoch 126/2000\n",
      "75/75 [==============================] - 0s 2ms/step - loss: 0.6314 - accuracy: 0.6404 - val_loss: 0.6415 - val_accuracy: 0.6221\n",
      "Epoch 127/2000\n",
      "75/75 [==============================] - 0s 3ms/step - loss: 0.6313 - accuracy: 0.6417 - val_loss: 0.6415 - val_accuracy: 0.6229\n",
      "Epoch 128/2000\n",
      "75/75 [==============================] - 0s 3ms/step - loss: 0.6313 - accuracy: 0.6410 - val_loss: 0.6415 - val_accuracy: 0.6221\n",
      "Epoch 129/2000\n",
      "75/75 [==============================] - 0s 2ms/step - loss: 0.6314 - accuracy: 0.6407 - val_loss: 0.6415 - val_accuracy: 0.6229\n",
      "Epoch 130/2000\n",
      "75/75 [==============================] - 0s 2ms/step - loss: 0.6313 - accuracy: 0.6404 - val_loss: 0.6415 - val_accuracy: 0.6229\n",
      "Epoch 131/2000\n",
      "75/75 [==============================] - 0s 3ms/step - loss: 0.6313 - accuracy: 0.6409 - val_loss: 0.6415 - val_accuracy: 0.6225\n",
      "Epoch 132/2000\n",
      "75/75 [==============================] - 0s 2ms/step - loss: 0.6313 - accuracy: 0.6411 - val_loss: 0.6415 - val_accuracy: 0.6204\n",
      "Epoch 133/2000\n",
      "75/75 [==============================] - 0s 3ms/step - loss: 0.6313 - accuracy: 0.6395 - val_loss: 0.6415 - val_accuracy: 0.6225\n",
      "Epoch 134/2000\n",
      "75/75 [==============================] - 0s 2ms/step - loss: 0.6313 - accuracy: 0.6406 - val_loss: 0.6415 - val_accuracy: 0.6225\n",
      "Epoch 135/2000\n",
      "75/75 [==============================] - 0s 3ms/step - loss: 0.6313 - accuracy: 0.6404 - val_loss: 0.6415 - val_accuracy: 0.6233\n",
      "Epoch 136/2000\n",
      "75/75 [==============================] - 0s 3ms/step - loss: 0.6313 - accuracy: 0.6419 - val_loss: 0.6416 - val_accuracy: 0.6196\n",
      "Epoch 137/2000\n",
      "75/75 [==============================] - 0s 2ms/step - loss: 0.6313 - accuracy: 0.6406 - val_loss: 0.6415 - val_accuracy: 0.6229\n",
      "Epoch 138/2000\n",
      "75/75 [==============================] - 0s 2ms/step - loss: 0.6314 - accuracy: 0.6406 - val_loss: 0.6414 - val_accuracy: 0.6237\n",
      "Epoch 139/2000\n",
      "75/75 [==============================] - 0s 2ms/step - loss: 0.6313 - accuracy: 0.6410 - val_loss: 0.6415 - val_accuracy: 0.6217\n",
      "Epoch 140/2000\n",
      "75/75 [==============================] - 0s 2ms/step - loss: 0.6313 - accuracy: 0.6404 - val_loss: 0.6415 - val_accuracy: 0.6229\n",
      "Epoch 141/2000\n",
      "75/75 [==============================] - 0s 2ms/step - loss: 0.6313 - accuracy: 0.6404 - val_loss: 0.6415 - val_accuracy: 0.6221\n",
      "Epoch 142/2000\n",
      "75/75 [==============================] - 0s 2ms/step - loss: 0.6313 - accuracy: 0.6408 - val_loss: 0.6414 - val_accuracy: 0.6233\n",
      "Epoch 143/2000\n",
      "75/75 [==============================] - 0s 2ms/step - loss: 0.6313 - accuracy: 0.6411 - val_loss: 0.6414 - val_accuracy: 0.6225\n",
      "Epoch 144/2000\n",
      "75/75 [==============================] - 0s 3ms/step - loss: 0.6313 - accuracy: 0.6402 - val_loss: 0.6415 - val_accuracy: 0.6225\n",
      "Epoch 145/2000\n",
      "75/75 [==============================] - 0s 2ms/step - loss: 0.6313 - accuracy: 0.6415 - val_loss: 0.6415 - val_accuracy: 0.6225\n",
      "Epoch 146/2000\n",
      "75/75 [==============================] - 0s 2ms/step - loss: 0.6313 - accuracy: 0.6408 - val_loss: 0.6415 - val_accuracy: 0.6221\n",
      "Epoch 147/2000\n",
      "75/75 [==============================] - 0s 2ms/step - loss: 0.6313 - accuracy: 0.6402 - val_loss: 0.6415 - val_accuracy: 0.6233\n",
      "Epoch 148/2000\n",
      "75/75 [==============================] - 0s 2ms/step - loss: 0.6314 - accuracy: 0.6407 - val_loss: 0.6414 - val_accuracy: 0.6233\n",
      "Epoch 149/2000\n",
      "75/75 [==============================] - 0s 2ms/step - loss: 0.6313 - accuracy: 0.6405 - val_loss: 0.6414 - val_accuracy: 0.6237\n",
      "Epoch 150/2000\n",
      "75/75 [==============================] - 0s 2ms/step - loss: 0.6313 - accuracy: 0.6410 - val_loss: 0.6415 - val_accuracy: 0.6229\n",
      "Epoch 151/2000\n",
      "75/75 [==============================] - 0s 2ms/step - loss: 0.6313 - accuracy: 0.6402 - val_loss: 0.6415 - val_accuracy: 0.6233\n",
      "Epoch 152/2000\n",
      "75/75 [==============================] - 0s 2ms/step - loss: 0.6313 - accuracy: 0.6402 - val_loss: 0.6415 - val_accuracy: 0.6225\n",
      "Epoch 153/2000\n",
      "75/75 [==============================] - 0s 2ms/step - loss: 0.6313 - accuracy: 0.6396 - val_loss: 0.6414 - val_accuracy: 0.6237\n",
      "Epoch 154/2000\n",
      "75/75 [==============================] - 0s 2ms/step - loss: 0.6313 - accuracy: 0.6425 - val_loss: 0.6415 - val_accuracy: 0.6221\n",
      "Epoch 155/2000\n",
      "75/75 [==============================] - 0s 2ms/step - loss: 0.6313 - accuracy: 0.6407 - val_loss: 0.6415 - val_accuracy: 0.6217\n",
      "Epoch 156/2000\n",
      "75/75 [==============================] - 0s 2ms/step - loss: 0.6313 - accuracy: 0.6404 - val_loss: 0.6414 - val_accuracy: 0.6237\n",
      "Epoch 157/2000\n",
      "75/75 [==============================] - 0s 2ms/step - loss: 0.6314 - accuracy: 0.6421 - val_loss: 0.6415 - val_accuracy: 0.6221\n",
      "Epoch 158/2000\n",
      "75/75 [==============================] - 0s 2ms/step - loss: 0.6313 - accuracy: 0.6403 - val_loss: 0.6415 - val_accuracy: 0.6233\n",
      "Epoch 159/2000\n",
      "75/75 [==============================] - 0s 2ms/step - loss: 0.6313 - accuracy: 0.6411 - val_loss: 0.6415 - val_accuracy: 0.6246\n",
      "Epoch 160/2000\n",
      "75/75 [==============================] - 0s 2ms/step - loss: 0.6313 - accuracy: 0.6418 - val_loss: 0.6415 - val_accuracy: 0.6221\n",
      "Epoch 161/2000\n",
      "75/75 [==============================] - 0s 2ms/step - loss: 0.6313 - accuracy: 0.6405 - val_loss: 0.6415 - val_accuracy: 0.6221\n",
      "Epoch 162/2000\n",
      "75/75 [==============================] - 0s 2ms/step - loss: 0.6313 - accuracy: 0.6401 - val_loss: 0.6415 - val_accuracy: 0.6229\n",
      "Epoch 163/2000\n",
      "75/75 [==============================] - 0s 2ms/step - loss: 0.6313 - accuracy: 0.6417 - val_loss: 0.6415 - val_accuracy: 0.6208\n",
      "Epoch 164/2000\n",
      "75/75 [==============================] - 0s 2ms/step - loss: 0.6313 - accuracy: 0.6408 - val_loss: 0.6415 - val_accuracy: 0.6229\n",
      "Epoch 165/2000\n",
      "75/75 [==============================] - 0s 2ms/step - loss: 0.6313 - accuracy: 0.6408 - val_loss: 0.6415 - val_accuracy: 0.6225\n",
      "Epoch 166/2000\n",
      "75/75 [==============================] - 0s 2ms/step - loss: 0.6313 - accuracy: 0.6418 - val_loss: 0.6415 - val_accuracy: 0.6200\n",
      "Epoch 167/2000\n",
      "75/75 [==============================] - 0s 2ms/step - loss: 0.6313 - accuracy: 0.6407 - val_loss: 0.6414 - val_accuracy: 0.6242\n",
      "Epoch 168/2000\n",
      "75/75 [==============================] - 0s 2ms/step - loss: 0.6313 - accuracy: 0.6414 - val_loss: 0.6415 - val_accuracy: 0.6229\n",
      "Epoch 169/2000\n",
      "75/75 [==============================] - 0s 2ms/step - loss: 0.6313 - accuracy: 0.6411 - val_loss: 0.6414 - val_accuracy: 0.6233\n",
      "Epoch 170/2000\n",
      "75/75 [==============================] - 0s 2ms/step - loss: 0.6313 - accuracy: 0.6421 - val_loss: 0.6415 - val_accuracy: 0.6225\n",
      "Epoch 171/2000\n",
      "75/75 [==============================] - 0s 2ms/step - loss: 0.6313 - accuracy: 0.6414 - val_loss: 0.6414 - val_accuracy: 0.6233\n"
     ]
    },
    {
     "name": "stdout",
     "output_type": "stream",
     "text": [
      "Epoch 172/2000\n",
      "75/75 [==============================] - 0s 2ms/step - loss: 0.6313 - accuracy: 0.6398 - val_loss: 0.6414 - val_accuracy: 0.6242\n",
      "Epoch 173/2000\n",
      "75/75 [==============================] - 0s 2ms/step - loss: 0.6313 - accuracy: 0.6410 - val_loss: 0.6414 - val_accuracy: 0.6242\n",
      "Epoch 174/2000\n",
      "75/75 [==============================] - 0s 2ms/step - loss: 0.6313 - accuracy: 0.6411 - val_loss: 0.6415 - val_accuracy: 0.6229\n",
      "Epoch 175/2000\n",
      "75/75 [==============================] - 0s 2ms/step - loss: 0.6313 - accuracy: 0.6402 - val_loss: 0.6414 - val_accuracy: 0.6237\n",
      "Epoch 176/2000\n",
      "75/75 [==============================] - 0s 2ms/step - loss: 0.6313 - accuracy: 0.6410 - val_loss: 0.6414 - val_accuracy: 0.6242\n",
      "Epoch 177/2000\n",
      "75/75 [==============================] - 0s 2ms/step - loss: 0.6313 - accuracy: 0.6415 - val_loss: 0.6414 - val_accuracy: 0.6237\n",
      "Epoch 178/2000\n",
      "75/75 [==============================] - 0s 2ms/step - loss: 0.6313 - accuracy: 0.6405 - val_loss: 0.6414 - val_accuracy: 0.6237\n",
      "Epoch 179/2000\n",
      "75/75 [==============================] - 0s 2ms/step - loss: 0.6313 - accuracy: 0.6414 - val_loss: 0.6414 - val_accuracy: 0.6242\n",
      "Epoch 180/2000\n",
      "75/75 [==============================] - 0s 2ms/step - loss: 0.6313 - accuracy: 0.6414 - val_loss: 0.6414 - val_accuracy: 0.6233\n",
      "Epoch 181/2000\n",
      "75/75 [==============================] - 0s 2ms/step - loss: 0.6313 - accuracy: 0.6404 - val_loss: 0.6415 - val_accuracy: 0.6229\n",
      "Epoch 182/2000\n",
      "75/75 [==============================] - 0s 2ms/step - loss: 0.6313 - accuracy: 0.6413 - val_loss: 0.6414 - val_accuracy: 0.6237\n",
      "Epoch 183/2000\n",
      "75/75 [==============================] - 0s 2ms/step - loss: 0.6313 - accuracy: 0.6416 - val_loss: 0.6414 - val_accuracy: 0.6237\n",
      "Epoch 184/2000\n",
      "75/75 [==============================] - 0s 2ms/step - loss: 0.6313 - accuracy: 0.6413 - val_loss: 0.6415 - val_accuracy: 0.6229\n",
      "Epoch 185/2000\n",
      "75/75 [==============================] - 0s 2ms/step - loss: 0.6313 - accuracy: 0.6406 - val_loss: 0.6415 - val_accuracy: 0.6233\n",
      "Epoch 186/2000\n",
      "75/75 [==============================] - 0s 2ms/step - loss: 0.6313 - accuracy: 0.6407 - val_loss: 0.6414 - val_accuracy: 0.6237\n",
      "Epoch 187/2000\n",
      "75/75 [==============================] - 0s 2ms/step - loss: 0.6313 - accuracy: 0.6408 - val_loss: 0.6414 - val_accuracy: 0.6225\n",
      "Epoch 188/2000\n",
      "75/75 [==============================] - 0s 2ms/step - loss: 0.6313 - accuracy: 0.6411 - val_loss: 0.6414 - val_accuracy: 0.6242\n",
      "Epoch 189/2000\n",
      "75/75 [==============================] - 0s 2ms/step - loss: 0.6313 - accuracy: 0.6410 - val_loss: 0.6414 - val_accuracy: 0.6233\n",
      "Epoch 190/2000\n",
      "75/75 [==============================] - 0s 2ms/step - loss: 0.6313 - accuracy: 0.6424 - val_loss: 0.6415 - val_accuracy: 0.6229\n",
      "Epoch 191/2000\n",
      "75/75 [==============================] - 0s 2ms/step - loss: 0.6313 - accuracy: 0.6419 - val_loss: 0.6414 - val_accuracy: 0.6233\n",
      "Epoch 192/2000\n",
      "75/75 [==============================] - 0s 2ms/step - loss: 0.6313 - accuracy: 0.6407 - val_loss: 0.6414 - val_accuracy: 0.6225\n",
      "Epoch 193/2000\n",
      "75/75 [==============================] - 0s 2ms/step - loss: 0.6313 - accuracy: 0.6410 - val_loss: 0.6414 - val_accuracy: 0.6242\n",
      "Epoch 194/2000\n",
      "75/75 [==============================] - 0s 2ms/step - loss: 0.6313 - accuracy: 0.6410 - val_loss: 0.6414 - val_accuracy: 0.6242\n",
      "Epoch 195/2000\n",
      "75/75 [==============================] - 0s 2ms/step - loss: 0.6314 - accuracy: 0.6409 - val_loss: 0.6415 - val_accuracy: 0.6221\n",
      "Epoch 196/2000\n",
      "75/75 [==============================] - 0s 2ms/step - loss: 0.6313 - accuracy: 0.6408 - val_loss: 0.6414 - val_accuracy: 0.6229\n",
      "Epoch 197/2000\n",
      "75/75 [==============================] - 0s 2ms/step - loss: 0.6313 - accuracy: 0.6409 - val_loss: 0.6414 - val_accuracy: 0.6242\n",
      "Epoch 198/2000\n",
      "75/75 [==============================] - 0s 2ms/step - loss: 0.6313 - accuracy: 0.6425 - val_loss: 0.6413 - val_accuracy: 0.6237\n",
      "Epoch 199/2000\n",
      "75/75 [==============================] - 0s 2ms/step - loss: 0.6313 - accuracy: 0.6408 - val_loss: 0.6414 - val_accuracy: 0.6233\n",
      "Epoch 200/2000\n",
      "75/75 [==============================] - 0s 2ms/step - loss: 0.6313 - accuracy: 0.6406 - val_loss: 0.6414 - val_accuracy: 0.6225\n",
      "Epoch 201/2000\n",
      "75/75 [==============================] - 0s 2ms/step - loss: 0.6314 - accuracy: 0.6410 - val_loss: 0.6414 - val_accuracy: 0.6233\n",
      "Epoch 202/2000\n",
      "75/75 [==============================] - 0s 2ms/step - loss: 0.6313 - accuracy: 0.6417 - val_loss: 0.6414 - val_accuracy: 0.6225\n",
      "Epoch 203/2000\n",
      "75/75 [==============================] - 0s 2ms/step - loss: 0.6313 - accuracy: 0.6417 - val_loss: 0.6414 - val_accuracy: 0.6229\n",
      "Epoch 204/2000\n",
      "75/75 [==============================] - 0s 2ms/step - loss: 0.6313 - accuracy: 0.6413 - val_loss: 0.6414 - val_accuracy: 0.6233\n",
      "Epoch 205/2000\n",
      "75/75 [==============================] - 0s 2ms/step - loss: 0.6313 - accuracy: 0.6409 - val_loss: 0.6414 - val_accuracy: 0.6237\n",
      "Epoch 206/2000\n",
      "75/75 [==============================] - 0s 2ms/step - loss: 0.6313 - accuracy: 0.6420 - val_loss: 0.6415 - val_accuracy: 0.6225\n",
      "Epoch 207/2000\n",
      "75/75 [==============================] - 0s 2ms/step - loss: 0.6313 - accuracy: 0.6414 - val_loss: 0.6414 - val_accuracy: 0.6242\n",
      "Epoch 208/2000\n",
      "75/75 [==============================] - 0s 2ms/step - loss: 0.6313 - accuracy: 0.6419 - val_loss: 0.6414 - val_accuracy: 0.6225\n",
      "Epoch 209/2000\n",
      "75/75 [==============================] - 0s 2ms/step - loss: 0.6313 - accuracy: 0.6410 - val_loss: 0.6414 - val_accuracy: 0.6237\n",
      "Epoch 210/2000\n",
      "75/75 [==============================] - 0s 2ms/step - loss: 0.6313 - accuracy: 0.6422 - val_loss: 0.6414 - val_accuracy: 0.6242\n",
      "Epoch 211/2000\n",
      "75/75 [==============================] - 0s 2ms/step - loss: 0.6313 - accuracy: 0.6405 - val_loss: 0.6414 - val_accuracy: 0.6229\n",
      "Epoch 212/2000\n",
      "75/75 [==============================] - 0s 2ms/step - loss: 0.6313 - accuracy: 0.6409 - val_loss: 0.6415 - val_accuracy: 0.6233\n",
      "Epoch 213/2000\n",
      "75/75 [==============================] - 0s 2ms/step - loss: 0.6313 - accuracy: 0.6407 - val_loss: 0.6414 - val_accuracy: 0.6233\n",
      "Epoch 214/2000\n",
      "75/75 [==============================] - 0s 2ms/step - loss: 0.6313 - accuracy: 0.6417 - val_loss: 0.6414 - val_accuracy: 0.6237\n",
      "Epoch 215/2000\n",
      "75/75 [==============================] - 0s 2ms/step - loss: 0.6313 - accuracy: 0.6414 - val_loss: 0.6414 - val_accuracy: 0.6225\n",
      "Epoch 216/2000\n",
      "75/75 [==============================] - 0s 2ms/step - loss: 0.6314 - accuracy: 0.6422 - val_loss: 0.6415 - val_accuracy: 0.6217\n",
      "Epoch 217/2000\n",
      "75/75 [==============================] - 0s 2ms/step - loss: 0.6313 - accuracy: 0.6407 - val_loss: 0.6414 - val_accuracy: 0.6233\n",
      "Epoch 218/2000\n",
      "75/75 [==============================] - 0s 2ms/step - loss: 0.6313 - accuracy: 0.6408 - val_loss: 0.6414 - val_accuracy: 0.6237\n",
      "Epoch 219/2000\n",
      "75/75 [==============================] - 0s 2ms/step - loss: 0.6313 - accuracy: 0.6415 - val_loss: 0.6414 - val_accuracy: 0.6229\n",
      "Epoch 220/2000\n",
      "75/75 [==============================] - 0s 2ms/step - loss: 0.6313 - accuracy: 0.6427 - val_loss: 0.6414 - val_accuracy: 0.6233\n",
      "Epoch 221/2000\n",
      "75/75 [==============================] - 0s 2ms/step - loss: 0.6313 - accuracy: 0.6411 - val_loss: 0.6414 - val_accuracy: 0.6242\n",
      "Epoch 222/2000\n",
      "75/75 [==============================] - 0s 2ms/step - loss: 0.6313 - accuracy: 0.6414 - val_loss: 0.6414 - val_accuracy: 0.6229\n",
      "Epoch 223/2000\n",
      "75/75 [==============================] - 0s 2ms/step - loss: 0.6313 - accuracy: 0.6415 - val_loss: 0.6414 - val_accuracy: 0.6225\n",
      "Epoch 224/2000\n",
      "75/75 [==============================] - 0s 2ms/step - loss: 0.6313 - accuracy: 0.6413 - val_loss: 0.6413 - val_accuracy: 0.6229\n",
      "Epoch 225/2000\n",
      "75/75 [==============================] - 0s 2ms/step - loss: 0.6313 - accuracy: 0.6410 - val_loss: 0.6414 - val_accuracy: 0.6233\n",
      "Epoch 226/2000\n",
      "75/75 [==============================] - 0s 2ms/step - loss: 0.6313 - accuracy: 0.6420 - val_loss: 0.6414 - val_accuracy: 0.6225\n",
      "Epoch 227/2000\n",
      "75/75 [==============================] - 0s 2ms/step - loss: 0.6314 - accuracy: 0.6418 - val_loss: 0.6414 - val_accuracy: 0.6229\n",
      "Epoch 228/2000\n",
      "75/75 [==============================] - 0s 2ms/step - loss: 0.6313 - accuracy: 0.6416 - val_loss: 0.6415 - val_accuracy: 0.6225\n"
     ]
    },
    {
     "name": "stdout",
     "output_type": "stream",
     "text": [
      "Epoch 229/2000\n",
      "75/75 [==============================] - 0s 2ms/step - loss: 0.6313 - accuracy: 0.6414 - val_loss: 0.6414 - val_accuracy: 0.6242\n",
      "Epoch 230/2000\n",
      "75/75 [==============================] - 0s 2ms/step - loss: 0.6313 - accuracy: 0.6419 - val_loss: 0.6414 - val_accuracy: 0.6242\n",
      "Epoch 231/2000\n",
      "75/75 [==============================] - 0s 2ms/step - loss: 0.6313 - accuracy: 0.6415 - val_loss: 0.6414 - val_accuracy: 0.6233\n",
      "Epoch 232/2000\n",
      "75/75 [==============================] - 0s 2ms/step - loss: 0.6313 - accuracy: 0.6416 - val_loss: 0.6414 - val_accuracy: 0.6225\n",
      "Epoch 233/2000\n",
      "75/75 [==============================] - 0s 2ms/step - loss: 0.6313 - accuracy: 0.6417 - val_loss: 0.6414 - val_accuracy: 0.6229\n",
      "Epoch 234/2000\n",
      "75/75 [==============================] - 0s 2ms/step - loss: 0.6313 - accuracy: 0.6421 - val_loss: 0.6414 - val_accuracy: 0.6221\n",
      "Epoch 235/2000\n",
      "75/75 [==============================] - 0s 2ms/step - loss: 0.6313 - accuracy: 0.6411 - val_loss: 0.6414 - val_accuracy: 0.6225\n",
      "Epoch 236/2000\n",
      "75/75 [==============================] - 0s 2ms/step - loss: 0.6313 - accuracy: 0.6423 - val_loss: 0.6414 - val_accuracy: 0.6237\n",
      "Epoch 237/2000\n",
      "75/75 [==============================] - 0s 2ms/step - loss: 0.6313 - accuracy: 0.6415 - val_loss: 0.6414 - val_accuracy: 0.6229\n",
      "Epoch 238/2000\n",
      "75/75 [==============================] - 0s 2ms/step - loss: 0.6313 - accuracy: 0.6428 - val_loss: 0.6414 - val_accuracy: 0.6229\n",
      "Epoch 239/2000\n",
      "75/75 [==============================] - 0s 2ms/step - loss: 0.6313 - accuracy: 0.6410 - val_loss: 0.6414 - val_accuracy: 0.6237\n",
      "Epoch 240/2000\n",
      "75/75 [==============================] - 0s 2ms/step - loss: 0.6313 - accuracy: 0.6410 - val_loss: 0.6414 - val_accuracy: 0.6225\n",
      "Epoch 241/2000\n",
      "75/75 [==============================] - 0s 2ms/step - loss: 0.6313 - accuracy: 0.6420 - val_loss: 0.6414 - val_accuracy: 0.6229\n",
      "Epoch 242/2000\n",
      "75/75 [==============================] - 0s 2ms/step - loss: 0.6313 - accuracy: 0.6417 - val_loss: 0.6414 - val_accuracy: 0.6229\n",
      "Epoch 243/2000\n",
      "75/75 [==============================] - 0s 2ms/step - loss: 0.6313 - accuracy: 0.6415 - val_loss: 0.6414 - val_accuracy: 0.6225\n",
      "Epoch 244/2000\n",
      "75/75 [==============================] - 0s 2ms/step - loss: 0.6313 - accuracy: 0.6407 - val_loss: 0.6414 - val_accuracy: 0.6229\n",
      "Epoch 245/2000\n",
      "75/75 [==============================] - 0s 2ms/step - loss: 0.6313 - accuracy: 0.6427 - val_loss: 0.6414 - val_accuracy: 0.6229\n",
      "Epoch 246/2000\n",
      "75/75 [==============================] - 0s 2ms/step - loss: 0.6313 - accuracy: 0.6425 - val_loss: 0.6415 - val_accuracy: 0.6229\n",
      "Epoch 247/2000\n",
      "75/75 [==============================] - 0s 2ms/step - loss: 0.6313 - accuracy: 0.6423 - val_loss: 0.6414 - val_accuracy: 0.6225\n",
      "Epoch 248/2000\n",
      "56/75 [=====================>........] - ETA: 0s - loss: 0.6307 - accuracy: 0.6364Restoring model weights from the end of the best epoch: 198.\n",
      "75/75 [==============================] - 0s 3ms/step - loss: 0.6313 - accuracy: 0.6401 - val_loss: 0.6414 - val_accuracy: 0.6212\n",
      "Epoch 248: early stopping\n"
     ]
    }
   ],
   "source": [
    "history = model_dl_basic.fit(x_train_sc, y_train, epochs=2000, verbose=1, validation_split=0.2, callbacks=[es], batch_size=batch )"
   ]
  },
  {
   "cell_type": "code",
   "execution_count": 230,
   "metadata": {},
   "outputs": [
    {
     "name": "stdout",
     "output_type": "stream",
     "text": [
      "              precision    recall  f1-score   support\n",
      "\n",
      "           0       0.50      0.71      0.59      1520\n",
      "           1       0.49      0.29      0.36      1480\n",
      "\n",
      "    accuracy                           0.50      3000\n",
      "   macro avg       0.50      0.50      0.48      3000\n",
      "weighted avg       0.50      0.50      0.48      3000\n",
      "\n"
     ]
    }
   ],
   "source": [
    "# 예측하기 => 검증\n",
    "y_pred = model_dl_basic.predict(x_val_sc)\n",
    "preds_1d = y_pred.flatten() # 차원 펴주기\n",
    "pred_class = np.where(preds_1d > 0.5, 1 , 0) #0.5보다크면 2, 작으면 1\n",
    "# 평가하기\n",
    "print(classification_report(y_val,pred_class))\n",
    "result_cr['dl_basic'] = classification_report(y_val, pred_class)\n",
    "\n"
   ]
  },
  {
   "cell_type": "code",
   "execution_count": 231,
   "metadata": {
    "scrolled": true
   },
   "outputs": [
    {
     "data": {
      "image/png": "[encoded data removed]",
      "text/plain": [
       "<Figure size 432x288 with 1 Axes>"
      ]
     },
     "metadata": {
      "needs_background": "light"
     },
     "output_type": "display_data"
    }
   ],
   "source": [
    "if not isinstance(history, dict):\n",
    "    history = history.history\n",
    "\n",
    "plt.plot(history['loss'])\n",
    "plt.plot(history['val_loss'])\n",
    "plt.title('Loss : Training vs Validation')\n",
    "plt.ylabel('Loss')\n",
    "plt.xlabel('Epoch')\n",
    "plt.legend(['Training', 'Validation'], loc=0)\n",
    "plt.show()"
   ]
  },
  {
   "cell_type": "code",
   "execution_count": 232,
   "metadata": {},
   "outputs": [],
   "source": [
    "# epoch20을 기점으로 과적합이 발생 할 여지가 보임"
   ]
  },
  {
   "cell_type": "code",
   "execution_count": 233,
   "metadata": {},
   "outputs": [
    {
     "name": "stdout",
     "output_type": "stream",
     "text": [
      "              precision    recall  f1-score   support\n",
      "\n",
      "           0       0.51      0.70      0.59      1540\n",
      "           1       0.47      0.28      0.35      1460\n",
      "\n",
      "    accuracy                           0.49      3000\n",
      "   macro avg       0.49      0.49      0.47      3000\n",
      "weighted avg       0.49      0.49      0.47      3000\n",
      "\n"
     ]
    }
   ],
   "source": [
    "# 예측하기 => 테스트\n",
    "y_pred = model_dl_basic.predict(x_test_sc)\n",
    "preds_1d = y_pred.flatten() # 차원 펴주기\n",
    "pred_class = np.where(preds_1d > 0.5, 1 , 0) #0.5보다크면 2, 작으면 1\n",
    "# 평가하기\n",
    "print(classification_report(y_test,pred_class))\n",
    "result_test['dl_basic'] = classification_report(y_test, pred_class)\n",
    "\n",
    "# recall 값만 저장\n",
    "result_recall['dl_basic'] = recall_score(y_test,pred_class)"
   ]
  },
  {
   "cell_type": "markdown",
   "metadata": {
    "id": "yAaMF07mHz_q"
   },
   "source": [
    "#### (2) 모델2"
   ]
  },
  {
   "cell_type": "code",
   "execution_count": 234,
   "metadata": {
    "id": "aA1Pm1oXMLgv",
    "scrolled": true
   },
   "outputs": [
    {
     "name": "stdout",
     "output_type": "stream",
     "text": [
      "Model: \"model\"\n",
      "_________________________________________________________________\n",
      " Layer (type)                Output Shape              Param #   \n",
      "=================================================================\n",
      " input_1 (InputLayer)        [(None, 9)]               0         \n",
      "                                                                 \n",
      " dense (Dense)               (None, 64)                640       \n",
      "                                                                 \n",
      " dense_1 (Dense)             (None, 32)                2080      \n",
      "                                                                 \n",
      " dense_2 (Dense)             (None, 16)                528       \n",
      "                                                                 \n",
      " dense_3 (Dense)             (None, 8)                 136       \n",
      "                                                                 \n",
      " dense_4 (Dense)             (None, 1)                 9         \n",
      "                                                                 \n",
      "=================================================================\n",
      "Total params: 3,393\n",
      "Trainable params: 3,393\n",
      "Non-trainable params: 0\n",
      "_________________________________________________________________\n"
     ]
    }
   ],
   "source": [
    "# 히든레이어 추가 => 숨겨진 레이어를 찾기 위해 , 좀 더 복잡하게 모델을 구성\n",
    "\n",
    "# 세션 초기화\n",
    "keras.backend.clear_session()\n",
    "\n",
    "#레이어 연결\n",
    "il = keras.layers.Input(shape=(input,))\n",
    "hl = keras.layers.Dense(64, activation = 'relu')(il)\n",
    "hl = keras.layers.Dense(32, activation = 'relu')(hl)\n",
    "hl = keras.layers.Dense(16, activation = 'relu')(hl)\n",
    "hl = keras.layers.Dense(8, activation = 'relu')(hl)\n",
    "ol = keras.layers.Dense(1, activation='sigmoid')(hl)\n",
    "\n",
    "# 모델 시작과 끝 지정\n",
    "model_dl_hidden = keras.models.Model(il,ol)\n",
    "\n",
    "#컴파일\n",
    "model_dl_hidden.compile(loss = 'binary_crossentropy', optimizer='adam', metrics='accuracy')\n",
    "\n",
    "#요약\n",
    "model_dl_hidden.summary()\n"
   ]
  },
  {
   "cell_type": "code",
   "execution_count": 235,
   "metadata": {
    "scrolled": true
   },
   "outputs": [
    {
     "name": "stdout",
     "output_type": "stream",
     "text": [
      "Epoch 1/2000\n",
      "75/75 [==============================] - 1s 4ms/step - loss: 0.6591 - accuracy: 0.6212 - val_loss: 0.6359 - val_accuracy: 0.6392\n",
      "Epoch 2/2000\n",
      "75/75 [==============================] - 0s 2ms/step - loss: 0.6210 - accuracy: 0.6604 - val_loss: 0.6220 - val_accuracy: 0.6533\n",
      "Epoch 3/2000\n",
      "75/75 [==============================] - 0s 2ms/step - loss: 0.6130 - accuracy: 0.6648 - val_loss: 0.6185 - val_accuracy: 0.6637\n",
      "Epoch 4/2000\n",
      "75/75 [==============================] - 0s 2ms/step - loss: 0.6092 - accuracy: 0.6709 - val_loss: 0.6119 - val_accuracy: 0.6737\n",
      "Epoch 5/2000\n",
      "75/75 [==============================] - 0s 2ms/step - loss: 0.6071 - accuracy: 0.6727 - val_loss: 0.6119 - val_accuracy: 0.6692\n",
      "Epoch 6/2000\n",
      "75/75 [==============================] - 0s 2ms/step - loss: 0.6045 - accuracy: 0.6752 - val_loss: 0.6092 - val_accuracy: 0.6754\n",
      "Epoch 7/2000\n",
      "75/75 [==============================] - 0s 2ms/step - loss: 0.6034 - accuracy: 0.6757 - val_loss: 0.6083 - val_accuracy: 0.6767\n",
      "Epoch 8/2000\n",
      "75/75 [==============================] - 0s 2ms/step - loss: 0.6012 - accuracy: 0.6771 - val_loss: 0.6066 - val_accuracy: 0.6812\n",
      "Epoch 9/2000\n",
      "75/75 [==============================] - 0s 2ms/step - loss: 0.5993 - accuracy: 0.6782 - val_loss: 0.6073 - val_accuracy: 0.6746\n",
      "Epoch 10/2000\n",
      "75/75 [==============================] - 0s 2ms/step - loss: 0.5974 - accuracy: 0.6789 - val_loss: 0.6032 - val_accuracy: 0.6817\n",
      "Epoch 11/2000\n",
      "75/75 [==============================] - 0s 2ms/step - loss: 0.5966 - accuracy: 0.6787 - val_loss: 0.6037 - val_accuracy: 0.6787\n",
      "Epoch 12/2000\n",
      "75/75 [==============================] - 0s 2ms/step - loss: 0.5948 - accuracy: 0.6818 - val_loss: 0.6049 - val_accuracy: 0.6767\n",
      "Epoch 13/2000\n",
      "75/75 [==============================] - 0s 2ms/step - loss: 0.5952 - accuracy: 0.6848 - val_loss: 0.6000 - val_accuracy: 0.6829\n",
      "Epoch 14/2000\n",
      "75/75 [==============================] - 0s 2ms/step - loss: 0.5925 - accuracy: 0.6815 - val_loss: 0.5989 - val_accuracy: 0.6829\n",
      "Epoch 15/2000\n",
      "75/75 [==============================] - 0s 2ms/step - loss: 0.5915 - accuracy: 0.6839 - val_loss: 0.6006 - val_accuracy: 0.6833\n",
      "Epoch 16/2000\n",
      "75/75 [==============================] - 0s 2ms/step - loss: 0.5897 - accuracy: 0.6872 - val_loss: 0.5996 - val_accuracy: 0.6812\n",
      "Epoch 17/2000\n",
      "75/75 [==============================] - 0s 2ms/step - loss: 0.5897 - accuracy: 0.6868 - val_loss: 0.6014 - val_accuracy: 0.6883\n",
      "Epoch 18/2000\n",
      "75/75 [==============================] - 0s 2ms/step - loss: 0.5881 - accuracy: 0.6849 - val_loss: 0.6003 - val_accuracy: 0.6875\n",
      "Epoch 19/2000\n",
      "75/75 [==============================] - 0s 2ms/step - loss: 0.5880 - accuracy: 0.6885 - val_loss: 0.5983 - val_accuracy: 0.6825\n",
      "Epoch 20/2000\n",
      "75/75 [==============================] - 0s 2ms/step - loss: 0.5859 - accuracy: 0.6904 - val_loss: 0.6036 - val_accuracy: 0.6879\n",
      "Epoch 21/2000\n",
      "75/75 [==============================] - 0s 2ms/step - loss: 0.5853 - accuracy: 0.6880 - val_loss: 0.5997 - val_accuracy: 0.6879\n",
      "Epoch 22/2000\n",
      "75/75 [==============================] - 0s 2ms/step - loss: 0.5839 - accuracy: 0.6915 - val_loss: 0.5975 - val_accuracy: 0.6783\n",
      "Epoch 23/2000\n",
      "75/75 [==============================] - 0s 2ms/step - loss: 0.5820 - accuracy: 0.6889 - val_loss: 0.6020 - val_accuracy: 0.6879\n",
      "Epoch 24/2000\n",
      "75/75 [==============================] - 0s 2ms/step - loss: 0.5825 - accuracy: 0.6934 - val_loss: 0.5937 - val_accuracy: 0.6800\n",
      "Epoch 25/2000\n",
      "75/75 [==============================] - 0s 2ms/step - loss: 0.5807 - accuracy: 0.6933 - val_loss: 0.5927 - val_accuracy: 0.6854\n",
      "Epoch 26/2000\n",
      "75/75 [==============================] - 0s 2ms/step - loss: 0.5786 - accuracy: 0.6963 - val_loss: 0.5940 - val_accuracy: 0.6846\n",
      "Epoch 27/2000\n",
      "75/75 [==============================] - 0s 2ms/step - loss: 0.5778 - accuracy: 0.6943 - val_loss: 0.5958 - val_accuracy: 0.6900\n",
      "Epoch 28/2000\n",
      "75/75 [==============================] - 0s 2ms/step - loss: 0.5770 - accuracy: 0.6984 - val_loss: 0.5946 - val_accuracy: 0.6854\n",
      "Epoch 29/2000\n",
      "75/75 [==============================] - 0s 2ms/step - loss: 0.5785 - accuracy: 0.7001 - val_loss: 0.5955 - val_accuracy: 0.6829\n",
      "Epoch 30/2000\n",
      "75/75 [==============================] - 0s 2ms/step - loss: 0.5759 - accuracy: 0.6968 - val_loss: 0.5939 - val_accuracy: 0.6833\n",
      "Epoch 31/2000\n",
      "75/75 [==============================] - 0s 2ms/step - loss: 0.5738 - accuracy: 0.6977 - val_loss: 0.5940 - val_accuracy: 0.6867\n",
      "Epoch 32/2000\n",
      "75/75 [==============================] - 0s 2ms/step - loss: 0.5721 - accuracy: 0.7002 - val_loss: 0.5945 - val_accuracy: 0.6833\n",
      "Epoch 33/2000\n",
      "75/75 [==============================] - 0s 2ms/step - loss: 0.5723 - accuracy: 0.6986 - val_loss: 0.5914 - val_accuracy: 0.6892\n",
      "Epoch 34/2000\n",
      "75/75 [==============================] - 0s 2ms/step - loss: 0.5713 - accuracy: 0.7003 - val_loss: 0.5952 - val_accuracy: 0.6858\n",
      "Epoch 35/2000\n",
      "75/75 [==============================] - 0s 2ms/step - loss: 0.5706 - accuracy: 0.7003 - val_loss: 0.5937 - val_accuracy: 0.6833\n",
      "Epoch 36/2000\n",
      "75/75 [==============================] - 0s 2ms/step - loss: 0.5715 - accuracy: 0.7016 - val_loss: 0.5930 - val_accuracy: 0.6875\n",
      "Epoch 37/2000\n",
      "75/75 [==============================] - 0s 2ms/step - loss: 0.5680 - accuracy: 0.6996 - val_loss: 0.5936 - val_accuracy: 0.6796\n",
      "Epoch 38/2000\n",
      "75/75 [==============================] - 0s 2ms/step - loss: 0.5701 - accuracy: 0.7035 - val_loss: 0.5949 - val_accuracy: 0.6888\n",
      "Epoch 39/2000\n",
      "75/75 [==============================] - 0s 2ms/step - loss: 0.5693 - accuracy: 0.7041 - val_loss: 0.5975 - val_accuracy: 0.6808\n",
      "Epoch 40/2000\n",
      "75/75 [==============================] - 0s 2ms/step - loss: 0.5683 - accuracy: 0.7053 - val_loss: 0.5968 - val_accuracy: 0.6908\n",
      "Epoch 41/2000\n",
      "75/75 [==============================] - 0s 2ms/step - loss: 0.5672 - accuracy: 0.7069 - val_loss: 0.5928 - val_accuracy: 0.6850\n",
      "Epoch 42/2000\n",
      "75/75 [==============================] - 0s 2ms/step - loss: 0.5662 - accuracy: 0.7057 - val_loss: 0.6000 - val_accuracy: 0.6687\n",
      "Epoch 43/2000\n",
      "75/75 [==============================] - 0s 2ms/step - loss: 0.5655 - accuracy: 0.7050 - val_loss: 0.5973 - val_accuracy: 0.6808\n",
      "Epoch 44/2000\n",
      "75/75 [==============================] - 0s 2ms/step - loss: 0.5644 - accuracy: 0.7105 - val_loss: 0.5995 - val_accuracy: 0.6854\n",
      "Epoch 45/2000\n",
      "75/75 [==============================] - 0s 2ms/step - loss: 0.5627 - accuracy: 0.7061 - val_loss: 0.5959 - val_accuracy: 0.6858\n",
      "Epoch 46/2000\n",
      "75/75 [==============================] - 0s 2ms/step - loss: 0.5622 - accuracy: 0.7057 - val_loss: 0.5963 - val_accuracy: 0.6779\n",
      "Epoch 47/2000\n",
      "75/75 [==============================] - 0s 2ms/step - loss: 0.5625 - accuracy: 0.7103 - val_loss: 0.5950 - val_accuracy: 0.6767\n",
      "Epoch 48/2000\n",
      "75/75 [==============================] - 0s 2ms/step - loss: 0.5629 - accuracy: 0.7085 - val_loss: 0.5953 - val_accuracy: 0.6796\n",
      "Epoch 49/2000\n",
      "75/75 [==============================] - 0s 2ms/step - loss: 0.5622 - accuracy: 0.7098 - val_loss: 0.5941 - val_accuracy: 0.6875\n",
      "Epoch 50/2000\n",
      "75/75 [==============================] - 0s 2ms/step - loss: 0.5599 - accuracy: 0.7103 - val_loss: 0.5986 - val_accuracy: 0.6804\n",
      "Epoch 51/2000\n",
      "75/75 [==============================] - 0s 2ms/step - loss: 0.5597 - accuracy: 0.7132 - val_loss: 0.5985 - val_accuracy: 0.6825\n",
      "Epoch 52/2000\n",
      "75/75 [==============================] - 0s 2ms/step - loss: 0.5580 - accuracy: 0.7102 - val_loss: 0.6022 - val_accuracy: 0.6771\n",
      "Epoch 53/2000\n",
      "75/75 [==============================] - 0s 2ms/step - loss: 0.5604 - accuracy: 0.7099 - val_loss: 0.6006 - val_accuracy: 0.6833\n",
      "Epoch 54/2000\n",
      "75/75 [==============================] - 0s 2ms/step - loss: 0.5583 - accuracy: 0.7122 - val_loss: 0.5926 - val_accuracy: 0.6771\n",
      "Epoch 55/2000\n",
      "75/75 [==============================] - 0s 2ms/step - loss: 0.5577 - accuracy: 0.7138 - val_loss: 0.5979 - val_accuracy: 0.6800\n",
      "Epoch 56/2000\n",
      "75/75 [==============================] - 0s 2ms/step - loss: 0.5560 - accuracy: 0.7147 - val_loss: 0.5935 - val_accuracy: 0.6842\n",
      "Epoch 57/2000\n",
      "75/75 [==============================] - 0s 2ms/step - loss: 0.5569 - accuracy: 0.7131 - val_loss: 0.5970 - val_accuracy: 0.6825\n",
      "Epoch 58/2000\n",
      "75/75 [==============================] - 0s 2ms/step - loss: 0.5567 - accuracy: 0.7130 - val_loss: 0.5968 - val_accuracy: 0.6808\n",
      "Epoch 59/2000\n",
      "75/75 [==============================] - 0s 2ms/step - loss: 0.5552 - accuracy: 0.7164 - val_loss: 0.5975 - val_accuracy: 0.6833\n",
      "Epoch 60/2000\n",
      "75/75 [==============================] - 0s 2ms/step - loss: 0.5536 - accuracy: 0.7166 - val_loss: 0.6006 - val_accuracy: 0.6787\n",
      "Epoch 61/2000\n",
      "75/75 [==============================] - 0s 2ms/step - loss: 0.5542 - accuracy: 0.7204 - val_loss: 0.5989 - val_accuracy: 0.6796\n",
      "Epoch 62/2000\n",
      "75/75 [==============================] - 0s 2ms/step - loss: 0.5533 - accuracy: 0.7152 - val_loss: 0.6039 - val_accuracy: 0.6833\n",
      "Epoch 63/2000\n",
      "75/75 [==============================] - 0s 2ms/step - loss: 0.5525 - accuracy: 0.7184 - val_loss: 0.6021 - val_accuracy: 0.6821\n",
      "Epoch 64/2000\n",
      "75/75 [==============================] - 0s 2ms/step - loss: 0.5518 - accuracy: 0.7180 - val_loss: 0.5964 - val_accuracy: 0.6758\n",
      "Epoch 65/2000\n",
      "75/75 [==============================] - 0s 2ms/step - loss: 0.5526 - accuracy: 0.7185 - val_loss: 0.5991 - val_accuracy: 0.6812\n",
      "Epoch 66/2000\n",
      "75/75 [==============================] - 0s 2ms/step - loss: 0.5520 - accuracy: 0.7177 - val_loss: 0.5961 - val_accuracy: 0.6837\n",
      "Epoch 67/2000\n",
      "75/75 [==============================] - 0s 2ms/step - loss: 0.5522 - accuracy: 0.7178 - val_loss: 0.5995 - val_accuracy: 0.6817\n",
      "Epoch 68/2000\n",
      "75/75 [==============================] - 0s 2ms/step - loss: 0.5512 - accuracy: 0.7196 - val_loss: 0.6049 - val_accuracy: 0.6762\n",
      "Epoch 69/2000\n",
      "75/75 [==============================] - 0s 2ms/step - loss: 0.5507 - accuracy: 0.7200 - val_loss: 0.6012 - val_accuracy: 0.6821\n",
      "Epoch 70/2000\n",
      "75/75 [==============================] - 0s 2ms/step - loss: 0.5506 - accuracy: 0.7185 - val_loss: 0.6016 - val_accuracy: 0.6725\n",
      "Epoch 71/2000\n",
      "75/75 [==============================] - 0s 2ms/step - loss: 0.5508 - accuracy: 0.7172 - val_loss: 0.6068 - val_accuracy: 0.6725\n",
      "Epoch 72/2000\n",
      "75/75 [==============================] - 0s 2ms/step - loss: 0.5484 - accuracy: 0.7211 - val_loss: 0.6015 - val_accuracy: 0.6754\n",
      "Epoch 73/2000\n",
      "75/75 [==============================] - 0s 2ms/step - loss: 0.5496 - accuracy: 0.7178 - val_loss: 0.6021 - val_accuracy: 0.6804\n",
      "Epoch 74/2000\n",
      "75/75 [==============================] - 0s 2ms/step - loss: 0.5500 - accuracy: 0.7181 - val_loss: 0.6008 - val_accuracy: 0.6771\n",
      "Epoch 75/2000\n",
      "75/75 [==============================] - 0s 2ms/step - loss: 0.5473 - accuracy: 0.7216 - val_loss: 0.6058 - val_accuracy: 0.6796\n",
      "Epoch 76/2000\n",
      "75/75 [==============================] - 0s 2ms/step - loss: 0.5475 - accuracy: 0.7216 - val_loss: 0.6040 - val_accuracy: 0.6779\n",
      "Epoch 77/2000\n",
      "75/75 [==============================] - 0s 2ms/step - loss: 0.5467 - accuracy: 0.7222 - val_loss: 0.6049 - val_accuracy: 0.6800\n",
      "Epoch 78/2000\n",
      "75/75 [==============================] - 0s 2ms/step - loss: 0.5471 - accuracy: 0.7214 - val_loss: 0.6017 - val_accuracy: 0.6858\n",
      "Epoch 79/2000\n",
      "75/75 [==============================] - 0s 2ms/step - loss: 0.5463 - accuracy: 0.7228 - val_loss: 0.6020 - val_accuracy: 0.6733\n",
      "Epoch 80/2000\n",
      "75/75 [==============================] - 0s 2ms/step - loss: 0.5487 - accuracy: 0.7244 - val_loss: 0.6059 - val_accuracy: 0.6812\n",
      "Epoch 81/2000\n",
      "75/75 [==============================] - 0s 2ms/step - loss: 0.5466 - accuracy: 0.7184 - val_loss: 0.6071 - val_accuracy: 0.6737\n",
      "Epoch 82/2000\n",
      "75/75 [==============================] - 0s 2ms/step - loss: 0.5453 - accuracy: 0.7231 - val_loss: 0.6044 - val_accuracy: 0.6812\n",
      "Epoch 83/2000\n",
      "69/75 [==========================>...] - ETA: 0s - loss: 0.5467 - accuracy: 0.7185Restoring model weights from the end of the best epoch: 33.\n",
      "75/75 [==============================] - 0s 2ms/step - loss: 0.5452 - accuracy: 0.7205 - val_loss: 0.6080 - val_accuracy: 0.6708\n",
      "Epoch 83: early stopping\n"
     ]
    }
   ],
   "source": [
    "history = model_dl_hidden.fit(x_train_sc, y_train, epochs=2000, verbose=1, validation_split=0.2, callbacks=[es], batch_size=batch )"
   ]
  },
  {
   "cell_type": "code",
   "execution_count": 260,
   "metadata": {},
   "outputs": [
    {
     "data": {
      "image/png": "[encoded data removed]",
      "text/plain": [
       "<IPython.core.display.Image object>"
      ]
     },
     "execution_count": 260,
     "metadata": {},
     "output_type": "execute_result"
    }
   ],
   "source": [
    "plot_model(model_dl_hidden , show_shapes=True)"
   ]
  },
  {
   "cell_type": "code",
   "execution_count": 236,
   "metadata": {},
   "outputs": [
    {
     "name": "stdout",
     "output_type": "stream",
     "text": [
      "              precision    recall  f1-score   support\n",
      "\n",
      "           0       0.71      0.68      0.69      1520\n",
      "           1       0.68      0.72      0.70      1480\n",
      "\n",
      "    accuracy                           0.70      3000\n",
      "   macro avg       0.70      0.70      0.70      3000\n",
      "weighted avg       0.70      0.70      0.70      3000\n",
      "\n"
     ]
    }
   ],
   "source": [
    "# 예측하기 => 검증\n",
    "y_pred = model_dl_hidden.predict(x_val_sc)\n",
    "preds_1d = y_pred.flatten() # 차원 펴주기\n",
    "pred_class = np.where(preds_1d > 0.5, 1 , 0) #0.5보다크면 2, 작으면 1\n",
    "# 평가하기\n",
    "print(classification_report(y_val,pred_class))\n",
    "result_cr['dl_hidden'] = classification_report(y_val, pred_class)"
   ]
  },
  {
   "cell_type": "code",
   "execution_count": 237,
   "metadata": {},
   "outputs": [
    {
     "data": {
      "image/png": "[encoded data removed]",
      "text/plain": [
       "<Figure size 432x288 with 1 Axes>"
      ]
     },
     "metadata": {
      "needs_background": "light"
     },
     "output_type": "display_data"
    }
   ],
   "source": [
    "if not isinstance(history, dict):\n",
    "    history = history.history\n",
    "\n",
    "plt.plot(history['loss'])\n",
    "plt.plot(history['val_loss'])\n",
    "plt.title('Loss : Training vs Validation')\n",
    "plt.ylabel('Loss')\n",
    "plt.xlabel('Epoch')\n",
    "plt.legend(['Training', 'Validation'], loc=0)\n",
    "plt.show()"
   ]
  },
  {
   "cell_type": "code",
   "execution_count": 238,
   "metadata": {},
   "outputs": [],
   "source": [
    "# 끝으로 갈 수록 과적합을 보이고 있음."
   ]
  },
  {
   "cell_type": "code",
   "execution_count": 239,
   "metadata": {},
   "outputs": [
    {
     "name": "stdout",
     "output_type": "stream",
     "text": [
      "              precision    recall  f1-score   support\n",
      "\n",
      "           0       0.70      0.65      0.67      1540\n",
      "           1       0.66      0.70      0.68      1460\n",
      "\n",
      "    accuracy                           0.68      3000\n",
      "   macro avg       0.68      0.68      0.68      3000\n",
      "weighted avg       0.68      0.68      0.68      3000\n",
      "\n"
     ]
    }
   ],
   "source": [
    "# 예측하기 => 테스트\n",
    "y_pred = model_dl_hidden.predict(x_test_sc)\n",
    "preds_1d = y_pred.flatten() # 차원 펴주기\n",
    "pred_class = np.where(preds_1d > 0.5, 1 , 0) #0.5보다크면 2, 작으면 1\n",
    "# 평가하기\n",
    "print(classification_report(y_test,pred_class))\n",
    "result_test['dl_hidden'] = classification_report(y_test, pred_class)\n",
    "\n",
    "# recall 값만 저장\n",
    "result_recall['dl_hidden'] = recall_score(y_test,pred_class)"
   ]
  },
  {
   "cell_type": "markdown",
   "metadata": {
    "id": "yAaMF07mHz_q"
   },
   "source": [
    "#### (3) 모델3"
   ]
  },
  {
   "cell_type": "code",
   "execution_count": 240,
   "metadata": {},
   "outputs": [
    {
     "name": "stdout",
     "output_type": "stream",
     "text": [
      "<class 'pandas.core.frame.DataFrame'>\n",
      "RangeIndex: 18000 entries, 0 to 17999\n",
      "Data columns (total 9 columns):\n",
      " #   Column                       Non-Null Count  Dtype  \n",
      "---  ------                       --------------  -----  \n",
      " 0   COLLEGE                      18000 non-null  int64  \n",
      " 1   INCOME                       18000 non-null  int64  \n",
      " 2   OVERAGE                      18000 non-null  int64  \n",
      " 3   LEFTOVER                     18000 non-null  int64  \n",
      " 4   HOUSE                        18000 non-null  float64\n",
      " 5   HANDSET_PRICE                18000 non-null  int64  \n",
      " 6   OVER_15MINS_CALLS_PER_MONTH  18000 non-null  int64  \n",
      " 7   AVERAGE_CALL_DURATION        18000 non-null  int64  \n",
      " 8   HOUSE_INCOME_HAND            18000 non-null  float64\n",
      "dtypes: float64(2), int64(7)\n",
      "memory usage: 1.2 MB\n"
     ]
    }
   ],
   "source": [
    "x.info()"
   ]
  },
  {
   "cell_type": "markdown",
   "metadata": {
    "id": "aA1Pm1oXMLgv"
   },
   "source": [
    "###  add를 이용해 비슷한 그룹 별로 딥러닝\n",
    "* 재산인 부분과 그것이 아닌 부분 두 그룹으로 나누어서 레이어를 add\n",
    "* 이탈이 재산과 관련이 있을 것이라고 생각해서 관련있는 그룹과 없는 그룹으로 나누어서 새로운 레이어를 만듬\n",
    "* 재산 : INCOME, HOUSE, HANDSET_PRICE, HOUSE_INCOME_HAND\n",
    "* 그 외: COLLEGE, OVERAGE, LEFTOVER, OVER_15MINS_CALLS_PER_MONTH, AVERAGE_CALL_DURATION"
   ]
  },
  {
   "cell_type": "code",
   "execution_count": 241,
   "metadata": {},
   "outputs": [],
   "source": [
    "# 데이터 구분 "
   ]
  },
  {
   "cell_type": "code",
   "execution_count": 242,
   "metadata": {},
   "outputs": [],
   "source": [
    "df_x_money = x_train_sc.loc[:,['INCOME','HOUSE', 'HANDSET_PRICE', 'HOUSE_INCOME_HAND']]\n",
    "df_x_etc = x_train_sc.loc[:,['COLLEGE','OVERAGE', 'LEFTOVER', 'OVER_15MINS_CALLS_PER_MONTH', 'AVERAGE_CALL_DURATION']]"
   ]
  },
  {
   "cell_type": "code",
   "execution_count": 243,
   "metadata": {},
   "outputs": [],
   "source": [
    "val_x_money = x_val_sc.loc[:,['INCOME','HOUSE', 'HANDSET_PRICE', 'HOUSE_INCOME_HAND']]\n",
    "val_x_etc = x_val_sc.loc[:,['COLLEGE','OVERAGE', 'LEFTOVER', 'OVER_15MINS_CALLS_PER_MONTH', 'AVERAGE_CALL_DURATION']]"
   ]
  },
  {
   "cell_type": "code",
   "execution_count": 244,
   "metadata": {},
   "outputs": [],
   "source": [
    "te_x_money = x_test_sc.loc[:,['INCOME','HOUSE', 'HANDSET_PRICE', 'HOUSE_INCOME_HAND']]\n",
    "te_x_etc = x_test_sc.loc[:,['COLLEGE','OVERAGE', 'LEFTOVER', 'OVER_15MINS_CALLS_PER_MONTH', 'AVERAGE_CALL_DURATION']]"
   ]
  },
  {
   "cell_type": "code",
   "execution_count": 245,
   "metadata": {},
   "outputs": [
    {
     "data": {
      "text/plain": [
       "((12000, 4), (12000, 5))"
      ]
     },
     "execution_count": 245,
     "metadata": {},
     "output_type": "execute_result"
    }
   ],
   "source": [
    "df_x_money.shape ,df_x_etc.shape"
   ]
  },
  {
   "cell_type": "code",
   "execution_count": 246,
   "metadata": {},
   "outputs": [
    {
     "name": "stdout",
     "output_type": "stream",
     "text": [
      "Model: \"model\"\n",
      "__________________________________________________________________________________________________\n",
      " Layer (type)                   Output Shape         Param #     Connected to                     \n",
      "==================================================================================================\n",
      " input_1 (InputLayer)           [(None, 4)]          0           []                               \n",
      "                                                                                                  \n",
      " input_2 (InputLayer)           [(None, 5)]          0           []                               \n",
      "                                                                                                  \n",
      " dense (Dense)                  (None, 32)           160         ['input_1[0][0]']                \n",
      "                                                                                                  \n",
      " dense_2 (Dense)                (None, 32)           192         ['input_2[0][0]']                \n",
      "                                                                                                  \n",
      " dense_1 (Dense)                (None, 16)           528         ['dense[0][0]']                  \n",
      "                                                                                                  \n",
      " dense_3 (Dense)                (None, 16)           528         ['dense_2[0][0]']                \n",
      "                                                                                                  \n",
      " add (Add)                      (None, 16)           0           ['dense_1[0][0]',                \n",
      "                                                                  'dense_3[0][0]']                \n",
      "                                                                                                  \n",
      " dense_4 (Dense)                (None, 1)            17          ['add[0][0]']                    \n",
      "                                                                                                  \n",
      "==================================================================================================\n",
      "Total params: 1,425\n",
      "Trainable params: 1,425\n",
      "Non-trainable params: 0\n",
      "__________________________________________________________________________________________________\n"
     ]
    }
   ],
   "source": [
    "# add + hidden\n",
    "# 세션 초기화\n",
    "keras.backend.clear_session()\n",
    "\n",
    "#레이어 연결\n",
    "il_s = keras.layers.Input(shape=(4,))\n",
    "hl_s = keras.layers.Dense(32, activation ='relu')(il_s)\n",
    "hl_s = keras.layers.Dense(16, activation ='relu')(hl_s)\n",
    "\n",
    "il_p = keras.layers.Input(shape=(5,))\n",
    "hl_p = keras.layers.Dense(32,activation ='relu')(il_p)\n",
    "hl_p = keras.layers.Dense(16, activation ='relu')(hl_p)\n",
    "\n",
    "ad = keras.layers.Add()([hl_s, hl_p])\n",
    "ol = keras.layers.Dense(1, activation='sigmoid')(ad)\n",
    "\n",
    "# 모델 시작과 끝 지정\n",
    "model_hl_add = keras.models.Model([il_s, il_p], ol)\n",
    "\n",
    "#컴파일\n",
    "model_hl_add.compile(loss = 'binary_crossentropy', optimizer='adam', metrics='accuracy')\n",
    "\n",
    "model_hl_add.summary()"
   ]
  },
  {
   "cell_type": "code",
   "execution_count": 247,
   "metadata": {},
   "outputs": [
    {
     "data": {
      "image/png": "[encoded data removed]",
      "text/plain": [
       "<IPython.core.display.Image object>"
      ]
     },
     "execution_count": 247,
     "metadata": {},
     "output_type": "execute_result"
    }
   ],
   "source": [
    "plot_model(model_hl_add , show_shapes=True)"
   ]
  },
  {
   "cell_type": "code",
   "execution_count": 248,
   "metadata": {
    "scrolled": true
   },
   "outputs": [
    {
     "name": "stdout",
     "output_type": "stream",
     "text": [
      "Epoch 1/1000\n",
      "319/319 [==============================] - 1s 2ms/step - loss: 0.6483 - accuracy: 0.6299 - val_loss: 0.6340 - val_accuracy: 0.6261\n",
      "Epoch 2/1000\n",
      "319/319 [==============================] - 1s 2ms/step - loss: 0.6251 - accuracy: 0.6549 - val_loss: 0.6252 - val_accuracy: 0.6506\n",
      "Epoch 3/1000\n",
      "319/319 [==============================] - 1s 2ms/step - loss: 0.6192 - accuracy: 0.6603 - val_loss: 0.6199 - val_accuracy: 0.6606\n",
      "Epoch 4/1000\n",
      "319/319 [==============================] - 1s 2ms/step - loss: 0.6159 - accuracy: 0.6634 - val_loss: 0.6154 - val_accuracy: 0.6639\n",
      "Epoch 5/1000\n",
      "319/319 [==============================] - 1s 2ms/step - loss: 0.6128 - accuracy: 0.6686 - val_loss: 0.6122 - val_accuracy: 0.6728\n",
      "Epoch 6/1000\n",
      "319/319 [==============================] - 1s 2ms/step - loss: 0.6101 - accuracy: 0.6720 - val_loss: 0.6145 - val_accuracy: 0.6606\n",
      "Epoch 7/1000\n",
      "319/319 [==============================] - 1s 2ms/step - loss: 0.6081 - accuracy: 0.6725 - val_loss: 0.6072 - val_accuracy: 0.6700\n",
      "Epoch 8/1000\n",
      "319/319 [==============================] - 1s 2ms/step - loss: 0.6059 - accuracy: 0.6744 - val_loss: 0.6072 - val_accuracy: 0.6700\n",
      "Epoch 9/1000\n",
      "319/319 [==============================] - 1s 2ms/step - loss: 0.6055 - accuracy: 0.6750 - val_loss: 0.6042 - val_accuracy: 0.6706\n",
      "Epoch 10/1000\n",
      "319/319 [==============================] - 1s 2ms/step - loss: 0.6033 - accuracy: 0.6759 - val_loss: 0.6050 - val_accuracy: 0.6689\n",
      "Epoch 11/1000\n",
      "319/319 [==============================] - 1s 2ms/step - loss: 0.6024 - accuracy: 0.6777 - val_loss: 0.6014 - val_accuracy: 0.6733\n",
      "Epoch 12/1000\n",
      "319/319 [==============================] - 1s 2ms/step - loss: 0.6011 - accuracy: 0.6797 - val_loss: 0.6033 - val_accuracy: 0.6750\n",
      "Epoch 13/1000\n",
      "319/319 [==============================] - 1s 2ms/step - loss: 0.6001 - accuracy: 0.6800 - val_loss: 0.6001 - val_accuracy: 0.6733\n",
      "Epoch 14/1000\n",
      "319/319 [==============================] - 1s 2ms/step - loss: 0.5988 - accuracy: 0.6810 - val_loss: 0.6006 - val_accuracy: 0.6700\n",
      "Epoch 15/1000\n",
      "319/319 [==============================] - 1s 2ms/step - loss: 0.5981 - accuracy: 0.6849 - val_loss: 0.5974 - val_accuracy: 0.6794\n",
      "Epoch 16/1000\n",
      "319/319 [==============================] - 1s 2ms/step - loss: 0.5969 - accuracy: 0.6822 - val_loss: 0.5969 - val_accuracy: 0.6706\n",
      "Epoch 17/1000\n",
      "319/319 [==============================] - 1s 2ms/step - loss: 0.5962 - accuracy: 0.6889 - val_loss: 0.5974 - val_accuracy: 0.6789\n",
      "Epoch 18/1000\n",
      "319/319 [==============================] - 1s 2ms/step - loss: 0.5951 - accuracy: 0.6806 - val_loss: 0.5958 - val_accuracy: 0.6794\n",
      "Epoch 19/1000\n",
      "319/319 [==============================] - 1s 2ms/step - loss: 0.5943 - accuracy: 0.6856 - val_loss: 0.5974 - val_accuracy: 0.6850\n",
      "Epoch 20/1000\n",
      "319/319 [==============================] - 1s 2ms/step - loss: 0.5933 - accuracy: 0.6854 - val_loss: 0.5954 - val_accuracy: 0.6806\n",
      "Epoch 21/1000\n",
      "319/319 [==============================] - 1s 2ms/step - loss: 0.5925 - accuracy: 0.6890 - val_loss: 0.5951 - val_accuracy: 0.6778\n",
      "Epoch 22/1000\n",
      "319/319 [==============================] - 1s 2ms/step - loss: 0.5926 - accuracy: 0.6867 - val_loss: 0.5943 - val_accuracy: 0.6817\n",
      "Epoch 23/1000\n",
      "319/319 [==============================] - 1s 2ms/step - loss: 0.5913 - accuracy: 0.6889 - val_loss: 0.5953 - val_accuracy: 0.6783\n",
      "Epoch 24/1000\n",
      "319/319 [==============================] - 1s 2ms/step - loss: 0.5914 - accuracy: 0.6913 - val_loss: 0.5935 - val_accuracy: 0.6844\n",
      "Epoch 25/1000\n",
      "319/319 [==============================] - 1s 2ms/step - loss: 0.5908 - accuracy: 0.6878 - val_loss: 0.5930 - val_accuracy: 0.6861\n",
      "Epoch 26/1000\n",
      "319/319 [==============================] - 1s 2ms/step - loss: 0.5894 - accuracy: 0.6906 - val_loss: 0.5923 - val_accuracy: 0.6844\n",
      "Epoch 27/1000\n",
      "319/319 [==============================] - 1s 2ms/step - loss: 0.5893 - accuracy: 0.6897 - val_loss: 0.5922 - val_accuracy: 0.6861\n",
      "Epoch 28/1000\n",
      "319/319 [==============================] - 1s 2ms/step - loss: 0.5880 - accuracy: 0.6936 - val_loss: 0.5916 - val_accuracy: 0.6761\n",
      "Epoch 29/1000\n",
      "319/319 [==============================] - 1s 2ms/step - loss: 0.5878 - accuracy: 0.6921 - val_loss: 0.5956 - val_accuracy: 0.6800\n",
      "Epoch 30/1000\n",
      "319/319 [==============================] - 1s 2ms/step - loss: 0.5870 - accuracy: 0.6961 - val_loss: 0.5921 - val_accuracy: 0.6883\n",
      "Epoch 31/1000\n",
      "319/319 [==============================] - 1s 2ms/step - loss: 0.5876 - accuracy: 0.6895 - val_loss: 0.5959 - val_accuracy: 0.6828\n",
      "Epoch 32/1000\n",
      "319/319 [==============================] - 1s 2ms/step - loss: 0.5864 - accuracy: 0.6922 - val_loss: 0.5907 - val_accuracy: 0.6900\n",
      "Epoch 33/1000\n",
      "319/319 [==============================] - 1s 2ms/step - loss: 0.5860 - accuracy: 0.6914 - val_loss: 0.5911 - val_accuracy: 0.6872\n",
      "Epoch 34/1000\n",
      "319/319 [==============================] - 1s 2ms/step - loss: 0.5852 - accuracy: 0.6939 - val_loss: 0.5922 - val_accuracy: 0.6856\n",
      "Epoch 35/1000\n",
      "319/319 [==============================] - 1s 2ms/step - loss: 0.5847 - accuracy: 0.6928 - val_loss: 0.5925 - val_accuracy: 0.6839\n",
      "Epoch 36/1000\n",
      "319/319 [==============================] - 1s 2ms/step - loss: 0.5851 - accuracy: 0.6888 - val_loss: 0.5899 - val_accuracy: 0.6889\n",
      "Epoch 37/1000\n",
      "319/319 [==============================] - 1s 2ms/step - loss: 0.5841 - accuracy: 0.6936 - val_loss: 0.5900 - val_accuracy: 0.6889\n",
      "Epoch 38/1000\n",
      "319/319 [==============================] - 1s 2ms/step - loss: 0.5836 - accuracy: 0.6930 - val_loss: 0.5959 - val_accuracy: 0.6783\n",
      "Epoch 39/1000\n",
      "319/319 [==============================] - 1s 2ms/step - loss: 0.5840 - accuracy: 0.6923 - val_loss: 0.5902 - val_accuracy: 0.6839\n",
      "Epoch 40/1000\n",
      "319/319 [==============================] - 1s 2ms/step - loss: 0.5832 - accuracy: 0.6946 - val_loss: 0.5896 - val_accuracy: 0.6850\n",
      "Epoch 41/1000\n",
      "319/319 [==============================] - 1s 2ms/step - loss: 0.5840 - accuracy: 0.6966 - val_loss: 0.5905 - val_accuracy: 0.6867\n",
      "Epoch 42/1000\n",
      "319/319 [==============================] - 1s 2ms/step - loss: 0.5823 - accuracy: 0.6934 - val_loss: 0.5902 - val_accuracy: 0.6850\n",
      "Epoch 43/1000\n",
      "319/319 [==============================] - 1s 2ms/step - loss: 0.5826 - accuracy: 0.6935 - val_loss: 0.5929 - val_accuracy: 0.6828\n",
      "Epoch 44/1000\n",
      "319/319 [==============================] - 1s 2ms/step - loss: 0.5824 - accuracy: 0.6927 - val_loss: 0.5882 - val_accuracy: 0.6889\n",
      "Epoch 45/1000\n",
      "319/319 [==============================] - 1s 2ms/step - loss: 0.5820 - accuracy: 0.6944 - val_loss: 0.5894 - val_accuracy: 0.6900\n",
      "Epoch 46/1000\n",
      "319/319 [==============================] - 1s 2ms/step - loss: 0.5813 - accuracy: 0.6966 - val_loss: 0.5885 - val_accuracy: 0.6961\n",
      "Epoch 47/1000\n",
      "319/319 [==============================] - 1s 2ms/step - loss: 0.5817 - accuracy: 0.6956 - val_loss: 0.5890 - val_accuracy: 0.6983\n",
      "Epoch 48/1000\n",
      "319/319 [==============================] - 1s 2ms/step - loss: 0.5815 - accuracy: 0.6923 - val_loss: 0.5874 - val_accuracy: 0.6917\n",
      "Epoch 49/1000\n",
      "319/319 [==============================] - 1s 2ms/step - loss: 0.5813 - accuracy: 0.6955 - val_loss: 0.5873 - val_accuracy: 0.6900\n",
      "Epoch 50/1000\n",
      "319/319 [==============================] - 1s 2ms/step - loss: 0.5813 - accuracy: 0.6921 - val_loss: 0.5891 - val_accuracy: 0.6839\n",
      "Epoch 51/1000\n",
      "319/319 [==============================] - 1s 2ms/step - loss: 0.5816 - accuracy: 0.6947 - val_loss: 0.5880 - val_accuracy: 0.6939\n",
      "Epoch 52/1000\n",
      "319/319 [==============================] - 1s 2ms/step - loss: 0.5803 - accuracy: 0.6975 - val_loss: 0.5897 - val_accuracy: 0.6928\n",
      "Epoch 53/1000\n",
      "319/319 [==============================] - 1s 2ms/step - loss: 0.5803 - accuracy: 0.6982 - val_loss: 0.5884 - val_accuracy: 0.6883\n",
      "Epoch 54/1000\n",
      "319/319 [==============================] - 1s 2ms/step - loss: 0.5801 - accuracy: 0.6975 - val_loss: 0.5915 - val_accuracy: 0.6822\n",
      "Epoch 55/1000\n",
      "319/319 [==============================] - 1s 2ms/step - loss: 0.5805 - accuracy: 0.6967 - val_loss: 0.5875 - val_accuracy: 0.6867\n",
      "Epoch 56/1000\n",
      "319/319 [==============================] - 1s 2ms/step - loss: 0.5801 - accuracy: 0.6951 - val_loss: 0.5866 - val_accuracy: 0.6956\n",
      "Epoch 57/1000\n",
      "319/319 [==============================] - 1s 2ms/step - loss: 0.5803 - accuracy: 0.6979 - val_loss: 0.5856 - val_accuracy: 0.6928\n",
      "Epoch 58/1000\n",
      "319/319 [==============================] - 1s 2ms/step - loss: 0.5799 - accuracy: 0.6949 - val_loss: 0.5894 - val_accuracy: 0.6922\n",
      "Epoch 59/1000\n",
      "319/319 [==============================] - 1s 2ms/step - loss: 0.5797 - accuracy: 0.6970 - val_loss: 0.5868 - val_accuracy: 0.6933\n",
      "Epoch 60/1000\n",
      "319/319 [==============================] - 1s 2ms/step - loss: 0.5788 - accuracy: 0.6975 - val_loss: 0.5920 - val_accuracy: 0.6883\n",
      "Epoch 61/1000\n",
      "319/319 [==============================] - 1s 2ms/step - loss: 0.5802 - accuracy: 0.6980 - val_loss: 0.5875 - val_accuracy: 0.6894\n",
      "Epoch 62/1000\n",
      "319/319 [==============================] - 1s 2ms/step - loss: 0.5793 - accuracy: 0.6970 - val_loss: 0.5873 - val_accuracy: 0.6922\n",
      "Epoch 63/1000\n",
      "319/319 [==============================] - 1s 2ms/step - loss: 0.5790 - accuracy: 0.6968 - val_loss: 0.5874 - val_accuracy: 0.6967\n",
      "Epoch 64/1000\n",
      "319/319 [==============================] - 1s 2ms/step - loss: 0.5788 - accuracy: 0.6978 - val_loss: 0.5902 - val_accuracy: 0.6811\n",
      "Epoch 65/1000\n",
      "319/319 [==============================] - 1s 2ms/step - loss: 0.5795 - accuracy: 0.6982 - val_loss: 0.5866 - val_accuracy: 0.6878\n",
      "Epoch 66/1000\n",
      "319/319 [==============================] - 1s 2ms/step - loss: 0.5780 - accuracy: 0.6984 - val_loss: 0.5876 - val_accuracy: 0.6956\n",
      "Epoch 67/1000\n",
      "319/319 [==============================] - 1s 2ms/step - loss: 0.5788 - accuracy: 0.6989 - val_loss: 0.5857 - val_accuracy: 0.6978\n",
      "Epoch 68/1000\n",
      "319/319 [==============================] - 1s 2ms/step - loss: 0.5777 - accuracy: 0.6981 - val_loss: 0.5859 - val_accuracy: 0.6944\n",
      "Epoch 69/1000\n",
      "319/319 [==============================] - 1s 2ms/step - loss: 0.5786 - accuracy: 0.6983 - val_loss: 0.5862 - val_accuracy: 0.7039\n",
      "Epoch 70/1000\n",
      "319/319 [==============================] - 1s 2ms/step - loss: 0.5787 - accuracy: 0.6979 - val_loss: 0.5881 - val_accuracy: 0.6883\n",
      "Epoch 71/1000\n",
      "319/319 [==============================] - 1s 2ms/step - loss: 0.5780 - accuracy: 0.6972 - val_loss: 0.5898 - val_accuracy: 0.6894\n",
      "Epoch 72/1000\n",
      "319/319 [==============================] - 1s 2ms/step - loss: 0.5778 - accuracy: 0.6978 - val_loss: 0.5876 - val_accuracy: 0.6911\n",
      "Epoch 73/1000\n",
      "319/319 [==============================] - 1s 2ms/step - loss: 0.5780 - accuracy: 0.7001 - val_loss: 0.5875 - val_accuracy: 0.6922\n",
      "Epoch 74/1000\n",
      "319/319 [==============================] - 1s 2ms/step - loss: 0.5780 - accuracy: 0.7019 - val_loss: 0.5881 - val_accuracy: 0.6939\n",
      "Epoch 75/1000\n",
      "319/319 [==============================] - 1s 2ms/step - loss: 0.5785 - accuracy: 0.6975 - val_loss: 0.5864 - val_accuracy: 0.6989\n",
      "Epoch 76/1000\n",
      "319/319 [==============================] - 1s 2ms/step - loss: 0.5781 - accuracy: 0.6987 - val_loss: 0.5859 - val_accuracy: 0.7006\n",
      "Epoch 77/1000\n",
      "319/319 [==============================] - 1s 2ms/step - loss: 0.5777 - accuracy: 0.7011 - val_loss: 0.5870 - val_accuracy: 0.6889\n",
      "Epoch 78/1000\n",
      "319/319 [==============================] - 1s 2ms/step - loss: 0.5779 - accuracy: 0.6995 - val_loss: 0.5870 - val_accuracy: 0.6961\n",
      "Epoch 79/1000\n",
      "319/319 [==============================] - 1s 2ms/step - loss: 0.5775 - accuracy: 0.7001 - val_loss: 0.5875 - val_accuracy: 0.6878\n",
      "Epoch 80/1000\n",
      "319/319 [==============================] - 1s 2ms/step - loss: 0.5777 - accuracy: 0.6967 - val_loss: 0.5857 - val_accuracy: 0.6922\n",
      "Epoch 81/1000\n",
      "319/319 [==============================] - 1s 2ms/step - loss: 0.5769 - accuracy: 0.6978 - val_loss: 0.5907 - val_accuracy: 0.6883\n",
      "Epoch 82/1000\n",
      "319/319 [==============================] - 1s 2ms/step - loss: 0.5777 - accuracy: 0.6985 - val_loss: 0.5882 - val_accuracy: 0.6917\n",
      "Epoch 83/1000\n",
      "319/319 [==============================] - 1s 2ms/step - loss: 0.5766 - accuracy: 0.6989 - val_loss: 0.6007 - val_accuracy: 0.6844\n",
      "Epoch 84/1000\n",
      "319/319 [==============================] - 1s 2ms/step - loss: 0.5777 - accuracy: 0.7001 - val_loss: 0.5882 - val_accuracy: 0.6922\n",
      "Epoch 85/1000\n",
      "319/319 [==============================] - 1s 2ms/step - loss: 0.5769 - accuracy: 0.7025 - val_loss: 0.5868 - val_accuracy: 0.6900\n",
      "Epoch 86/1000\n",
      "319/319 [==============================] - 1s 2ms/step - loss: 0.5771 - accuracy: 0.6968 - val_loss: 0.5862 - val_accuracy: 0.6906\n",
      "Epoch 87/1000\n",
      "319/319 [==============================] - 1s 2ms/step - loss: 0.5770 - accuracy: 0.7018 - val_loss: 0.5851 - val_accuracy: 0.6917\n",
      "Epoch 88/1000\n",
      "319/319 [==============================] - 1s 2ms/step - loss: 0.5769 - accuracy: 0.6995 - val_loss: 0.5870 - val_accuracy: 0.6883\n",
      "Epoch 89/1000\n",
      "319/319 [==============================] - 1s 2ms/step - loss: 0.5768 - accuracy: 0.7000 - val_loss: 0.5864 - val_accuracy: 0.6928\n",
      "Epoch 90/1000\n",
      "319/319 [==============================] - 1s 2ms/step - loss: 0.5768 - accuracy: 0.6976 - val_loss: 0.5887 - val_accuracy: 0.6800\n",
      "Epoch 91/1000\n",
      "319/319 [==============================] - 1s 2ms/step - loss: 0.5766 - accuracy: 0.7019 - val_loss: 0.5874 - val_accuracy: 0.6867\n",
      "Epoch 92/1000\n",
      "319/319 [==============================] - 1s 2ms/step - loss: 0.5765 - accuracy: 0.7027 - val_loss: 0.5878 - val_accuracy: 0.6917\n",
      "Epoch 93/1000\n",
      "319/319 [==============================] - 1s 2ms/step - loss: 0.5762 - accuracy: 0.7018 - val_loss: 0.5882 - val_accuracy: 0.6833\n",
      "Epoch 94/1000\n",
      "319/319 [==============================] - 1s 2ms/step - loss: 0.5764 - accuracy: 0.6987 - val_loss: 0.5860 - val_accuracy: 0.6928\n",
      "Epoch 95/1000\n",
      "319/319 [==============================] - 1s 2ms/step - loss: 0.5762 - accuracy: 0.6992 - val_loss: 0.5880 - val_accuracy: 0.6911\n",
      "Epoch 96/1000\n",
      "319/319 [==============================] - 1s 2ms/step - loss: 0.5768 - accuracy: 0.7010 - val_loss: 0.5937 - val_accuracy: 0.6894\n",
      "Epoch 97/1000\n",
      "319/319 [==============================] - 1s 2ms/step - loss: 0.5763 - accuracy: 0.6983 - val_loss: 0.5879 - val_accuracy: 0.6989\n",
      "Epoch 98/1000\n",
      "319/319 [==============================] - 1s 2ms/step - loss: 0.5769 - accuracy: 0.7023 - val_loss: 0.5851 - val_accuracy: 0.6911\n",
      "Epoch 99/1000\n",
      "319/319 [==============================] - 1s 2ms/step - loss: 0.5765 - accuracy: 0.7016 - val_loss: 0.5963 - val_accuracy: 0.6883\n",
      "Epoch 100/1000\n",
      "319/319 [==============================] - 1s 2ms/step - loss: 0.5762 - accuracy: 0.7022 - val_loss: 0.5883 - val_accuracy: 0.6939\n",
      "Epoch 101/1000\n",
      "319/319 [==============================] - 1s 2ms/step - loss: 0.5757 - accuracy: 0.6989 - val_loss: 0.5865 - val_accuracy: 0.6900\n",
      "Epoch 102/1000\n",
      "319/319 [==============================] - 1s 2ms/step - loss: 0.5763 - accuracy: 0.7012 - val_loss: 0.5871 - val_accuracy: 0.6939\n",
      "Epoch 103/1000\n",
      "319/319 [==============================] - 1s 2ms/step - loss: 0.5764 - accuracy: 0.6993 - val_loss: 0.5874 - val_accuracy: 0.6956\n",
      "Epoch 104/1000\n",
      "319/319 [==============================] - 1s 2ms/step - loss: 0.5761 - accuracy: 0.6972 - val_loss: 0.5865 - val_accuracy: 0.6922\n",
      "Epoch 105/1000\n",
      "319/319 [==============================] - 1s 2ms/step - loss: 0.5752 - accuracy: 0.7035 - val_loss: 0.5880 - val_accuracy: 0.6989\n",
      "Epoch 106/1000\n",
      "319/319 [==============================] - 1s 2ms/step - loss: 0.5753 - accuracy: 0.7018 - val_loss: 0.5933 - val_accuracy: 0.6911\n",
      "Epoch 107/1000\n",
      "319/319 [==============================] - 1s 2ms/step - loss: 0.5766 - accuracy: 0.6994 - val_loss: 0.5882 - val_accuracy: 0.6889\n",
      "Epoch 108/1000\n",
      "319/319 [==============================] - 1s 2ms/step - loss: 0.5758 - accuracy: 0.6994 - val_loss: 0.5869 - val_accuracy: 0.6933\n",
      "Epoch 109/1000\n",
      "319/319 [==============================] - 1s 2ms/step - loss: 0.5751 - accuracy: 0.7040 - val_loss: 0.5857 - val_accuracy: 0.6967\n",
      "Epoch 110/1000\n",
      "319/319 [==============================] - 1s 2ms/step - loss: 0.5752 - accuracy: 0.6990 - val_loss: 0.5863 - val_accuracy: 0.6956\n",
      "Epoch 111/1000\n",
      "319/319 [==============================] - 1s 2ms/step - loss: 0.5755 - accuracy: 0.7023 - val_loss: 0.5872 - val_accuracy: 0.6917\n",
      "Epoch 112/1000\n",
      "319/319 [==============================] - 1s 2ms/step - loss: 0.5755 - accuracy: 0.7033 - val_loss: 0.5874 - val_accuracy: 0.6928\n",
      "Epoch 113/1000\n"
     ]
    },
    {
     "name": "stdout",
     "output_type": "stream",
     "text": [
      "319/319 [==============================] - 1s 2ms/step - loss: 0.5760 - accuracy: 0.7034 - val_loss: 0.5883 - val_accuracy: 0.6928\n",
      "Epoch 114/1000\n",
      "319/319 [==============================] - 1s 2ms/step - loss: 0.5744 - accuracy: 0.7021 - val_loss: 0.5873 - val_accuracy: 0.6889\n",
      "Epoch 115/1000\n",
      "319/319 [==============================] - 1s 2ms/step - loss: 0.5749 - accuracy: 0.7049 - val_loss: 0.5871 - val_accuracy: 0.6900\n",
      "Epoch 116/1000\n",
      "319/319 [==============================] - 1s 2ms/step - loss: 0.5758 - accuracy: 0.7015 - val_loss: 0.5891 - val_accuracy: 0.6861\n",
      "Epoch 117/1000\n",
      "319/319 [==============================] - 1s 2ms/step - loss: 0.5745 - accuracy: 0.7001 - val_loss: 0.5857 - val_accuracy: 0.6950\n",
      "Epoch 118/1000\n",
      "319/319 [==============================] - 1s 2ms/step - loss: 0.5753 - accuracy: 0.7023 - val_loss: 0.5858 - val_accuracy: 0.6928\n",
      "Epoch 119/1000\n",
      "319/319 [==============================] - 1s 2ms/step - loss: 0.5754 - accuracy: 0.7031 - val_loss: 0.5885 - val_accuracy: 0.6922\n",
      "Epoch 120/1000\n",
      "319/319 [==============================] - 1s 2ms/step - loss: 0.5749 - accuracy: 0.7016 - val_loss: 0.5880 - val_accuracy: 0.6956\n",
      "Epoch 121/1000\n",
      "319/319 [==============================] - 1s 2ms/step - loss: 0.5748 - accuracy: 0.7043 - val_loss: 0.5881 - val_accuracy: 0.6894\n",
      "Epoch 122/1000\n",
      "319/319 [==============================] - 1s 2ms/step - loss: 0.5751 - accuracy: 0.7027 - val_loss: 0.5881 - val_accuracy: 0.6906\n",
      "Epoch 123/1000\n",
      "319/319 [==============================] - 1s 2ms/step - loss: 0.5739 - accuracy: 0.7025 - val_loss: 0.5896 - val_accuracy: 0.6956\n",
      "Epoch 124/1000\n",
      "319/319 [==============================] - 1s 2ms/step - loss: 0.5750 - accuracy: 0.7030 - val_loss: 0.5885 - val_accuracy: 0.6883\n",
      "Epoch 125/1000\n",
      "319/319 [==============================] - 1s 2ms/step - loss: 0.5750 - accuracy: 0.7010 - val_loss: 0.5877 - val_accuracy: 0.6922\n",
      "Epoch 126/1000\n",
      "319/319 [==============================] - 1s 2ms/step - loss: 0.5743 - accuracy: 0.7043 - val_loss: 0.5876 - val_accuracy: 0.6956\n",
      "Epoch 127/1000\n",
      "319/319 [==============================] - 1s 2ms/step - loss: 0.5747 - accuracy: 0.7020 - val_loss: 0.5870 - val_accuracy: 0.6883\n",
      "Epoch 128/1000\n",
      "319/319 [==============================] - 1s 2ms/step - loss: 0.5748 - accuracy: 0.7024 - val_loss: 0.5861 - val_accuracy: 0.6944\n",
      "Epoch 129/1000\n",
      "319/319 [==============================] - 1s 2ms/step - loss: 0.5749 - accuracy: 0.6998 - val_loss: 0.5873 - val_accuracy: 0.6889\n",
      "Epoch 130/1000\n",
      "319/319 [==============================] - 1s 2ms/step - loss: 0.5743 - accuracy: 0.7018 - val_loss: 0.5876 - val_accuracy: 0.6933\n",
      "Epoch 131/1000\n",
      "319/319 [==============================] - 1s 2ms/step - loss: 0.5742 - accuracy: 0.7028 - val_loss: 0.5859 - val_accuracy: 0.6939\n",
      "Epoch 132/1000\n",
      "319/319 [==============================] - 1s 2ms/step - loss: 0.5741 - accuracy: 0.7007 - val_loss: 0.5895 - val_accuracy: 0.6911\n",
      "Epoch 133/1000\n",
      "319/319 [==============================] - 1s 2ms/step - loss: 0.5742 - accuracy: 0.7055 - val_loss: 0.5863 - val_accuracy: 0.6961\n",
      "Epoch 134/1000\n",
      "319/319 [==============================] - 1s 2ms/step - loss: 0.5741 - accuracy: 0.7005 - val_loss: 0.5886 - val_accuracy: 0.6950\n",
      "Epoch 135/1000\n",
      "319/319 [==============================] - 1s 2ms/step - loss: 0.5747 - accuracy: 0.7020 - val_loss: 0.5863 - val_accuracy: 0.6928\n",
      "Epoch 136/1000\n",
      "319/319 [==============================] - 1s 2ms/step - loss: 0.5739 - accuracy: 0.7015 - val_loss: 0.5895 - val_accuracy: 0.6911\n",
      "Epoch 137/1000\n",
      "319/319 [==============================] - 1s 2ms/step - loss: 0.5743 - accuracy: 0.7026 - val_loss: 0.5889 - val_accuracy: 0.6939\n",
      "Epoch 138/1000\n",
      "319/319 [==============================] - 1s 2ms/step - loss: 0.5738 - accuracy: 0.7013 - val_loss: 0.5872 - val_accuracy: 0.6922\n",
      "Epoch 139/1000\n",
      "319/319 [==============================] - 1s 2ms/step - loss: 0.5737 - accuracy: 0.7053 - val_loss: 0.5873 - val_accuracy: 0.6939\n",
      "Epoch 140/1000\n",
      "319/319 [==============================] - 1s 2ms/step - loss: 0.5743 - accuracy: 0.7020 - val_loss: 0.5869 - val_accuracy: 0.6972\n",
      "Epoch 141/1000\n",
      "319/319 [==============================] - 1s 2ms/step - loss: 0.5739 - accuracy: 0.7030 - val_loss: 0.5862 - val_accuracy: 0.6950\n",
      "Epoch 142/1000\n",
      "319/319 [==============================] - 1s 2ms/step - loss: 0.5737 - accuracy: 0.7015 - val_loss: 0.5884 - val_accuracy: 0.6956\n",
      "Epoch 143/1000\n",
      "319/319 [==============================] - 1s 2ms/step - loss: 0.5741 - accuracy: 0.7026 - val_loss: 0.5873 - val_accuracy: 0.6944\n",
      "Epoch 144/1000\n",
      "319/319 [==============================] - 1s 2ms/step - loss: 0.5741 - accuracy: 0.7051 - val_loss: 0.5862 - val_accuracy: 0.6911\n",
      "Epoch 145/1000\n",
      "319/319 [==============================] - 1s 2ms/step - loss: 0.5739 - accuracy: 0.6994 - val_loss: 0.5856 - val_accuracy: 0.6833\n",
      "Epoch 146/1000\n",
      "319/319 [==============================] - 1s 2ms/step - loss: 0.5736 - accuracy: 0.7045 - val_loss: 0.5864 - val_accuracy: 0.6939\n",
      "Epoch 147/1000\n",
      "319/319 [==============================] - 1s 2ms/step - loss: 0.5731 - accuracy: 0.7064 - val_loss: 0.5889 - val_accuracy: 0.6944\n",
      "Epoch 148/1000\n",
      "305/319 [===========================>..] - ETA: 0s - loss: 0.5740 - accuracy: 0.7047Restoring model weights from the end of the best epoch: 98.\n",
      "319/319 [==============================] - 1s 2ms/step - loss: 0.5736 - accuracy: 0.7047 - val_loss: 0.5869 - val_accuracy: 0.6933\n",
      "Epoch 148: early stopping\n"
     ]
    }
   ],
   "source": [
    "# 학습\n",
    "history = model_hl_add.fit([df_x_money, df_x_etc], y_train, epochs=1000, verbose=1, callbacks=[es], validation_split=0.15)"
   ]
  },
  {
   "cell_type": "code",
   "execution_count": 249,
   "metadata": {
    "scrolled": true
   },
   "outputs": [
    {
     "data": {
      "image/png": "[encoded data removed]",
      "text/plain": [
       "<Figure size 432x288 with 1 Axes>"
      ]
     },
     "metadata": {
      "needs_background": "light"
     },
     "output_type": "display_data"
    }
   ],
   "source": [
    "if not isinstance(history, dict):\n",
    "    history = history.history\n",
    "\n",
    "plt.plot(history['loss'])\n",
    "plt.plot(history['val_loss'])\n",
    "plt.title('Loss : Training vs Validation')\n",
    "plt.ylabel('Loss')\n",
    "plt.xlabel('Epoch')\n",
    "plt.legend(['Training', 'Validation'], loc=0)\n",
    "plt.show()"
   ]
  },
  {
   "cell_type": "code",
   "execution_count": 250,
   "metadata": {},
   "outputs": [],
   "source": [
    "# 3개의 딥러닝 모델 중 비교적 좋은 그래프를 보이고 있음\n",
    "# epoch20을 기점으로 과적합이 발생 할 여지가 보임"
   ]
  },
  {
   "cell_type": "code",
   "execution_count": 251,
   "metadata": {},
   "outputs": [
    {
     "name": "stdout",
     "output_type": "stream",
     "text": [
      "              precision    recall  f1-score   support\n",
      "\n",
      "           0       0.75      0.63      0.69      1520\n",
      "           1       0.68      0.78      0.72      1480\n",
      "\n",
      "    accuracy                           0.71      3000\n",
      "   macro avg       0.71      0.71      0.71      3000\n",
      "weighted avg       0.71      0.71      0.71      3000\n",
      "\n"
     ]
    }
   ],
   "source": [
    "# 예측하기 => 검증\n",
    "y_pred = model_hl_add.predict([val_x_money, val_x_etc])\n",
    "preds_1d = y_pred.flatten() # 차원 펴주기\n",
    "pred_class = np.where(preds_1d > 0.5, 1 , 0) #0.5보다크면 2, 작으면 1\n",
    "# 평가하기\n",
    "print(classification_report(y_val,pred_class))\n",
    "result_cr['dl_add'] = classification_report(y_val, pred_class)"
   ]
  },
  {
   "cell_type": "code",
   "execution_count": 252,
   "metadata": {},
   "outputs": [
    {
     "name": "stdout",
     "output_type": "stream",
     "text": [
      "              precision    recall  f1-score   support\n",
      "\n",
      "           0       0.73      0.60      0.66      1540\n",
      "           1       0.64      0.76      0.70      1460\n",
      "\n",
      "    accuracy                           0.68      3000\n",
      "   macro avg       0.68      0.68      0.68      3000\n",
      "weighted avg       0.69      0.68      0.68      3000\n",
      "\n"
     ]
    }
   ],
   "source": [
    "# 예측하기 => 테스트\n",
    "y_pred = model_hl_add.predict([te_x_money, te_x_etc])\n",
    "preds_1d = y_pred.flatten() # 차원 펴주기\n",
    "pred_class = np.where(preds_1d > 0.5, 1 , 0) #0.5보다크면 2, 작으면 1\n",
    "# 평가하기\n",
    "print(classification_report(y_test,pred_class))\n",
    "result_test['dl_add'] = classification_report(y_test, pred_class)\n",
    "\n",
    "# recall 값만 저장\n",
    "result_recall['dl_add'] = recall_score(y_test,pred_class)"
   ]
  },
  {
   "cell_type": "markdown",
   "metadata": {
    "id": "yAaMF07mHz_q"
   },
   "source": [
    "#### (4) 추가"
   ]
  },
  {
   "cell_type": "code",
   "execution_count": null,
   "metadata": {
    "id": "aA1Pm1oXMLgv"
   },
   "outputs": [],
   "source": []
  },
  {
   "cell_type": "code",
   "execution_count": null,
   "metadata": {},
   "outputs": [],
   "source": []
  },
  {
   "cell_type": "markdown",
   "metadata": {
    "id": "U4UL4ynYL6Ly"
   },
   "source": [
    "## 5.성능 비교\n",
    "* 총 모델이 최소한 ML 3가지, DL 3가지 입니다. 이에 대해 성능을 평가합니다.\n",
    "* 평가를 위한 적절한 지표(metric)을 결정하고 비교합니다.\n",
    "    * **평가지표 선정 이유**를 주석으로 기술하시오.\n",
    "* 최종 모델을 **선정하게 된 근거**를 주석으로 기술하시오."
   ]
  },
  {
   "cell_type": "code",
   "execution_count": 253,
   "metadata": {},
   "outputs": [],
   "source": [
    "# 성능비교 한 모델\n",
    "# ML : RandomForestClassifier , XGBClassifier, SVC\n",
    "# DL : dl_basic, dl_hidden, dl_add"
   ]
  },
  {
   "cell_type": "markdown",
   "metadata": {
    "id": "lKA2UyB6HXfF"
   },
   "source": [
    "### 5.1 평가지표 결정\n",
    "\n",
    "* 어떤 지표로 성능을 비교할지 결정합니다.\n",
    "* 결정 이유를 기술합니다."
   ]
  },
  {
   "cell_type": "code",
   "execution_count": 254,
   "metadata": {
    "id": "Ta99Rh0IHarR"
   },
   "outputs": [
    {
     "name": "stdout",
     "output_type": "stream",
     "text": [
      "======================================================\n",
      "RandomForestClassifier\n",
      "------------------------------------------------------\n",
      "              precision    recall  f1-score   support\n",
      "\n",
      "           0       0.72      0.72      0.72      1520\n",
      "           1       0.71      0.71      0.71      1480\n",
      "\n",
      "    accuracy                           0.72      3000\n",
      "   macro avg       0.72      0.72      0.72      3000\n",
      "weighted avg       0.72      0.72      0.72      3000\n",
      "\n",
      "======================================================\n",
      "XGBClassifier\n",
      "------------------------------------------------------\n",
      "              precision    recall  f1-score   support\n",
      "\n",
      "           0       0.72      0.68      0.70      1520\n",
      "           1       0.69      0.73      0.71      1480\n",
      "\n",
      "    accuracy                           0.71      3000\n",
      "   macro avg       0.71      0.71      0.71      3000\n",
      "weighted avg       0.71      0.71      0.71      3000\n",
      "\n",
      "======================================================\n",
      "SVC\n",
      "------------------------------------------------------\n",
      "              precision    recall  f1-score   support\n",
      "\n",
      "           0       0.69      0.73      0.71      1520\n",
      "           1       0.71      0.67      0.69      1480\n",
      "\n",
      "    accuracy                           0.70      3000\n",
      "   macro avg       0.70      0.70      0.70      3000\n",
      "weighted avg       0.70      0.70      0.70      3000\n",
      "\n",
      "======================================================\n",
      "dl_basic\n",
      "------------------------------------------------------\n",
      "              precision    recall  f1-score   support\n",
      "\n",
      "           0       0.50      0.71      0.59      1520\n",
      "           1       0.49      0.29      0.36      1480\n",
      "\n",
      "    accuracy                           0.50      3000\n",
      "   macro avg       0.50      0.50      0.48      3000\n",
      "weighted avg       0.50      0.50      0.48      3000\n",
      "\n",
      "======================================================\n",
      "dl_hidden\n",
      "------------------------------------------------------\n",
      "              precision    recall  f1-score   support\n",
      "\n",
      "           0       0.71      0.68      0.69      1520\n",
      "           1       0.68      0.72      0.70      1480\n",
      "\n",
      "    accuracy                           0.70      3000\n",
      "   macro avg       0.70      0.70      0.70      3000\n",
      "weighted avg       0.70      0.70      0.70      3000\n",
      "\n",
      "======================================================\n",
      "dl_add\n",
      "------------------------------------------------------\n",
      "              precision    recall  f1-score   support\n",
      "\n",
      "           0       0.75      0.63      0.69      1520\n",
      "           1       0.68      0.78      0.72      1480\n",
      "\n",
      "    accuracy                           0.71      3000\n",
      "   macro avg       0.71      0.71      0.71      3000\n",
      "weighted avg       0.71      0.71      0.71      3000\n",
      "\n"
     ]
    }
   ],
   "source": [
    "# 검증용 데이터 성능 비교\n",
    "for i, j in result_cr.items():\n",
    "    print('='*54)\n",
    "    print(i)\n",
    "    print('-'*54)\n",
    "    print(j)"
   ]
  },
  {
   "cell_type": "code",
   "execution_count": 255,
   "metadata": {
    "id": "W_b0QbnbHaXl"
   },
   "outputs": [
    {
     "name": "stdout",
     "output_type": "stream",
     "text": [
      "======================================================\n",
      "RandomForestClassifier\n",
      "------------------------------------------------------\n",
      "              precision    recall  f1-score   support\n",
      "\n",
      "           0       0.70      0.69      0.69      1540\n",
      "           1       0.68      0.69      0.68      1460\n",
      "\n",
      "    accuracy                           0.69      3000\n",
      "   macro avg       0.69      0.69      0.69      3000\n",
      "weighted avg       0.69      0.69      0.69      3000\n",
      "\n",
      "======================================================\n",
      "XGBClassifier\n",
      "------------------------------------------------------\n",
      "              precision    recall  f1-score   support\n",
      "\n",
      "           0       0.70      0.65      0.68      1540\n",
      "           1       0.66      0.71      0.68      1460\n",
      "\n",
      "    accuracy                           0.68      3000\n",
      "   macro avg       0.68      0.68      0.68      3000\n",
      "weighted avg       0.68      0.68      0.68      3000\n",
      "\n",
      "======================================================\n",
      "SVC\n",
      "------------------------------------------------------\n",
      "              precision    recall  f1-score   support\n",
      "\n",
      "           0       0.67      0.70      0.69      1540\n",
      "           1       0.67      0.64      0.66      1460\n",
      "\n",
      "    accuracy                           0.67      3000\n",
      "   macro avg       0.67      0.67      0.67      3000\n",
      "weighted avg       0.67      0.67      0.67      3000\n",
      "\n",
      "======================================================\n",
      "dl_basic\n",
      "------------------------------------------------------\n",
      "              precision    recall  f1-score   support\n",
      "\n",
      "           0       0.51      0.70      0.59      1540\n",
      "           1       0.47      0.28      0.35      1460\n",
      "\n",
      "    accuracy                           0.49      3000\n",
      "   macro avg       0.49      0.49      0.47      3000\n",
      "weighted avg       0.49      0.49      0.47      3000\n",
      "\n",
      "======================================================\n",
      "dl_hidden\n",
      "------------------------------------------------------\n",
      "              precision    recall  f1-score   support\n",
      "\n",
      "           0       0.70      0.65      0.67      1540\n",
      "           1       0.66      0.70      0.68      1460\n",
      "\n",
      "    accuracy                           0.68      3000\n",
      "   macro avg       0.68      0.68      0.68      3000\n",
      "weighted avg       0.68      0.68      0.68      3000\n",
      "\n",
      "======================================================\n",
      "dl_add\n",
      "------------------------------------------------------\n",
      "              precision    recall  f1-score   support\n",
      "\n",
      "           0       0.73      0.60      0.66      1540\n",
      "           1       0.64      0.76      0.70      1460\n",
      "\n",
      "    accuracy                           0.68      3000\n",
      "   macro avg       0.68      0.68      0.68      3000\n",
      "weighted avg       0.69      0.68      0.68      3000\n",
      "\n"
     ]
    }
   ],
   "source": [
    "# 테스트 데이터 성능 비교\n",
    "for i, j in result_test.items():\n",
    "    print('='*54)\n",
    "    print(i)\n",
    "    print('-'*54)\n",
    "    print(j)"
   ]
  },
  {
   "cell_type": "markdown",
   "metadata": {},
   "source": [
    "### 평가지표 : recall\n",
    "*  근거 : 현재 우리 회사의 목표는 현재 고객수를 유지하는 것이다 그러므로 약정기간이 끝나 이탈할 것이라는 고객을 잡아 새로운 인사이트를 이용해 고객을 잡아야한다. recall은 실제 이탈 할 것이라고 하는 사람중에서 모델이 이탈할 것이라고 예측한 비율이기 때문에 가장 적합하다고 생각한다."
   ]
  },
  {
   "cell_type": "markdown",
   "metadata": {
    "id": "-hOx7i2sHi1U"
   },
   "source": [
    "### 5.2 성능 비교\n",
    "\n",
    "* 성능을 비교하고, 최적의 모델을 선정하시오.\n",
    "* 선정 근거를 주석으로 기술하시오."
   ]
  },
  {
   "cell_type": "code",
   "execution_count": 256,
   "metadata": {
    "scrolled": true
   },
   "outputs": [
    {
     "name": "stdout",
     "output_type": "stream",
     "text": [
      "========================================\n",
      "RandomForestClassifier 0.686\n",
      "XGBClassifier 0.708\n",
      "SVC 0.642\n",
      "dl_basic 0.281\n",
      "dl_hidden 0.701\n",
      "dl_add 0.76\n",
      "========================================\n"
     ]
    }
   ],
   "source": [
    "# test recall 값 확인 및 비교\n",
    "print('=' * 40)\n",
    "for m_name, score in result_recall.items():\n",
    "    print(m_name, score.round(3))\n",
    "print('=' * 40)"
   ]
  },
  {
   "cell_type": "markdown",
   "metadata": {
    "id": "PGDTpeunO9ce"
   },
   "source": [
    "### 최적의 모델 : DL\n",
    "* 근거 : recall의 성능을 비교해 봤을 때 , 변수를 두 그룹으로 묶고 그것을 add해서 한 딥러닝의 결과가 가장 높게 나왔다. 이탈 할 고객들의 재산이 많으면 생각 부담이 덜 커서 쉽게 이탈 할 것이라는 가설이 조금은 맞다고 생각됐다. 머신러닝에 비해 히든레이어를 추가한 딥러닝 쪽 성능이 좋게 나왔고, 우리가 모르는 레이어, 변수 들의 관계가 있다고 생각한다. 각 변수들의 관계를 더 파악하고 좀 더 깊은 딥러닝을 사용한다면 모델 중 가장 좋게 나올 수 있다고 생각해서 딥러닝을 최적의 모델로 선택했다."
   ]
  },
  {
   "cell_type": "markdown",
   "metadata": {},
   "source": [
    "### 5.3 추가 분석 및 의견"
   ]
  },
  {
   "cell_type": "markdown",
   "metadata": {
    "id": "kXk1f3TEH77-"
   },
   "source": [
    "* 성능을 한눈에 비교할 수 있는 방법을 고안해서 수행해 봅시다."
   ]
  },
  {
   "cell_type": "code",
   "execution_count": 257,
   "metadata": {
    "id": "lSzMy95DPwOl"
   },
   "outputs": [
    {
     "data": {
      "image/png": "[encoded data removed]",
      "text/plain": [
       "<Figure size 432x288 with 1 Axes>"
      ]
     },
     "metadata": {
      "needs_background": "light"
     },
     "output_type": "display_data"
    }
   ],
   "source": [
    "# recall 의 평가지표를 시각화해서 어떤 모델의 성능이 좋은지 한 눈에 볼 수 있다.\n",
    "# 시각화\n",
    "plt.bar(result_recall.keys(), result_recall.values())\n",
    "plt.xticks(rotation=45, ha='right')\n",
    "plt.show()"
   ]
  },
  {
   "cell_type": "markdown",
   "metadata": {
    "id": "sTGn4JaQPC6W"
   },
   "source": [
    "* 여러분의 선정한 모델로 비즈니스 문제를 해결할 수 있을까요? 여러분의 의견을 적어 봅시다."
   ]
  },
  {
   "cell_type": "markdown",
   "metadata": {
    "id": "jL1qvzxOPFEC"
   },
   "source": [
    "### 분석결과\n",
    "* 처음 eda 분석 결과 소득이 높은 사람들 중에서 66.5% 정도가 통화 시간량이 높았고, 그렇다면 초과 통화시간 또한 많을 것이다. 이것을 딥러닝 모델에 적용하고 싶어서 소득을 관련해서 두 그룹으로 나누고 모델 성능을 평가 해 본 결과 성능이 가장 좋게 나왔다.\n",
    "* 그러므로 평균 수입이 높은 사람들을 잡기 위해서 혜택이나 서비스등을 생각해 볼 수 있고, 다양한 해결책들을 뽑아 내 이탈자를 막아낸다면 문제를 해결할 수 있을 것이다."
   ]
  },
  {
   "cell_type": "markdown",
   "metadata": {
    "id": "sTGn4JaQPC6W"
   },
   "source": [
    "* 비즈니스 문제 해결을 위해서 더 해볼 수 있는 것은 무엇인가요?"
   ]
  },
  {
   "cell_type": "code",
   "execution_count": 258,
   "metadata": {
    "id": "jL1qvzxOPFEC"
   },
   "outputs": [
    {
     "data": {
      "image/png": "[encoded data removed]",
      "text/plain": [
       "<Figure size 1080x720 with 1 Axes>"
      ]
     },
     "metadata": {
      "needs_background": "light"
     },
     "output_type": "display_data"
    }
   ],
   "source": [
    "# 중요 변수 확인\n",
    "plt.figure(figsize=(15,10))\n",
    "plt.barh(y =list(x) , width = model_xgb.best_estimator_.feature_importances_)\n",
    "plt.show()"
   ]
  },
  {
   "cell_type": "markdown",
   "metadata": {},
   "source": [
    "### 추가분석\n",
    "* 위에서 확인했던 xgb의 중요 변수를 시각화 한 그래프이다.\n",
    "* xgb 또한 머신러닝 중 좋은 성능을 보였기 때문에 튜닝을 통해 더 좋은 성능을 보일 수 있을 것이다.\n",
    "* 여기서 보면 OVERAGE, LEFTOVER, HOUSE, INCOME 네가지의 변수가 성능을 판단하는데 가장 중요하게 나왔다\n",
    "* 위에서 분석 했던 것과 같이 재산, 초과시간이 이탈률에 크게 영향이 있다는 것을 다시한번 알 수 있다.\n",
    "* 그와 다르게 LEFTOVER(월 사용 잔여시간) 또한 중요한 변수인데 eda 분석 결과, 남은 시간이 25%이상인 사람들이 이탈률이 높은 것으로 확인이 된다. 그러므로 해당 고객을 대상으로 서비스를 제공 할 필요가 있다."
   ]
  },
  {
   "cell_type": "markdown",
   "metadata": {},
   "source": [
    "### 비즈니스 인사이트"
   ]
  },
  {
   "cell_type": "markdown",
   "metadata": {},
   "source": [
    "* 불 필요했던 설문 결과를 좀 더 신뢰성이 있는 데이터로 만들 필요가 있습니다.\n",
    "* 재산이 많은 고객층인 프리미엄 고객들에게 타 통신사보다 만족 할 수 있는 서비스를 제공해야 할 것입니다.\n",
    "* 통화 초과 사용시간이 넘어간 고객들에게 더 많은 서비스를 제공해야 할 것입니다.\n",
    "* 재산과 통화 시간이 관련이 있다고 생각하는데 통화에 대한 품질이 마음에 안 들어 쉽게 이탈 하는 것으로 보입니다.\n",
    "* 고객들을 세분화해서 그룹화 하여 맞춤형 혜택을 제공 하는 것이 좋아보입니다."
   ]
  },
  {
   "cell_type": "code",
   "execution_count": null,
   "metadata": {},
   "outputs": [],
   "source": []
  }
 ],
 "metadata": {
  "colab": {
   "collapsed_sections": [],
   "name": "과제3. 이동통신 고객 이탈 예측.ipynb",
   "provenance": [],
   "toc_visible": true
  },
  "kernelspec": {
   "display_name": "Python 3",
   "language": "python",
   "name": "python3"
  },
  "language_info": {
   "codemirror_mode": {
    "name": "ipython",
    "version": 3
   },
   "file_extension": ".py",
   "mimetype": "text/x-python",
   "name": "python",
   "nbconvert_exporter": "python",
   "pygments_lexer": "ipython3",
   "version": "3.8.8"
  }
 },
 "nbformat": 4,
 "nbformat_minor": 4
}
